{
  "nbformat": 4,
  "nbformat_minor": 0,
  "metadata": {
    "colab": {
      "name": "Docking.ipynb",
      "provenance": [],
      "collapsed_sections": [],
      "include_colab_link": true
    },
    "kernelspec": {
      "name": "python3",
      "display_name": "Python 3"
    },
    "accelerator": "GPU"
  },
  "cells": [
    {
      "cell_type": "markdown",
      "metadata": {
        "id": "view-in-github",
        "colab_type": "text"
      },
      "source": [
        "<a href=\"https://colab.research.google.com/github/ChrizZhuang/marginalized_graph_kernel_protein/blob/main/Docking.ipynb\" target=\"_parent\"><img src=\"https://colab.research.google.com/assets/colab-badge.svg\" alt=\"Open In Colab\"/></a>"
      ]
    },
    {
      "cell_type": "code",
      "metadata": {
        "colab": {
          "base_uri": "https://localhost:8080/"
        },
        "id": "W6keKPPyGsCt",
        "outputId": "6ed3cb38-1f1a-4f81-87b0-04da6e572fe0"
      },
      "source": [
        "!nvidia-smi"
      ],
      "execution_count": null,
      "outputs": [
        {
          "output_type": "stream",
          "text": [
            "Sat Mar 13 00:02:05 2021       \n",
            "+-----------------------------------------------------------------------------+\n",
            "| NVIDIA-SMI 460.56       Driver Version: 460.32.03    CUDA Version: 11.2     |\n",
            "|-------------------------------+----------------------+----------------------+\n",
            "| GPU  Name        Persistence-M| Bus-Id        Disp.A | Volatile Uncorr. ECC |\n",
            "| Fan  Temp  Perf  Pwr:Usage/Cap|         Memory-Usage | GPU-Util  Compute M. |\n",
            "|                               |                      |               MIG M. |\n",
            "|===============================+======================+======================|\n",
            "|   0  Tesla T4            Off  | 00000000:00:04.0 Off |                    0 |\n",
            "| N/A   34C    P8     9W /  70W |      0MiB / 15109MiB |      0%      Default |\n",
            "|                               |                      |                  N/A |\n",
            "+-------------------------------+----------------------+----------------------+\n",
            "                                                                               \n",
            "+-----------------------------------------------------------------------------+\n",
            "| Processes:                                                                  |\n",
            "|  GPU   GI   CI        PID   Type   Process name                  GPU Memory |\n",
            "|        ID   ID                                                   Usage      |\n",
            "|=============================================================================|\n",
            "|  No running processes found                                                 |\n",
            "+-----------------------------------------------------------------------------+\n"
          ],
          "name": "stdout"
        }
      ]
    },
    {
      "cell_type": "code",
      "metadata": {
        "colab": {
          "base_uri": "https://localhost:8080/"
        },
        "id": "XE6J0wDFGxnp",
        "outputId": "b67c120e-b92b-43b9-b263-93594336c0cd"
      },
      "source": [
        "!pip install pymatgen==2020.12.31\n",
        "!pip install --pre graphdot\n",
        "!pip install gdown\n"
      ],
      "execution_count": null,
      "outputs": [
        {
          "output_type": "stream",
          "text": [
            "Collecting pymatgen==2020.12.31\n",
            "\u001b[?25l  Downloading https://files.pythonhosted.org/packages/e1/18/274b40cff34257a728071199d21105ced3116b42dd60793113eee7b1b5ca/pymatgen-2020.12.31.tar.gz (2.8MB)\n",
            "\u001b[K     |████████████████████████████████| 2.8MB 14.3MB/s \n",
            "\u001b[?25hRequirement already satisfied: numpy>=1.14.3 in /usr/local/lib/python3.7/dist-packages (from pymatgen==2020.12.31) (1.19.5)\n",
            "Requirement already satisfied: requests in /usr/local/lib/python3.7/dist-packages (from pymatgen==2020.12.31) (2.23.0)\n",
            "Collecting ruamel.yaml>=0.15.6\n",
            "\u001b[?25l  Downloading https://files.pythonhosted.org/packages/ed/c3/4c823dac2949a6baf36a4987d04c50d30184147393ba6f4bfb4c67d15a13/ruamel.yaml-0.16.13-py2.py3-none-any.whl (111kB)\n",
            "\u001b[K     |████████████████████████████████| 112kB 51.9MB/s \n",
            "\u001b[?25hCollecting monty>=3.0.2\n",
            "\u001b[?25l  Downloading https://files.pythonhosted.org/packages/41/47/e6f045cd69f24df0b4ddd55fab329c079b7c9ce978a32431dce904f6a1d6/monty-2021.3.3-py3-none-any.whl (63kB)\n",
            "\u001b[K     |████████████████████████████████| 71kB 10.3MB/s \n",
            "\u001b[?25hCollecting scipy>=1.5.0\n",
            "\u001b[?25l  Downloading https://files.pythonhosted.org/packages/b6/3a/9e0649ab2d5ade703baa70ef980aa08739226e5d6a642f084bb201a92fc2/scipy-1.6.1-cp37-cp37m-manylinux1_x86_64.whl (27.4MB)\n",
            "\u001b[K     |████████████████████████████████| 27.4MB 111kB/s \n",
            "\u001b[?25hRequirement already satisfied: tabulate in /usr/local/lib/python3.7/dist-packages (from pymatgen==2020.12.31) (0.8.9)\n",
            "Collecting spglib>=1.9.9.44\n",
            "\u001b[?25l  Downloading https://files.pythonhosted.org/packages/4b/98/fa4760b9c71e2eace5a60b85dbf36dece49c379f8291cf1203056f287766/spglib-1.16.1-cp37-cp37m-manylinux2010_x86_64.whl (296kB)\n",
            "\u001b[K     |████████████████████████████████| 296kB 49.5MB/s \n",
            "\u001b[?25hRequirement already satisfied: networkx>=2.2 in /usr/local/lib/python3.7/dist-packages (from pymatgen==2020.12.31) (2.5)\n",
            "Requirement already satisfied: matplotlib>=1.5 in /usr/local/lib/python3.7/dist-packages (from pymatgen==2020.12.31) (3.2.2)\n",
            "Requirement already satisfied: palettable>=3.1.1 in /usr/local/lib/python3.7/dist-packages (from pymatgen==2020.12.31) (3.3.0)\n",
            "Requirement already satisfied: sympy in /usr/local/lib/python3.7/dist-packages (from pymatgen==2020.12.31) (1.7.1)\n",
            "Requirement already satisfied: pandas in /usr/local/lib/python3.7/dist-packages (from pymatgen==2020.12.31) (1.1.5)\n",
            "Collecting plotly>=4.5.0\n",
            "\u001b[?25l  Downloading https://files.pythonhosted.org/packages/1f/f6/bd3c17c8003b6641df1228e80e1acac97ed8402635e46c2571f8e1ef63af/plotly-4.14.3-py2.py3-none-any.whl (13.2MB)\n",
            "\u001b[K     |████████████████████████████████| 13.2MB 252kB/s \n",
            "\u001b[?25hCollecting uncertainties>=3.1.4\n",
            "\u001b[?25l  Downloading https://files.pythonhosted.org/packages/45/41/fc7e7b73b603e7c2c9e040b7aa8caf4a88d74b6faa567601ed82b6f0d8e1/uncertainties-3.1.5-py2.py3-none-any.whl (246kB)\n",
            "\u001b[K     |████████████████████████████████| 256kB 53.5MB/s \n",
            "\u001b[?25hRequirement already satisfied: chardet<4,>=3.0.2 in /usr/local/lib/python3.7/dist-packages (from requests->pymatgen==2020.12.31) (3.0.4)\n",
            "Requirement already satisfied: urllib3!=1.25.0,!=1.25.1,<1.26,>=1.21.1 in /usr/local/lib/python3.7/dist-packages (from requests->pymatgen==2020.12.31) (1.24.3)\n",
            "Requirement already satisfied: idna<3,>=2.5 in /usr/local/lib/python3.7/dist-packages (from requests->pymatgen==2020.12.31) (2.10)\n",
            "Requirement already satisfied: certifi>=2017.4.17 in /usr/local/lib/python3.7/dist-packages (from requests->pymatgen==2020.12.31) (2020.12.5)\n",
            "Collecting ruamel.yaml.clib>=0.1.2; platform_python_implementation == \"CPython\" and python_version < \"3.10\"\n",
            "\u001b[?25l  Downloading https://files.pythonhosted.org/packages/5e/6e/f652c56bbb2c3d3fca252ffc7c0358597f57a1bbdf484dac683054950c63/ruamel.yaml.clib-0.2.2-cp37-cp37m-manylinux1_x86_64.whl (547kB)\n",
            "\u001b[K     |████████████████████████████████| 552kB 50.4MB/s \n",
            "\u001b[?25hRequirement already satisfied: decorator>=4.3.0 in /usr/local/lib/python3.7/dist-packages (from networkx>=2.2->pymatgen==2020.12.31) (4.4.2)\n",
            "Requirement already satisfied: cycler>=0.10 in /usr/local/lib/python3.7/dist-packages (from matplotlib>=1.5->pymatgen==2020.12.31) (0.10.0)\n",
            "Requirement already satisfied: python-dateutil>=2.1 in /usr/local/lib/python3.7/dist-packages (from matplotlib>=1.5->pymatgen==2020.12.31) (2.8.1)\n",
            "Requirement already satisfied: kiwisolver>=1.0.1 in /usr/local/lib/python3.7/dist-packages (from matplotlib>=1.5->pymatgen==2020.12.31) (1.3.1)\n",
            "Requirement already satisfied: pyparsing!=2.0.4,!=2.1.2,!=2.1.6,>=2.0.1 in /usr/local/lib/python3.7/dist-packages (from matplotlib>=1.5->pymatgen==2020.12.31) (2.4.7)\n",
            "Requirement already satisfied: mpmath>=0.19 in /usr/local/lib/python3.7/dist-packages (from sympy->pymatgen==2020.12.31) (1.2.1)\n",
            "Requirement already satisfied: pytz>=2017.2 in /usr/local/lib/python3.7/dist-packages (from pandas->pymatgen==2020.12.31) (2018.9)\n",
            "Requirement already satisfied: retrying>=1.3.3 in /usr/local/lib/python3.7/dist-packages (from plotly>=4.5.0->pymatgen==2020.12.31) (1.3.3)\n",
            "Requirement already satisfied: six in /usr/local/lib/python3.7/dist-packages (from plotly>=4.5.0->pymatgen==2020.12.31) (1.15.0)\n",
            "Requirement already satisfied: future in /usr/local/lib/python3.7/dist-packages (from uncertainties>=3.1.4->pymatgen==2020.12.31) (0.16.0)\n",
            "Building wheels for collected packages: pymatgen\n",
            "  Building wheel for pymatgen (setup.py) ... \u001b[?25l\u001b[?25hdone\n",
            "  Created wheel for pymatgen: filename=pymatgen-2020.12.31-cp37-cp37m-linux_x86_64.whl size=3590921 sha256=fa2718dae94dee414021e253578fc4e052b71fa7fe2b7288e0c7adce3c6bbbac\n",
            "  Stored in directory: /root/.cache/pip/wheels/bd/fd/4c/bbea735ca0989c51e67a45d1384b1ce3481bc2aa1337b4a6e9\n",
            "Successfully built pymatgen\n",
            "\u001b[31mERROR: albumentations 0.1.12 has requirement imgaug<0.2.7,>=0.2.5, but you'll have imgaug 0.2.9 which is incompatible.\u001b[0m\n",
            "Installing collected packages: ruamel.yaml.clib, ruamel.yaml, monty, scipy, spglib, plotly, uncertainties, pymatgen\n",
            "  Found existing installation: scipy 1.4.1\n",
            "    Uninstalling scipy-1.4.1:\n",
            "      Successfully uninstalled scipy-1.4.1\n",
            "  Found existing installation: plotly 4.4.1\n",
            "    Uninstalling plotly-4.4.1:\n",
            "      Successfully uninstalled plotly-4.4.1\n",
            "Successfully installed monty-2021.3.3 plotly-4.14.3 pymatgen-2020.12.31 ruamel.yaml-0.16.13 ruamel.yaml.clib-0.2.2 scipy-1.6.1 spglib-1.16.1 uncertainties-3.1.5\n",
            "Collecting graphdot\n",
            "\u001b[?25l  Downloading https://files.pythonhosted.org/packages/c5/3f/2b8521853057f5b8ffd7e8a56b9f6e4a7805f5fac4491561e26475f369b9/graphdot-0.8a16.tar.gz (103kB)\n",
            "\u001b[K     |████████████████████████████████| 112kB 19.4MB/s \n",
            "\u001b[?25hRequirement already satisfied: numpy>=1.17 in /usr/local/lib/python3.7/dist-packages (from graphdot) (1.19.5)\n",
            "Requirement already satisfied: scipy>=1.3.0 in /usr/local/lib/python3.7/dist-packages (from graphdot) (1.6.1)\n",
            "Requirement already satisfied: sympy>=1.3 in /usr/local/lib/python3.7/dist-packages (from graphdot) (1.7.1)\n",
            "Requirement already satisfied: pandas>=0.24 in /usr/local/lib/python3.7/dist-packages (from graphdot) (1.1.5)\n",
            "Requirement already satisfied: networkx>=2.4 in /usr/local/lib/python3.7/dist-packages (from graphdot) (2.5)\n",
            "Collecting pycuda>=2019\n",
            "\u001b[?25l  Downloading https://files.pythonhosted.org/packages/46/61/47d3235a4c13eec5a5f03594ddb268f4858734e02980afbcd806e6242fa5/pycuda-2020.1.tar.gz (1.6MB)\n",
            "\u001b[K     |████████████████████████████████| 1.6MB 37.0MB/s \n",
            "\u001b[?25hCollecting treelib>=1.6.1\n",
            "  Downloading https://files.pythonhosted.org/packages/04/b0/2269c328abffbb63979f7143351a24a066776b87526d79956aea5018b80a/treelib-1.6.1.tar.gz\n",
            "Collecting kahypar>=1.1.4\n",
            "\u001b[?25l  Downloading https://files.pythonhosted.org/packages/d2/c6/4b6ff807f2136079e9bc7289a793544541de4a04b402c678524647d6b0cb/kahypar-1.1.6-cp37-cp37m-manylinux2014_x86_64.whl (1.1MB)\n",
            "\u001b[K     |████████████████████████████████| 1.1MB 39.9MB/s \n",
            "\u001b[?25hRequirement already satisfied: numba>=0.51.0 in /usr/local/lib/python3.7/dist-packages (from graphdot) (0.51.2)\n",
            "Collecting ase>=3.17\n",
            "\u001b[?25l  Downloading https://files.pythonhosted.org/packages/a5/36/de17e79f29e06d9a92746d0dd9ec4636487ab03f6af10e78586aae533f7a/ase-3.21.1-py3-none-any.whl (2.2MB)\n",
            "\u001b[K     |████████████████████████████████| 2.2MB 47.7MB/s \n",
            "\u001b[?25hCollecting pymatgen==2019.11.11\n",
            "\u001b[?25l  Downloading https://files.pythonhosted.org/packages/57/f8/1d5f9bacde237107f917a5ca31bdf73e55a774ffb8e7b9e5f9cd7d7cf114/pymatgen-2019.11.11.tar.gz (2.5MB)\n",
            "\u001b[K     |████████████████████████████████| 2.5MB 43.4MB/s \n",
            "\u001b[?25hCollecting mendeleev\n",
            "\u001b[?25l  Downloading https://files.pythonhosted.org/packages/f0/75/5863bb298aa1390cb9ecb0548a62b8213ef085273f9d3c73e513b9c36214/mendeleev-0.6.1.tar.gz (193kB)\n",
            "\u001b[K     |████████████████████████████████| 194kB 54.6MB/s \n",
            "\u001b[?25hRequirement already satisfied: mpmath>=0.19 in /usr/local/lib/python3.7/dist-packages (from sympy>=1.3->graphdot) (1.2.1)\n",
            "Requirement already satisfied: pytz>=2017.2 in /usr/local/lib/python3.7/dist-packages (from pandas>=0.24->graphdot) (2018.9)\n",
            "Requirement already satisfied: python-dateutil>=2.7.3 in /usr/local/lib/python3.7/dist-packages (from pandas>=0.24->graphdot) (2.8.1)\n",
            "Requirement already satisfied: decorator>=4.3.0 in /usr/local/lib/python3.7/dist-packages (from networkx>=2.4->graphdot) (4.4.2)\n",
            "Collecting pytools>=2011.2\n",
            "\u001b[?25l  Downloading https://files.pythonhosted.org/packages/fb/fc/9628f0d2ec698360f4475bea0a88cb767b935f5347e6687bae0ffa342aab/pytools-2021.2.tar.gz (65kB)\n",
            "\u001b[K     |████████████████████████████████| 71kB 9.7MB/s \n",
            "\u001b[?25hRequirement already satisfied: appdirs>=1.4.0 in /usr/local/lib/python3.7/dist-packages (from pycuda>=2019->graphdot) (1.4.4)\n",
            "Collecting mako\n",
            "\u001b[?25l  Downloading https://files.pythonhosted.org/packages/f3/54/dbc07fbb20865d3b78fdb7cf7fa713e2cba4f87f71100074ef2dc9f9d1f7/Mako-1.1.4-py2.py3-none-any.whl (75kB)\n",
            "\u001b[K     |████████████████████████████████| 81kB 11.0MB/s \n",
            "\u001b[?25hRequirement already satisfied: future in /usr/local/lib/python3.7/dist-packages (from treelib>=1.6.1->graphdot) (0.16.0)\n",
            "Requirement already satisfied: llvmlite<0.35,>=0.34.0.dev0 in /usr/local/lib/python3.7/dist-packages (from numba>=0.51.0->graphdot) (0.34.0)\n",
            "Requirement already satisfied: setuptools in /usr/local/lib/python3.7/dist-packages (from numba>=0.51.0->graphdot) (54.0.0)\n",
            "Requirement already satisfied: matplotlib>=2.0.0 in /usr/local/lib/python3.7/dist-packages (from ase>=3.17->graphdot) (3.2.2)\n",
            "Requirement already satisfied: requests in /usr/local/lib/python3.7/dist-packages (from pymatgen==2019.11.11->graphdot) (2.23.0)\n",
            "Requirement already satisfied: ruamel.yaml>=0.15.6 in /usr/local/lib/python3.7/dist-packages (from pymatgen==2019.11.11->graphdot) (0.16.13)\n",
            "Requirement already satisfied: monty>=3.0.2 in /usr/local/lib/python3.7/dist-packages (from pymatgen==2019.11.11->graphdot) (2021.3.3)\n",
            "Collecting pydispatcher>=2.0.5\n",
            "  Downloading https://files.pythonhosted.org/packages/cd/37/39aca520918ce1935bea9c356bcbb7ed7e52ad4e31bff9b943dfc8e7115b/PyDispatcher-2.0.5.tar.gz\n",
            "Requirement already satisfied: tabulate in /usr/local/lib/python3.7/dist-packages (from pymatgen==2019.11.11->graphdot) (0.8.9)\n",
            "Requirement already satisfied: spglib>=1.9.9.44 in /usr/local/lib/python3.7/dist-packages (from pymatgen==2019.11.11->graphdot) (1.16.1)\n",
            "Requirement already satisfied: palettable>=3.1.1 in /usr/local/lib/python3.7/dist-packages (from pymatgen==2019.11.11->graphdot) (3.3.0)\n",
            "Requirement already satisfied: sqlalchemy>=1.3.0 in /usr/local/lib/python3.7/dist-packages (from mendeleev->graphdot) (1.3.23)\n",
            "Collecting colorama\n",
            "  Downloading https://files.pythonhosted.org/packages/44/98/5b86278fbbf250d239ae0ecb724f8572af1c91f4a11edf4d36a206189440/colorama-0.4.4-py2.py3-none-any.whl\n",
            "Collecting pyfiglet\n",
            "\u001b[?25l  Downloading https://files.pythonhosted.org/packages/33/07/fcfdd7a2872f5b348953de35acce1544dab0c1e8368dca54279b1cde5c15/pyfiglet-0.8.post1-py2.py3-none-any.whl (865kB)\n",
            "\u001b[K     |████████████████████████████████| 870kB 45.5MB/s \n",
            "\u001b[?25hRequirement already satisfied: six>=1.5 in /usr/local/lib/python3.7/dist-packages (from python-dateutil>=2.7.3->pandas>=0.24->graphdot) (1.15.0)\n",
            "Requirement already satisfied: MarkupSafe>=0.9.2 in /usr/local/lib/python3.7/dist-packages (from mako->pycuda>=2019->graphdot) (1.1.1)\n",
            "Requirement already satisfied: kiwisolver>=1.0.1 in /usr/local/lib/python3.7/dist-packages (from matplotlib>=2.0.0->ase>=3.17->graphdot) (1.3.1)\n",
            "Requirement already satisfied: cycler>=0.10 in /usr/local/lib/python3.7/dist-packages (from matplotlib>=2.0.0->ase>=3.17->graphdot) (0.10.0)\n",
            "Requirement already satisfied: pyparsing!=2.0.4,!=2.1.2,!=2.1.6,>=2.0.1 in /usr/local/lib/python3.7/dist-packages (from matplotlib>=2.0.0->ase>=3.17->graphdot) (2.4.7)\n",
            "Requirement already satisfied: chardet<4,>=3.0.2 in /usr/local/lib/python3.7/dist-packages (from requests->pymatgen==2019.11.11->graphdot) (3.0.4)\n",
            "Requirement already satisfied: certifi>=2017.4.17 in /usr/local/lib/python3.7/dist-packages (from requests->pymatgen==2019.11.11->graphdot) (2020.12.5)\n",
            "Requirement already satisfied: urllib3!=1.25.0,!=1.25.1,<1.26,>=1.21.1 in /usr/local/lib/python3.7/dist-packages (from requests->pymatgen==2019.11.11->graphdot) (1.24.3)\n",
            "Requirement already satisfied: idna<3,>=2.5 in /usr/local/lib/python3.7/dist-packages (from requests->pymatgen==2019.11.11->graphdot) (2.10)\n",
            "Requirement already satisfied: ruamel.yaml.clib>=0.1.2; platform_python_implementation == \"CPython\" and python_version < \"3.10\" in /usr/local/lib/python3.7/dist-packages (from ruamel.yaml>=0.15.6->pymatgen==2019.11.11->graphdot) (0.2.2)\n",
            "Building wheels for collected packages: graphdot, pycuda, treelib, pymatgen, mendeleev, pytools, pydispatcher\n",
            "  Building wheel for graphdot (setup.py) ... \u001b[?25l\u001b[?25hdone\n",
            "  Created wheel for graphdot: filename=graphdot-0.8a16-cp37-none-any.whl size=148200 sha256=c779dc3799fdf9a5a09f4c20619ef195d03192873e67c84c0f47fa6a08ff7277\n",
            "  Stored in directory: /root/.cache/pip/wheels/e6/0d/f0/8edb618420134169eceece7cb4c1f071f9ea6e84385383310b\n",
            "  Building wheel for pycuda (setup.py) ... \u001b[?25l\u001b[?25hdone\n",
            "  Created wheel for pycuda: filename=pycuda-2020.1-cp37-cp37m-linux_x86_64.whl size=621092 sha256=7df4961826788892cfcc89433882633b1b6c3f76e3fbcb3541c2d3303d209059\n",
            "  Stored in directory: /root/.cache/pip/wheels/8f/78/d1/5bb826f81d9d490297a348d818ff3ee6dd6f2075b06dde6ea0\n",
            "  Building wheel for treelib (setup.py) ... \u001b[?25l\u001b[?25hdone\n",
            "  Created wheel for treelib: filename=treelib-1.6.1-cp37-none-any.whl size=18370 sha256=6d8beb53754f9d3c4e88c1316d9d35c15dbce1d6996398127f10fa867db39c90\n",
            "  Stored in directory: /root/.cache/pip/wheels/68/1d/92/c50ec52951ccebafb40f3b8f0beb28fbaf745431c14a17c497\n",
            "  Building wheel for pymatgen (setup.py) ... \u001b[?25l\u001b[?25hdone\n",
            "  Created wheel for pymatgen: filename=pymatgen-2019.11.11-cp37-cp37m-linux_x86_64.whl size=3324718 sha256=387ba9130806a420a65a0eeab5219c0dd55fa8406fa8ca85eea3c2abc95a0e3d\n",
            "  Stored in directory: /root/.cache/pip/wheels/98/23/3c/3b929997e5f8976361933411e8a3b9bdf1b2702e7830e7a7ad\n",
            "  Building wheel for mendeleev (setup.py) ... \u001b[?25l\u001b[?25hdone\n",
            "  Created wheel for mendeleev: filename=mendeleev-0.6.1-py2.py3-none-any.whl size=174964 sha256=bd558acea44caa80addf69f0165c7e3c6408cc85d92c1bf04c17e6248c3d87b3\n",
            "  Stored in directory: /root/.cache/pip/wheels/fb/28/5d/95e69a718b35dd00169889b0139a692f6c265d399cab3aa097\n",
            "  Building wheel for pytools (setup.py) ... \u001b[?25l\u001b[?25hdone\n",
            "  Created wheel for pytools: filename=pytools-2021.2-py2.py3-none-any.whl size=62446 sha256=a8d8944ef3da8121e31191e9ae48eee46ebb8aa6218d944e27e8e32017777f7a\n",
            "  Stored in directory: /root/.cache/pip/wheels/d3/13/e8/fcb236c8cb91fb549a37f1d86783af99f0e0bcbeb9568ee5e2\n",
            "  Building wheel for pydispatcher (setup.py) ... \u001b[?25l\u001b[?25hdone\n",
            "  Created wheel for pydispatcher: filename=PyDispatcher-2.0.5-cp37-none-any.whl size=11517 sha256=2ae5b088af67f209f3cb85511b60ad04bcf38515c81d3884293bf7cc722159b0\n",
            "  Stored in directory: /root/.cache/pip/wheels/88/99/96/cfef6665f9cb1522ee6757ae5955feedf2fe25f1737f91fa7f\n",
            "Successfully built graphdot pycuda treelib pymatgen mendeleev pytools pydispatcher\n",
            "Installing collected packages: pytools, mako, pycuda, treelib, kahypar, ase, pydispatcher, pymatgen, colorama, pyfiglet, mendeleev, graphdot\n",
            "  Found existing installation: pymatgen 2020.12.31\n",
            "    Uninstalling pymatgen-2020.12.31:\n",
            "      Successfully uninstalled pymatgen-2020.12.31\n",
            "Successfully installed ase-3.21.1 colorama-0.4.4 graphdot-0.8a16 kahypar-1.1.6 mako-1.1.4 mendeleev-0.6.1 pycuda-2020.1 pydispatcher-2.0.5 pyfiglet-0.8.post1 pymatgen-2019.11.11 pytools-2021.2 treelib-1.6.1\n",
            "Requirement already satisfied: gdown in /usr/local/lib/python3.7/dist-packages (3.6.4)\n",
            "Requirement already satisfied: requests in /usr/local/lib/python3.7/dist-packages (from gdown) (2.23.0)\n",
            "Requirement already satisfied: six in /usr/local/lib/python3.7/dist-packages (from gdown) (1.15.0)\n",
            "Requirement already satisfied: tqdm in /usr/local/lib/python3.7/dist-packages (from gdown) (4.41.1)\n",
            "Requirement already satisfied: idna<3,>=2.5 in /usr/local/lib/python3.7/dist-packages (from requests->gdown) (2.10)\n",
            "Requirement already satisfied: chardet<4,>=3.0.2 in /usr/local/lib/python3.7/dist-packages (from requests->gdown) (3.0.4)\n",
            "Requirement already satisfied: certifi>=2017.4.17 in /usr/local/lib/python3.7/dist-packages (from requests->gdown) (2020.12.5)\n",
            "Requirement already satisfied: urllib3!=1.25.0,!=1.25.1,<1.26,>=1.21.1 in /usr/local/lib/python3.7/dist-packages (from requests->gdown) (1.24.3)\n"
          ],
          "name": "stdout"
        }
      ]
    },
    {
      "cell_type": "code",
      "metadata": {
        "id": "qX3k93l_HGdd",
        "colab": {
          "base_uri": "https://localhost:8080/"
        },
        "outputId": "3d054efd-fc46-4e17-89a3-b7aacdc5896c"
      },
      "source": [
        "%matplotlib inline\n",
        "import io\n",
        "import sys\n",
        "sys.path.append('/usr/local/lib/python3.6/site-packages/')\n",
        "import os\n",
        "import urllib\n",
        "import numpy as np\n",
        "import pandas as pd\n",
        "import matplotlib.pyplot as plt\n",
        "\n",
        "import graphdot\n",
        "from graphdot import Graph\n",
        "from graphdot.graph.adjacency import AtomicAdjacency\n",
        "from graphdot.graph.reorder import rcm\n",
        "from graphdot.kernel.marginalized import MarginalizedGraphKernel\n",
        "from graphdot.kernel.marginalized.starting_probability import Uniform\n",
        "from graphdot.model.gaussian_process import (\n",
        "    GaussianProcessRegressor,\n",
        "    LowRankApproximateGPR\n",
        ")\n",
        "from graphdot.kernel.fix import Normalization\n",
        "import graphdot.microkernel as uX\n",
        "import ase.io"
      ],
      "execution_count": null,
      "outputs": [
        {
          "output_type": "stream",
          "text": [
            "/usr/local/lib/python3.7/dist-packages/graphdot/graph/__init__.py:24: UserWarning: Cannot import RDKit, `graph.from_rdkit()` will be unavailable.\n",
            "\n",
            "  'Cannot import RDKit, `graph.from_rdkit()` will be unavailable.\\n'\n"
          ],
          "name": "stderr"
        }
      ]
    },
    {
      "cell_type": "code",
      "metadata": {
        "colab": {
          "base_uri": "https://localhost:8080/"
        },
        "id": "s2g2ITn-Oe1B",
        "outputId": "81f08388-d7a0-4f30-b924-8f9277152af3"
      },
      "source": [
        "from google.colab import drive\n",
        "drive.mount('/content/gdrive')"
      ],
      "execution_count": null,
      "outputs": [
        {
          "output_type": "stream",
          "text": [
            "Mounted at /content/gdrive\n"
          ],
          "name": "stdout"
        }
      ]
    },
    {
      "cell_type": "code",
      "metadata": {
        "colab": {
          "base_uri": "https://localhost:8080/"
        },
        "id": "1iaCg3YeL-IK",
        "outputId": "2ba04b53-11a2-4a61-8415-ea9be78871d5"
      },
      "source": [
        "cd gdrive/MyDrive/Google\\ Colab/Covid-Data"
      ],
      "execution_count": null,
      "outputs": [
        {
          "output_type": "stream",
          "text": [
            "/content/gdrive/MyDrive/Google Colab/Covid-Data\n"
          ],
          "name": "stdout"
        }
      ]
    },
    {
      "cell_type": "code",
      "metadata": {
        "id": "IlTP3xrwP74N"
      },
      "source": [
        "files  = ['uncharged_NSP15_6W01_A_3_H.Orderable_zinc_db_enaHLL.2col.csv.1.xz']\n",
        "dataset = pd.read_pickle(files[0])\n",
        "#frames = [pd.read_pickle(f) for f in files]\n",
        "#dataset = pd.concat(frames)"
      ],
      "execution_count": null,
      "outputs": []
    },
    {
      "cell_type": "code",
      "metadata": {
        "colab": {
          "base_uri": "https://localhost:8080/",
          "height": 204
        },
        "id": "-2WAHou3QM_r",
        "outputId": "4529f2de-55c9-46db-9d77-1696f2cb5212"
      },
      "source": [
        "dataset.head(5)"
      ],
      "execution_count": null,
      "outputs": [
        {
          "output_type": "execute_result",
          "data": {
            "text/html": [
              "<div>\n",
              "<style scoped>\n",
              "    .dataframe tbody tr th:only-of-type {\n",
              "        vertical-align: middle;\n",
              "    }\n",
              "\n",
              "    .dataframe tbody tr th {\n",
              "        vertical-align: top;\n",
              "    }\n",
              "\n",
              "    .dataframe thead th {\n",
              "        text-align: right;\n",
              "    }\n",
              "</style>\n",
              "<table border=\"1\" class=\"dataframe\">\n",
              "  <thead>\n",
              "    <tr style=\"text-align: right;\">\n",
              "      <th></th>\n",
              "      <th>energy</th>\n",
              "      <th>smiles</th>\n",
              "      <th>graphs</th>\n",
              "    </tr>\n",
              "  </thead>\n",
              "  <tbody>\n",
              "    <tr>\n",
              "      <th>0</th>\n",
              "      <td>-2.265697</td>\n",
              "      <td>Cc1nc(no1)c2cncnc2[C@@H]3CCCN(C3)C(=O)Cc4ccccc4</td>\n",
              "      <td>Graph(nodes={'!i': [ 0, 1, 2, 3, 4, 5, 6, 7, 8...</td>\n",
              "    </tr>\n",
              "    <tr>\n",
              "      <th>1</th>\n",
              "      <td>-2.351519</td>\n",
              "      <td>Cc1ccc(cc1)c2nnc(n2N)SCC(=O)Nc3ccccc3OC</td>\n",
              "      <td>Graph(nodes={'!i': [ 0, 1, 2, 3, 4, 5, 6, 7, 8...</td>\n",
              "    </tr>\n",
              "    <tr>\n",
              "      <th>2</th>\n",
              "      <td>-3.308996</td>\n",
              "      <td>CCOC(=O)Cn1c2ccccc2nc1[C@H]3CC(=O)N(C3)c4ccc(c...</td>\n",
              "      <td>Graph(nodes={'!i': [ 0, 1, 2, 3, 4, 5, 6, 7, 8...</td>\n",
              "    </tr>\n",
              "    <tr>\n",
              "      <th>3</th>\n",
              "      <td>-3.760179</td>\n",
              "      <td>CC[C@H](C)NC(=O)[C@@H](CC)N(Cc1ccccc1)C(=O)Cc2...</td>\n",
              "      <td>Graph(nodes={'!i': [ 0, 1, 2, 3, 4, 5, 6, 7, 8...</td>\n",
              "    </tr>\n",
              "    <tr>\n",
              "      <th>4</th>\n",
              "      <td>-2.895577</td>\n",
              "      <td>Cc1cccc2c1ccn2CCC(=O)N3CCc4cc(c(cc4C3)OC)OC</td>\n",
              "      <td>Graph(nodes={'!i': [ 0, 1, 2, 3, 4, 5, 6, 7, 8...</td>\n",
              "    </tr>\n",
              "  </tbody>\n",
              "</table>\n",
              "</div>"
            ],
            "text/plain": [
              "     energy  ...                                             graphs\n",
              "0 -2.265697  ...  Graph(nodes={'!i': [ 0, 1, 2, 3, 4, 5, 6, 7, 8...\n",
              "1 -2.351519  ...  Graph(nodes={'!i': [ 0, 1, 2, 3, 4, 5, 6, 7, 8...\n",
              "2 -3.308996  ...  Graph(nodes={'!i': [ 0, 1, 2, 3, 4, 5, 6, 7, 8...\n",
              "3 -3.760179  ...  Graph(nodes={'!i': [ 0, 1, 2, 3, 4, 5, 6, 7, 8...\n",
              "4 -2.895577  ...  Graph(nodes={'!i': [ 0, 1, 2, 3, 4, 5, 6, 7, 8...\n",
              "\n",
              "[5 rows x 3 columns]"
            ]
          },
          "metadata": {
            "tags": []
          },
          "execution_count": 7
        }
      ]
    },
    {
      "cell_type": "code",
      "metadata": {
        "id": "KjoyJHMnRjE1"
      },
      "source": [
        "target = 'energy'\n",
        "N_train = 2500\n",
        "N_test = 5000"
      ],
      "execution_count": null,
      "outputs": []
    },
    {
      "cell_type": "code",
      "metadata": {
        "id": "zx4l75-XUVcN"
      },
      "source": [
        "np.random.seed(0)\n",
        "train_sel = np.random.choice(len(dataset), N_train, replace=False)\n",
        "test_sel = np.random.choice(np.setxor1d(np.arange(len(dataset)), train_sel), N_test, replace=False)\n",
        "train = dataset.iloc[train_sel]\n",
        "test = dataset.iloc[test_sel]"
      ],
      "execution_count": null,
      "outputs": []
    },
    {
      "cell_type": "code",
      "metadata": {
        "id": "AugZ3tWeUYTA"
      },
      "source": [
        "gpr = GaussianProcessRegressor(\n",
        "    kernel=Normalization(\n",
        "        MarginalizedGraphKernel(\n",
        "            node_kernel=uX.Additive(\n",
        "                aromatic=uX.Constant(0.5, (0.01, 10.0)) * uX.KroneckerDelta(0.5,(0.1, 0.9)),\n",
        "                atomic_number=uX.Constant(0.5, (0.01, 10.0)) * uX.KroneckerDelta(0.8,(0.1, 0.9)),\n",
        "                charge=uX.Constant(0.5, (0.01, 10.0)) * uX.SquareExponential(1.0),\n",
        "                chiral=uX.Constant(0.5, (0.01, 10.0)) * uX.KroneckerDelta(0.5,(0.1, 0.9)),\n",
        "                hcount=uX.Constant(0.5, (0.01, 10.0)) * uX.SquareExponential(1.0),\n",
        "                hybridization=uX.Constant(0.5, (0.01, 10.0)) * uX.KroneckerDelta(0.5,(0.1, 0.9)),\n",
        "                ring_list=uX.Constant(0.5, (0.01, 100.0)) * uX.Convolution(uX.KroneckerDelta(0.5,(0.1, 0.9)))\n",
        "            ).normalized,\n",
        "            edge_kernel=uX.Additive(\n",
        "                aromatic=uX.Constant(0.5, (0.01, 10.0)) * uX.KroneckerDelta(0.5,(0.1, 0.9)),\n",
        "                conjugated=uX.Constant(0.5, (0.01, 10.0)) * uX.KroneckerDelta(0.5,(0.1, 0.9)),\n",
        "                order=uX.Constant(0.5, (0.01, 10.0)) * uX.KroneckerDelta(0.8,(0.1, 0.9)),\n",
        "                ring_stereo=uX.Constant(0.5, (0.01, 10.0)) * uX.KroneckerDelta(0.8,(0.1, 0.9)),\n",
        "                stereo=uX.Constant(0.5, (0.01, 10.0)) * uX.KroneckerDelta(0.8,(0.1, 0.9))\n",
        "            ).normalized,\n",
        "            p=Uniform(1.0, p_bounds='fixed'),\n",
        "            q=0.05\n",
        "        )\n",
        "    ),\n",
        "    alpha=1e-4,\n",
        "    optimizer=True,\n",
        "    normalize_y=True,\n",
        "    regularization='+',\n",
        ")"
      ],
      "execution_count": null,
      "outputs": []
    },
    {
      "cell_type": "code",
      "metadata": {
        "id": "0JIdwDYYUbE4",
        "colab": {
          "base_uri": "https://localhost:8080/"
        },
        "outputId": "19c692b6-7b2e-419d-85ea-2e45fb68ff87"
      },
      "source": [
        "gpr.fit(train.graphs, train[target], repeat=3, verbose=True)"
      ],
      "execution_count": null,
      "outputs": [
        {
          "output_type": "stream",
          "text": [
            "|        logP|       dlogP|     y^T.K.y|     log|K| |     Cond(K)|  GPU time|  CPU time|\n",
            "|------------|------------|------------|------------|------------|----------|----------|\n",
            "|  9.2483e+06|  5.6205e+07|  9.2681e+06|      -19798|  2.2708e+07|   1.3e+02|         2|\n",
            "|  7.0477e+06|  5.4659e+07|  7.0664e+06|      -18684|  2.1871e+07|   1.3e+02|       1.8|\n",
            "|  4.8851e+06|  4.7042e+07|  4.9024e+06|      -17313|  2.0436e+07|   1.2e+02|       1.9|\n",
            "|  4.1663e+06|  4.0942e+07|  4.1831e+06|      -16749|  1.9691e+07|   1.2e+02|       3.1|\n",
            "|  3.6447e+06|  3.5014e+07|  3.6609e+06|      -16275|  1.8951e+07|   1.2e+02|       3.2|\n",
            "|  3.3263e+06|  3.0755e+07|  3.3423e+06|      -15945|  1.8326e+07|   1.1e+02|       3.4|\n",
            "|  3.1808e+06|  2.8965e+07|  3.1966e+06|      -15788|  1.8127e+07|   1.1e+02|       3.5|\n",
            "|  3.1636e+06|  2.8096e+07|  3.1793e+06|      -15754|  1.7693e+07|   1.1e+02|       3.5|\n",
            "|  3.1148e+06|  2.8068e+07|  3.1305e+06|      -15707|  1.7766e+07|   1.1e+02|       3.5|\n",
            "|  3.1039e+06|  2.7961e+07|  3.1196e+06|      -15698|  1.7887e+07|   1.1e+02|       3.6|\n",
            "|  3.0983e+06|  2.7874e+07|   3.114e+06|      -15692|  1.7891e+07|   1.1e+02|       3.7|\n",
            "|  3.0871e+06|   2.787e+07|  3.1028e+06|      -15680|  1.7867e+07|   1.1e+02|       3.8|\n",
            "|  3.0815e+06|  2.7741e+07|  3.0971e+06|      -15675|  1.7885e+07|   1.1e+02|       3.9|\n",
            "|  3.0762e+06|  2.7713e+07|  3.0918e+06|      -15673|  1.7843e+07|   1.1e+02|         4|\n",
            "|  3.0733e+06|  2.7745e+07|   3.089e+06|      -15672|  1.7842e+07|   1.1e+02|         2|\n",
            "|  3.0743e+06|  2.7867e+07|    3.09e+06|      -15672|   1.784e+07|   1.1e+02|         2|\n",
            "|  3.0747e+06|  2.7782e+07|  3.0904e+06|      -15672|  1.7844e+07|   1.1e+02|       1.9|\n",
            "|  3.0748e+06|  2.7762e+07|  3.0904e+06|      -15672|  1.7849e+07|   1.1e+02|       1.9|\n",
            "|   3.073e+06|  2.7737e+07|  3.0887e+06|      -15672|  1.7842e+07|   1.1e+02|       1.9|\n",
            "|  3.0737e+06|   2.775e+07|  3.0893e+06|      -15672|   1.783e+07|   1.1e+02|       1.9|\n",
            "|  3.0723e+06|  2.7726e+07|   3.088e+06|      -15672|  1.7824e+07|   1.1e+02|       1.9|\n",
            "|   3.075e+06|  2.7889e+07|  3.0906e+06|      -15673|  1.7805e+07|   1.1e+02|       1.9|\n",
            "|   3.075e+06|  2.7778e+07|  3.0907e+06|      -15672|  1.7836e+07|   1.1e+02|         2|\n",
            "|  3.0736e+06|  2.7744e+07|  3.0893e+06|      -15672|  1.7848e+07|   1.1e+02|       1.9|\n",
            "|  3.0738e+06|  2.7755e+07|  3.0895e+06|      -15672|  1.7836e+07|   1.1e+02|       1.9|\n",
            "|  3.0723e+06|  2.7726e+07|  3.0879e+06|      -15672|  1.7843e+07|   1.1e+02|         2|\n",
            "|  3.0729e+06|  2.7733e+07|  3.0886e+06|      -15672|  1.7837e+07|   1.1e+02|       1.9|\n",
            "|  3.0737e+06|  2.7751e+07|  3.0894e+06|      -15672|  1.7844e+07|   1.1e+02|         2|\n",
            "|  3.0728e+06|  2.7731e+07|  3.0885e+06|      -15672|  1.7845e+07|   1.1e+02|         2|\n",
            "|        logP|       dlogP|     y^T.K.y|     log|K| |     Cond(K)|  GPU time|  CPU time|\n",
            "|------------|------------|------------|------------|------------|----------|----------|\n",
            "|  9.7674e+06|   7.105e+07|  9.7874e+06|      -19989|  2.2325e+07|   1.6e+02|         2|\n",
            "|  7.4121e+06|  6.7322e+07|   7.431e+06|      -18879|  2.1812e+07|   1.5e+02|       1.9|\n",
            "|  5.4618e+06|  5.7277e+07|  5.4796e+06|      -17744|  2.0827e+07|   1.4e+02|       1.9|\n",
            "|  4.6314e+06|  4.9361e+07|  4.6486e+06|      -17148|  2.0213e+07|   1.3e+02|         2|\n",
            "|  4.1207e+06|  4.3868e+07|  4.1375e+06|      -16726|  1.9615e+07|   1.3e+02|         2|\n",
            "|  3.6953e+06|  3.8578e+07|  3.7116e+06|      -16337|  1.9095e+07|   1.2e+02|       2.1|\n",
            "|  3.4328e+06|  3.4685e+07|  3.4489e+06|      -16076|  1.8614e+07|   1.2e+02|         2|\n",
            "|  3.2487e+06|  2.9831e+07|  3.2645e+06|      -15864|  1.8236e+07|   1.1e+02|         2|\n",
            "|  3.1564e+06|  2.9162e+07|  3.1721e+06|      -15769|  1.8106e+07|   1.1e+02|         2|\n",
            "|  3.1359e+06|  2.8967e+07|  3.1516e+06|      -15744|  1.7972e+07|   1.1e+02|         2|\n",
            "|  3.1081e+06|  2.8518e+07|  3.1239e+06|      -15713|  1.7922e+07|   1.1e+02|         2|\n",
            "|  3.0969e+06|  2.8242e+07|  3.1126e+06|      -15698|  1.7902e+07|   1.1e+02|         2|\n",
            "|  3.0828e+06|  2.7696e+07|  3.0985e+06|      -15682|  1.7926e+07|   1.1e+02|         2|\n",
            "|  3.0814e+06|  2.7725e+07|  3.0971e+06|      -15679|  1.7879e+07|   1.1e+02|         2|\n",
            "|  3.0786e+06|  2.7724e+07|  3.0943e+06|      -15678|  1.7854e+07|   1.1e+02|         2|\n",
            "|  3.0788e+06|  2.7803e+07|  3.0945e+06|      -15676|  1.7835e+07|   1.1e+02|         2|\n",
            "|  3.0793e+06|  2.7747e+07|   3.095e+06|      -15678|  1.7856e+07|   1.1e+02|         2|\n",
            "|  3.0798e+06|  2.7753e+07|  3.0954e+06|      -15678|  1.7841e+07|   1.1e+02|       2.1|\n",
            "|  3.0812e+06|  2.7766e+07|  3.0968e+06|      -15678|  1.7836e+07|   1.1e+02|         2|\n",
            "|  3.0791e+06|  2.7736e+07|  3.0948e+06|      -15678|  1.7868e+07|   1.1e+02|         2|\n",
            "|  3.0789e+06|   2.773e+07|  3.0946e+06|      -15678|  1.7852e+07|   1.1e+02|         2|\n",
            "|        logP|       dlogP|     y^T.K.y|     log|K| |     Cond(K)|  GPU time|  CPU time|\n",
            "|------------|------------|------------|------------|------------|----------|----------|\n",
            "|  1.3416e+07|  2.7823e+07|  1.3437e+07|      -21350|  2.3927e+07|   1.1e+02|         2|\n",
            "|  1.1311e+07|  3.7692e+07|  1.1332e+07|      -20625|   2.321e+07|   1.2e+02|       1.9|\n",
            "|  5.3701e+06|  4.4484e+07|  5.3878e+06|      -17634|  2.0953e+07|   1.2e+02|       1.9|\n",
            "|  3.7039e+06|  3.3779e+07|  3.7202e+06|      -16298|  1.8805e+07|   1.2e+02|       1.9|\n",
            "|  3.4237e+06|  3.0303e+07|  3.4397e+06|      -16027|  1.8516e+07|   1.1e+02|       1.9|\n",
            "|  3.2623e+06|   2.902e+07|  3.2782e+06|      -15866|  1.8245e+07|   1.1e+02|         2|\n",
            "|  3.1641e+06|  2.8458e+07|  3.1799e+06|      -15761|   1.793e+07|   1.1e+02|       1.9|\n",
            "|  3.1255e+06|   2.815e+07|  3.1412e+06|      -15720|  1.7994e+07|   1.1e+02|       1.9|\n",
            "|  3.0972e+06|  2.7847e+07|  3.1129e+06|      -15686|  1.7824e+07|   1.1e+02|         2|\n",
            "|  3.0941e+06|   2.779e+07|  3.1098e+06|      -15681|  1.7811e+07|   1.1e+02|       1.9|\n",
            "|  3.0908e+06|   2.788e+07|  3.1065e+06|      -15678|  1.7836e+07|   1.1e+02|         2|\n",
            "|  3.0893e+06|  2.7791e+07|  3.1049e+06|      -15677|  1.7835e+07|   1.1e+02|         2|\n",
            "|  3.0886e+06|  2.7739e+07|  3.1042e+06|      -15676|  1.7826e+07|   1.1e+02|         2|\n",
            "|  3.0864e+06|  2.7668e+07|  3.1021e+06|      -15675|  1.7838e+07|   1.1e+02|       1.9|\n",
            "|  3.0834e+06|  2.7706e+07|  3.0991e+06|      -15673|   1.786e+07|   1.1e+02|         2|\n",
            "|  3.0821e+06|  2.7687e+07|  3.0977e+06|      -15672|  1.7816e+07|   1.1e+02|       1.9|\n",
            "|  3.0821e+06|    2.77e+07|  3.0977e+06|      -15672|  1.7825e+07|   1.1e+02|         2|\n",
            "|  3.0817e+06|  2.7683e+07|  3.0974e+06|      -15672|  1.7826e+07|   1.1e+02|       1.9|\n",
            "|  3.0813e+06|  2.7732e+07|   3.097e+06|      -15672|  1.7815e+07|   1.1e+02|       1.9|\n",
            "|  3.0804e+06|  2.7898e+07|  3.0961e+06|      -15677|  1.7811e+07|   1.1e+02|         2|\n",
            "|  3.0775e+06|  2.7864e+07|  3.0932e+06|      -15675|  1.7796e+07|   1.1e+02|         2|\n",
            "|  3.0758e+06|  2.7888e+07|  3.0915e+06|      -15674|   1.785e+07|   1.1e+02|       1.9|\n",
            "|   3.075e+06|    2.79e+07|  3.0907e+06|      -15674|  1.7856e+07|   1.1e+02|       1.9|\n",
            "|  3.0745e+06|  2.7864e+07|  3.0901e+06|      -15674|  1.7843e+07|   1.1e+02|         2|\n",
            "|  3.0741e+06|  2.7849e+07|  3.0898e+06|      -15673|   1.784e+07|   1.1e+02|         2|\n",
            "|   3.075e+06|  2.7851e+07|  3.0907e+06|      -15672|  1.7851e+07|   1.1e+02|         2|\n",
            "|  3.0743e+06|  2.7844e+07|    3.09e+06|      -15673|  1.7834e+07|   1.1e+02|       1.9|\n",
            "|  3.0746e+06|  2.7848e+07|  3.0903e+06|      -15673|  1.7826e+07|   1.1e+02|         2|\n",
            "|   3.074e+06|  2.7841e+07|  3.0897e+06|      -15673|   1.786e+07|   1.1e+02|         2|\n",
            "|  3.0748e+06|  2.7863e+07|  3.0905e+06|      -15673|  1.7837e+07|   1.1e+02|       1.9|\n",
            "|  3.0748e+06|  2.7858e+07|  3.0904e+06|      -15673|  1.7846e+07|   1.1e+02|       1.9|\n",
            "Optimization result:\n",
            "      fun: 3072837.549856819\n",
            " hess_inv: <25x25 LbfgsInvHessProduct with dtype=float64>\n",
            "      jac: array([ 2.77173629e+03,  8.63091068e+02,  2.24459039e+02, -5.40556268e+03,\n",
            "        5.34039129e+04,  1.09446494e+03,  0.00000000e+00, -2.01899144e+03,\n",
            "        1.10823575e+03,  8.21839298e+03,  7.60393519e-15,  6.05781870e+02,\n",
            "        3.50613662e+02, -3.40939052e+03,  6.56884593e+04,  1.17076522e+03,\n",
            "        7.37607748e+03, -1.54956743e+03,  1.06405848e+04, -1.05655723e+03,\n",
            "        9.70572233e+02,  1.09689017e+03,  0.00000000e+00,  3.33513390e+02,\n",
            "        1.31117462e+03])\n",
            "  message: 'CONVERGENCE: REL_REDUCTION_OF_F_<=_FACTR*EPSMCH'\n",
            "     nfev: 29\n",
            "      nit: 16\n",
            "     njev: 29\n",
            "   status: 0\n",
            "  success: True\n",
            "        x: array([-9.21034037, -3.87543474, -1.69111274,  1.66992633, -2.30258509,\n",
            "       -4.40365014,  0.        , -2.5704035 , -2.1973491 ,  2.29742905,\n",
            "       -2.30904354, -3.62985763, -1.79849954,  1.88246002, -2.30258509,\n",
            "        0.51066812, -2.30258509,  0.84382344, -2.30258509, -2.71750085,\n",
            "       -1.57822743, -3.60981968, -0.22314355, -1.29211429, -2.22365827])\n"
          ],
          "name": "stdout"
        },
        {
          "output_type": "execute_result",
          "data": {
            "text/plain": [
              "<graphdot.model.gaussian_process.gpr.GaussianProcessRegressor at 0x7f27bb4d48d0>"
            ]
          },
          "metadata": {
            "tags": []
          },
          "execution_count": 11
        }
      ]
    },
    {
      "cell_type": "code",
      "metadata": {
        "id": "0szVcBBnUkLZ",
        "colab": {
          "base_uri": "https://localhost:8080/"
        },
        "outputId": "c14b8b88-1abb-45cd-d42d-8e04277b3e4b"
      },
      "source": [
        "gpr.kernel.hyperparameters"
      ],
      "execution_count": null,
      "outputs": [
        {
          "output_type": "execute_result",
          "data": {
            "text/plain": [
              "starting_probability : Uniform\n",
              "\tp : 1.0\n",
              "stopping_probability : 0.00010000000000000009\n",
              "node_kernel : Composite\n",
              "\taromatic : Multiply\n",
              "\t\tlhs : Constant\n",
              "\t\t\tc : 0.020745317040533336\n",
              "\t\trhs : KroneckerDelta\n",
              "\t\t\th : 0.18431431562315057\n",
              "\tatomic_number : Multiply\n",
              "\t\tlhs : Constant\n",
              "\t\t\tc : 5.311776469014586\n",
              "\t\trhs : KroneckerDelta\n",
              "\t\t\th : 0.10000000000000002\n",
              "\tcharge : Multiply\n",
              "\t\tlhs : Constant\n",
              "\t\t\tc : 0.012232607607837629\n",
              "\t\trhs : SquareExponential\n",
              "\t\t\tlength_scale : 1.0\n",
              "\tchiral : Multiply\n",
              "\t\tlhs : Constant\n",
              "\t\t\tc : 0.07650466922172743\n",
              "\t\trhs : KroneckerDelta\n",
              "\t\t\th : 0.11109727647636178\n",
              "\thcount : Multiply\n",
              "\t\tlhs : Constant\n",
              "\t\t\tc : 9.948572239474858\n",
              "\t\trhs : SquareExponential\n",
              "\t\t\tlength_scale : 0.09935623660147404\n",
              "\thybridization : Multiply\n",
              "\t\tlhs : Constant\n",
              "\t\t\tc : 0.026519959900936984\n",
              "\t\trhs : KroneckerDelta\n",
              "\t\t\th : 0.16554709935637946\n",
              "\tring_list : Multiply\n",
              "\t\tlhs : Constant\n",
              "\t\t\tc : 6.569646480637104\n",
              "\t\trhs : Convolution\n",
              "\t\t\tbase : KroneckerDelta\n",
              "\t\t\t\th : 0.10000000000000002\n",
              "edge_kernel : Composite\n",
              "\taromatic : Multiply\n",
              "\t\tlhs : Constant\n",
              "\t\t\tc : 1.6664041788716395\n",
              "\t\trhs : KroneckerDelta\n",
              "\t\t\th : 0.10000000000000002\n",
              "\tconjugated : Multiply\n",
              "\t\tlhs : Constant\n",
              "\t\t\tc : 2.3252404085414984\n",
              "\t\trhs : KroneckerDelta\n",
              "\t\t\th : 0.10000000000000002\n",
              "\torder : Multiply\n",
              "\t\tlhs : Constant\n",
              "\t\t\tc : 0.0660395912613341\n",
              "\t\trhs : KroneckerDelta\n",
              "\t\t\th : 0.20634052632087976\n",
              "\tring_stereo : Multiply\n",
              "\t\tlhs : Constant\n",
              "\t\t\tc : 0.02705672519567324\n",
              "\t\trhs : KroneckerDelta\n",
              "\t\t\th : 0.8\n",
              "\tstereo : Multiply\n",
              "\t\tlhs : Constant\n",
              "\t\t\tc : 0.27468939675048937\n",
              "\t\trhs : KroneckerDelta\n",
              "\t\t\th : 0.10821251378092044"
            ]
          },
          "metadata": {
            "tags": []
          },
          "execution_count": 12
        }
      ]
    },
    {
      "cell_type": "code",
      "metadata": {
        "id": "m0lr2XLkUmBm"
      },
      "source": [
        "mu = gpr.predict(train.graphs)"
      ],
      "execution_count": null,
      "outputs": []
    },
    {
      "cell_type": "code",
      "metadata": {
        "colab": {
          "base_uri": "https://localhost:8080/",
          "height": 265
        },
        "id": "Ilq4FcWftNiq",
        "outputId": "75416b67-e64f-4af5-8b80-b48a0dbdf1b3"
      },
      "source": [
        "plt.scatter(train[target], mu)\n",
        "plt.show()"
      ],
      "execution_count": null,
      "outputs": [
        {
          "output_type": "display_data",
          "data": {
            "image/png": "[encoded data removed]",
            "text/plain": [
              "<Figure size 432x288 with 1 Axes>"
            ]
          },
          "metadata": {
            "tags": [],
            "needs_background": "light"
          }
        }
      ]
    },
    {
      "cell_type": "code",
      "metadata": {
        "colab": {
          "base_uri": "https://localhost:8080/"
        },
        "id": "dPhqsXAstOCO",
        "outputId": "b27caf50-3299-4c0f-b44f-c7abb1f64f03"
      },
      "source": [
        "print('Training set')\n",
        "print('MAE:', np.mean(np.abs(train[target] - mu)))\n",
        "print('RMSE:', np.std(train[target] - mu))"
      ],
      "execution_count": null,
      "outputs": [
        {
          "output_type": "stream",
          "text": [
            "Training set\n",
            "MAE: 0.20686970935482746\n",
            "RMSE: 0.3186909692030075\n"
          ],
          "name": "stdout"
        }
      ]
    },
    {
      "cell_type": "code",
      "metadata": {
        "id": "1C0SDiEztOe6"
      },
      "source": [
        "mu_test = gpr.predict(test.graphs)"
      ],
      "execution_count": null,
      "outputs": []
    },
    {
      "cell_type": "code",
      "metadata": {
        "id": "it2phMkgUqI6",
        "colab": {
          "base_uri": "https://localhost:8080/",
          "height": 265
        },
        "outputId": "b1cac09a-cb3d-49f9-9ae2-1c9fcb1163e7"
      },
      "source": [
        "plt.scatter(test[target], mu_test)\n",
        "plt.show()"
      ],
      "execution_count": null,
      "outputs": [
        {
          "output_type": "display_data",
          "data": {
            "image/png": "[encoded data removed]",
            "text/plain": [
              "<Figure size 432x288 with 1 Axes>"
            ]
          },
          "metadata": {
            "tags": [],
            "needs_background": "light"
          }
        }
      ]
    },
    {
      "cell_type": "code",
      "metadata": {
        "id": "ik4KZQYjUsqn",
        "colab": {
          "base_uri": "https://localhost:8080/"
        },
        "outputId": "033a617c-00cd-4aa9-9e36-68f6af0ea9b9"
      },
      "source": [
        "print('Test set')\n",
        "print('MAE:', np.mean(np.abs(test[target] - mu_test)))\n",
        "print('RMSE:', np.std(test[target] - mu_test))"
      ],
      "execution_count": null,
      "outputs": [
        {
          "output_type": "stream",
          "text": [
            "MAE: 1.244993771620827\n",
            "RMSE: 1.6025986390757625\n"
          ],
          "name": "stdout"
        }
      ]
    },
    {
      "cell_type": "code",
      "metadata": {
        "id": "dbXG4V1veoS4"
      },
      "source": [
        "gpr2 = GaussianProcessRegressor(\n",
        "    kernel=Normalization(\n",
        "        MarginalizedGraphKernel(\n",
        "            node_kernel=uX.Additive(\n",
        "                aromatic=uX.Constant(0.5, (0.01, 10.0)) * uX.KroneckerDelta(0.5,(0.1, 0.9)),\n",
        "                atomic_number=uX.Constant(0.5, (0.01, 10.0)) * uX.KroneckerDelta(0.8,(0.1, 0.9)),\n",
        "                charge=uX.Constant(0.5, (0.01, 10.0)) * uX.SquareExponential(1.0),\n",
        "                chiral=uX.Constant(0.5, (0.01, 10.0)) * uX.KroneckerDelta(0.5,(0.1, 0.9)),\n",
        "                hcount=uX.Constant(0.5, (0.01, 10.0)) * uX.SquareExponential(1.0),\n",
        "                hybridization=uX.Constant(0.5, (0.01, 10.0)) * uX.KroneckerDelta(0.5,(0.1, 0.9)),\n",
        "                ring_list=uX.Constant(0.5, (0.01, 100.0)) * uX.Convolution(uX.KroneckerDelta(0.5,(0.1, 0.9)))\n",
        "            ).normalized,\n",
        "            edge_kernel=uX.Additive(\n",
        "                aromatic=uX.Constant(0.5, (0.01, 10.0)) * uX.KroneckerDelta(0.5,(0.1, 0.9)),\n",
        "                conjugated=uX.Constant(0.5, (0.01, 10.0)) * uX.KroneckerDelta(0.5,(0.1, 0.9)),\n",
        "                order=uX.Constant(0.5, (0.01, 10.0)) * uX.KroneckerDelta(0.8,(0.1, 0.9)),\n",
        "                ring_stereo=uX.Constant(0.5, (0.01, 10.0)) * uX.KroneckerDelta(0.8,(0.1, 0.9)),\n",
        "                stereo=uX.Constant(0.5, (0.01, 10.0)) * uX.KroneckerDelta(0.8,(0.1, 0.9))\n",
        "            ).normalized,\n",
        "            p=Uniform(1.0, p_bounds='fixed'),\n",
        "            q=0.05\n",
        "        )\n",
        "    ),\n",
        "    alpha=1e-2,\n",
        "    optimizer=True,\n",
        "    normalize_y=True,\n",
        "    regularization='+',\n",
        ")"
      ],
      "execution_count": null,
      "outputs": []
    },
    {
      "cell_type": "code",
      "metadata": {
        "colab": {
          "base_uri": "https://localhost:8080/"
        },
        "id": "iKCgq4XuPyhr",
        "outputId": "01f96120-a8ce-44b6-9fec-eb223690378a"
      },
      "source": [
        "gpr2.fit(train.graphs, train[target], repeat=3, verbose=True)"
      ],
      "execution_count": null,
      "outputs": [
        {
          "output_type": "stream",
          "text": [
            "|        logP|       dlogP|     y^T.K.y|     log|K| |     Cond(K)|  GPU time|  CPU time|\n",
            "|------------|------------|------------|------------|------------|----------|----------|\n",
            "|   1.667e+05|  1.9282e+05|  1.7773e+05|      -11034|  2.2742e+05|   1.3e+02|       1.9|\n",
            "|  1.5585e+05|  2.2172e+05|  1.6671e+05|      -10857|  2.2218e+05|   1.3e+02|         2|\n",
            "|  1.3711e+05|  2.4873e+05|  1.4755e+05|      -10447|  2.0803e+05|   1.2e+02|         2|\n",
            "|  1.3286e+05|  2.3628e+05|   1.432e+05|      -10338|  2.0336e+05|   1.2e+02|       1.9|\n",
            "|  1.2977e+05|  2.2742e+05|  1.4002e+05|      -10249|  1.9714e+05|   1.1e+02|         2|\n",
            "|  1.3007e+05|  2.1427e+05|  1.4032e+05|      -10258|  2.0121e+05|   1.1e+02|       1.9|\n",
            "|  1.2923e+05|  2.2102e+05|  1.3946e+05|      -10238|  1.9906e+05|   1.1e+02|         2|\n",
            "|  1.2888e+05|  2.2097e+05|  1.3911e+05|      -10229|  1.9866e+05|   1.1e+02|       1.9|\n",
            "|  1.2843e+05|  2.2339e+05|  1.3864e+05|      -10211|  1.9581e+05|   1.1e+02|         2|\n",
            "|  1.2837e+05|  2.2244e+05|  1.3858e+05|      -10212|   1.969e+05|   1.1e+02|         2|\n",
            "|  1.2836e+05|  2.2224e+05|  1.3857e+05|      -10212|  1.9697e+05|   1.1e+02|         2|\n",
            "|  1.2832e+05|  2.2155e+05|  1.3853e+05|      -10211|  1.9716e+05|   1.1e+02|       1.9|\n",
            "|  1.2826e+05|  2.2184e+05|  1.3847e+05|      -10209|  1.9704e+05|   1.1e+02|       1.9|\n",
            "|  1.2821e+05|   2.218e+05|  1.3841e+05|      -10207|  1.9672e+05|   1.1e+02|       1.9|\n",
            "|  1.2819e+05|  2.2165e+05|   1.384e+05|      -10207|  1.9664e+05|   1.1e+02|       1.9|\n",
            "|  1.2818e+05|  2.2129e+05|  1.3839e+05|      -10207|  1.9671e+05|   1.1e+02|       1.9|\n",
            "|  1.2817e+05|  2.2108e+05|  1.3838e+05|      -10207|  1.9674e+05|   1.1e+02|         2|\n",
            "|  1.2815e+05|  2.2069e+05|  1.3836e+05|      -10207|  1.9678e+05|   1.1e+02|       1.9|\n",
            "|  1.2812e+05|  2.1806e+05|  1.3833e+05|      -10210|  1.9699e+05|   1.1e+02|       1.9|\n",
            "|   1.281e+05|  2.1842e+05|   1.383e+05|      -10208|  1.9697e+05|   1.1e+02|         2|\n",
            "|  1.2807e+05|  2.1757e+05|  1.3828e+05|      -10208|  1.9698e+05|   1.1e+02|       1.9|\n",
            "|  1.2806e+05|  2.1787e+05|  1.3827e+05|      -10208|  1.9678e+05|   1.1e+02|       1.9|\n",
            "|  1.2805e+05|  2.1731e+05|  1.3825e+05|      -10208|   1.969e+05|   1.1e+02|       1.9|\n",
            "|  1.2805e+05|  2.1704e+05|  1.3825e+05|      -10208|  1.9693e+05|   1.1e+02|       1.9|\n",
            "|  1.2805e+05|  2.1692e+05|  1.3825e+05|      -10208|  1.9695e+05|   1.1e+02|       1.9|\n",
            "|  1.2805e+05|  2.1703e+05|  1.3825e+05|      -10208|  1.9693e+05|   1.1e+02|       1.9|\n",
            "|  1.2804e+05|  2.1694e+05|  1.3825e+05|      -10208|  1.9694e+05|   1.1e+02|       1.8|\n",
            "|        logP|       dlogP|     y^T.K.y|     log|K| |     Cond(K)|  GPU time|  CPU time|\n",
            "|------------|------------|------------|------------|------------|----------|----------|\n",
            "|   1.598e+05|  2.3746e+05|  1.7074e+05|      -10939|  2.2637e+05|   1.4e+02|       1.9|\n",
            "|    1.51e+05|  2.4982e+05|  1.6178e+05|      -10778|  2.2182e+05|   1.3e+02|         2|\n",
            "|  1.3818e+05|  2.5682e+05|  1.4865e+05|      -10478|  2.1043e+05|   1.2e+02|       1.9|\n",
            "|  1.3264e+05|  2.3404e+05|  1.4297e+05|      -10329|  2.0251e+05|   1.1e+02|       1.9|\n",
            "|  1.3026e+05|  2.2465e+05|  1.4053e+05|      -10266|  2.0075e+05|   1.2e+02|       1.9|\n",
            "|  1.2905e+05|  2.2268e+05|  1.3928e+05|      -10231|    1.98e+05|   1.1e+02|       1.9|\n",
            "|  1.2875e+05|  2.2218e+05|  1.3898e+05|      -10222|   1.972e+05|   1.1e+02|       1.9|\n",
            "|  1.2846e+05|  2.2218e+05|  1.3867e+05|      -10215|  1.9746e+05|   1.1e+02|       1.9|\n",
            "|  1.2842e+05|  2.2237e+05|  1.3863e+05|      -10213|    1.97e+05|   1.1e+02|       1.9|\n",
            "|  1.2839e+05|   2.223e+05|   1.386e+05|      -10212|  1.9683e+05|   1.1e+02|       1.9|\n",
            "|  1.2834e+05|   2.221e+05|  1.3855e+05|      -10211|  1.9661e+05|   1.1e+02|       1.9|\n",
            "|  1.2827e+05|  2.2204e+05|  1.3848e+05|      -10209|  1.9656e+05|   1.1e+02|       1.9|\n",
            "|  1.2847e+05|  2.1854e+05|  1.3869e+05|      -10219|  1.9944e+05|   1.1e+02|         2|\n",
            "|  1.2825e+05|  2.2117e+05|  1.3846e+05|      -10209|  1.9725e+05|   1.1e+02|       1.9|\n",
            "|  1.2818e+05|  2.2112e+05|  1.3839e+05|      -10207|  1.9694e+05|   1.1e+02|       1.9|\n",
            "|  1.2815e+05|  2.2103e+05|  1.3836e+05|      -10207|  1.9673e+05|   1.1e+02|       1.9|\n",
            "|  1.2809e+05|   2.199e+05|   1.383e+05|      -10206|  1.9649e+05|   1.1e+02|       1.9|\n",
            "|  1.2859e+05|  2.0873e+05|  1.3881e+05|      -10225|  1.9638e+05|   1.1e+02|       1.9|\n",
            "|  1.2806e+05|  2.1858e+05|  1.3827e+05|      -10207|  1.9647e+05|   1.1e+02|       1.9|\n",
            "|  1.2805e+05|  2.1677e+05|  1.3826e+05|      -10207|  1.9652e+05|   1.1e+02|       1.8|\n",
            "|  1.2805e+05|  2.1694e+05|  1.3826e+05|      -10207|   1.967e+05|   1.1e+02|       1.9|\n",
            "|  1.2805e+05|   2.167e+05|  1.3825e+05|      -10207|  1.9688e+05|   1.1e+02|       1.9|\n",
            "|  1.2805e+05|  2.1664e+05|  1.3825e+05|      -10207|  1.9691e+05|   1.1e+02|       1.9|\n",
            "|        logP|       dlogP|     y^T.K.y|     log|K| |     Cond(K)|  GPU time|  CPU time|\n",
            "|------------|------------|------------|------------|------------|----------|----------|\n",
            "|  1.6725e+05|  1.9567e+05|  1.7829e+05|      -11040|  2.2401e+05|   1.4e+02|       1.9|\n",
            "|  1.5632e+05|  2.2001e+05|  1.6717e+05|      -10858|  2.2063e+05|   1.3e+02|       1.9|\n",
            "|  1.4534e+05|  2.4266e+05|  1.5597e+05|      -10631|  2.1449e+05|   1.2e+02|       1.9|\n",
            "|  1.3481e+05|  2.3484e+05|  1.4519e+05|      -10385|  2.0372e+05|   1.2e+02|       1.9|\n",
            "|  1.3073e+05|  2.2726e+05|  1.4102e+05|      -10288|  2.0201e+05|   1.2e+02|       1.9|\n",
            "|  1.2984e+05|  2.1929e+05|  1.4009e+05|      -10254|   1.992e+05|   1.1e+02|       1.9|\n",
            "|  1.2914e+05|  2.2195e+05|  1.3938e+05|      -10239|  1.9863e+05|   1.1e+02|       1.9|\n",
            "|  1.2885e+05|  2.2174e+05|  1.3909e+05|      -10232|  1.9832e+05|   1.1e+02|       1.9|\n",
            "|  1.2852e+05|  2.1978e+05|  1.3875e+05|      -10224|  1.9795e+05|   1.1e+02|       1.9|\n",
            "|  1.2827e+05|  2.1632e+05|  1.3848e+05|      -10216|  1.9653e+05|   1.1e+02|         2|\n",
            "|  1.2824e+05|  2.1302e+05|  1.3846e+05|      -10220|  1.9876e+05|   1.1e+02|       1.9|\n",
            "|  1.2818e+05|  2.1425e+05|   1.384e+05|      -10216|  1.9779e+05|   1.1e+02|       1.9|\n",
            "|  1.2817e+05|  2.1466e+05|  1.3838e+05|      -10215|  1.9752e+05|   1.1e+02|       1.9|\n",
            "|  1.2815e+05|  2.1536e+05|  1.3836e+05|      -10213|  1.9717e+05|   1.1e+02|       1.9|\n",
            "|  1.2811e+05|  2.1626e+05|  1.3832e+05|      -10211|  1.9686e+05|   1.1e+02|       1.9|\n",
            "|  1.2806e+05|  2.1764e+05|  1.3826e+05|      -10208|  1.9668e+05|   1.1e+02|       1.9|\n",
            "|  1.2805e+05|  2.1736e+05|  1.3826e+05|      -10208|  1.9717e+05|   1.1e+02|       1.9|\n",
            "|  1.2805e+05|  2.1749e+05|  1.3826e+05|      -10208|  1.9693e+05|   1.1e+02|       1.8|\n",
            "|  1.2805e+05|  2.1742e+05|  1.3826e+05|      -10208|  1.9697e+05|   1.1e+02|       1.9|\n",
            "|  1.2805e+05|  2.1729e+05|  1.3826e+05|      -10208|  1.9703e+05|   1.1e+02|       1.8|\n",
            "Optimization result:\n",
            "      fun: 128044.16324564976\n",
            " hess_inv: <25x25 LbfgsInvHessProduct with dtype=float64>\n",
            "      jac: array([ 21.67021161,   5.72796744,   0.97392078,   3.84598927,\n",
            "       636.86139094,  10.22583356,   0.        ,   6.14285024,\n",
            "         0.81411101, -39.71352434,   0.        ,   9.59334241,\n",
            "         2.14451472,   4.28175272, 767.23922512,  -0.97552918,\n",
            "        93.48096814,  -2.22591045, 118.52285938,   5.57539791,\n",
            "        38.26594591,   8.48864576,   0.        , -10.85883055,\n",
            "         7.64668233])\n",
            "  message: 'CONVERGENCE: REL_REDUCTION_OF_F_<=_FACTR*EPSMCH'\n",
            "     nfev: 27\n",
            "      nit: 21\n",
            "     njev: 27\n",
            "   status: 0\n",
            "  success: True\n",
            "        x: array([-9.21034037, -4.46870495, -1.96764908,  1.72425809, -2.30258509,\n",
            "       -4.60517019,  0.        , -4.60517019, -1.79430812,  2.30258509,\n",
            "       -2.86003467, -3.56649247, -2.30258509,  1.91041179, -2.30258509,\n",
            "        0.29155196, -2.30258509,  0.52796843, -2.30258509, -0.58445925,\n",
            "       -2.30258509, -4.30363654, -0.22314355, -2.54592993, -2.18130617])\n"
          ],
          "name": "stdout"
        },
        {
          "output_type": "execute_result",
          "data": {
            "text/plain": [
              "<graphdot.model.gaussian_process.gpr.GaussianProcessRegressor at 0x7f27baa7b4d0>"
            ]
          },
          "metadata": {
            "tags": []
          },
          "execution_count": 20
        }
      ]
    },
    {
      "cell_type": "code",
      "metadata": {
        "colab": {
          "base_uri": "https://localhost:8080/",
          "height": 265
        },
        "id": "PG-GAPabPzHV",
        "outputId": "be29ab35-30ce-4536-98e5-219738d9d1c2"
      },
      "source": [
        "mu = gpr2.predict(train.graphs)\n",
        "plt.scatter(train[target], mu)\n",
        "plt.show()"
      ],
      "execution_count": null,
      "outputs": [
        {
          "output_type": "display_data",
          "data": {
            "image/png": "[encoded data removed]",
            "text/plain": [
              "<Figure size 432x288 with 1 Axes>"
            ]
          },
          "metadata": {
            "tags": [],
            "needs_background": "light"
          }
        }
      ]
    },
    {
      "cell_type": "code",
      "metadata": {
        "colab": {
          "base_uri": "https://localhost:8080/"
        },
        "id": "J20m1x90Pzg9",
        "outputId": "ff22f24b-b9cc-40dc-d398-91507e741a6f"
      },
      "source": [
        "print('Training set')\n",
        "print('MAE:', np.mean(np.abs(train[target] - mu)))\n",
        "print('RMSE:', np.std(train[target] - mu))"
      ],
      "execution_count": null,
      "outputs": [
        {
          "output_type": "stream",
          "text": [
            "Training set\n",
            "MAE: 0.7238574928392492\n",
            "RMSE: 0.9635062924566815\n"
          ],
          "name": "stdout"
        }
      ]
    },
    {
      "cell_type": "code",
      "metadata": {
        "colab": {
          "base_uri": "https://localhost:8080/",
          "height": 265
        },
        "id": "rCh-Z2pqPz3S",
        "outputId": "739a9ca0-401e-49cc-8def-0b9c2ace2f75"
      },
      "source": [
        "mu_test = gpr2.predict(test.graphs)\n",
        "plt.scatter(test[target], mu_test)\n",
        "plt.show()"
      ],
      "execution_count": null,
      "outputs": [
        {
          "output_type": "display_data",
          "data": {
            "image/png": "[encoded data removed]",
            "text/plain": [
              "<Figure size 432x288 with 1 Axes>"
            ]
          },
          "metadata": {
            "tags": [],
            "needs_background": "light"
          }
        }
      ]
    },
    {
      "cell_type": "code",
      "metadata": {
        "colab": {
          "base_uri": "https://localhost:8080/"
        },
        "id": "UYakiu41QMsp",
        "outputId": "e89ec238-c459-4586-a7f0-c65a840bca04"
      },
      "source": [
        "print('Test set')\n",
        "print('MAE:', np.mean(np.abs(test[target] - mu_test)))\n",
        "print('RMSE:', np.std(test[target] - mu_test))"
      ],
      "execution_count": null,
      "outputs": [
        {
          "output_type": "stream",
          "text": [
            "Test set\n",
            "MAE: 0.9561466500156314\n",
            "RMSE: 1.2284123729830978\n"
          ],
          "name": "stdout"
        }
      ]
    },
    {
      "cell_type": "code",
      "metadata": {
        "id": "49qyw8Oqti5t"
      },
      "source": [
        ""
      ],
      "execution_count": null,
      "outputs": []
    }
  ]
}