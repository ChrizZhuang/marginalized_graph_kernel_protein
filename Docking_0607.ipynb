{
  "nbformat": 4,
  "nbformat_minor": 0,
  "metadata": {
    "accelerator": "GPU",
    "colab": {
      "name": "Docking.ipynb",
      "provenance": [],
      "collapsed_sections": [],
      "include_colab_link": true
    },
    "kernelspec": {
      "display_name": "Python 3",
      "name": "python3"
    }
  },
  "cells": [
    {
      "cell_type": "markdown",
      "metadata": {
        "id": "view-in-github",
        "colab_type": "text"
      },
      "source": [
        "<a href=\"https://colab.research.google.com/github/ChrizZhuang/marginalized_graph_kernel_protein/blob/main/Docking_0607.ipynb\" target=\"_parent\"><img src=\"https://colab.research.google.com/assets/colab-badge.svg\" alt=\"Open In Colab\"/></a>"
      ]
    },
    {
      "cell_type": "code",
      "metadata": {
        "colab": {
          "base_uri": "https://localhost:8080/"
        },
        "id": "W6keKPPyGsCt",
        "outputId": "1f537585-0f5a-4790-f9b4-22f32f388aeb"
      },
      "source": [
        "!nvidia-smi"
      ],
      "execution_count": 1,
      "outputs": [
        {
          "output_type": "stream",
          "text": [
            "Mon Jun  7 00:59:45 2021       \n",
            "+-----------------------------------------------------------------------------+\n",
            "| NVIDIA-SMI 465.27       Driver Version: 460.32.03    CUDA Version: 11.2     |\n",
            "|-------------------------------+----------------------+----------------------+\n",
            "| GPU  Name        Persistence-M| Bus-Id        Disp.A | Volatile Uncorr. ECC |\n",
            "| Fan  Temp  Perf  Pwr:Usage/Cap|         Memory-Usage | GPU-Util  Compute M. |\n",
            "|                               |                      |               MIG M. |\n",
            "|===============================+======================+======================|\n",
            "|   0  Tesla T4            Off  | 00000000:00:04.0 Off |                    0 |\n",
            "| N/A   33C    P8     9W /  70W |      0MiB / 15109MiB |      0%      Default |\n",
            "|                               |                      |                  N/A |\n",
            "+-------------------------------+----------------------+----------------------+\n",
            "                                                                               \n",
            "+-----------------------------------------------------------------------------+\n",
            "| Processes:                                                                  |\n",
            "|  GPU   GI   CI        PID   Type   Process name                  GPU Memory |\n",
            "|        ID   ID                                                   Usage      |\n",
            "|=============================================================================|\n",
            "|  No running processes found                                                 |\n",
            "+-----------------------------------------------------------------------------+\n"
          ],
          "name": "stdout"
        }
      ]
    },
    {
      "cell_type": "code",
      "metadata": {
        "colab": {
          "base_uri": "https://localhost:8080/"
        },
        "id": "XE6J0wDFGxnp",
        "outputId": "312c8a71-d209-4bd0-d0b0-56370889790c"
      },
      "source": [
        "#!pip install pymatgen==2020.12.31\n",
        "!pip install pymatgen==2019.11.11\n",
        "!pip install --pre graphdot\n",
        "!pip install gdown"
      ],
      "execution_count": 2,
      "outputs": [
        {
          "output_type": "stream",
          "text": [
            "Requirement already satisfied: pymatgen==2019.11.11 in /usr/local/lib/python3.7/dist-packages (2019.11.11)\n",
            "Requirement already satisfied: ruamel.yaml>=0.15.6 in /usr/local/lib/python3.7/dist-packages (from pymatgen==2019.11.11) (0.17.7)\n",
            "Requirement already satisfied: pydispatcher>=2.0.5 in /usr/local/lib/python3.7/dist-packages (from pymatgen==2019.11.11) (2.0.5)\n",
            "Requirement already satisfied: tabulate in /usr/local/lib/python3.7/dist-packages (from pymatgen==2019.11.11) (0.8.9)\n",
            "Requirement already satisfied: requests in /usr/local/lib/python3.7/dist-packages (from pymatgen==2019.11.11) (2.23.0)\n",
            "Requirement already satisfied: scipy>=1.0.1 in /usr/local/lib/python3.7/dist-packages (from pymatgen==2019.11.11) (1.4.1)\n",
            "Requirement already satisfied: spglib>=1.9.9.44 in /usr/local/lib/python3.7/dist-packages (from pymatgen==2019.11.11) (1.16.1)\n",
            "Requirement already satisfied: sympy in /usr/local/lib/python3.7/dist-packages (from pymatgen==2019.11.11) (1.7.1)\n",
            "Requirement already satisfied: palettable>=3.1.1 in /usr/local/lib/python3.7/dist-packages (from pymatgen==2019.11.11) (3.3.0)\n",
            "Requirement already satisfied: matplotlib>=1.5 in /usr/local/lib/python3.7/dist-packages (from pymatgen==2019.11.11) (3.2.2)\n",
            "Requirement already satisfied: monty>=3.0.2 in /usr/local/lib/python3.7/dist-packages (from pymatgen==2019.11.11) (2021.5.9)\n",
            "Requirement already satisfied: pandas in /usr/local/lib/python3.7/dist-packages (from pymatgen==2019.11.11) (1.1.5)\n",
            "Requirement already satisfied: networkx>=2.2 in /usr/local/lib/python3.7/dist-packages (from pymatgen==2019.11.11) (2.5.1)\n",
            "Requirement already satisfied: numpy>=1.14.3 in /usr/local/lib/python3.7/dist-packages (from pymatgen==2019.11.11) (1.19.5)\n",
            "Requirement already satisfied: ruamel.yaml.clib>=0.1.2; platform_python_implementation == \"CPython\" and python_version < \"3.10\" in /usr/local/lib/python3.7/dist-packages (from ruamel.yaml>=0.15.6->pymatgen==2019.11.11) (0.2.2)\n",
            "Requirement already satisfied: idna<3,>=2.5 in /usr/local/lib/python3.7/dist-packages (from requests->pymatgen==2019.11.11) (2.10)\n",
            "Requirement already satisfied: certifi>=2017.4.17 in /usr/local/lib/python3.7/dist-packages (from requests->pymatgen==2019.11.11) (2020.12.5)\n",
            "Requirement already satisfied: urllib3!=1.25.0,!=1.25.1,<1.26,>=1.21.1 in /usr/local/lib/python3.7/dist-packages (from requests->pymatgen==2019.11.11) (1.24.3)\n",
            "Requirement already satisfied: chardet<4,>=3.0.2 in /usr/local/lib/python3.7/dist-packages (from requests->pymatgen==2019.11.11) (3.0.4)\n",
            "Requirement already satisfied: mpmath>=0.19 in /usr/local/lib/python3.7/dist-packages (from sympy->pymatgen==2019.11.11) (1.2.1)\n",
            "Requirement already satisfied: python-dateutil>=2.1 in /usr/local/lib/python3.7/dist-packages (from matplotlib>=1.5->pymatgen==2019.11.11) (2.8.1)\n",
            "Requirement already satisfied: kiwisolver>=1.0.1 in /usr/local/lib/python3.7/dist-packages (from matplotlib>=1.5->pymatgen==2019.11.11) (1.3.1)\n",
            "Requirement already satisfied: pyparsing!=2.0.4,!=2.1.2,!=2.1.6,>=2.0.1 in /usr/local/lib/python3.7/dist-packages (from matplotlib>=1.5->pymatgen==2019.11.11) (2.4.7)\n",
            "Requirement already satisfied: cycler>=0.10 in /usr/local/lib/python3.7/dist-packages (from matplotlib>=1.5->pymatgen==2019.11.11) (0.10.0)\n",
            "Requirement already satisfied: pytz>=2017.2 in /usr/local/lib/python3.7/dist-packages (from pandas->pymatgen==2019.11.11) (2018.9)\n",
            "Requirement already satisfied: decorator<5,>=4.3 in /usr/local/lib/python3.7/dist-packages (from networkx>=2.2->pymatgen==2019.11.11) (4.4.2)\n",
            "Requirement already satisfied: six>=1.5 in /usr/local/lib/python3.7/dist-packages (from python-dateutil>=2.1->matplotlib>=1.5->pymatgen==2019.11.11) (1.15.0)\n",
            "Requirement already satisfied: graphdot in /usr/local/lib/python3.7/dist-packages (0.8a17)\n",
            "Requirement already satisfied: scipy>=1.3.0 in /usr/local/lib/python3.7/dist-packages (from graphdot) (1.4.1)\n",
            "Requirement already satisfied: treelib>=1.6.1 in /usr/local/lib/python3.7/dist-packages (from graphdot) (1.6.1)\n",
            "Requirement already satisfied: networkx>=2.4 in /usr/local/lib/python3.7/dist-packages (from graphdot) (2.5.1)\n",
            "Requirement already satisfied: ase>=3.17 in /usr/local/lib/python3.7/dist-packages (from graphdot) (3.21.1)\n",
            "Requirement already satisfied: kahypar>=1.1.4 in /usr/local/lib/python3.7/dist-packages (from graphdot) (1.1.6)\n",
            "Requirement already satisfied: tqdm>=4.55 in /usr/local/lib/python3.7/dist-packages (from graphdot) (4.61.0)\n",
            "Requirement already satisfied: mendeleev>=0.7 in /usr/local/lib/python3.7/dist-packages (from graphdot) (0.7.0)\n",
            "Requirement already satisfied: pymatgen==2019.11.11 in /usr/local/lib/python3.7/dist-packages (from graphdot) (2019.11.11)\n",
            "Requirement already satisfied: numba>=0.51.0 in /usr/local/lib/python3.7/dist-packages (from graphdot) (0.51.2)\n",
            "Requirement already satisfied: numpy>=1.17 in /usr/local/lib/python3.7/dist-packages (from graphdot) (1.19.5)\n",
            "Requirement already satisfied: sympy>=1.3 in /usr/local/lib/python3.7/dist-packages (from graphdot) (1.7.1)\n",
            "Requirement already satisfied: pandas>=0.24 in /usr/local/lib/python3.7/dist-packages (from graphdot) (1.1.5)\n",
            "Requirement already satisfied: pycuda>=2019 in /usr/local/lib/python3.7/dist-packages (from graphdot) (2021.1)\n",
            "Requirement already satisfied: future in /usr/local/lib/python3.7/dist-packages (from treelib>=1.6.1->graphdot) (0.16.0)\n",
            "Requirement already satisfied: decorator<5,>=4.3 in /usr/local/lib/python3.7/dist-packages (from networkx>=2.4->graphdot) (4.4.2)\n",
            "Requirement already satisfied: matplotlib>=2.0.0 in /usr/local/lib/python3.7/dist-packages (from ase>=3.17->graphdot) (3.2.2)\n",
            "Requirement already satisfied: pyfiglet<0.9,>=0.8.post1 in /usr/local/lib/python3.7/dist-packages (from mendeleev>=0.7->graphdot) (0.8.post1)\n",
            "Requirement already satisfied: SQLAlchemy<2.0.0,>=1.3.23 in /usr/local/lib/python3.7/dist-packages (from mendeleev>=0.7->graphdot) (1.4.15)\n",
            "Requirement already satisfied: colorama<0.5.0,>=0.4.4 in /usr/local/lib/python3.7/dist-packages (from mendeleev>=0.7->graphdot) (0.4.4)\n",
            "Requirement already satisfied: six<2.0.0,>=1.15.0 in /usr/local/lib/python3.7/dist-packages (from mendeleev>=0.7->graphdot) (1.15.0)\n",
            "Requirement already satisfied: Pygments<3.0.0,>=2.8.0 in /usr/local/lib/python3.7/dist-packages (from mendeleev>=0.7->graphdot) (2.9.0)\n",
            "Requirement already satisfied: requests in /usr/local/lib/python3.7/dist-packages (from pymatgen==2019.11.11->graphdot) (2.23.0)\n",
            "Requirement already satisfied: palettable>=3.1.1 in /usr/local/lib/python3.7/dist-packages (from pymatgen==2019.11.11->graphdot) (3.3.0)\n",
            "Requirement already satisfied: spglib>=1.9.9.44 in /usr/local/lib/python3.7/dist-packages (from pymatgen==2019.11.11->graphdot) (1.16.1)\n",
            "Requirement already satisfied: ruamel.yaml>=0.15.6 in /usr/local/lib/python3.7/dist-packages (from pymatgen==2019.11.11->graphdot) (0.17.7)\n",
            "Requirement already satisfied: monty>=3.0.2 in /usr/local/lib/python3.7/dist-packages (from pymatgen==2019.11.11->graphdot) (2021.5.9)\n",
            "Requirement already satisfied: pydispatcher>=2.0.5 in /usr/local/lib/python3.7/dist-packages (from pymatgen==2019.11.11->graphdot) (2.0.5)\n",
            "Requirement already satisfied: tabulate in /usr/local/lib/python3.7/dist-packages (from pymatgen==2019.11.11->graphdot) (0.8.9)\n",
            "Requirement already satisfied: setuptools in /usr/local/lib/python3.7/dist-packages (from numba>=0.51.0->graphdot) (57.0.0)\n",
            "Requirement already satisfied: llvmlite<0.35,>=0.34.0.dev0 in /usr/local/lib/python3.7/dist-packages (from numba>=0.51.0->graphdot) (0.34.0)\n",
            "Requirement already satisfied: mpmath>=0.19 in /usr/local/lib/python3.7/dist-packages (from sympy>=1.3->graphdot) (1.2.1)\n",
            "Requirement already satisfied: python-dateutil>=2.7.3 in /usr/local/lib/python3.7/dist-packages (from pandas>=0.24->graphdot) (2.8.1)\n",
            "Requirement already satisfied: pytz>=2017.2 in /usr/local/lib/python3.7/dist-packages (from pandas>=0.24->graphdot) (2018.9)\n",
            "Requirement already satisfied: mako in /usr/local/lib/python3.7/dist-packages (from pycuda>=2019->graphdot) (1.1.4)\n",
            "Requirement already satisfied: pytools>=2011.2 in /usr/local/lib/python3.7/dist-packages (from pycuda>=2019->graphdot) (2021.2.7)\n",
            "Requirement already satisfied: appdirs>=1.4.0 in /usr/local/lib/python3.7/dist-packages (from pycuda>=2019->graphdot) (1.4.4)\n",
            "Requirement already satisfied: cycler>=0.10 in /usr/local/lib/python3.7/dist-packages (from matplotlib>=2.0.0->ase>=3.17->graphdot) (0.10.0)\n",
            "Requirement already satisfied: pyparsing!=2.0.4,!=2.1.2,!=2.1.6,>=2.0.1 in /usr/local/lib/python3.7/dist-packages (from matplotlib>=2.0.0->ase>=3.17->graphdot) (2.4.7)\n",
            "Requirement already satisfied: kiwisolver>=1.0.1 in /usr/local/lib/python3.7/dist-packages (from matplotlib>=2.0.0->ase>=3.17->graphdot) (1.3.1)\n",
            "Requirement already satisfied: greenlet!=0.4.17; python_version >= \"3\" in /usr/local/lib/python3.7/dist-packages (from SQLAlchemy<2.0.0,>=1.3.23->mendeleev>=0.7->graphdot) (1.1.0)\n",
            "Requirement already satisfied: importlib-metadata; python_version < \"3.8\" in /usr/local/lib/python3.7/dist-packages (from SQLAlchemy<2.0.0,>=1.3.23->mendeleev>=0.7->graphdot) (4.0.1)\n",
            "Requirement already satisfied: urllib3!=1.25.0,!=1.25.1,<1.26,>=1.21.1 in /usr/local/lib/python3.7/dist-packages (from requests->pymatgen==2019.11.11->graphdot) (1.24.3)\n",
            "Requirement already satisfied: idna<3,>=2.5 in /usr/local/lib/python3.7/dist-packages (from requests->pymatgen==2019.11.11->graphdot) (2.10)\n",
            "Requirement already satisfied: chardet<4,>=3.0.2 in /usr/local/lib/python3.7/dist-packages (from requests->pymatgen==2019.11.11->graphdot) (3.0.4)\n",
            "Requirement already satisfied: certifi>=2017.4.17 in /usr/local/lib/python3.7/dist-packages (from requests->pymatgen==2019.11.11->graphdot) (2020.12.5)\n",
            "Requirement already satisfied: ruamel.yaml.clib>=0.1.2; platform_python_implementation == \"CPython\" and python_version < \"3.10\" in /usr/local/lib/python3.7/dist-packages (from ruamel.yaml>=0.15.6->pymatgen==2019.11.11->graphdot) (0.2.2)\n",
            "Requirement already satisfied: MarkupSafe>=0.9.2 in /usr/local/lib/python3.7/dist-packages (from mako->pycuda>=2019->graphdot) (2.0.1)\n",
            "Requirement already satisfied: zipp>=0.5 in /usr/local/lib/python3.7/dist-packages (from importlib-metadata; python_version < \"3.8\"->SQLAlchemy<2.0.0,>=1.3.23->mendeleev>=0.7->graphdot) (3.4.1)\n",
            "Requirement already satisfied: typing-extensions>=3.6.4; python_version < \"3.8\" in /usr/local/lib/python3.7/dist-packages (from importlib-metadata; python_version < \"3.8\"->SQLAlchemy<2.0.0,>=1.3.23->mendeleev>=0.7->graphdot) (3.7.4.3)\n",
            "Requirement already satisfied: gdown in /usr/local/lib/python3.7/dist-packages (3.6.4)\n",
            "Requirement already satisfied: requests in /usr/local/lib/python3.7/dist-packages (from gdown) (2.23.0)\n",
            "Requirement already satisfied: tqdm in /usr/local/lib/python3.7/dist-packages (from gdown) (4.61.0)\n",
            "Requirement already satisfied: six in /usr/local/lib/python3.7/dist-packages (from gdown) (1.15.0)\n",
            "Requirement already satisfied: chardet<4,>=3.0.2 in /usr/local/lib/python3.7/dist-packages (from requests->gdown) (3.0.4)\n",
            "Requirement already satisfied: idna<3,>=2.5 in /usr/local/lib/python3.7/dist-packages (from requests->gdown) (2.10)\n",
            "Requirement already satisfied: certifi>=2017.4.17 in /usr/local/lib/python3.7/dist-packages (from requests->gdown) (2020.12.5)\n",
            "Requirement already satisfied: urllib3!=1.25.0,!=1.25.1,<1.26,>=1.21.1 in /usr/local/lib/python3.7/dist-packages (from requests->gdown) (1.24.3)\n"
          ],
          "name": "stdout"
        }
      ]
    },
    {
      "cell_type": "code",
      "metadata": {
        "colab": {
          "base_uri": "https://localhost:8080/"
        },
        "id": "qX3k93l_HGdd",
        "outputId": "3d2ca9e0-a72c-46f8-f22a-9ef1f2e76e99"
      },
      "source": [
        "%matplotlib inline\n",
        "import io\n",
        "import sys\n",
        "sys.path.append('/usr/local/lib/python3.6/site-packages/')\n",
        "import os\n",
        "import urllib\n",
        "import numpy as np\n",
        "import pandas as pd\n",
        "import matplotlib.pyplot as plt\n",
        "\n",
        "import graphdot\n",
        "from graphdot import Graph\n",
        "from graphdot.graph.adjacency import AtomicAdjacency\n",
        "from graphdot.graph.reorder import rcm\n",
        "from graphdot.kernel.marginalized import MarginalizedGraphKernel # https://graphdot.readthedocs.io/en/latest/apidoc/graphdot.kernel.marginalized.html\n",
        "from graphdot.kernel.marginalized.starting_probability import Uniform\n",
        "from graphdot.model.gaussian_process import (\n",
        "    GaussianProcessRegressor,\n",
        "    LowRankApproximateGPR\n",
        ")\n",
        "from graphdot.kernel.fix import Normalization\n",
        "import graphdot.microkernel as uX\n",
        "import ase.io"
      ],
      "execution_count": 3,
      "outputs": [
        {
          "output_type": "stream",
          "text": [
            "/usr/local/lib/python3.7/dist-packages/graphdot/graph/__init__.py:24: UserWarning: Cannot import RDKit, `graph.from_rdkit()` will be unavailable.\n",
            "\n",
            "  'Cannot import RDKit, `graph.from_rdkit()` will be unavailable.\\n'\n"
          ],
          "name": "stderr"
        }
      ]
    },
    {
      "cell_type": "code",
      "metadata": {
        "colab": {
          "base_uri": "https://localhost:8080/"
        },
        "id": "s2g2ITn-Oe1B",
        "outputId": "392467bb-6769-4862-da7b-c5d6330e986c"
      },
      "source": [
        "from google.colab import drive\n",
        "drive.mount('/content/gdrive', force_remount=True)"
      ],
      "execution_count": 4,
      "outputs": [
        {
          "output_type": "stream",
          "text": [
            "Mounted at /content/gdrive\n"
          ],
          "name": "stdout"
        }
      ]
    },
    {
      "cell_type": "code",
      "metadata": {
        "colab": {
          "base_uri": "https://localhost:8080/"
        },
        "id": "1iaCg3YeL-IK",
        "outputId": "ba608699-1063-4421-ba48-5bf0d97cb32f"
      },
      "source": [
        "#cd gdrive/MyDrive/Google\\ Colab/Covid-Data\n",
        "%cd gdrive/MyDrive/Covid-Data/"
      ],
      "execution_count": 5,
      "outputs": [
        {
          "output_type": "stream",
          "text": [
            "/content/gdrive/.shortcut-targets-by-id/1wtzMcocuK8kPsz8K0ktjCZPkv567W6M2/Covid-Data\n"
          ],
          "name": "stdout"
        }
      ]
    },
    {
      "cell_type": "code",
      "metadata": {
        "colab": {
          "base_uri": "https://localhost:8080/"
        },
        "id": "oBmiYwVH4KUZ",
        "outputId": "45ec88af-c33d-461b-da3e-8cf254704c55"
      },
      "source": [
        "!pwd"
      ],
      "execution_count": 6,
      "outputs": [
        {
          "output_type": "stream",
          "text": [
            "/content/gdrive/.shortcut-targets-by-id/1wtzMcocuK8kPsz8K0ktjCZPkv567W6M2/Covid-Data\n"
          ],
          "name": "stdout"
        }
      ]
    },
    {
      "cell_type": "code",
      "metadata": {
        "id": "IlTP3xrwP74N"
      },
      "source": [
        "files  = ['uncharged_NSP15_6W01_A_3_H.Orderable_zinc_db_enaHLL.2col.csv.1.xz']\n",
        "dataset = pd.read_pickle(files[0])\n",
        "#frames = [pd.read_pickle(f) for f in files]\n",
        "#dataset = pd.concat(frames)"
      ],
      "execution_count": 7,
      "outputs": []
    },
    {
      "cell_type": "code",
      "metadata": {
        "colab": {
          "base_uri": "https://localhost:8080/",
          "height": 204
        },
        "id": "-2WAHou3QM_r",
        "outputId": "7c49d3af-e6ff-4fb7-be56-c42479e59837"
      },
      "source": [
        "dataset.head()"
      ],
      "execution_count": 8,
      "outputs": [
        {
          "output_type": "execute_result",
          "data": {
            "text/html": [
              "<div>\n",
              "<style scoped>\n",
              "    .dataframe tbody tr th:only-of-type {\n",
              "        vertical-align: middle;\n",
              "    }\n",
              "\n",
              "    .dataframe tbody tr th {\n",
              "        vertical-align: top;\n",
              "    }\n",
              "\n",
              "    .dataframe thead th {\n",
              "        text-align: right;\n",
              "    }\n",
              "</style>\n",
              "<table border=\"1\" class=\"dataframe\">\n",
              "  <thead>\n",
              "    <tr style=\"text-align: right;\">\n",
              "      <th></th>\n",
              "      <th>energy</th>\n",
              "      <th>smiles</th>\n",
              "      <th>graphs</th>\n",
              "    </tr>\n",
              "  </thead>\n",
              "  <tbody>\n",
              "    <tr>\n",
              "      <th>0</th>\n",
              "      <td>-2.265697</td>\n",
              "      <td>Cc1nc(no1)c2cncnc2[C@@H]3CCCN(C3)C(=O)Cc4ccccc4</td>\n",
              "      <td>Graph(nodes={'!i': [ 0, 1, 2, 3, 4, 5, 6, 7, 8...</td>\n",
              "    </tr>\n",
              "    <tr>\n",
              "      <th>1</th>\n",
              "      <td>-2.351519</td>\n",
              "      <td>Cc1ccc(cc1)c2nnc(n2N)SCC(=O)Nc3ccccc3OC</td>\n",
              "      <td>Graph(nodes={'!i': [ 0, 1, 2, 3, 4, 5, 6, 7, 8...</td>\n",
              "    </tr>\n",
              "    <tr>\n",
              "      <th>2</th>\n",
              "      <td>-3.308996</td>\n",
              "      <td>CCOC(=O)Cn1c2ccccc2nc1[C@H]3CC(=O)N(C3)c4ccc(c...</td>\n",
              "      <td>Graph(nodes={'!i': [ 0, 1, 2, 3, 4, 5, 6, 7, 8...</td>\n",
              "    </tr>\n",
              "    <tr>\n",
              "      <th>3</th>\n",
              "      <td>-3.760179</td>\n",
              "      <td>CC[C@H](C)NC(=O)[C@@H](CC)N(Cc1ccccc1)C(=O)Cc2...</td>\n",
              "      <td>Graph(nodes={'!i': [ 0, 1, 2, 3, 4, 5, 6, 7, 8...</td>\n",
              "    </tr>\n",
              "    <tr>\n",
              "      <th>4</th>\n",
              "      <td>-2.895577</td>\n",
              "      <td>Cc1cccc2c1ccn2CCC(=O)N3CCc4cc(c(cc4C3)OC)OC</td>\n",
              "      <td>Graph(nodes={'!i': [ 0, 1, 2, 3, 4, 5, 6, 7, 8...</td>\n",
              "    </tr>\n",
              "  </tbody>\n",
              "</table>\n",
              "</div>"
            ],
            "text/plain": [
              "     energy  ...                                             graphs\n",
              "0 -2.265697  ...  Graph(nodes={'!i': [ 0, 1, 2, 3, 4, 5, 6, 7, 8...\n",
              "1 -2.351519  ...  Graph(nodes={'!i': [ 0, 1, 2, 3, 4, 5, 6, 7, 8...\n",
              "2 -3.308996  ...  Graph(nodes={'!i': [ 0, 1, 2, 3, 4, 5, 6, 7, 8...\n",
              "3 -3.760179  ...  Graph(nodes={'!i': [ 0, 1, 2, 3, 4, 5, 6, 7, 8...\n",
              "4 -2.895577  ...  Graph(nodes={'!i': [ 0, 1, 2, 3, 4, 5, 6, 7, 8...\n",
              "\n",
              "[5 rows x 3 columns]"
            ]
          },
          "metadata": {
            "tags": []
          },
          "execution_count": 8
        }
      ]
    },
    {
      "cell_type": "code",
      "metadata": {
        "id": "KjoyJHMnRjE1"
      },
      "source": [
        "target = 'energy'\n",
        "N_train = 2500\n",
        "N_test = 5000"
      ],
      "execution_count": 9,
      "outputs": []
    },
    {
      "cell_type": "code",
      "metadata": {
        "id": "zx4l75-XUVcN"
      },
      "source": [
        "np.random.seed(0)\n",
        "# select train and test data\n",
        "train_sel = np.random.choice(len(dataset), N_train, replace=False)\n",
        "test_sel = np.random.choice(np.setxor1d(np.arange(len(dataset)), train_sel), N_test, replace=False)\n",
        "train = dataset.iloc[train_sel]\n",
        "test = dataset.iloc[test_sel]"
      ],
      "execution_count": 10,
      "outputs": []
    },
    {
      "cell_type": "code",
      "metadata": {
        "id": "AugZ3tWeUYTA"
      },
      "source": [
        "# import graphdot.microkernel as uX\n",
        "gpr = GaussianProcessRegressor(\n",
        "    # kernel is the covariance function of the gaussian process (GP)\n",
        "    kernel=Normalization( # kernel equals to normalization -> normalizes a kernel using the cosine of angle formula, k_normalized(x,y) = k(x,y)/sqrt(k(x,x)*k(y,y))\n",
        "        # graphdot.kernel.fix.Normalization(kernel), set kernel as marginalized graph kernel, which is used to calculate the similarity between 2 graphs\n",
        "        # implement the random walk-based graph similarity kernel as Kashima, H., Tsuda, K., & Inokuchi, A. (2003). Marginalized kernels between labeled graphs. ICML\n",
        "        MarginalizedGraphKernel( \n",
        "            # node_kernel - A kernelet that computes the similarity between individual nodes\n",
        "            # uX - graphdot.microkernel - microkernels are positive-semidefinite functions between individual nodes and edges of graphs\n",
        "            node_kernel=uX.Additive( # addition of kernal matrices: sum of k_a(X_a, Y_a) cross for a in features\n",
        "                # uX.Constant - a kernel that returns a constant value, always mutlipled with other microkernels as an adjustable weight\n",
        "                #   c, the first input arg. as 0.5, (0.01, 10) the lower and upper bounds of c that is allowed to vary during hyperpara. optimizartion\n",
        "                # uX.KroneckerDelta - a kronecker delta returns 1 when two features are equal and return h (the first input arg here, which is 0.5 in this case) otherwise\n",
        "                #   (0.1, 0.9) the lower and upper bounds that h is allowed to vary during hyperpara. optimization\n",
        "                aromatic=uX.Constant(0.5, (0.01, 10.0)) * uX.KroneckerDelta(0.5,(0.1, 0.9)), \n",
        "                atomic_number=uX.Constant(0.5, (0.01, 10.0)) * uX.KroneckerDelta(0.8,(0.1, 0.9)),\n",
        "                # uX.SquareExponential \n",
        "                # \n",
        "                charge=uX.Constant(0.5, (0.01, 10.0)) * uX.SquareExponential(1.0),\n",
        "                chiral=uX.Constant(0.5, (0.01, 10.0)) * uX.KroneckerDelta(0.5,(0.1, 0.9)),\n",
        "                hcount=uX.Constant(0.5, (0.01, 10.0)) * uX.SquareExponential(1.0),\n",
        "                hybridization=uX.Constant(0.5, (0.01, 10.0)) * uX.KroneckerDelta(0.5,(0.1, 0.9)),\n",
        "                # uX.Convolution - a convolutional microkernel which averages evaluations of a base microkernel between pairs pf elememts of two variable-length feature sequences\n",
        "                # uX.KroneckerDelta as the base kernel\n",
        "                ring_list=uX.Constant(0.5, (0.01, 100.0)) * uX.Convolution(uX.KroneckerDelta(0.5,(0.1, 0.9)))\n",
        "            ).normalized,\n",
        "            # edge_kernel - A kernelet that computes the similarity between individual edge\n",
        "            edge_kernel=uX.Additive(\n",
        "                aromatic=uX.Constant(0.5, (0.01, 10.0)) * uX.KroneckerDelta(0.5,(0.1, 0.9)),\n",
        "                conjugated=uX.Constant(0.5, (0.01, 10.0)) * uX.KroneckerDelta(0.5,(0.1, 0.9)),\n",
        "                order=uX.Constant(0.5, (0.01, 10.0)) * uX.KroneckerDelta(0.8,(0.1, 0.9)),\n",
        "                ring_stereo=uX.Constant(0.5, (0.01, 10.0)) * uX.KroneckerDelta(0.8,(0.1, 0.9)),\n",
        "                stereo=uX.Constant(0.5, (0.01, 10.0)) * uX.KroneckerDelta(0.8,(0.1, 0.9))\n",
        "            ).normalized,\n",
        "            p=Uniform(1.0, p_bounds='fixed'), # the strating probability of the random walk on each node\n",
        "            q=0.05 # the probability for the random walk to stop during each step\n",
        "        )\n",
        "    ),\n",
        "    alpha=1e-4, # value added to the diagonal of the kernel matrix during fitting\n",
        "    optimizer=True, # default optimizer of L-BFGS-B based on scipy.optimize.minimize\n",
        "    normalize_y=True, # normalize the y values so taht the means and variance is 0 and 1, repsectively. Will be reversed when predicions are returned\n",
        "    regularization='+', # alpha (1e-4 in this case) is added to the diagonals of the kernal matrix\n",
        ")"
      ],
      "execution_count": 11,
      "outputs": []
    },
    {
      "cell_type": "code",
      "metadata": {
        "colab": {
          "base_uri": "https://localhost:8080/"
        },
        "id": "0JIdwDYYUbE4",
        "outputId": "e2294cf9-5ee4-4180-b7c3-bb1b98021e69"
      },
      "source": [
        "#gpr.fit(train.graphs, train[target], repeat=3, verbose=True)\n",
        "# using the molecular graph to predict the energy\n",
        "gpr.fit(train.graphs, train[target], repeat=1, verbose=True)"
      ],
      "execution_count": 12,
      "outputs": [
        {
          "output_type": "stream",
          "text": [
            "|        logP|       dlogP|     y^T.K.y|     log|K| |     Cond(K)|  GPU time|  CPU time|\n",
            "|------------|------------|------------|------------|------------|----------|----------|\n",
            "|  9.2486e+06|  5.6192e+07|  9.2684e+06|      -19798|  2.2708e+07|   1.3e+02|       1.9|\n",
            "|  7.0456e+06|   5.459e+07|  7.0642e+06|      -18684|  2.1866e+07|   1.2e+02|       1.8|\n",
            "|  4.8866e+06|   4.702e+07|  4.9039e+06|      -17315|  2.0461e+07|   1.2e+02|       1.9|\n",
            "|  4.1676e+06|  4.0965e+07|  4.1844e+06|      -16750|  1.9706e+07|   1.2e+02|       1.9|\n",
            "|   3.645e+06|  3.5011e+07|  3.6612e+06|      -16274|  1.8948e+07|   1.1e+02|       1.8|\n",
            "|   3.326e+06|  3.0749e+07|   3.342e+06|      -15946|  1.8322e+07|   1.1e+02|       1.9|\n",
            "|  3.1778e+06|  2.8881e+07|  3.1936e+06|      -15786|  1.8126e+07|   1.1e+02|       1.9|\n",
            "|  3.1776e+06|   2.825e+07|  3.1934e+06|      -15766|  1.7637e+07|     1e+02|         2|\n",
            "|  3.1162e+06|  2.8107e+07|  3.1319e+06|      -15708|  1.7756e+07|   1.1e+02|       1.8|\n",
            "|  3.1047e+06|  2.7919e+07|  3.1204e+06|      -15701|  1.7957e+07|   1.1e+02|       1.8|\n",
            "|  3.0991e+06|  2.7884e+07|  3.1148e+06|      -15693|  1.7887e+07|   1.1e+02|       1.9|\n",
            "|   3.095e+06|  2.7843e+07|  3.1107e+06|      -15687|  1.7852e+07|   1.1e+02|       1.9|\n",
            "|  3.0915e+06|  2.7966e+07|  3.1071e+06|      -15682|  1.7831e+07|   1.1e+02|       1.8|\n",
            "|  3.0881e+06|   2.783e+07|  3.1037e+06|      -15679|  1.7843e+07|   1.1e+02|       1.8|\n",
            "|  3.0867e+06|   2.776e+07|  3.1024e+06|      -15678|   1.787e+07|   1.1e+02|       1.8|\n",
            "|  3.0846e+06|  2.7689e+07|  3.1002e+06|      -15676|   1.786e+07|   1.1e+02|       1.8|\n",
            "|  3.0826e+06|  2.7772e+07|  3.0982e+06|      -15674|  1.7888e+07|   1.1e+02|       1.9|\n",
            "|  3.0805e+06|  2.7692e+07|  3.0962e+06|      -15672|  1.7856e+07|   1.1e+02|       1.8|\n",
            "|  3.0793e+06|  2.7664e+07|   3.095e+06|      -15671|  1.7848e+07|   1.1e+02|       1.8|\n",
            "|  3.0798e+06|  2.7691e+07|  3.0955e+06|      -15671|  1.7831e+07|   1.1e+02|       1.8|\n",
            "|  3.0801e+06|  2.7681e+07|  3.0957e+06|      -15671|  1.7844e+07|   1.1e+02|       1.8|\n",
            "|  3.0801e+06|  2.7683e+07|  3.0958e+06|      -15671|  1.7848e+07|   1.1e+02|       1.8|\n",
            "|  3.0798e+06|  2.7676e+07|  3.0955e+06|      -15671|  1.7842e+07|   1.1e+02|       1.8|\n",
            "|  3.0802e+06|  2.7682e+07|  3.0959e+06|      -15671|  1.7842e+07|   1.1e+02|       1.8|\n",
            "|  3.0803e+06|   2.769e+07|   3.096e+06|      -15671|  1.7846e+07|   1.1e+02|       1.8|\n",
            "Optimization result:\n",
            "      fun: 3080341.1690479927\n",
            " hess_inv: <25x25 LbfgsInvHessProduct with dtype=float64>\n",
            "      jac: array([ 2.76768564e+03,  1.00160522e+03,  2.54343743e+02,  1.40084657e+02,\n",
            "        5.36770586e+04,  1.30209697e+03,  0.00000000e+00, -2.38738171e+03,\n",
            "        1.03163205e+03,  4.94424731e+03,  2.30155351e-28,  6.29779563e+02,\n",
            "        3.92013539e+02, -5.64968699e+03,  6.56766654e+04,  3.29971017e+03,\n",
            "        7.68444927e+03,  1.17837847e+03,  1.08177407e+04, -1.00557608e+03,\n",
            "        9.33575125e+02,  1.03686271e+03,  0.00000000e+00, -4.50509909e+03,\n",
            "        1.46569168e+03])\n",
            "  message: b'CONVERGENCE: REL_REDUCTION_OF_F_<=_FACTR*EPSMCH'\n",
            "     nfev: 25\n",
            "      nit: 19\n",
            "   status: 0\n",
            "  success: True\n",
            "        x: array([-9.21034037, -3.75355856, -1.66811626,  1.68654281, -2.30258509,\n",
            "       -4.22954205,  0.        , -2.96635524, -2.05158011,  2.30258509,\n",
            "       -2.55160117, -3.58149271, -1.74784929,  1.87961491, -2.30258509,\n",
            "        0.84642637, -2.30258509,  1.1526716 , -2.30258509, -2.89153277,\n",
            "       -1.36733597, -3.40148924, -0.22314355, -2.02166239, -1.9295367 ])\n"
          ],
          "name": "stdout"
        },
        {
          "output_type": "execute_result",
          "data": {
            "text/plain": [
              "<graphdot.model.gaussian_process.gpr.GaussianProcessRegressor at 0x7f6bf13ae190>"
            ]
          },
          "metadata": {
            "tags": []
          },
          "execution_count": 12
        }
      ]
    },
    {
      "cell_type": "code",
      "metadata": {
        "colab": {
          "base_uri": "https://localhost:8080/"
        },
        "id": "0szVcBBnUkLZ",
        "outputId": "de81f4d6-d675-4f0c-8fec-40b064b1ede6"
      },
      "source": [
        "gpr.kernel.hyperparameters"
      ],
      "execution_count": 13,
      "outputs": [
        {
          "output_type": "execute_result",
          "data": {
            "text/plain": [
              "starting_probability : Uniform\n",
              "\tp : 1.0\n",
              "stopping_probability : 0.00010000000000000009\n",
              "node_kernel : Composite\n",
              "\taromatic : Multiply\n",
              "\t\tlhs : Constant\n",
              "\t\t\tc : 0.02343420535068002\n",
              "\t\trhs : KroneckerDelta\n",
              "\t\t\th : 0.18860200789175988\n",
              "\tatomic_number : Multiply\n",
              "\t\tlhs : Constant\n",
              "\t\t\tc : 5.400776905055444\n",
              "\t\trhs : KroneckerDelta\n",
              "\t\t\th : 0.10000000000000002\n",
              "\tcharge : Multiply\n",
              "\t\tlhs : Constant\n",
              "\t\t\tc : 0.0145590563621646\n",
              "\t\trhs : SquareExponential\n",
              "\t\t\tlength_scale : 1.0\n",
              "\tchiral : Multiply\n",
              "\t\tlhs : Constant\n",
              "\t\t\tc : 0.05149063984443944\n",
              "\t\trhs : KroneckerDelta\n",
              "\t\t\th : 0.12853164901299938\n",
              "\thcount : Multiply\n",
              "\t\tlhs : Constant\n",
              "\t\t\tc : 10.000000000000002\n",
              "\t\trhs : SquareExponential\n",
              "\t\t\tlength_scale : 0.07795674396128768\n",
              "\thybridization : Multiply\n",
              "\t\tlhs : Constant\n",
              "\t\t\tc : 0.02783411902444354\n",
              "\t\trhs : KroneckerDelta\n",
              "\t\t\th : 0.17414808329497075\n",
              "\tring_list : Multiply\n",
              "\t\tlhs : Constant\n",
              "\t\t\tc : 6.550981640628747\n",
              "\t\trhs : Convolution\n",
              "\t\t\tbase : KroneckerDelta\n",
              "\t\t\t\th : 0.10000000000000002\n",
              "edge_kernel : Composite\n",
              "\taromatic : Multiply\n",
              "\t\tlhs : Constant\n",
              "\t\t\tc : 2.331300736214766\n",
              "\t\trhs : KroneckerDelta\n",
              "\t\t\th : 0.10000000000000002\n",
              "\tconjugated : Multiply\n",
              "\t\tlhs : Constant\n",
              "\t\t\tc : 3.166641607522053\n",
              "\t\trhs : KroneckerDelta\n",
              "\t\t\th : 0.10000000000000002\n",
              "\torder : Multiply\n",
              "\t\tlhs : Constant\n",
              "\t\t\tc : 0.05549109210250382\n",
              "\t\trhs : KroneckerDelta\n",
              "\t\t\th : 0.25478481015091287\n",
              "\tring_stereo : Multiply\n",
              "\t\tlhs : Constant\n",
              "\t\t\tc : 0.033323606027544916\n",
              "\t\trhs : KroneckerDelta\n",
              "\t\t\th : 0.8\n",
              "\tstereo : Multiply\n",
              "\t\tlhs : Constant\n",
              "\t\t\tc : 0.1324351226762118\n",
              "\t\trhs : KroneckerDelta\n",
              "\t\t\th : 0.14521546104851712"
            ]
          },
          "metadata": {
            "tags": []
          },
          "execution_count": 13
        }
      ]
    },
    {
      "cell_type": "code",
      "metadata": {
        "id": "m0lr2XLkUmBm"
      },
      "source": [
        "mu = gpr.predict(train.graphs)"
      ],
      "execution_count": 14,
      "outputs": []
    },
    {
      "cell_type": "code",
      "metadata": {
        "colab": {
          "base_uri": "https://localhost:8080/",
          "height": 265
        },
        "id": "Ilq4FcWftNiq",
        "outputId": "17a4b946-b712-428e-9671-e8a847f965d8"
      },
      "source": [
        "plt.scatter(train[target], mu)\n",
        "plt.show()"
      ],
      "execution_count": 15,
      "outputs": [
        {
          "output_type": "display_data",
          "data": {
            "image/png": "[encoded data removed]",
            "text/plain": [
              "<Figure size 432x288 with 1 Axes>"
            ]
          },
          "metadata": {
            "tags": [],
            "needs_background": "light"
          }
        }
      ]
    },
    {
      "cell_type": "code",
      "metadata": {
        "colab": {
          "base_uri": "https://localhost:8080/"
        },
        "id": "dPhqsXAstOCO",
        "outputId": "5d62e52b-4e49-4cc1-deea-3f4a44461f24"
      },
      "source": [
        "print('Training set')\n",
        "print('MAE:', np.mean(np.abs(train[target] - mu)))\n",
        "print('RMSE:', np.std(train[target] - mu))"
      ],
      "execution_count": 16,
      "outputs": [
        {
          "output_type": "stream",
          "text": [
            "Training set\n",
            "MAE: 0.2074369392067814\n",
            "RMSE: 0.3195501910711287\n"
          ],
          "name": "stdout"
        }
      ]
    },
    {
      "cell_type": "code",
      "metadata": {
        "id": "1C0SDiEztOe6"
      },
      "source": [
        "mu_test = gpr.predict(test.graphs)"
      ],
      "execution_count": 17,
      "outputs": []
    },
    {
      "cell_type": "code",
      "metadata": {
        "colab": {
          "base_uri": "https://localhost:8080/",
          "height": 265
        },
        "id": "it2phMkgUqI6",
        "outputId": "8377a3c2-3d69-4cdb-bcad-796f3e9b0fc4"
      },
      "source": [
        "plt.scatter(test[target], mu_test)\n",
        "plt.show()"
      ],
      "execution_count": 18,
      "outputs": [
        {
          "output_type": "display_data",
          "data": {
            "image/png": "[encoded data removed]",
            "text/plain": [
              "<Figure size 432x288 with 1 Axes>"
            ]
          },
          "metadata": {
            "tags": [],
            "needs_background": "light"
          }
        }
      ]
    },
    {
      "cell_type": "code",
      "metadata": {
        "colab": {
          "base_uri": "https://localhost:8080/"
        },
        "id": "ik4KZQYjUsqn",
        "outputId": "4676881b-e530-4339-84cf-e82bf53d3a46"
      },
      "source": [
        "print('Test set')\n",
        "print('MAE:', np.mean(np.abs(test[target] - mu_test)))\n",
        "print('RMSE:', np.std(test[target] - mu_test))"
      ],
      "execution_count": 19,
      "outputs": [
        {
          "output_type": "stream",
          "text": [
            "Test set\n",
            "MAE: 1.2461703788060545\n",
            "RMSE: 1.6040210737240486\n"
          ],
          "name": "stdout"
        }
      ]
    },
    {
      "cell_type": "code",
      "metadata": {
        "id": "dbXG4V1veoS4"
      },
      "source": [
        "gpr2 = GaussianProcessRegressor(\n",
        "    kernel=Normalization(\n",
        "        MarginalizedGraphKernel(\n",
        "            node_kernel=uX.Additive(\n",
        "                aromatic=uX.Constant(0.5, (0.01, 10.0)) * uX.KroneckerDelta(0.5,(0.1, 0.9)),\n",
        "                atomic_number=uX.Constant(0.5, (0.01, 10.0)) * uX.KroneckerDelta(0.8,(0.1, 0.9)),\n",
        "                charge=uX.Constant(0.5, (0.01, 10.0)) * uX.SquareExponential(1.0),\n",
        "                chiral=uX.Constant(0.5, (0.01, 10.0)) * uX.KroneckerDelta(0.5,(0.1, 0.9)),\n",
        "                hcount=uX.Constant(0.5, (0.01, 10.0)) * uX.SquareExponential(1.0),\n",
        "                hybridization=uX.Constant(0.5, (0.01, 10.0)) * uX.KroneckerDelta(0.5,(0.1, 0.9)),\n",
        "                ring_list=uX.Constant(0.5, (0.01, 100.0)) * uX.Convolution(uX.KroneckerDelta(0.5,(0.1, 0.9)))\n",
        "            ).normalized,\n",
        "            edge_kernel=uX.Additive(\n",
        "                aromatic=uX.Constant(0.5, (0.01, 10.0)) * uX.KroneckerDelta(0.5,(0.1, 0.9)),\n",
        "                conjugated=uX.Constant(0.5, (0.01, 10.0)) * uX.KroneckerDelta(0.5,(0.1, 0.9)),\n",
        "                order=uX.Constant(0.5, (0.01, 10.0)) * uX.KroneckerDelta(0.8,(0.1, 0.9)),\n",
        "                ring_stereo=uX.Constant(0.5, (0.01, 10.0)) * uX.KroneckerDelta(0.8,(0.1, 0.9)),\n",
        "                stereo=uX.Constant(0.5, (0.01, 10.0)) * uX.KroneckerDelta(0.8,(0.1, 0.9))\n",
        "            ).normalized,\n",
        "            p=Uniform(1.0, p_bounds='fixed'),\n",
        "            q=0.05\n",
        "        )\n",
        "    ),\n",
        "    alpha=1e-2, #different from gpr in alpha where gpr's alpha is 1e-4\n",
        "    optimizer=True,\n",
        "    normalize_y=True,\n",
        "    regularization='+',\n",
        ")"
      ],
      "execution_count": 20,
      "outputs": []
    },
    {
      "cell_type": "code",
      "metadata": {
        "colab": {
          "base_uri": "https://localhost:8080/"
        },
        "id": "iKCgq4XuPyhr",
        "outputId": "732a35e7-3559-4d04-b754-0f41c78562ae"
      },
      "source": [
        "#gpr2.fit(train.graphs, train[target], repeat=3, verbose=True)\n",
        "gpr2.fit(train.graphs, train[target], repeat=1, verbose=True)"
      ],
      "execution_count": 21,
      "outputs": [
        {
          "output_type": "stream",
          "text": [
            "|        logP|       dlogP|     y^T.K.y|     log|K| |     Cond(K)|  GPU time|  CPU time|\n",
            "|------------|------------|------------|------------|------------|----------|----------|\n",
            "|   1.667e+05|   1.928e+05|  1.7773e+05|      -11034|  2.2742e+05|   1.3e+02|       1.7|\n",
            "|  1.5585e+05|  2.2171e+05|  1.6671e+05|      -10857|  2.2218e+05|   1.3e+02|       1.7|\n",
            "|  1.3711e+05|  2.4873e+05|  1.4756e+05|      -10447|  2.0803e+05|   1.2e+02|       1.8|\n",
            "|  1.3286e+05|  2.3627e+05|   1.432e+05|      -10338|  2.0336e+05|   1.1e+02|       1.7|\n",
            "|  1.2977e+05|  2.2744e+05|  1.4002e+05|      -10249|  1.9714e+05|   1.1e+02|       1.7|\n",
            "|  1.3006e+05|  2.1429e+05|  1.4032e+05|      -10258|  2.0119e+05|     1e+02|       1.7|\n",
            "|  1.2923e+05|  2.2103e+05|  1.3946e+05|      -10238|  1.9906e+05|   1.1e+02|       1.7|\n",
            "|  1.2888e+05|  2.2097e+05|  1.3911e+05|      -10228|  1.9865e+05|   1.1e+02|       1.7|\n",
            "|  1.2843e+05|  2.2338e+05|  1.3864e+05|      -10211|  1.9582e+05|   1.1e+02|       1.7|\n",
            "|  1.2837e+05|  2.2244e+05|  1.3858e+05|      -10212|   1.969e+05|   1.1e+02|       1.7|\n",
            "|  1.2836e+05|  2.2225e+05|  1.3857e+05|      -10212|  1.9696e+05|   1.1e+02|       1.7|\n",
            "|  1.2831e+05|  2.2155e+05|  1.3852e+05|      -10211|  1.9715e+05|   1.1e+02|       1.7|\n",
            "|  1.2826e+05|  2.2184e+05|  1.3847e+05|      -10209|  1.9704e+05|   1.1e+02|       1.7|\n",
            "|  1.2821e+05|  2.2181e+05|  1.3841e+05|      -10207|  1.9671e+05|   1.1e+02|       1.7|\n",
            "|  1.2819e+05|  2.2165e+05|   1.384e+05|      -10207|  1.9664e+05|   1.1e+02|       1.8|\n",
            "|  1.2818e+05|  2.2125e+05|  1.3838e+05|      -10207|  1.9671e+05|   1.1e+02|       1.8|\n",
            "|  1.2817e+05|  2.2114e+05|  1.3838e+05|      -10207|  1.9673e+05|   1.1e+02|       1.7|\n",
            "|  1.2815e+05|  2.2077e+05|  1.3836e+05|      -10207|  1.9677e+05|   1.1e+02|       1.7|\n",
            "|  1.2812e+05|   2.185e+05|  1.3833e+05|      -10209|  1.9695e+05|   1.1e+02|       1.7|\n",
            "|  1.2809e+05|   2.178e+05|   1.383e+05|      -10209|    1.97e+05|   1.1e+02|       1.7|\n",
            "|  1.2807e+05|  2.1764e+05|  1.3828e+05|      -10208|  1.9695e+05|   1.1e+02|       1.7|\n",
            "|  1.2805e+05|  2.1597e+05|  1.3826e+05|      -10209|  1.9693e+05|   1.1e+02|       1.7|\n",
            "|  1.2805e+05|   2.172e+05|  1.3825e+05|      -10208|  1.9694e+05|   1.1e+02|       1.7|\n",
            "|  1.2804e+05|  2.1693e+05|  1.3825e+05|      -10208|  1.9694e+05|   1.1e+02|       1.8|\n",
            "|  1.2804e+05|  2.1674e+05|  1.3825e+05|      -10208|  1.9694e+05|   1.1e+02|       1.7|\n",
            "|  1.2804e+05|  2.1691e+05|  1.3825e+05|      -10208|  1.9694e+05|   1.1e+02|       1.7|\n",
            "|  1.2805e+05|  2.1694e+05|  1.3825e+05|      -10208|  1.9694e+05|   1.1e+02|       1.7|\n",
            "|  1.2804e+05|  2.1694e+05|  1.3825e+05|      -10208|  1.9694e+05|   1.1e+02|       1.7|\n",
            "|  1.2804e+05|  2.1694e+05|  1.3825e+05|      -10208|  1.9694e+05|   1.1e+02|       1.7|\n",
            "|  1.2804e+05|  2.1694e+05|  1.3825e+05|      -10208|  1.9694e+05|   1.1e+02|       1.8|\n",
            "|  1.2805e+05|  2.1694e+05|  1.3825e+05|      -10208|  1.9694e+05|   1.1e+02|       1.7|\n",
            "Optimization result:\n",
            "      fun: 128045.20193517115\n",
            " hess_inv: <25x25 LbfgsInvHessProduct with dtype=float64>\n",
            "      jac: array([ 21.67035135,   5.42797631,   0.91584794,   6.62684845,\n",
            "       636.88297304,  10.22203408,   0.        ,   6.13155297,\n",
            "         0.80318432, -45.79780911,   0.        ,   9.32446636,\n",
            "         2.06137402,   7.94609186, 767.483899  ,  -8.19180354,\n",
            "        92.93654292,   7.92503084, 118.62629465,   3.36719643,\n",
            "        38.71995733,   7.96834618,   0.        , -11.08475724,\n",
            "         7.2860016 ])\n",
            "  message: b'CONVERGENCE: REL_REDUCTION_OF_F_<=_FACTR*EPSMCH'\n",
            "     nfev: 31\n",
            "      nit: 21\n",
            "   status: 0\n",
            "  success: True\n",
            "        x: array([-9.21034037, -4.51710969, -1.98267626,  1.72521606, -2.30258509,\n",
            "       -4.60517019,  0.        , -4.60517019, -1.8070945 ,  2.30258509,\n",
            "       -2.88031384, -3.6019383 , -2.30258509,  1.91177723, -2.30258509,\n",
            "        0.28746812, -2.30258509,  0.54884256, -2.30258509, -0.5686784 ,\n",
            "       -2.30258509, -4.35637808, -0.22314355, -2.55717239, -2.21179129])\n"
          ],
          "name": "stdout"
        },
        {
          "output_type": "execute_result",
          "data": {
            "text/plain": [
              "<graphdot.model.gaussian_process.gpr.GaussianProcessRegressor at 0x7f6bf00630d0>"
            ]
          },
          "metadata": {
            "tags": []
          },
          "execution_count": 21
        }
      ]
    },
    {
      "cell_type": "code",
      "metadata": {
        "colab": {
          "base_uri": "https://localhost:8080/",
          "height": 265
        },
        "id": "PG-GAPabPzHV",
        "outputId": "24c9299c-9fe6-4896-dcb8-964ae54fb90c"
      },
      "source": [
        "mu = gpr2.predict(train.graphs)\n",
        "plt.scatter(train[target], mu)\n",
        "plt.show()"
      ],
      "execution_count": 22,
      "outputs": [
        {
          "output_type": "display_data",
          "data": {
            "image/png": "[encoded data removed]",
            "text/plain": [
              "<Figure size 432x288 with 1 Axes>"
            ]
          },
          "metadata": {
            "tags": [],
            "needs_background": "light"
          }
        }
      ]
    },
    {
      "cell_type": "code",
      "metadata": {
        "colab": {
          "base_uri": "https://localhost:8080/"
        },
        "id": "J20m1x90Pzg9",
        "outputId": "06b11027-4bdd-485f-f257-f4fab3e55ad5"
      },
      "source": [
        "print('Training set')\n",
        "print('MAE:', np.mean(np.abs(train[target] - mu)))\n",
        "print('RMSE:', np.std(train[target] - mu))"
      ],
      "execution_count": 23,
      "outputs": [
        {
          "output_type": "stream",
          "text": [
            "Training set\n",
            "MAE: 0.7238389142657052\n",
            "RMSE: 0.9634943206325994\n"
          ],
          "name": "stdout"
        }
      ]
    },
    {
      "cell_type": "code",
      "metadata": {
        "colab": {
          "base_uri": "https://localhost:8080/",
          "height": 265
        },
        "id": "rCh-Z2pqPz3S",
        "outputId": "3b945a5f-4613-411c-c7f2-cbc08dc7c63a"
      },
      "source": [
        "mu_test = gpr2.predict(test.graphs)\n",
        "plt.scatter(test[target], mu_test)\n",
        "plt.show()"
      ],
      "execution_count": 24,
      "outputs": [
        {
          "output_type": "display_data",
          "data": {
            "image/png": "[encoded data removed]",
            "text/plain": [
              "<Figure size 432x288 with 1 Axes>"
            ]
          },
          "metadata": {
            "tags": [],
            "needs_background": "light"
          }
        }
      ]
    },
    {
      "cell_type": "code",
      "metadata": {
        "colab": {
          "base_uri": "https://localhost:8080/"
        },
        "id": "UYakiu41QMsp",
        "outputId": "1d721bba-fc8a-4cd5-eccf-98dd05888762"
      },
      "source": [
        "print('Test set')\n",
        "print('MAE:', np.mean(np.abs(test[target] - mu_test)))\n",
        "print('RMSE:', np.std(test[target] - mu_test))"
      ],
      "execution_count": 25,
      "outputs": [
        {
          "output_type": "stream",
          "text": [
            "Test set\n",
            "MAE: 0.9561539409612109\n",
            "RMSE: 1.2284268143181998\n"
          ],
          "name": "stdout"
        }
      ]
    }
  ]
}