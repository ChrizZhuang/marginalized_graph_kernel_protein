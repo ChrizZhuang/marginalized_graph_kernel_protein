{
  "nbformat": 4,
  "nbformat_minor": 0,
  "metadata": {
    "accelerator": "GPU",
    "colab": {
      "name": "Docking.ipynb",
      "provenance": [],
      "collapsed_sections": [],
      "include_colab_link": true
    },
    "kernelspec": {
      "display_name": "Python 3",
      "name": "python3"
    }
  },
  "cells": [
    {
      "cell_type": "markdown",
      "metadata": {
        "id": "view-in-github",
        "colab_type": "text"
      },
      "source": [
        "<a href=\"https://colab.research.google.com/github/ChrizZhuang/marginalized_graph_kernel_protein/blob/main/Docking_0614.ipynb\" target=\"_parent\"><img src=\"https://colab.research.google.com/assets/colab-badge.svg\" alt=\"Open In Colab\"/></a>"
      ]
    },
    {
      "cell_type": "markdown",
      "metadata": {
        "id": "Hcs9MOjWgzly"
      },
      "source": [
        "## Set up the environment"
      ]
    },
    {
      "cell_type": "code",
      "metadata": {
        "colab": {
          "base_uri": "https://localhost:8080/"
        },
        "id": "E2uKipA7g95b",
        "outputId": "ac00fef1-68c5-41c8-ab19-0adf3559119d"
      },
      "source": [
        "!nvidia-smi"
      ],
      "execution_count": 1,
      "outputs": [
        {
          "output_type": "stream",
          "text": [
            "Mon Jun 14 13:19:59 2021       \n",
            "+-----------------------------------------------------------------------------+\n",
            "| NVIDIA-SMI 465.27       Driver Version: 460.32.03    CUDA Version: 11.2     |\n",
            "|-------------------------------+----------------------+----------------------+\n",
            "| GPU  Name        Persistence-M| Bus-Id        Disp.A | Volatile Uncorr. ECC |\n",
            "| Fan  Temp  Perf  Pwr:Usage/Cap|         Memory-Usage | GPU-Util  Compute M. |\n",
            "|                               |                      |               MIG M. |\n",
            "|===============================+======================+======================|\n",
            "|   0  Tesla T4            Off  | 00000000:00:04.0 Off |                    0 |\n",
            "| N/A   52C    P8    10W /  70W |      0MiB / 15109MiB |      0%      Default |\n",
            "|                               |                      |                  N/A |\n",
            "+-------------------------------+----------------------+----------------------+\n",
            "                                                                               \n",
            "+-----------------------------------------------------------------------------+\n",
            "| Processes:                                                                  |\n",
            "|  GPU   GI   CI        PID   Type   Process name                  GPU Memory |\n",
            "|        ID   ID                                                   Usage      |\n",
            "|=============================================================================|\n",
            "|  No running processes found                                                 |\n",
            "+-----------------------------------------------------------------------------+\n"
          ],
          "name": "stdout"
        }
      ]
    },
    {
      "cell_type": "code",
      "metadata": {
        "colab": {
          "base_uri": "https://localhost:8080/"
        },
        "id": "XE6J0wDFGxnp",
        "outputId": "2984b6ab-d119-4073-f786-47e6c41b4167"
      },
      "source": [
        "#!pip install pymatgen==2020.12.31\n",
        "!pip install pymatgen==2019.11.11\n",
        "!pip install --pre graphdot\n",
        "!pip install gdown"
      ],
      "execution_count": 2,
      "outputs": [
        {
          "output_type": "stream",
          "text": [
            "Requirement already satisfied: pymatgen==2019.11.11 in /usr/local/lib/python3.7/dist-packages (2019.11.11)\n",
            "Requirement already satisfied: monty>=3.0.2 in /usr/local/lib/python3.7/dist-packages (from pymatgen==2019.11.11) (2021.6.10)\n",
            "Requirement already satisfied: ruamel.yaml>=0.15.6 in /usr/local/lib/python3.7/dist-packages (from pymatgen==2019.11.11) (0.17.9)\n",
            "Requirement already satisfied: pydispatcher>=2.0.5 in /usr/local/lib/python3.7/dist-packages (from pymatgen==2019.11.11) (2.0.5)\n",
            "Requirement already satisfied: spglib>=1.9.9.44 in /usr/local/lib/python3.7/dist-packages (from pymatgen==2019.11.11) (1.16.1)\n",
            "Requirement already satisfied: networkx>=2.2 in /usr/local/lib/python3.7/dist-packages (from pymatgen==2019.11.11) (2.5.1)\n",
            "Requirement already satisfied: requests in /usr/local/lib/python3.7/dist-packages (from pymatgen==2019.11.11) (2.23.0)\n",
            "Requirement already satisfied: palettable>=3.1.1 in /usr/local/lib/python3.7/dist-packages (from pymatgen==2019.11.11) (3.3.0)\n",
            "Requirement already satisfied: pandas in /usr/local/lib/python3.7/dist-packages (from pymatgen==2019.11.11) (1.1.5)\n",
            "Requirement already satisfied: scipy>=1.0.1 in /usr/local/lib/python3.7/dist-packages (from pymatgen==2019.11.11) (1.4.1)\n",
            "Requirement already satisfied: tabulate in /usr/local/lib/python3.7/dist-packages (from pymatgen==2019.11.11) (0.8.9)\n",
            "Requirement already satisfied: sympy in /usr/local/lib/python3.7/dist-packages (from pymatgen==2019.11.11) (1.7.1)\n",
            "Requirement already satisfied: matplotlib>=1.5 in /usr/local/lib/python3.7/dist-packages (from pymatgen==2019.11.11) (3.2.2)\n",
            "Requirement already satisfied: numpy>=1.14.3 in /usr/local/lib/python3.7/dist-packages (from pymatgen==2019.11.11) (1.19.5)\n",
            "Requirement already satisfied: ruamel.yaml.clib>=0.1.2; platform_python_implementation == \"CPython\" and python_version < \"3.10\" in /usr/local/lib/python3.7/dist-packages (from ruamel.yaml>=0.15.6->pymatgen==2019.11.11) (0.2.2)\n",
            "Requirement already satisfied: decorator<5,>=4.3 in /usr/local/lib/python3.7/dist-packages (from networkx>=2.2->pymatgen==2019.11.11) (4.4.2)\n",
            "Requirement already satisfied: certifi>=2017.4.17 in /usr/local/lib/python3.7/dist-packages (from requests->pymatgen==2019.11.11) (2020.12.5)\n",
            "Requirement already satisfied: idna<3,>=2.5 in /usr/local/lib/python3.7/dist-packages (from requests->pymatgen==2019.11.11) (2.10)\n",
            "Requirement already satisfied: urllib3!=1.25.0,!=1.25.1,<1.26,>=1.21.1 in /usr/local/lib/python3.7/dist-packages (from requests->pymatgen==2019.11.11) (1.24.3)\n",
            "Requirement already satisfied: chardet<4,>=3.0.2 in /usr/local/lib/python3.7/dist-packages (from requests->pymatgen==2019.11.11) (3.0.4)\n",
            "Requirement already satisfied: python-dateutil>=2.7.3 in /usr/local/lib/python3.7/dist-packages (from pandas->pymatgen==2019.11.11) (2.8.1)\n",
            "Requirement already satisfied: pytz>=2017.2 in /usr/local/lib/python3.7/dist-packages (from pandas->pymatgen==2019.11.11) (2018.9)\n",
            "Requirement already satisfied: mpmath>=0.19 in /usr/local/lib/python3.7/dist-packages (from sympy->pymatgen==2019.11.11) (1.2.1)\n",
            "Requirement already satisfied: pyparsing!=2.0.4,!=2.1.2,!=2.1.6,>=2.0.1 in /usr/local/lib/python3.7/dist-packages (from matplotlib>=1.5->pymatgen==2019.11.11) (2.4.7)\n",
            "Requirement already satisfied: kiwisolver>=1.0.1 in /usr/local/lib/python3.7/dist-packages (from matplotlib>=1.5->pymatgen==2019.11.11) (1.3.1)\n",
            "Requirement already satisfied: cycler>=0.10 in /usr/local/lib/python3.7/dist-packages (from matplotlib>=1.5->pymatgen==2019.11.11) (0.10.0)\n",
            "Requirement already satisfied: six>=1.5 in /usr/local/lib/python3.7/dist-packages (from python-dateutil>=2.7.3->pandas->pymatgen==2019.11.11) (1.15.0)\n",
            "Requirement already satisfied: graphdot in /usr/local/lib/python3.7/dist-packages (0.8a17)\n",
            "Requirement already satisfied: pandas>=0.24 in /usr/local/lib/python3.7/dist-packages (from graphdot) (1.1.5)\n",
            "Requirement already satisfied: numpy>=1.17 in /usr/local/lib/python3.7/dist-packages (from graphdot) (1.19.5)\n",
            "Requirement already satisfied: ase>=3.17 in /usr/local/lib/python3.7/dist-packages (from graphdot) (3.21.1)\n",
            "Requirement already satisfied: networkx>=2.4 in /usr/local/lib/python3.7/dist-packages (from graphdot) (2.5.1)\n",
            "Requirement already satisfied: sympy>=1.3 in /usr/local/lib/python3.7/dist-packages (from graphdot) (1.7.1)\n",
            "Requirement already satisfied: treelib>=1.6.1 in /usr/local/lib/python3.7/dist-packages (from graphdot) (1.6.1)\n",
            "Requirement already satisfied: kahypar>=1.1.4 in /usr/local/lib/python3.7/dist-packages (from graphdot) (1.1.6)\n",
            "Requirement already satisfied: pymatgen==2019.11.11 in /usr/local/lib/python3.7/dist-packages (from graphdot) (2019.11.11)\n",
            "Requirement already satisfied: pycuda>=2019 in /usr/local/lib/python3.7/dist-packages (from graphdot) (2021.1)\n",
            "Requirement already satisfied: mendeleev>=0.7 in /usr/local/lib/python3.7/dist-packages (from graphdot) (0.7.0)\n",
            "Requirement already satisfied: numba>=0.51.0 in /usr/local/lib/python3.7/dist-packages (from graphdot) (0.51.2)\n",
            "Requirement already satisfied: tqdm>=4.55 in /usr/local/lib/python3.7/dist-packages (from graphdot) (4.61.1)\n",
            "Requirement already satisfied: scipy>=1.3.0 in /usr/local/lib/python3.7/dist-packages (from graphdot) (1.4.1)\n",
            "Requirement already satisfied: python-dateutil>=2.7.3 in /usr/local/lib/python3.7/dist-packages (from pandas>=0.24->graphdot) (2.8.1)\n",
            "Requirement already satisfied: pytz>=2017.2 in /usr/local/lib/python3.7/dist-packages (from pandas>=0.24->graphdot) (2018.9)\n",
            "Requirement already satisfied: matplotlib>=2.0.0 in /usr/local/lib/python3.7/dist-packages (from ase>=3.17->graphdot) (3.2.2)\n",
            "Requirement already satisfied: decorator<5,>=4.3 in /usr/local/lib/python3.7/dist-packages (from networkx>=2.4->graphdot) (4.4.2)\n",
            "Requirement already satisfied: mpmath>=0.19 in /usr/local/lib/python3.7/dist-packages (from sympy>=1.3->graphdot) (1.2.1)\n",
            "Requirement already satisfied: future in /usr/local/lib/python3.7/dist-packages (from treelib>=1.6.1->graphdot) (0.16.0)\n",
            "Requirement already satisfied: pydispatcher>=2.0.5 in /usr/local/lib/python3.7/dist-packages (from pymatgen==2019.11.11->graphdot) (2.0.5)\n",
            "Requirement already satisfied: tabulate in /usr/local/lib/python3.7/dist-packages (from pymatgen==2019.11.11->graphdot) (0.8.9)\n",
            "Requirement already satisfied: monty>=3.0.2 in /usr/local/lib/python3.7/dist-packages (from pymatgen==2019.11.11->graphdot) (2021.6.10)\n",
            "Requirement already satisfied: requests in /usr/local/lib/python3.7/dist-packages (from pymatgen==2019.11.11->graphdot) (2.23.0)\n",
            "Requirement already satisfied: ruamel.yaml>=0.15.6 in /usr/local/lib/python3.7/dist-packages (from pymatgen==2019.11.11->graphdot) (0.17.9)\n",
            "Requirement already satisfied: spglib>=1.9.9.44 in /usr/local/lib/python3.7/dist-packages (from pymatgen==2019.11.11->graphdot) (1.16.1)\n",
            "Requirement already satisfied: palettable>=3.1.1 in /usr/local/lib/python3.7/dist-packages (from pymatgen==2019.11.11->graphdot) (3.3.0)\n",
            "Requirement already satisfied: pytools>=2011.2 in /usr/local/lib/python3.7/dist-packages (from pycuda>=2019->graphdot) (2021.2.7)\n",
            "Requirement already satisfied: appdirs>=1.4.0 in /usr/local/lib/python3.7/dist-packages (from pycuda>=2019->graphdot) (1.4.4)\n",
            "Requirement already satisfied: mako in /usr/local/lib/python3.7/dist-packages (from pycuda>=2019->graphdot) (1.1.4)\n",
            "Requirement already satisfied: Pygments<3.0.0,>=2.8.0 in /usr/local/lib/python3.7/dist-packages (from mendeleev>=0.7->graphdot) (2.9.0)\n",
            "Requirement already satisfied: six<2.0.0,>=1.15.0 in /usr/local/lib/python3.7/dist-packages (from mendeleev>=0.7->graphdot) (1.15.0)\n",
            "Requirement already satisfied: pyfiglet<0.9,>=0.8.post1 in /usr/local/lib/python3.7/dist-packages (from mendeleev>=0.7->graphdot) (0.8.post1)\n",
            "Requirement already satisfied: SQLAlchemy<2.0.0,>=1.3.23 in /usr/local/lib/python3.7/dist-packages (from mendeleev>=0.7->graphdot) (1.4.15)\n",
            "Requirement already satisfied: colorama<0.5.0,>=0.4.4 in /usr/local/lib/python3.7/dist-packages (from mendeleev>=0.7->graphdot) (0.4.4)\n",
            "Requirement already satisfied: llvmlite<0.35,>=0.34.0.dev0 in /usr/local/lib/python3.7/dist-packages (from numba>=0.51.0->graphdot) (0.34.0)\n",
            "Requirement already satisfied: setuptools in /usr/local/lib/python3.7/dist-packages (from numba>=0.51.0->graphdot) (57.0.0)\n",
            "Requirement already satisfied: cycler>=0.10 in /usr/local/lib/python3.7/dist-packages (from matplotlib>=2.0.0->ase>=3.17->graphdot) (0.10.0)\n",
            "Requirement already satisfied: pyparsing!=2.0.4,!=2.1.2,!=2.1.6,>=2.0.1 in /usr/local/lib/python3.7/dist-packages (from matplotlib>=2.0.0->ase>=3.17->graphdot) (2.4.7)\n",
            "Requirement already satisfied: kiwisolver>=1.0.1 in /usr/local/lib/python3.7/dist-packages (from matplotlib>=2.0.0->ase>=3.17->graphdot) (1.3.1)\n",
            "Requirement already satisfied: urllib3!=1.25.0,!=1.25.1,<1.26,>=1.21.1 in /usr/local/lib/python3.7/dist-packages (from requests->pymatgen==2019.11.11->graphdot) (1.24.3)\n",
            "Requirement already satisfied: chardet<4,>=3.0.2 in /usr/local/lib/python3.7/dist-packages (from requests->pymatgen==2019.11.11->graphdot) (3.0.4)\n",
            "Requirement already satisfied: certifi>=2017.4.17 in /usr/local/lib/python3.7/dist-packages (from requests->pymatgen==2019.11.11->graphdot) (2020.12.5)\n",
            "Requirement already satisfied: idna<3,>=2.5 in /usr/local/lib/python3.7/dist-packages (from requests->pymatgen==2019.11.11->graphdot) (2.10)\n",
            "Requirement already satisfied: ruamel.yaml.clib>=0.1.2; platform_python_implementation == \"CPython\" and python_version < \"3.10\" in /usr/local/lib/python3.7/dist-packages (from ruamel.yaml>=0.15.6->pymatgen==2019.11.11->graphdot) (0.2.2)\n",
            "Requirement already satisfied: MarkupSafe>=0.9.2 in /usr/local/lib/python3.7/dist-packages (from mako->pycuda>=2019->graphdot) (2.0.1)\n",
            "Requirement already satisfied: importlib-metadata; python_version < \"3.8\" in /usr/local/lib/python3.7/dist-packages (from SQLAlchemy<2.0.0,>=1.3.23->mendeleev>=0.7->graphdot) (4.0.1)\n",
            "Requirement already satisfied: greenlet!=0.4.17; python_version >= \"3\" in /usr/local/lib/python3.7/dist-packages (from SQLAlchemy<2.0.0,>=1.3.23->mendeleev>=0.7->graphdot) (1.1.0)\n",
            "Requirement already satisfied: zipp>=0.5 in /usr/local/lib/python3.7/dist-packages (from importlib-metadata; python_version < \"3.8\"->SQLAlchemy<2.0.0,>=1.3.23->mendeleev>=0.7->graphdot) (3.4.1)\n",
            "Requirement already satisfied: typing-extensions>=3.6.4; python_version < \"3.8\" in /usr/local/lib/python3.7/dist-packages (from importlib-metadata; python_version < \"3.8\"->SQLAlchemy<2.0.0,>=1.3.23->mendeleev>=0.7->graphdot) (3.7.4.3)\n",
            "Requirement already satisfied: gdown in /usr/local/lib/python3.7/dist-packages (3.6.4)\n",
            "Requirement already satisfied: requests in /usr/local/lib/python3.7/dist-packages (from gdown) (2.23.0)\n",
            "Requirement already satisfied: tqdm in /usr/local/lib/python3.7/dist-packages (from gdown) (4.61.1)\n",
            "Requirement already satisfied: six in /usr/local/lib/python3.7/dist-packages (from gdown) (1.15.0)\n",
            "Requirement already satisfied: urllib3!=1.25.0,!=1.25.1,<1.26,>=1.21.1 in /usr/local/lib/python3.7/dist-packages (from requests->gdown) (1.24.3)\n",
            "Requirement already satisfied: idna<3,>=2.5 in /usr/local/lib/python3.7/dist-packages (from requests->gdown) (2.10)\n",
            "Requirement already satisfied: chardet<4,>=3.0.2 in /usr/local/lib/python3.7/dist-packages (from requests->gdown) (3.0.4)\n",
            "Requirement already satisfied: certifi>=2017.4.17 in /usr/local/lib/python3.7/dist-packages (from requests->gdown) (2020.12.5)\n"
          ],
          "name": "stdout"
        }
      ]
    },
    {
      "cell_type": "code",
      "metadata": {
        "id": "qX3k93l_HGdd",
        "colab": {
          "base_uri": "https://localhost:8080/"
        },
        "outputId": "107dc762-38e6-401f-b67e-40df5c55d14f"
      },
      "source": [
        "%matplotlib inline\n",
        "import io\n",
        "import sys\n",
        "sys.path.append('/usr/local/lib/python3.6/site-packages/')\n",
        "import os\n",
        "import urllib\n",
        "import numpy as np\n",
        "import pandas as pd\n",
        "import matplotlib.pyplot as plt\n",
        "\n",
        "import graphdot\n",
        "from graphdot import Graph\n",
        "from graphdot.graph.adjacency import AtomicAdjacency\n",
        "from graphdot.graph.reorder import rcm\n",
        "from graphdot.kernel.marginalized import MarginalizedGraphKernel # https://graphdot.readthedocs.io/en/latest/apidoc/graphdot.kernel.marginalized.html\n",
        "from graphdot.kernel.marginalized.starting_probability import Uniform\n",
        "from graphdot.model.gaussian_process import (\n",
        "    GaussianProcessRegressor,\n",
        "    LowRankApproximateGPR\n",
        ")\n",
        "from graphdot.kernel.fix import Normalization\n",
        "import graphdot.microkernel as uX\n",
        "import ase.io\n",
        "\n",
        "# for getting all file names into a list under a directory \n",
        "from os import listdir\n",
        "# for getting file names that match certain pattern\n",
        "import glob\n",
        "import time"
      ],
      "execution_count": 3,
      "outputs": [
        {
          "output_type": "stream",
          "text": [
            "/usr/local/lib/python3.7/dist-packages/graphdot/graph/__init__.py:24: UserWarning: Cannot import RDKit, `graph.from_rdkit()` will be unavailable.\n",
            "\n",
            "  'Cannot import RDKit, `graph.from_rdkit()` will be unavailable.\\n'\n"
          ],
          "name": "stderr"
        }
      ]
    },
    {
      "cell_type": "code",
      "metadata": {
        "id": "s2g2ITn-Oe1B",
        "colab": {
          "base_uri": "https://localhost:8080/"
        },
        "outputId": "91b661e5-4690-4a89-a71c-c97fa012f909"
      },
      "source": [
        "from google.colab import drive\n",
        "drive.mount('/content/gdrive', force_remount=True)"
      ],
      "execution_count": 18,
      "outputs": [
        {
          "output_type": "stream",
          "text": [
            "Mounted at /content/gdrive\n"
          ],
          "name": "stdout"
        }
      ]
    },
    {
      "cell_type": "code",
      "metadata": {
        "colab": {
          "base_uri": "https://localhost:8080/"
        },
        "id": "1iaCg3YeL-IK",
        "outputId": "c6751692-bc94-487a-9435-73ff9e8b3555"
      },
      "source": [
        "#cd gdrive/MyDrive/Google\\ Colab/Covid-Data\n",
        "%cd gdrive/MyDrive/Covid-Data/"
      ],
      "execution_count": 19,
      "outputs": [
        {
          "output_type": "stream",
          "text": [
            "/content/gdrive/.shortcut-targets-by-id/1wtzMcocuK8kPsz8K0ktjCZPkv567W6M2/Covid-Data\n"
          ],
          "name": "stdout"
        }
      ]
    },
    {
      "cell_type": "code",
      "metadata": {
        "colab": {
          "base_uri": "https://localhost:8080/"
        },
        "id": "oBmiYwVH4KUZ",
        "outputId": "10444df6-fc8e-463a-9472-8eed37e65d0d"
      },
      "source": [
        "!pwd"
      ],
      "execution_count": 20,
      "outputs": [
        {
          "output_type": "stream",
          "text": [
            "/content/gdrive/.shortcut-targets-by-id/1wtzMcocuK8kPsz8K0ktjCZPkv567W6M2/Covid-Data\n"
          ],
          "name": "stdout"
        }
      ]
    },
    {
      "cell_type": "code",
      "metadata": {
        "id": "NLuvM1Nev4EQ"
      },
      "source": [
        "#!mkdir /content/pkls"
      ],
      "execution_count": 21,
      "outputs": []
    },
    {
      "cell_type": "markdown",
      "metadata": {
        "id": "OzoEhNuUhDs7"
      },
      "source": [
        "## load the data"
      ]
    },
    {
      "cell_type": "code",
      "metadata": {
        "id": "IlTP3xrwP74N"
      },
      "source": [
        "files  = ['uncharged_NSP15_6W01_A_3_H.Orderable_zinc_db_enaHLL.2col.csv.1.xz']\n",
        "dataset = pd.read_pickle(files[0]) # length of each csv file is 100000"
      ],
      "execution_count": 22,
      "outputs": []
    },
    {
      "cell_type": "code",
      "metadata": {
        "id": "KjoyJHMnRjE1"
      },
      "source": [
        "target = 'energy'\n",
        "N_train = 1000\n",
        "N_test = 2000\n",
        "\n",
        "np.random.seed(0) # with the same seed, multiple runs can have the same selected index\n",
        "train_sel = np.random.choice(len(dataset), N_train, replace=False)\n",
        "test_sel = np.random.choice(np.setxor1d(np.arange(len(dataset)), train_sel), N_test, replace=False)\n",
        "train = dataset.iloc[train_sel]\n",
        "test = dataset.iloc[test_sel]"
      ],
      "execution_count": 28,
      "outputs": []
    },
    {
      "cell_type": "code",
      "metadata": {
        "colab": {
          "base_uri": "https://localhost:8080/",
          "height": 204
        },
        "id": "OwZTWDKeBsHH",
        "outputId": "5dbaf3d2-b407-4cf4-965e-3663013b6875"
      },
      "source": [
        "train.head()"
      ],
      "execution_count": 43,
      "outputs": [
        {
          "output_type": "execute_result",
          "data": {
            "text/html": [
              "<div>\n",
              "<style scoped>\n",
              "    .dataframe tbody tr th:only-of-type {\n",
              "        vertical-align: middle;\n",
              "    }\n",
              "\n",
              "    .dataframe tbody tr th {\n",
              "        vertical-align: top;\n",
              "    }\n",
              "\n",
              "    .dataframe thead th {\n",
              "        text-align: right;\n",
              "    }\n",
              "</style>\n",
              "<table border=\"1\" class=\"dataframe\">\n",
              "  <thead>\n",
              "    <tr style=\"text-align: right;\">\n",
              "      <th></th>\n",
              "      <th>energy</th>\n",
              "      <th>smiles</th>\n",
              "      <th>graphs</th>\n",
              "    </tr>\n",
              "  </thead>\n",
              "  <tbody>\n",
              "    <tr>\n",
              "      <th>3582</th>\n",
              "      <td>-2.874773</td>\n",
              "      <td>CN(Cc1nc(no1)c2cccc(c2)Br)C(=O)Nc3cccc(c3)OC</td>\n",
              "      <td>Graph(nodes={'!i': [ 0, 1, 2, 3, 4, 5, 6, 7, 8...</td>\n",
              "    </tr>\n",
              "    <tr>\n",
              "      <th>60498</th>\n",
              "      <td>-3.469760</td>\n",
              "      <td>CCOC(=O)c1ccc(c(c1)C)NC(=S)NCCOc2ccc(cc2)C</td>\n",
              "      <td>Graph(nodes={'!i': [ 0, 1, 2, 3, 4, 5, 6, 7, 8...</td>\n",
              "    </tr>\n",
              "    <tr>\n",
              "      <th>53227</th>\n",
              "      <td>-0.487984</td>\n",
              "      <td>Cc1ccc(cc1S(=O)(=O)Nc2ccccc2OC)NC(=O)c3nc4nc(c...</td>\n",
              "      <td>Graph(nodes={'!i': [ 0, 1, 2, 3, 4, 5, 6, 7, 8...</td>\n",
              "    </tr>\n",
              "    <tr>\n",
              "      <th>21333</th>\n",
              "      <td>-1.808283</td>\n",
              "      <td>COc1ccc(cc1OC)CCNC(=O)COc2ccc(cc2)[N@@](Cc3ccc...</td>\n",
              "      <td>Graph(nodes={'!i': [ 0, 1, 2, 3, 4, 5, 6, 7, 8...</td>\n",
              "    </tr>\n",
              "    <tr>\n",
              "      <th>3885</th>\n",
              "      <td>-2.457642</td>\n",
              "      <td>Cc1cc(ccc1NCc2ccc(c(c2OC)C)OC)Br</td>\n",
              "      <td>Graph(nodes={'!i': [ 0, 1, 2, 3, 4, 5, 6, 7, 8...</td>\n",
              "    </tr>\n",
              "  </tbody>\n",
              "</table>\n",
              "</div>"
            ],
            "text/plain": [
              "         energy  ...                                             graphs\n",
              "3582  -2.874773  ...  Graph(nodes={'!i': [ 0, 1, 2, 3, 4, 5, 6, 7, 8...\n",
              "60498 -3.469760  ...  Graph(nodes={'!i': [ 0, 1, 2, 3, 4, 5, 6, 7, 8...\n",
              "53227 -0.487984  ...  Graph(nodes={'!i': [ 0, 1, 2, 3, 4, 5, 6, 7, 8...\n",
              "21333 -1.808283  ...  Graph(nodes={'!i': [ 0, 1, 2, 3, 4, 5, 6, 7, 8...\n",
              "3885  -2.457642  ...  Graph(nodes={'!i': [ 0, 1, 2, 3, 4, 5, 6, 7, 8...\n",
              "\n",
              "[5 rows x 3 columns]"
            ]
          },
          "metadata": {
            "tags": []
          },
          "execution_count": 43
        }
      ]
    },
    {
      "cell_type": "markdown",
      "metadata": {
        "id": "Q4CVSary3_L9"
      },
      "source": [
        "### Baseline mode"
      ]
    },
    {
      "cell_type": "code",
      "metadata": {
        "id": "AugZ3tWeUYTA"
      },
      "source": [
        "gpr_base = GaussianProcessRegressor(\n",
        "    # kernel is the covariance function of the gaussian process (GP)\n",
        "    kernel=Normalization( # kernel equals to normalization -> normalizes a kernel using the cosine of angle formula, k_normalized(x,y) = k(x,y)/sqrt(k(x,x)*k(y,y))\n",
        "        # graphdot.kernel.fix.Normalization(kernel), set kernel as marginalized graph kernel, which is used to calculate the similarity between 2 graphs\n",
        "        # implement the random walk-based graph similarity kernel as Kashima, H., Tsuda, K., & Inokuchi, A. (2003). Marginalized kernels between labeled graphs. ICML\n",
        "        MarginalizedGraphKernel( \n",
        "            # node_kernel - A kernelet that computes the similarity between individual nodes\n",
        "            # uX - graphdot.microkernel - microkernels are positive-semidefinite functions between individual nodes and edges of graphs\n",
        "            node_kernel=uX.Additive( # addition of kernal matrices: sum of k_a(X_a, Y_a) cross for a in features\n",
        "                # uX.Constant - a kernel that returns a constant value, always mutlipled with other microkernels as an adjustable weight\n",
        "                #   c, the first input arg. as 0.5, (0.01, 10) the lower and upper bounds of c that is allowed to vary during hyperpara. optimizartion\n",
        "                # uX.KroneckerDelta - a kronecker delta returns 1 when two features are equal and return h (the first input arg here, which is 0.5 in this case) otherwise\n",
        "                #   (0.1, 0.9) the lower and upper bounds that h is allowed to vary during hyperpara. optimization\n",
        "                aromatic=uX.Constant(0.5, (0.01, 10.0)) * uX.KroneckerDelta(0.5,(0.1, 0.9)), # the 2nd element of graphdot.graph.Graph.nodes\n",
        "                atomic_number=uX.Constant(0.5, (0.01, 10.0)) * uX.KroneckerDelta(0.8,(0.1, 0.9)), # the 3rd element of graphdot.graph.Graph.nodes\n",
        "                # uX.SquareExponential - Equ. 26 in the paper\n",
        "                # input arg. length_sacle is a float32, set as 1 in this case, which correspond to approx. 1 of the kernal value. \n",
        "                # This is used to determins how quicklys should the kernel decay to zero.\n",
        "                charge=uX.Constant(0.5, (0.01, 10.0)) * uX.SquareExponential(1.0), # the 4th element of graphdot.graph.Graph.nodes\n",
        "                chiral=uX.Constant(0.5, (0.01, 10.0)) * uX.KroneckerDelta(0.5,(0.1, 0.9)), # the 5th element of graphdot.graph.Graph.nodes\n",
        "                hcount=uX.Constant(0.5, (0.01, 10.0)) * uX.SquareExponential(1.0), # the 6th element of graphdot.graph.Graph.nodes\n",
        "                hybridization=uX.Constant(0.5, (0.01, 10.0)) * uX.KroneckerDelta(0.5,(0.1, 0.9)), # the 7th element of graphdot.graph.Graph.nodes\n",
        "                # uX.Convolution - a convolutional microkernel which averages evaluations of a base microkernel between pairs pf elememts of two variable-length feature sequences\n",
        "                # uX.KroneckerDelta as the base kernel\n",
        "                ring_list=uX.Constant(0.5, (0.01, 100.0)) * uX.Convolution(uX.KroneckerDelta(0.5,(0.1, 0.9))) # the 8th element of graphdot.graph.Graph.nodes\n",
        "            ).normalized,\n",
        "            # edge_kernel - A kernelet that computes the similarity between individual edge\n",
        "            edge_kernel=uX.Additive(\n",
        "                aromatic=uX.Constant(0.5, (0.01, 10.0)) * uX.KroneckerDelta(0.5,(0.1, 0.9)), # the 3rd element of graphdot.graph.Graph.nodes\n",
        "                conjugated=uX.Constant(0.5, (0.01, 10.0)) * uX.KroneckerDelta(0.5,(0.1, 0.9)), # the 4th element of graphdot.graph.Graph.nodes\n",
        "                order=uX.Constant(0.5, (0.01, 10.0)) * uX.KroneckerDelta(0.8,(0.1, 0.9)), # the 5th element of graphdot.graph.Graph.nodes\n",
        "                ring_stereo=uX.Constant(0.5, (0.01, 10.0)) * uX.KroneckerDelta(0.8,(0.1, 0.9)), # the 6th element of graphdot.graph.Graph.nodes\n",
        "                stereo=uX.Constant(0.5, (0.01, 10.0)) * uX.KroneckerDelta(0.8,(0.1, 0.9)) # the 7th element of graphdot.graph.Graph.nodes\n",
        "            ).normalized,\n",
        "            p=Uniform(1.0, p_bounds='fixed'), # the strating probability of the random walk on each node\n",
        "            q=0.05 # the probability for the random walk to stop during each step\n",
        "        )\n",
        "    ),\n",
        "    alpha=1e-4, # value added to the diagonal of the kernel matrix during fitting\n",
        "    optimizer=True, # default optimizer of L-BFGS-B based on scipy.optimize.minimize\n",
        "    normalize_y=True, # normalize the y values so taht the means and variance is 0 and 1, repsectively. Will be reversed when predicions are returned\n",
        "    regularization='+', # alpha (1e-4 in this case) is added to the diagonals of the kernal matrix\n",
        ")"
      ],
      "execution_count": 30,
      "outputs": []
    },
    {
      "cell_type": "code",
      "metadata": {
        "id": "0JIdwDYYUbE4",
        "colab": {
          "base_uri": "https://localhost:8080/"
        },
        "outputId": "985cff28-ddb2-4e0e-854d-dc9bcf355e81"
      },
      "source": [
        "gpr_base.fit(train.graphs, train[target], repeat=3, verbose=True)"
      ],
      "execution_count": 31,
      "outputs": [
        {
          "output_type": "stream",
          "text": [
            "|        logP|       dlogP|     y^T.K.y|     log|K| |     Cond(K)|  GPU time|  CPU time|\n",
            "|------------|------------|------------|------------|------------|----------|----------|\n",
            "|  2.8725e+06|  2.4458e+07|  2.8798e+06|     -7290.9|  8.7024e+06|        22|      0.25|\n",
            "|  1.9315e+06|  2.0707e+07|  1.9382e+06|     -6742.8|  8.0237e+06|        20|      0.24|\n",
            "|  1.2905e+06|  1.5706e+07|  1.2968e+06|     -6252.2|  7.0835e+06|        19|      0.25|\n",
            "|  1.0061e+06|  1.2309e+07|  1.0121e+06|     -5971.8|  6.4171e+06|        18|      0.24|\n",
            "|  8.2557e+05|  9.7267e+06|  8.3132e+05|     -5755.4|  5.8209e+06|        17|      0.23|\n",
            "|  7.1178e+05|  8.0789e+06|  7.1737e+05|     -5588.8|  5.3655e+06|        17|      0.25|\n",
            "|  6.4897e+05|  7.1031e+06|  6.5446e+05|     -5488.6|  5.0424e+06|        17|      0.24|\n",
            "|  6.2995e+05|   7.043e+06|  6.3539e+05|     -5435.7|  4.9627e+06|        17|      0.24|\n",
            "|  6.1001e+05|  6.6424e+06|  6.1542e+05|     -5413.2|  4.8439e+06|        17|      0.24|\n",
            "|   6.055e+05|  6.5416e+06|  6.1091e+05|     -5407.7|  4.7988e+06|        16|      0.24|\n",
            "|  6.0285e+05|  6.4988e+06|  6.0825e+05|     -5402.9|  4.7885e+06|        16|      0.24|\n",
            "|  6.0601e+05|  6.6651e+06|   6.114e+05|     -5395.9|  4.8317e+06|        17|      0.25|\n",
            "|  6.0087e+05|  6.5216e+06|  6.0626e+05|     -5395.1|  4.7916e+06|        17|      0.24|\n",
            "|  5.9979e+05|  6.4968e+06|  6.0518e+05|     -5393.3|  4.7859e+06|        17|      0.24|\n",
            "|  5.9795e+05|  6.4537e+06|  6.0334e+05|     -5390.4|  4.7776e+06|        17|      0.26|\n",
            "|  5.9632e+05|   6.417e+06|  6.0171e+05|     -5388.7|  4.7579e+06|        16|      0.23|\n",
            "|  5.9535e+05|  6.4032e+06|  6.0074e+05|     -5387.3|  4.7491e+06|        16|      0.25|\n",
            "|  5.9515e+05|  6.4246e+06|  6.0054e+05|     -5386.3|  4.7503e+06|        17|      0.24|\n",
            "|  5.9519e+05|  6.4222e+06|  6.0058e+05|     -5386.6|  4.7481e+06|        17|      0.25|\n",
            "|  5.9528e+05|  6.4269e+06|  6.0067e+05|     -5386.3|  4.7487e+06|        17|      0.25|\n",
            "|  5.9518e+05|  6.4251e+06|  6.0056e+05|     -5386.3|   4.747e+06|        17|      0.24|\n",
            "|  5.9522e+05|  6.4263e+06|  6.0061e+05|     -5386.3|   4.748e+06|        17|      0.24|\n",
            "|  5.9521e+05|  6.4261e+06|   6.006e+05|     -5386.3|  4.7459e+06|        17|      0.24|\n",
            "|  5.9521e+05|  6.4263e+06|   6.006e+05|     -5386.3|  4.7474e+06|        17|      0.25|\n",
            "|  5.9516e+05|  6.4253e+06|  6.0055e+05|     -5386.2|  4.7489e+06|        17|      0.25|\n",
            "|        logP|       dlogP|     y^T.K.y|     log|K| |     Cond(K)|  GPU time|  CPU time|\n",
            "|------------|------------|------------|------------|------------|----------|----------|\n",
            "|  1.7413e+06|  2.1782e+07|   1.748e+06|       -6644|  7.5158e+06|        20|      0.24|\n",
            "|  1.3451e+06|  1.6773e+07|  1.3514e+06|     -6332.3|  6.9251e+06|        19|      0.25|\n",
            "|   1.033e+06|  1.3306e+07|  1.0391e+06|     -6026.9|  6.3155e+06|        19|      0.24|\n",
            "|  7.9866e+05|  1.0452e+07|  8.0437e+05|     -5717.2|  5.7392e+06|        19|      0.26|\n",
            "|  6.9752e+05|  8.1836e+06|  7.0309e+05|     -5576.4|   5.318e+06|        17|      0.26|\n",
            "|  6.4289e+05|   7.195e+06|  6.4837e+05|     -5481.7|  5.0649e+06|        17|      0.23|\n",
            "|   6.153e+05|  6.7608e+06|  6.2073e+05|     -5430.1|  4.8862e+06|        17|      0.24|\n",
            "|  6.1229e+05|  6.6746e+06|  6.1772e+05|     -5421.4|  4.8115e+06|        16|      0.24|\n",
            "|  5.9982e+05|  6.4991e+06|  6.0522e+05|     -5399.3|  4.7705e+06|        16|      0.23|\n",
            "|  5.9655e+05|  6.4385e+06|  6.0194e+05|     -5390.8|  4.7638e+06|        17|      0.23|\n",
            "|  5.9622e+05|  6.4295e+06|  6.0161e+05|       -5390|  4.7603e+06|        16|      0.25|\n",
            "|  5.9531e+05|  6.4019e+06|   6.007e+05|     -5388.4|  4.7574e+06|        16|      0.26|\n",
            "|  5.9498e+05|  6.3961e+06|  6.0037e+05|     -5387.3|  4.7535e+06|        16|      0.25|\n",
            "|  5.9726e+05|  6.5117e+06|  6.0264e+05|     -5385.9|  4.7837e+06|        17|      0.24|\n",
            "|  5.9475e+05|  6.4136e+06|  6.0013e+05|     -5385.8|  4.7581e+06|        17|      0.24|\n",
            "|  5.9453e+05|   6.402e+06|  5.9992e+05|       -5386|  4.7582e+06|        16|      0.24|\n",
            "|  5.9439e+05|   6.409e+06|  5.9978e+05|     -5385.3|  4.7563e+06|        17|      0.24|\n",
            "|  5.9419e+05|  6.4005e+06|  5.9957e+05|     -5385.6|  4.7549e+06|        17|      0.25|\n",
            "|  5.9386e+05|  6.3824e+06|  5.9925e+05|     -5386.6|  4.7468e+06|        16|      0.25|\n",
            "|  5.9362e+05|  6.3753e+06|  5.9901e+05|     -5386.7|  4.7493e+06|        16|      0.24|\n",
            "|  5.9322e+05|  6.3676e+06|  5.9861e+05|     -5387.2|  4.7601e+06|        16|      0.25|\n",
            "|  5.9311e+05|   6.373e+06|  5.9849e+05|     -5386.5|  4.7591e+06|        16|      0.26|\n",
            "|  5.9318e+05|  6.3877e+06|  5.9857e+05|     -5385.4|  4.7644e+06|        17|      0.25|\n",
            "|  5.9334e+05|  6.3815e+06|  5.9873e+05|     -5386.2|  4.7579e+06|        16|      0.23|\n",
            "|  5.9312e+05|  6.3728e+06|  5.9851e+05|     -5386.5|  4.7571e+06|        16|      0.25|\n",
            "|  5.9326e+05|  6.3759e+06|  5.9864e+05|     -5386.5|  4.7563e+06|        16|      0.25|\n",
            "|  5.9319e+05|  6.3747e+06|  5.9858e+05|     -5386.5|  4.7585e+06|        16|      0.24|\n",
            "|  5.9323e+05|  6.3755e+06|  5.9862e+05|     -5386.5|  4.7595e+06|        16|      0.25|\n",
            "|  5.9327e+05|  6.3764e+06|  5.9866e+05|     -5386.5|  4.7575e+06|        16|      0.24|\n",
            "|        logP|       dlogP|     y^T.K.y|     log|K| |     Cond(K)|  GPU time|  CPU time|\n",
            "|------------|------------|------------|------------|------------|----------|----------|\n",
            "|  3.4092e+06|  2.5343e+07|  3.4168e+06|     -7528.5|  8.7203e+06|        20|      0.24|\n",
            "|  2.2467e+06|  2.1995e+07|  2.2536e+06|     -6926.8|  8.0939e+06|        19|      0.25|\n",
            "|  1.4704e+06|  1.6957e+07|  1.4768e+06|     -6399.5|  7.2075e+06|        19|      0.24|\n",
            "|  1.1068e+06|  1.3411e+07|  1.1129e+06|     -6074.4|  6.5417e+06|        18|      0.23|\n",
            "|  8.6387e+05|  1.0661e+07|  8.6966e+05|     -5795.5|   5.954e+06|        18|      0.25|\n",
            "|  7.4225e+05|  8.8175e+06|  7.4788e+05|     -5630.3|  5.5341e+06|        18|      0.24|\n",
            "|  6.7235e+05|  7.6658e+06|  6.7787e+05|     -5526.8|  5.2141e+06|        17|      0.25|\n",
            "|  6.3387e+05|  7.1558e+06|  6.3932e+05|     -5448.8|  4.9899e+06|        17|      0.24|\n",
            "|  6.1335e+05|  6.7496e+06|  6.1877e+05|     -5423.9|  4.8814e+06|        17|      0.24|\n",
            "|  6.1076e+05|  6.7056e+06|  6.1618e+05|     -5418.4|   4.863e+06|        17|      0.25|\n",
            "|  6.0468e+05|  6.6012e+06|  6.1008e+05|     -5406.1|  4.8233e+06|        17|      0.23|\n",
            "|  5.9819e+05|  6.4569e+06|  6.0358e+05|     -5396.3|   4.775e+06|        17|      0.23|\n",
            "|   5.968e+05|  6.4322e+06|  6.0219e+05|     -5392.3|  4.7729e+06|        17|      0.24|\n",
            "|  5.9554e+05|    6.42e+06|  6.0093e+05|       -5389|  4.7546e+06|        17|      0.23|\n",
            "|  5.9516e+05|  6.4092e+06|  6.0054e+05|     -5386.2|  4.7716e+06|        17|      0.23|\n",
            "|  5.9485e+05|  6.4051e+06|  6.0024e+05|     -5386.6|  4.7631e+06|        17|      0.24|\n",
            "|  5.9451e+05|  6.4007e+06|   5.999e+05|       -5387|  4.7598e+06|        17|      0.25|\n",
            "|  5.9416e+05|  6.3958e+06|  5.9954e+05|       -5387|  4.7533e+06|        17|      0.25|\n",
            "|  5.9357e+05|  6.3871e+06|  5.9896e+05|     -5386.8|   4.753e+06|        17|      0.25|\n",
            "|  5.9331e+05|  6.3992e+06|   5.987e+05|     -5386.3|  4.7538e+06|        17|      0.24|\n",
            "|  5.9325e+05|  6.3912e+06|  5.9863e+05|     -5386.2|  4.7553e+06|        17|      0.26|\n",
            "|   5.931e+05|  6.3778e+06|  5.9848e+05|       -5386|  4.7619e+06|        16|      0.23|\n",
            "|   5.931e+05|  6.3773e+06|  5.9848e+05|     -5385.9|  4.7602e+06|        17|      0.24|\n",
            "|  5.9305e+05|  6.3763e+06|  5.9843e+05|       -5386|  4.7597e+06|        17|      0.24|\n",
            "|  5.9304e+05|  6.3762e+06|  5.9843e+05|       -5386|  4.7621e+06|        17|      0.24|\n",
            "|  5.9307e+05|   6.377e+06|  5.9846e+05|       -5386|  4.7615e+06|        16|      0.23|\n",
            "|  5.9304e+05|  6.3761e+06|  5.9843e+05|     -5385.9|  4.7637e+06|        17|      0.26|\n",
            "|  5.9299e+05|  6.3766e+06|  5.9838e+05|     -5385.9|  4.7612e+06|        17|      0.24|\n",
            "|  5.9306e+05|  6.3801e+06|  5.9844e+05|     -5385.9|  4.7599e+06|        17|      0.24|\n",
            "|  5.9295e+05|  6.3753e+06|  5.9834e+05|     -5385.9|  4.7634e+06|        16|      0.25|\n",
            "|  5.9296e+05|  6.3752e+06|  5.9834e+05|     -5385.9|  4.7608e+06|        17|      0.23|\n",
            "|  5.9309e+05|   6.378e+06|  5.9847e+05|     -5385.9|  4.7631e+06|        16|      0.24|\n",
            "Optimization result:\n",
            "      fun: 593087.1156402231\n",
            " hess_inv: <25x25 LbfgsInvHessProduct with dtype=float64>\n",
            "      jac: array([ 6.37396256e+02,  1.29403894e+02,  1.71592132e+01,  7.87202241e+02,\n",
            "        1.37346463e+04,  2.83923867e+02,  0.00000000e+00, -9.41929416e+01,\n",
            "        8.31120362e+01, -9.89697568e+02,  1.85028746e-02,  1.18859915e+02,\n",
            "        5.20268298e+01, -2.37801534e+02,  1.76013556e+04, -5.72112693e+01,\n",
            "        1.61763990e+03, -2.77147646e+02,  3.02784539e+03,  2.61391651e+02,\n",
            "        2.67337779e+02,  5.39630844e+01,  0.00000000e+00,  1.97901890e+01,\n",
            "        2.39186447e+02])\n",
            "  message: b'CONVERGENCE: REL_REDUCTION_OF_F_<=_FACTR*EPSMCH'\n",
            "     nfev: 32\n",
            "      nit: 25\n",
            "   status: 0\n",
            "  success: True\n",
            "        x: array([-9.21034037, -4.60517019, -2.30258509,  1.47773763, -2.30258509,\n",
            "       -4.60517019,  1.38836933, -3.83292358, -2.25417628,  2.30258509,\n",
            "       -1.84636793, -3.87778892, -2.30258509,  1.7180289 , -2.30258509,\n",
            "        1.52931263, -2.30258509,  2.15048481, -2.30258509, -0.16374951,\n",
            "       -2.30258509, -4.06382248, -0.19078879, -0.36875751, -2.30258509])\n"
          ],
          "name": "stdout"
        },
        {
          "output_type": "execute_result",
          "data": {
            "text/plain": [
              "<graphdot.model.gaussian_process.gpr.GaussianProcessRegressor at 0x7fa8f0b23690>"
            ]
          },
          "metadata": {
            "tags": []
          },
          "execution_count": 31
        }
      ]
    },
    {
      "cell_type": "code",
      "metadata": {
        "id": "0szVcBBnUkLZ"
      },
      "source": [
        "#gpr_base.kernel.hyperparameters"
      ],
      "execution_count": 32,
      "outputs": []
    },
    {
      "cell_type": "code",
      "metadata": {
        "id": "m0lr2XLkUmBm"
      },
      "source": [
        "mu = gpr_base.predict(train.graphs)"
      ],
      "execution_count": 34,
      "outputs": []
    },
    {
      "cell_type": "code",
      "metadata": {
        "colab": {
          "base_uri": "https://localhost:8080/",
          "height": 265
        },
        "id": "Ilq4FcWftNiq",
        "outputId": "7298fe82-3e4a-4fe7-e9a2-840a2bc0b50b"
      },
      "source": [
        "plt.scatter(train[target], mu)\n",
        "plt.plot(np.linspace(-9, 3), np.linspace(-9, 3), c = 'r')\n",
        "plt.xlim(-9, 3)\n",
        "plt.ylim(-9, 3)\n",
        "plt.show()"
      ],
      "execution_count": 47,
      "outputs": [
        {
          "output_type": "display_data",
          "data": {
            "image/png": "[encoded data removed]",
            "text/plain": [
              "<Figure size 432x288 with 1 Axes>"
            ]
          },
          "metadata": {
            "tags": [],
            "needs_background": "light"
          }
        }
      ]
    },
    {
      "cell_type": "code",
      "metadata": {
        "colab": {
          "base_uri": "https://localhost:8080/"
        },
        "id": "dPhqsXAstOCO",
        "outputId": "f04332f9-5dec-4b0d-a7aa-a28276468430"
      },
      "source": [
        "print('Training set')\n",
        "print('MAE:', np.mean(np.abs(train[target] - mu)))\n",
        "print('RMSE:', np.std(train[target] - mu))"
      ],
      "execution_count": 36,
      "outputs": [
        {
          "output_type": "stream",
          "text": [
            "Training set\n",
            "MAE: 0.1026528897885943\n",
            "RMSE: 0.1559697478035153\n"
          ],
          "name": "stdout"
        }
      ]
    },
    {
      "cell_type": "code",
      "metadata": {
        "id": "1C0SDiEztOe6"
      },
      "source": [
        "mu_test = gpr_base.predict(test.graphs)"
      ],
      "execution_count": 38,
      "outputs": []
    },
    {
      "cell_type": "code",
      "metadata": {
        "colab": {
          "base_uri": "https://localhost:8080/",
          "height": 265
        },
        "id": "it2phMkgUqI6",
        "outputId": "256990c3-cdc6-4cdb-d977-8505ed5f3712"
      },
      "source": [
        "plt.scatter(test[target], mu_test)\n",
        "plt.plot(np.linspace(-9, 3), np.linspace(-9, 3), c = 'r')\n",
        "plt.xlim(-9, 3)\n",
        "plt.ylim(-9, 3)\n",
        "plt.show()"
      ],
      "execution_count": 48,
      "outputs": [
        {
          "output_type": "display_data",
          "data": {
            "image/png": "[encoded data removed]",
            "text/plain": [
              "<Figure size 432x288 with 1 Axes>"
            ]
          },
          "metadata": {
            "tags": [],
            "needs_background": "light"
          }
        }
      ]
    },
    {
      "cell_type": "code",
      "metadata": {
        "colab": {
          "base_uri": "https://localhost:8080/"
        },
        "id": "ik4KZQYjUsqn",
        "outputId": "223c4f0e-cd07-484c-8e7d-07e561b7c501"
      },
      "source": [
        "print('Test set')\n",
        "print('MAE:', np.mean(np.abs(test[target] - mu_test)))\n",
        "print('RMSE:', np.std(test[target] - mu_test))"
      ],
      "execution_count": 40,
      "outputs": [
        {
          "output_type": "stream",
          "text": [
            "Test set\n",
            "MAE: 1.3984523944497356\n",
            "RMSE: 1.7902476214464011\n"
          ],
          "name": "stdout"
        }
      ]
    },
    {
      "cell_type": "markdown",
      "metadata": {
        "id": "790a5MVC_Bbf"
      },
      "source": [
        "### model2"
      ]
    },
    {
      "cell_type": "code",
      "metadata": {
        "id": "dbXG4V1veoS4"
      },
      "source": [
        "gpr2 = GaussianProcessRegressor(\n",
        "    kernel=Normalization(\n",
        "        MarginalizedGraphKernel(\n",
        "            node_kernel=uX.Additive(\n",
        "                aromatic=uX.Constant(0.5, (0.01, 10.0)) * uX.KroneckerDelta(0.5,(0.1, 0.9)),\n",
        "                atomic_number=uX.Constant(0.5, (0.01, 10.0)) * uX.KroneckerDelta(0.8,(0.1, 0.9)),\n",
        "                charge=uX.Constant(0.5, (0.01, 10.0)) * uX.SquareExponential(1.0),\n",
        "                chiral=uX.Constant(0.5, (0.01, 10.0)) * uX.KroneckerDelta(0.5,(0.1, 0.9)),\n",
        "                hcount=uX.Constant(0.5, (0.01, 10.0)) * uX.SquareExponential(1.0),\n",
        "                hybridization=uX.Constant(0.5, (0.01, 10.0)) * uX.KroneckerDelta(0.5,(0.1, 0.9)),\n",
        "                ring_list=uX.Constant(0.5, (0.01, 100.0)) * uX.Convolution(uX.KroneckerDelta(0.5,(0.1, 0.9)))\n",
        "            ).normalized,\n",
        "            edge_kernel=uX.Additive(\n",
        "                aromatic=uX.Constant(0.5, (0.01, 10.0)) * uX.KroneckerDelta(0.5,(0.1, 0.9)),\n",
        "                conjugated=uX.Constant(0.5, (0.01, 10.0)) * uX.KroneckerDelta(0.5,(0.1, 0.9)),\n",
        "                order=uX.Constant(0.5, (0.01, 10.0)) * uX.KroneckerDelta(0.8,(0.1, 0.9)),\n",
        "                ring_stereo=uX.Constant(0.5, (0.01, 10.0)) * uX.KroneckerDelta(0.8,(0.1, 0.9)),\n",
        "                stereo=uX.Constant(0.5, (0.01, 10.0)) * uX.KroneckerDelta(0.8,(0.1, 0.9))\n",
        "            ).normalized,\n",
        "            p=Uniform(1.0, p_bounds='fixed'),\n",
        "            q=0.05\n",
        "        )\n",
        "    ),\n",
        "    alpha=1e-5, #different from gpr in alpha where gpr's alpha is 1e-4\n",
        "    optimizer=True,\n",
        "    normalize_y=True,\n",
        "    regularization='+',\n",
        ")"
      ],
      "execution_count": 49,
      "outputs": []
    },
    {
      "cell_type": "code",
      "metadata": {
        "colab": {
          "base_uri": "https://localhost:8080/"
        },
        "id": "iKCgq4XuPyhr",
        "outputId": "d5cc92ff-fbfa-4670-e747-5cfbbbf4a19b"
      },
      "source": [
        "gpr2.fit(train.graphs, train[target], repeat=3, verbose=True)"
      ],
      "execution_count": 51,
      "outputs": [
        {
          "output_type": "stream",
          "text": [
            "|        logP|       dlogP|     y^T.K.y|     log|K| |     Cond(K)|  GPU time|  CPU time|\n",
            "|------------|------------|------------|------------|------------|----------|----------|\n",
            "|  3.9342e+06|  7.4014e+07|  3.9413e+06|     -7048.5|  4.2676e+07|        20|      0.25|\n",
            "|  2.5581e+06|  4.8127e+07|  2.5648e+06|     -6637.5|   3.185e+07|        19|      0.26|\n",
            "|  1.9651e+06|  3.6386e+07|  1.9715e+06|     -6391.2|  2.5862e+07|        19|      0.25|\n",
            "|  1.4839e+06|  2.6275e+07|  1.4901e+06|     -6132.7|  2.0389e+07|        19|      0.25|\n",
            "|  1.1925e+06|  1.9644e+07|  1.1985e+06|     -5931.7|  1.6716e+07|        18|      0.25|\n",
            "|  9.9823e+05|  1.5219e+07|   1.004e+06|     -5762.3|  1.4068e+07|        17|      0.25|\n",
            "|   8.735e+05|  1.2618e+07|  8.7912e+05|     -5627.6|  1.2412e+07|        17|      0.25|\n",
            "|   8.215e+05|  1.1223e+07|  8.2708e+05|     -5576.1|  1.1158e+07|        16|      0.25|\n",
            "|  7.7928e+05|  1.0614e+07|  7.8479e+05|     -5517.2|   1.082e+07|        17|      0.25|\n",
            "|  7.6384e+05|  1.0397e+07|  7.6934e+05|     -5493.1|  1.0717e+07|        17|      0.25|\n",
            "|  7.5683e+05|  1.0246e+07|  7.6232e+05|     -5483.1|  1.0625e+07|        17|      0.26|\n",
            "|  7.8307e+05|  1.0957e+07|  7.8857e+05|     -5492.5|  1.1369e+07|        17|      0.25|\n",
            "|  7.5592e+05|  1.0264e+07|   7.614e+05|       -5479|  1.0686e+07|        17|      0.26|\n",
            "|  7.5278e+05|  1.0169e+07|  7.5826e+05|     -5475.4|  1.0618e+07|        17|      0.26|\n",
            "|  7.5039e+05|  1.0088e+07|  7.5587e+05|     -5472.2|  1.0571e+07|        17|      0.25|\n",
            "|  7.4793e+05|  1.0005e+07|   7.534e+05|     -5470.1|  1.0495e+07|        16|      0.27|\n",
            "|  7.4681e+05|  9.9805e+06|  7.5228e+05|     -5468.4|  1.0454e+07|        16|      0.25|\n",
            "|  7.4544e+05|  9.9933e+06|   7.509e+05|     -5465.7|  1.0403e+07|        17|      0.25|\n",
            "|  7.4519e+05|  9.9849e+06|  7.5065e+05|     -5466.5|  1.0374e+07|        16|      0.25|\n",
            "|  7.4522e+05|  9.9838e+06|  7.5069e+05|     -5466.8|  1.0376e+07|        17|      0.27|\n",
            "|  7.4542e+05|   9.991e+06|  7.5089e+05|     -5466.6|  1.0371e+07|        17|      0.25|\n",
            "|  7.4539e+05|  9.9914e+06|  7.5086e+05|     -5466.5|  1.0373e+07|        17|      0.27|\n",
            "|  7.4543e+05|  9.9918e+06|   7.509e+05|     -5466.5|  1.0368e+07|        16|      0.25|\n",
            "|   7.451e+05|  9.9824e+06|  7.5057e+05|     -5466.5|  1.0392e+07|        16|      0.27|\n",
            "|  7.4524e+05|  9.9871e+06|   7.507e+05|     -5466.5|   1.037e+07|        17|      0.27|\n",
            "|  7.4525e+05|  9.9861e+06|  7.5072e+05|     -5466.5|  1.0386e+07|        17|      0.27|\n",
            "|        logP|       dlogP|     y^T.K.y|     log|K| |     Cond(K)|  GPU time|  CPU time|\n",
            "|------------|------------|------------|------------|------------|----------|----------|\n",
            "|  2.2754e+06|  4.0939e+07|   2.282e+06|     -6573.6|    2.42e+07|        18|      0.25|\n",
            "|  1.7565e+06|  3.1259e+07|  1.7628e+06|     -6332.7|  2.0381e+07|        18|      0.24|\n",
            "|  1.2573e+06|   2.224e+07|  1.2633e+06|       -6009|  1.6215e+07|        19|      0.25|\n",
            "|    1.05e+06|  1.7608e+07|  1.0558e+06|     -5820.4|  1.4598e+07|        18|      0.25|\n",
            "|  8.9771e+05|  1.3272e+07|  9.0338e+05|     -5669.2|  1.2572e+07|        17|      0.27|\n",
            "|  8.1417e+05|  1.1552e+07|  8.1973e+05|     -5559.9|  1.1683e+07|        17|      0.25|\n",
            "|  7.8461e+05|  1.0854e+07|  7.9014e+05|     -5523.1|  1.1122e+07|        17|      0.26|\n",
            "|  7.6515e+05|  1.0363e+07|  7.7064e+05|     -5496.3|  1.0598e+07|        17|      0.26|\n",
            "|   7.549e+05|  1.0202e+07|  7.6038e+05|     -5480.5|  1.0455e+07|        17|      0.27|\n",
            "|  7.5113e+05|   1.013e+07|   7.566e+05|     -5473.3|  1.0408e+07|        17|      0.25|\n",
            "|  7.4842e+05|   1.001e+07|  7.5389e+05|     -5468.3|  1.0405e+07|        16|      0.25|\n",
            "|  7.4817e+05|  1.0021e+07|  7.5363e+05|     -5467.8|  1.0392e+07|        16|      0.27|\n",
            "|  7.4743e+05|  1.0028e+07|   7.529e+05|     -5467.3|  1.0359e+07|        17|      0.26|\n",
            "|  7.4775e+05|   1.007e+07|  7.5321e+05|     -5465.8|   1.042e+07|        17|      0.26|\n",
            "|  7.4729e+05|  1.0032e+07|  7.5276e+05|     -5466.8|  1.0374e+07|        17|      0.26|\n",
            "|  7.4778e+05|  1.0071e+07|  7.5325e+05|       -5466|  1.0404e+07|        17|      0.26|\n",
            "|  7.4737e+05|  1.0035e+07|  7.5284e+05|     -5466.8|  1.0383e+07|        17|      0.26|\n",
            "|  7.4755e+05|  1.0041e+07|  7.5301e+05|     -5466.8|  1.0372e+07|        17|      0.25|\n",
            "|  7.4755e+05|   1.004e+07|  7.5302e+05|     -5466.8|  1.0377e+07|        17|      0.26|\n",
            "|   7.475e+05|  1.0039e+07|  7.5297e+05|     -5466.8|   1.037e+07|        17|      0.25|\n",
            "|  7.4752e+05|  1.0039e+07|  7.5298e+05|     -5466.8|  1.0365e+07|        16|      0.26|\n",
            "|        logP|       dlogP|     y^T.K.y|     log|K| |     Cond(K)|  GPU time|  CPU time|\n",
            "|------------|------------|------------|------------|------------|----------|----------|\n",
            "|  5.5724e+06|  1.0057e+08|  5.5798e+06|     -7408.4|  5.0139e+07|        19|      0.24|\n",
            "|  3.3661e+06|  6.0838e+07|   3.373e+06|     -6905.1|  3.6581e+07|        19|      0.24|\n",
            "|  2.6218e+06|  4.7142e+07|  2.6285e+06|     -6665.4|  3.0491e+07|        18|      0.24|\n",
            "|  1.8232e+06|  3.1903e+07|  1.8296e+06|     -6322.8|  2.3196e+07|        18|      0.27|\n",
            "|  1.4038e+06|  2.3742e+07|  1.4099e+06|     -6073.7|  1.9114e+07|        18|      0.25|\n",
            "|   1.145e+06|  1.8596e+07|  1.1509e+06|     -5877.2|  1.6369e+07|        18|      0.24|\n",
            "|   9.735e+05|  1.4838e+07|  9.7923e+05|     -5727.6|  1.4079e+07|        17|      0.24|\n",
            "|  8.7366e+05|  1.2752e+07|  8.7928e+05|     -5625.4|  1.2581e+07|        17|      0.24|\n",
            "|  8.0328e+05|  1.1112e+07|  8.0883e+05|     -5549.3|  1.1228e+07|        17|      0.24|\n",
            "|  7.8049e+05|  1.0893e+07|  7.8599e+05|     -5501.9|  1.1205e+07|        17|      0.26|\n",
            "|  7.7098e+05|  1.0617e+07|  7.7648e+05|     -5498.4|  1.0918e+07|        17|      0.25|\n",
            "|  7.6746e+05|  1.0503e+07|  7.7296e+05|       -5497|  1.0782e+07|        17|      0.28|\n",
            "|  7.6154e+05|  1.0323e+07|  7.6703e+05|       -5492|  1.0603e+07|        17|      0.25|\n",
            "|  7.5364e+05|  1.0183e+07|  7.5912e+05|     -5479.7|  1.0515e+07|        17|      0.25|\n",
            "|  7.4872e+05|  1.0065e+07|  7.5419e+05|     -5471.1|   1.047e+07|        17|      0.24|\n",
            "|  7.4729e+05|  1.0013e+07|  7.5276e+05|     -5469.1|  1.0422e+07|        17|      0.25|\n",
            "|  7.4597e+05|  9.9721e+06|  7.5143e+05|     -5467.8|  1.0406e+07|        16|      0.24|\n",
            "|  7.4535e+05|   9.987e+06|  7.5081e+05|     -5465.9|  1.0431e+07|        16|      0.24|\n",
            "|  7.4442e+05|  9.9833e+06|  7.4989e+05|     -5465.8|  1.0408e+07|        17|      0.25|\n",
            "|  7.4428e+05|  9.9827e+06|  7.4975e+05|     -5466.5|  1.0397e+07|        17|      0.24|\n",
            "|  7.4425e+05|  9.9819e+06|  7.4972e+05|     -5466.9|  1.0382e+07|        16|      0.24|\n",
            "|  7.4408e+05|   9.975e+06|  7.4955e+05|       -5467|  1.0385e+07|        16|      0.24|\n",
            "|  7.4382e+05|  9.9587e+06|  7.4928e+05|       -5467|  1.0402e+07|        17|      0.25|\n",
            "|  7.4399e+05|  9.9658e+06|  7.4946e+05|     -5466.8|   1.041e+07|        16|      0.24|\n",
            "|   7.442e+05|   9.971e+06|  7.4967e+05|       -5467|  1.0428e+07|        17|      0.26|\n",
            "|   7.442e+05|  9.9718e+06|  7.4967e+05|       -5467|  1.0405e+07|        17|      0.26|\n",
            "|   7.438e+05|  9.9587e+06|  7.4927e+05|       -5467|  1.0409e+07|        16|      0.26|\n",
            "|  7.4399e+05|   9.964e+06|  7.4946e+05|       -5467|  1.0401e+07|        17|      0.26|\n",
            "|  7.4412e+05|  9.9681e+06|  7.4959e+05|       -5467|  1.0399e+07|        16|      0.25|\n",
            "Optimization result:\n",
            "      fun: 744121.6320021643\n",
            " hess_inv: <25x25 LbfgsInvHessProduct with dtype=float64>\n",
            "      jac: array([ 9.96227102e+02,  2.00432837e+02,  2.60510180e+01, -5.48958596e+02,\n",
            "        2.06815585e+04,  4.34825299e+02,  0.00000000e+00, -3.24741237e+02,\n",
            "        1.95474293e+02,  1.10656164e+03,  0.00000000e+00,  1.22750805e+02,\n",
            "        6.73673262e+01, -1.00813058e+03,  2.60017795e+04, -2.51396161e+01,\n",
            "        2.21848468e+03, -5.02235333e+02,  4.39914545e+03,  6.69241667e+01,\n",
            "        3.26864116e+02,  7.34901570e+01,  0.00000000e+00,  3.90059610e+02,\n",
            "        3.90397116e+02])\n",
            "  message: b'CONVERGENCE: REL_REDUCTION_OF_F_<=_FACTR*EPSMCH'\n",
            "     nfev: 29\n",
            "      nit: 23\n",
            "   status: 0\n",
            "  success: True\n",
            "        x: array([-9.21034037, -4.60517019, -2.30258509,  1.45132733, -2.30258509,\n",
            "       -4.60517019,  1.38836933, -3.41134142, -2.30258509,  2.29909486,\n",
            "       -6.69419395, -4.08788863, -2.30258509,  1.6789475 , -2.30258509,\n",
            "        1.54064497, -2.30258509,  2.21314656, -2.30258509, -0.35101412,\n",
            "       -2.30258509, -4.06327129, -0.19078879, -0.09102722, -2.30258509])\n"
          ],
          "name": "stdout"
        },
        {
          "output_type": "execute_result",
          "data": {
            "text/plain": [
              "<graphdot.model.gaussian_process.gpr.GaussianProcessRegressor at 0x7fa8dbae75d0>"
            ]
          },
          "metadata": {
            "tags": []
          },
          "execution_count": 51
        }
      ]
    },
    {
      "cell_type": "code",
      "metadata": {
        "colab": {
          "base_uri": "https://localhost:8080/",
          "height": 265
        },
        "id": "PG-GAPabPzHV",
        "outputId": "ae6ffdd3-728f-4df2-fd73-3c045eb88c19"
      },
      "source": [
        "mu = gpr2.predict(train.graphs)\n",
        "plt.scatter(train[target], mu)\n",
        "#plt.plot(np.linspace(-9, 3), np.linspace(-9, 3), c = 'r')\n",
        "#plt.xlim(-9, 3)\n",
        "#plt.ylim(-9, 3)\n",
        "plt.show()"
      ],
      "execution_count": 52,
      "outputs": [
        {
          "output_type": "display_data",
          "data": {
            "image/png": "[encoded data removed]",
            "text/plain": [
              "<Figure size 432x288 with 1 Axes>"
            ]
          },
          "metadata": {
            "tags": [],
            "needs_background": "light"
          }
        }
      ]
    },
    {
      "cell_type": "code",
      "metadata": {
        "colab": {
          "base_uri": "https://localhost:8080/"
        },
        "id": "J20m1x90Pzg9",
        "outputId": "493b5267-76b8-4ccc-ab4e-2eb86d5fd8a3"
      },
      "source": [
        "print('Training set')\n",
        "print('MAE:', np.mean(np.abs(train[target] - mu)))\n",
        "print('RMSE:', np.std(train[target] - mu))"
      ],
      "execution_count": 53,
      "outputs": [
        {
          "output_type": "stream",
          "text": [
            "Training set\n",
            "MAE: 0.01420440124959926\n",
            "RMSE: 0.021649804308151027\n"
          ],
          "name": "stdout"
        }
      ]
    },
    {
      "cell_type": "code",
      "metadata": {
        "colab": {
          "base_uri": "https://localhost:8080/",
          "height": 265
        },
        "id": "rCh-Z2pqPz3S",
        "outputId": "863813cc-a893-46c7-d81c-1efdf12e28d3"
      },
      "source": [
        "mu_test = gpr2.predict(test.graphs)\n",
        "plt.scatter(test[target], mu_test)\n",
        "plt.show()"
      ],
      "execution_count": 54,
      "outputs": [
        {
          "output_type": "display_data",
          "data": {
            "image/png": "[encoded data removed]",
            "text/plain": [
              "<Figure size 432x288 with 1 Axes>"
            ]
          },
          "metadata": {
            "tags": [],
            "needs_background": "light"
          }
        }
      ]
    },
    {
      "cell_type": "code",
      "metadata": {
        "colab": {
          "base_uri": "https://localhost:8080/"
        },
        "id": "UYakiu41QMsp",
        "outputId": "cc1b39bd-eaf8-48c6-c3e0-1c191cfbfe94"
      },
      "source": [
        "print('Test set')\n",
        "print('MAE:', np.mean(np.abs(test[target] - mu_test)))\n",
        "print('RMSE:', np.std(test[target] - mu_test))"
      ],
      "execution_count": 55,
      "outputs": [
        {
          "output_type": "stream",
          "text": [
            "Test set\n",
            "MAE: 1.517212238428167\n",
            "RMSE: 1.943288841802438\n"
          ],
          "name": "stdout"
        }
      ]
    },
    {
      "cell_type": "code",
      "metadata": {
        "id": "1vpM7VVXJd9q"
      },
      "source": [
        ""
      ],
      "execution_count": null,
      "outputs": []
    }
  ]
}