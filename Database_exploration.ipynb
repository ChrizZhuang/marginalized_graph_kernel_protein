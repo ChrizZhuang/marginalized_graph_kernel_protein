{
  "nbformat": 4,
  "nbformat_minor": 0,
  "metadata": {
    "colab": {
      "name": "Database_exploration.ipynb",
      "provenance": [],
      "authorship_tag": "ABX9TyOvrnAefJKJSdC9fGe6Fi6X",
      "include_colab_link": true
    },
    "kernelspec": {
      "name": "python3",
      "display_name": "Python 3"
    },
    "language_info": {
      "name": "python"
    },
    "accelerator": "GPU"
  },
  "cells": [
    {
      "cell_type": "markdown",
      "metadata": {
        "id": "view-in-github",
        "colab_type": "text"
      },
      "source": [
        "<a href=\"https://colab.research.google.com/github/ChrizZhuang/marginalized_graph_kernel_protein/blob/main/Database_exploration.ipynb\" target=\"_parent\"><img src=\"https://colab.research.google.com/assets/colab-badge.svg\" alt=\"Open In Colab\"/></a>"
      ]
    },
    {
      "cell_type": "code",
      "metadata": {
        "colab": {
          "base_uri": "https://localhost:8080/"
        },
        "id": "YoCY6Bk0dmLP",
        "outputId": "4e5c6b31-a1fc-495e-e387-0d6e48914b8e"
      },
      "source": [
        "!nvidia-smi"
      ],
      "execution_count": 1,
      "outputs": [
        {
          "output_type": "stream",
          "text": [
            "Mon Jun  7 07:54:36 2021       \n",
            "+-----------------------------------------------------------------------------+\n",
            "| NVIDIA-SMI 465.27       Driver Version: 460.32.03    CUDA Version: 11.2     |\n",
            "|-------------------------------+----------------------+----------------------+\n",
            "| GPU  Name        Persistence-M| Bus-Id        Disp.A | Volatile Uncorr. ECC |\n",
            "| Fan  Temp  Perf  Pwr:Usage/Cap|         Memory-Usage | GPU-Util  Compute M. |\n",
            "|                               |                      |               MIG M. |\n",
            "|===============================+======================+======================|\n",
            "|   0  Tesla T4            Off  | 00000000:00:04.0 Off |                    0 |\n",
            "| N/A   65C    P8    11W /  70W |      0MiB / 15109MiB |      0%      Default |\n",
            "|                               |                      |                  N/A |\n",
            "+-------------------------------+----------------------+----------------------+\n",
            "                                                                               \n",
            "+-----------------------------------------------------------------------------+\n",
            "| Processes:                                                                  |\n",
            "|  GPU   GI   CI        PID   Type   Process name                  GPU Memory |\n",
            "|        ID   ID                                                   Usage      |\n",
            "|=============================================================================|\n",
            "|  No running processes found                                                 |\n",
            "+-----------------------------------------------------------------------------+\n"
          ],
          "name": "stdout"
        }
      ]
    },
    {
      "cell_type": "code",
      "metadata": {
        "id": "hwevsYaVd2zG"
      },
      "source": [
        "%matplotlib inline\n",
        "import io\n",
        "import sys\n",
        "sys.path.append('/usr/local/lib/python3.6/site-packages/')\n",
        "import os\n",
        "import urllib\n",
        "import numpy as np\n",
        "import pandas as pd\n",
        "import matplotlib.pyplot as plt\n",
        "import ase.io\n",
        "# for getting all file names into a list under a directory \n",
        "from os import listdir\n",
        "from os.path import isfile, join"
      ],
      "execution_count": 3,
      "outputs": []
    },
    {
      "cell_type": "code",
      "metadata": {
        "colab": {
          "base_uri": "https://localhost:8080/"
        },
        "id": "d0ORPKy9d8o8",
        "outputId": "6c186266-cd7a-43c6-eca0-8ea22c70e721"
      },
      "source": [
        "from google.colab import drive\n",
        "drive.mount('/content/gdrive', force_remount=True)"
      ],
      "execution_count": 4,
      "outputs": [
        {
          "output_type": "stream",
          "text": [
            "Mounted at /content/gdrive\n"
          ],
          "name": "stdout"
        }
      ]
    },
    {
      "cell_type": "code",
      "metadata": {
        "colab": {
          "base_uri": "https://localhost:8080/"
        },
        "id": "OrpsxFcZd-og",
        "outputId": "13944cf9-50ba-4314-ffdb-ea4ccf9f7f85"
      },
      "source": [
        "%cd gdrive/MyDrive/Covid-Data/"
      ],
      "execution_count": 5,
      "outputs": [
        {
          "output_type": "stream",
          "text": [
            "/content/gdrive/.shortcut-targets-by-id/1wtzMcocuK8kPsz8K0ktjCZPkv567W6M2/Covid-Data\n"
          ],
          "name": "stdout"
        }
      ]
    },
    {
      "cell_type": "code",
      "metadata": {
        "colab": {
          "base_uri": "https://localhost:8080/"
        },
        "id": "9FnV2Zu3d_nr",
        "outputId": "642297cd-9e32-4cc9-83e7-0ee61104fd5a"
      },
      "source": [
        "!pwd"
      ],
      "execution_count": 6,
      "outputs": [
        {
          "output_type": "stream",
          "text": [
            "/content/gdrive/.shortcut-targets-by-id/1wtzMcocuK8kPsz8K0ktjCZPkv567W6M2/Covid-Data\n"
          ],
          "name": "stdout"
        }
      ]
    },
    {
      "cell_type": "code",
      "metadata": {
        "colab": {
          "base_uri": "https://localhost:8080/"
        },
        "id": "9GHcTkwdeIHr",
        "outputId": "77167ea4-0bf2-48d1-f227-6f34b08a35a9"
      },
      "source": [
        "files  = [f for f in listdir('/content/gdrive/.shortcut-targets-by-id/1wtzMcocuK8kPsz8K0ktjCZPkv567W6M2/Covid-Data')]\n",
        "print(len(files))"
      ],
      "execution_count": 15,
      "outputs": [
        {
          "output_type": "stream",
          "text": [
            "606\n"
          ],
          "name": "stdout"
        }
      ]
    },
    {
      "cell_type": "code",
      "metadata": {
        "colab": {
          "base_uri": "https://localhost:8080/",
          "height": 204
        },
        "id": "2BeNlAntgIxT",
        "outputId": "fa60f98b-5422-44f0-9424-3ac9a39e6937"
      },
      "source": [
        "dataset = pd.read_pickle(files[1])\n",
        "dataset.head()"
      ],
      "execution_count": 17,
      "outputs": [
        {
          "output_type": "execute_result",
          "data": {
            "text/html": [
              "<div>\n",
              "<style scoped>\n",
              "    .dataframe tbody tr th:only-of-type {\n",
              "        vertical-align: middle;\n",
              "    }\n",
              "\n",
              "    .dataframe tbody tr th {\n",
              "        vertical-align: top;\n",
              "    }\n",
              "\n",
              "    .dataframe thead th {\n",
              "        text-align: right;\n",
              "    }\n",
              "</style>\n",
              "<table border=\"1\" class=\"dataframe\">\n",
              "  <thead>\n",
              "    <tr style=\"text-align: right;\">\n",
              "      <th></th>\n",
              "      <th>energy</th>\n",
              "      <th>smiles</th>\n",
              "      <th>graphs</th>\n",
              "    </tr>\n",
              "  </thead>\n",
              "  <tbody>\n",
              "    <tr>\n",
              "      <th>0</th>\n",
              "      <td>-10.603662</td>\n",
              "      <td>c1ccc2c(c1)ccc(c2/C=N\\NS(=O)(=O)c3cc(c(cc3Cl)C...</td>\n",
              "      <td>Graph(nodes={'!i': [ 0, 1, 2, 3, 4, 5, 6, 7, 8...</td>\n",
              "    </tr>\n",
              "    <tr>\n",
              "      <th>1</th>\n",
              "      <td>-9.813911</td>\n",
              "      <td>c1ccc(c(c1)CN2C(=O)/C(=C\\c3ccc4c(c3)OCCO4)/NC2...</td>\n",
              "      <td>Graph(nodes={'!i': [ 0, 1, 2, 3, 4, 5, 6, 7, 8...</td>\n",
              "    </tr>\n",
              "    <tr>\n",
              "      <th>2</th>\n",
              "      <td>-8.984686</td>\n",
              "      <td>Cc1c2c(nc(n1)C3CCN(CC3)C(=O)c4cnccn4)N(C(=O)CC...</td>\n",
              "      <td>Graph(nodes={'!i': [ 0, 1, 2, 3, 4, 5, 6, 7, 8...</td>\n",
              "    </tr>\n",
              "    <tr>\n",
              "      <th>3</th>\n",
              "      <td>-9.575027</td>\n",
              "      <td>CC[C@@H]1[C@@H]([C@@H]2[C@@H]1OCC2)NC(=O)c3ccc...</td>\n",
              "      <td>Graph(nodes={'!i': [ 0, 1, 2, 3, 4, 5, 6, 7, 8...</td>\n",
              "    </tr>\n",
              "    <tr>\n",
              "      <th>4</th>\n",
              "      <td>-7.119287</td>\n",
              "      <td>CCOC(=O)c1ccc(o1)CC(=C)Cl</td>\n",
              "      <td>Graph(nodes={'!i': [ 0, 1, 2, 3, 4, 5, 6, 7, 8...</td>\n",
              "    </tr>\n",
              "  </tbody>\n",
              "</table>\n",
              "</div>"
            ],
            "text/plain": [
              "      energy  ...                                             graphs\n",
              "0 -10.603662  ...  Graph(nodes={'!i': [ 0, 1, 2, 3, 4, 5, 6, 7, 8...\n",
              "1  -9.813911  ...  Graph(nodes={'!i': [ 0, 1, 2, 3, 4, 5, 6, 7, 8...\n",
              "2  -8.984686  ...  Graph(nodes={'!i': [ 0, 1, 2, 3, 4, 5, 6, 7, 8...\n",
              "3  -9.575027  ...  Graph(nodes={'!i': [ 0, 1, 2, 3, 4, 5, 6, 7, 8...\n",
              "4  -7.119287  ...  Graph(nodes={'!i': [ 0, 1, 2, 3, 4, 5, 6, 7, 8...\n",
              "\n",
              "[5 rows x 3 columns]"
            ]
          },
          "metadata": {
            "tags": []
          },
          "execution_count": 17
        }
      ]
    },
    {
      "cell_type": "code",
      "metadata": {
        "colab": {
          "base_uri": "https://localhost:8080/",
          "height": 204
        },
        "id": "ezYpobsKgTm_",
        "outputId": "a815ac09-f0d0-4cbd-b00d-12b486e68e6d"
      },
      "source": [
        "dataset = pd.read_pickle(files[178])\n",
        "dataset.head()"
      ],
      "execution_count": 18,
      "outputs": [
        {
          "output_type": "execute_result",
          "data": {
            "text/html": [
              "<div>\n",
              "<style scoped>\n",
              "    .dataframe tbody tr th:only-of-type {\n",
              "        vertical-align: middle;\n",
              "    }\n",
              "\n",
              "    .dataframe tbody tr th {\n",
              "        vertical-align: top;\n",
              "    }\n",
              "\n",
              "    .dataframe thead th {\n",
              "        text-align: right;\n",
              "    }\n",
              "</style>\n",
              "<table border=\"1\" class=\"dataframe\">\n",
              "  <thead>\n",
              "    <tr style=\"text-align: right;\">\n",
              "      <th></th>\n",
              "      <th>energy</th>\n",
              "      <th>smiles</th>\n",
              "      <th>graphs</th>\n",
              "    </tr>\n",
              "  </thead>\n",
              "  <tbody>\n",
              "    <tr>\n",
              "      <th>0</th>\n",
              "      <td>-8.107405</td>\n",
              "      <td>CCOC(=O)C1=C(NC(=O)N[C@H]1c2ccc(o2)c3ccccc3Br)C</td>\n",
              "      <td>Graph(nodes={'!i': [ 0, 1, 2, 3, 4, 5, 6, 7, 8...</td>\n",
              "    </tr>\n",
              "    <tr>\n",
              "      <th>1</th>\n",
              "      <td>-4.893141</td>\n",
              "      <td>CCn1c(=O)c2c(ncn2Cc3cccc(c3)C(F)(F)F)n(c1=O)c4...</td>\n",
              "      <td>Graph(nodes={'!i': [ 0, 1, 2, 3, 4, 5, 6, 7, 8...</td>\n",
              "    </tr>\n",
              "    <tr>\n",
              "      <th>2</th>\n",
              "      <td>-8.415310</td>\n",
              "      <td>CC[C@H](C)N1C(=O)/C(=C\\c2cc(c(c(c2)OC)O)CC=C)/...</td>\n",
              "      <td>Graph(nodes={'!i': [ 0, 1, 2, 3, 4, 5, 6, 7, 8...</td>\n",
              "    </tr>\n",
              "    <tr>\n",
              "      <th>3</th>\n",
              "      <td>-6.429757</td>\n",
              "      <td>Cc1c2ccc(cc2oc1C(=O)c3ccccc3)NC(=O)CCn4c(=O)cc...</td>\n",
              "      <td>Graph(nodes={'!i': [ 0, 1, 2, 3, 4, 5, 6, 7, 8...</td>\n",
              "    </tr>\n",
              "    <tr>\n",
              "      <th>4</th>\n",
              "      <td>-7.538500</td>\n",
              "      <td>c1cc(cc(c1)F)/C=C\\c2ccc3c(c2)[nH]c(c3C#N)N</td>\n",
              "      <td>Graph(nodes={'!i': [ 0, 1, 2, 3, 4, 5, 6, 7, 8...</td>\n",
              "    </tr>\n",
              "  </tbody>\n",
              "</table>\n",
              "</div>"
            ],
            "text/plain": [
              "     energy  ...                                             graphs\n",
              "0 -8.107405  ...  Graph(nodes={'!i': [ 0, 1, 2, 3, 4, 5, 6, 7, 8...\n",
              "1 -4.893141  ...  Graph(nodes={'!i': [ 0, 1, 2, 3, 4, 5, 6, 7, 8...\n",
              "2 -8.415310  ...  Graph(nodes={'!i': [ 0, 1, 2, 3, 4, 5, 6, 7, 8...\n",
              "3 -6.429757  ...  Graph(nodes={'!i': [ 0, 1, 2, 3, 4, 5, 6, 7, 8...\n",
              "4 -7.538500  ...  Graph(nodes={'!i': [ 0, 1, 2, 3, 4, 5, 6, 7, 8...\n",
              "\n",
              "[5 rows x 3 columns]"
            ]
          },
          "metadata": {
            "tags": []
          },
          "execution_count": 18
        }
      ]
    },
    {
      "cell_type": "code",
      "metadata": {
        "colab": {
          "base_uri": "https://localhost:8080/"
        },
        "id": "c-BLoIwJgyWH",
        "outputId": "0c03f919-dca3-4cc1-dfd2-c547199fd2f1"
      },
      "source": [
        "dataset.graphs.iloc[1]"
      ],
      "execution_count": 24,
      "outputs": [
        {
          "output_type": "execute_result",
          "data": {
            "text/plain": [
              "Graph(nodes={'!i': [ 0, 1, 2, 3, 4, 5, 6, 7, 8, 9,10,11,12,13,14,15,16,17,18,19,20,21,22,23,24,25,26,27,28,29,30], 'aromatic': [False,False, True, True,False, True, True, True, True, True,False, True, True, True, True, True, True,False,False,False,False, True, True,False, True, True, True, True, True, True,False], 'atomic_number': [6,6,7,6,8,6,6,7,6,7,6,6,6,6,6,6,6,6,9,9,9,7,6,8,6,6,6,6,6,6,6], 'charge': [0,0,0,0,0,0,0,0,0,0,0,0,0,0,0,0,0,0,0,0,0,0,0,0,0,0,0,0,0,0,0], 'chiral': [0,0,0,0,0,0,0,0,0,0,0,0,0,0,0,0,0,0,0,0,0,0,0,0,0,0,0,0,0,0,0], 'hcount': [3,2,0,0,0,0,0,0,1,0,2,0,1,1,1,0,1,0,0,0,0,0,0,0,0,1,1,0,1,1,3], 'hybridization': [4,4,3,3,3,3,3,3,3,3,4,3,3,3,3,3,3,4,4,4,4,3,3,3,3,3,3,3,3,3,4], 'ring_list': [list([0]),list([0]),list([6]),list([6]),list([0]),list([5, 6]),list([5, 6]),list([5]),list([5]),list([5]),list([0]),list([6]),list([6]),list([6]),list([6]),list([6]),list([6]),list([0]),list([0]),list([0]),list([0]),list([6]),list([6]),list([0]),list([6]),list([6]),list([6]),list([6]),list([6]),list([6]),list([0])]}, edges={'!i': [ 0, 1, 2, 2, 3, 3, 5, 5, 6, 6, 7, 8, 9,10,11,11,12,13,14,15,15,17,17,17,21,21,22,24,24,25,26,27,27,28], '!j': [ 1, 2, 3,22, 4, 5, 6, 9, 7,21, 8, 9,10,11,12,16,13,14,15,16,17,18,19,20,22,24,23,25,29,26,27,28,30,29], 'aromatic': [False,False, True, True,False, True, True, True, True, True, True, True,False,False, True, True, True, True, True, True,False,False,False,False, True,False,False, True, True, True, True, True,False, True], 'conjugated': [False,False, True, True, True, True, True, True, True, True, True, True,False,False, True, True, True, True, True, True,False,False,False,False, True, True, True, True, True, True, True, True,False, True], 'order': [1. ,1. ,1.5,1.5,2. ,1.5,1.5,1.5,1.5,1.5,1.5,1.5,1. ,1. ,1.5,1.5,1.5,1.5,1.5,1.5,1. ,1. ,1. ,1. ,1.5,1. ,2. ,1.5,1.5,1.5,1.5,1.5,1. ,1.5], 'ring_stereo': [0,0,0,0,0,0,0,0,0,0,0,0,0,0,0,0,0,0,0,0,0,0,0,0,0,0,0,0,0,0,0,0,0,0], 'stereo': [0,0,0,0,0,0,0,0,0,0,0,0,0,0,0,0,0,0,0,0,0,0,0,0,0,0,0,0,0,0,0,0,0,0]}, title='')"
            ]
          },
          "metadata": {
            "tags": []
          },
          "execution_count": 24
        }
      ]
    },
    {
      "cell_type": "code",
      "metadata": {
        "colab": {
          "base_uri": "https://localhost:8080/"
        },
        "id": "OOjnQWCTkOoO",
        "outputId": "515092f7-10b8-4628-8517-92009b5679c4"
      },
      "source": [
        "dataset.graphs.iloc[1].nodes.columns"
      ],
      "execution_count": 27,
      "outputs": [
        {
          "output_type": "execute_result",
          "data": {
            "text/plain": [
              "['!i',\n",
              " 'aromatic',\n",
              " 'atomic_number',\n",
              " 'charge',\n",
              " 'chiral',\n",
              " 'hcount',\n",
              " 'hybridization',\n",
              " 'ring_list']"
            ]
          },
          "metadata": {
            "tags": []
          },
          "execution_count": 27
        }
      ]
    },
    {
      "cell_type": "code",
      "metadata": {
        "colab": {
          "base_uri": "https://localhost:8080/"
        },
        "id": "PNYcpMTmrFoq",
        "outputId": "bc6e6562-ed87-4fa2-8a86-93b3330e4804"
      },
      "source": [
        "dataset.graphs.iloc[1].edges.columns"
      ],
      "execution_count": 28,
      "outputs": [
        {
          "output_type": "execute_result",
          "data": {
            "text/plain": [
              "['!i', '!j', 'aromatic', 'conjugated', 'order', 'ring_stereo', 'stereo']"
            ]
          },
          "metadata": {
            "tags": []
          },
          "execution_count": 28
        }
      ]
    },
    {
      "cell_type": "code",
      "metadata": {
        "id": "2Pr7YsPFriPp"
      },
      "source": [
        ""
      ],
      "execution_count": null,
      "outputs": []
    }
  ]
}