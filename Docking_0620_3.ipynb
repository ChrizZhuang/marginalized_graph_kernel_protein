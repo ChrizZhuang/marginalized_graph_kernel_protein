{
  "nbformat": 4,
  "nbformat_minor": 0,
  "metadata": {
    "accelerator": "GPU",
    "colab": {
      "name": "Docking.ipynb",
      "provenance": [],
      "collapsed_sections": [],
      "include_colab_link": true
    },
    "kernelspec": {
      "display_name": "Python 3",
      "name": "python3"
    }
  },
  "cells": [
    {
      "cell_type": "markdown",
      "metadata": {
        "id": "view-in-github",
        "colab_type": "text"
      },
      "source": [
        "<a href=\"https://colab.research.google.com/github/ChrizZhuang/marginalized_graph_kernel_protein/blob/main/Docking_0620_3.ipynb\" target=\"_parent\"><img src=\"https://colab.research.google.com/assets/colab-badge.svg\" alt=\"Open In Colab\"/></a>"
      ]
    },
    {
      "cell_type": "markdown",
      "metadata": {
        "id": "Hcs9MOjWgzly"
      },
      "source": [
        "## Set up the environment"
      ]
    },
    {
      "cell_type": "code",
      "metadata": {
        "colab": {
          "base_uri": "https://localhost:8080/"
        },
        "id": "E2uKipA7g95b",
        "outputId": "d17620ae-da96-4c91-bbe9-54f08f2d80f2"
      },
      "source": [
        "!nvidia-smi"
      ],
      "execution_count": 1,
      "outputs": [
        {
          "output_type": "stream",
          "text": [
            "Sun Jun 20 03:32:38 2021       \n",
            "+-----------------------------------------------------------------------------+\n",
            "| NVIDIA-SMI 465.27       Driver Version: 460.32.03    CUDA Version: 11.2     |\n",
            "|-------------------------------+----------------------+----------------------+\n",
            "| GPU  Name        Persistence-M| Bus-Id        Disp.A | Volatile Uncorr. ECC |\n",
            "| Fan  Temp  Perf  Pwr:Usage/Cap|         Memory-Usage | GPU-Util  Compute M. |\n",
            "|                               |                      |               MIG M. |\n",
            "|===============================+======================+======================|\n",
            "|   0  Tesla T4            Off  | 00000000:00:04.0 Off |                    0 |\n",
            "| N/A   42C    P8     9W /  70W |      0MiB / 15109MiB |      0%      Default |\n",
            "|                               |                      |                  N/A |\n",
            "+-------------------------------+----------------------+----------------------+\n",
            "                                                                               \n",
            "+-----------------------------------------------------------------------------+\n",
            "| Processes:                                                                  |\n",
            "|  GPU   GI   CI        PID   Type   Process name                  GPU Memory |\n",
            "|        ID   ID                                                   Usage      |\n",
            "|=============================================================================|\n",
            "|  No running processes found                                                 |\n",
            "+-----------------------------------------------------------------------------+\n"
          ],
          "name": "stdout"
        }
      ]
    },
    {
      "cell_type": "code",
      "metadata": {
        "colab": {
          "base_uri": "https://localhost:8080/"
        },
        "id": "XE6J0wDFGxnp",
        "outputId": "134c8cac-7d81-45fd-8cc6-a69d7f9417ac"
      },
      "source": [
        "#!pip install pymatgen==2020.12.31\n",
        "!pip install pymatgen==2019.11.11\n",
        "!pip install --pre graphdot\n",
        "!pip install gdown"
      ],
      "execution_count": 2,
      "outputs": [
        {
          "output_type": "stream",
          "text": [
            "Requirement already satisfied: pymatgen==2019.11.11 in /usr/local/lib/python3.7/dist-packages (2019.11.11)\n",
            "Requirement already satisfied: requests in /usr/local/lib/python3.7/dist-packages (from pymatgen==2019.11.11) (2.23.0)\n",
            "Requirement already satisfied: pydispatcher>=2.0.5 in /usr/local/lib/python3.7/dist-packages (from pymatgen==2019.11.11) (2.0.5)\n",
            "Requirement already satisfied: tabulate in /usr/local/lib/python3.7/dist-packages (from pymatgen==2019.11.11) (0.8.9)\n",
            "Requirement already satisfied: pandas in /usr/local/lib/python3.7/dist-packages (from pymatgen==2019.11.11) (1.1.5)\n",
            "Requirement already satisfied: palettable>=3.1.1 in /usr/local/lib/python3.7/dist-packages (from pymatgen==2019.11.11) (3.3.0)\n",
            "Requirement already satisfied: matplotlib>=1.5 in /usr/local/lib/python3.7/dist-packages (from pymatgen==2019.11.11) (3.2.2)\n",
            "Requirement already satisfied: scipy>=1.0.1 in /usr/local/lib/python3.7/dist-packages (from pymatgen==2019.11.11) (1.4.1)\n",
            "Requirement already satisfied: monty>=3.0.2 in /usr/local/lib/python3.7/dist-packages (from pymatgen==2019.11.11) (2021.6.10)\n",
            "Requirement already satisfied: numpy>=1.14.3 in /usr/local/lib/python3.7/dist-packages (from pymatgen==2019.11.11) (1.19.5)\n",
            "Requirement already satisfied: ruamel.yaml>=0.15.6 in /usr/local/lib/python3.7/dist-packages (from pymatgen==2019.11.11) (0.17.9)\n",
            "Requirement already satisfied: networkx>=2.2 in /usr/local/lib/python3.7/dist-packages (from pymatgen==2019.11.11) (2.5.1)\n",
            "Requirement already satisfied: sympy in /usr/local/lib/python3.7/dist-packages (from pymatgen==2019.11.11) (1.7.1)\n",
            "Requirement already satisfied: spglib>=1.9.9.44 in /usr/local/lib/python3.7/dist-packages (from pymatgen==2019.11.11) (1.16.1)\n",
            "Requirement already satisfied: certifi>=2017.4.17 in /usr/local/lib/python3.7/dist-packages (from requests->pymatgen==2019.11.11) (2021.5.30)\n",
            "Requirement already satisfied: urllib3!=1.25.0,!=1.25.1,<1.26,>=1.21.1 in /usr/local/lib/python3.7/dist-packages (from requests->pymatgen==2019.11.11) (1.24.3)\n",
            "Requirement already satisfied: chardet<4,>=3.0.2 in /usr/local/lib/python3.7/dist-packages (from requests->pymatgen==2019.11.11) (3.0.4)\n",
            "Requirement already satisfied: idna<3,>=2.5 in /usr/local/lib/python3.7/dist-packages (from requests->pymatgen==2019.11.11) (2.10)\n",
            "Requirement already satisfied: pytz>=2017.2 in /usr/local/lib/python3.7/dist-packages (from pandas->pymatgen==2019.11.11) (2018.9)\n",
            "Requirement already satisfied: python-dateutil>=2.7.3 in /usr/local/lib/python3.7/dist-packages (from pandas->pymatgen==2019.11.11) (2.8.1)\n",
            "Requirement already satisfied: cycler>=0.10 in /usr/local/lib/python3.7/dist-packages (from matplotlib>=1.5->pymatgen==2019.11.11) (0.10.0)\n",
            "Requirement already satisfied: kiwisolver>=1.0.1 in /usr/local/lib/python3.7/dist-packages (from matplotlib>=1.5->pymatgen==2019.11.11) (1.3.1)\n",
            "Requirement already satisfied: pyparsing!=2.0.4,!=2.1.2,!=2.1.6,>=2.0.1 in /usr/local/lib/python3.7/dist-packages (from matplotlib>=1.5->pymatgen==2019.11.11) (2.4.7)\n",
            "Requirement already satisfied: ruamel.yaml.clib>=0.1.2; platform_python_implementation == \"CPython\" and python_version < \"3.10\" in /usr/local/lib/python3.7/dist-packages (from ruamel.yaml>=0.15.6->pymatgen==2019.11.11) (0.2.2)\n",
            "Requirement already satisfied: decorator<5,>=4.3 in /usr/local/lib/python3.7/dist-packages (from networkx>=2.2->pymatgen==2019.11.11) (4.4.2)\n",
            "Requirement already satisfied: mpmath>=0.19 in /usr/local/lib/python3.7/dist-packages (from sympy->pymatgen==2019.11.11) (1.2.1)\n",
            "Requirement already satisfied: six>=1.5 in /usr/local/lib/python3.7/dist-packages (from python-dateutil>=2.7.3->pandas->pymatgen==2019.11.11) (1.15.0)\n",
            "Requirement already satisfied: graphdot in /usr/local/lib/python3.7/dist-packages (0.8a17)\n",
            "Requirement already satisfied: numpy>=1.17 in /usr/local/lib/python3.7/dist-packages (from graphdot) (1.19.5)\n",
            "Requirement already satisfied: tqdm>=4.55 in /usr/local/lib/python3.7/dist-packages (from graphdot) (4.61.1)\n",
            "Requirement already satisfied: networkx>=2.4 in /usr/local/lib/python3.7/dist-packages (from graphdot) (2.5.1)\n",
            "Requirement already satisfied: sympy>=1.3 in /usr/local/lib/python3.7/dist-packages (from graphdot) (1.7.1)\n",
            "Requirement already satisfied: numba>=0.51.0 in /usr/local/lib/python3.7/dist-packages (from graphdot) (0.51.2)\n",
            "Requirement already satisfied: pandas>=0.24 in /usr/local/lib/python3.7/dist-packages (from graphdot) (1.1.5)\n",
            "Requirement already satisfied: pymatgen==2019.11.11 in /usr/local/lib/python3.7/dist-packages (from graphdot) (2019.11.11)\n",
            "Requirement already satisfied: ase>=3.17 in /usr/local/lib/python3.7/dist-packages (from graphdot) (3.21.1)\n",
            "Requirement already satisfied: kahypar>=1.1.4 in /usr/local/lib/python3.7/dist-packages (from graphdot) (1.1.6)\n",
            "Requirement already satisfied: mendeleev>=0.7 in /usr/local/lib/python3.7/dist-packages (from graphdot) (0.7.0)\n",
            "Requirement already satisfied: pycuda>=2019 in /usr/local/lib/python3.7/dist-packages (from graphdot) (2021.1)\n",
            "Requirement already satisfied: treelib>=1.6.1 in /usr/local/lib/python3.7/dist-packages (from graphdot) (1.6.1)\n",
            "Requirement already satisfied: scipy>=1.3.0 in /usr/local/lib/python3.7/dist-packages (from graphdot) (1.4.1)\n",
            "Requirement already satisfied: decorator<5,>=4.3 in /usr/local/lib/python3.7/dist-packages (from networkx>=2.4->graphdot) (4.4.2)\n",
            "Requirement already satisfied: mpmath>=0.19 in /usr/local/lib/python3.7/dist-packages (from sympy>=1.3->graphdot) (1.2.1)\n",
            "Requirement already satisfied: setuptools in /usr/local/lib/python3.7/dist-packages (from numba>=0.51.0->graphdot) (57.0.0)\n",
            "Requirement already satisfied: llvmlite<0.35,>=0.34.0.dev0 in /usr/local/lib/python3.7/dist-packages (from numba>=0.51.0->graphdot) (0.34.0)\n",
            "Requirement already satisfied: python-dateutil>=2.7.3 in /usr/local/lib/python3.7/dist-packages (from pandas>=0.24->graphdot) (2.8.1)\n",
            "Requirement already satisfied: pytz>=2017.2 in /usr/local/lib/python3.7/dist-packages (from pandas>=0.24->graphdot) (2018.9)\n",
            "Requirement already satisfied: monty>=3.0.2 in /usr/local/lib/python3.7/dist-packages (from pymatgen==2019.11.11->graphdot) (2021.6.10)\n",
            "Requirement already satisfied: ruamel.yaml>=0.15.6 in /usr/local/lib/python3.7/dist-packages (from pymatgen==2019.11.11->graphdot) (0.17.9)\n",
            "Requirement already satisfied: matplotlib>=1.5 in /usr/local/lib/python3.7/dist-packages (from pymatgen==2019.11.11->graphdot) (3.2.2)\n",
            "Requirement already satisfied: spglib>=1.9.9.44 in /usr/local/lib/python3.7/dist-packages (from pymatgen==2019.11.11->graphdot) (1.16.1)\n",
            "Requirement already satisfied: tabulate in /usr/local/lib/python3.7/dist-packages (from pymatgen==2019.11.11->graphdot) (0.8.9)\n",
            "Requirement already satisfied: requests in /usr/local/lib/python3.7/dist-packages (from pymatgen==2019.11.11->graphdot) (2.23.0)\n",
            "Requirement already satisfied: pydispatcher>=2.0.5 in /usr/local/lib/python3.7/dist-packages (from pymatgen==2019.11.11->graphdot) (2.0.5)\n",
            "Requirement already satisfied: palettable>=3.1.1 in /usr/local/lib/python3.7/dist-packages (from pymatgen==2019.11.11->graphdot) (3.3.0)\n",
            "Requirement already satisfied: six<2.0.0,>=1.15.0 in /usr/local/lib/python3.7/dist-packages (from mendeleev>=0.7->graphdot) (1.15.0)\n",
            "Requirement already satisfied: Pygments<3.0.0,>=2.8.0 in /usr/local/lib/python3.7/dist-packages (from mendeleev>=0.7->graphdot) (2.9.0)\n",
            "Requirement already satisfied: pyfiglet<0.9,>=0.8.post1 in /usr/local/lib/python3.7/dist-packages (from mendeleev>=0.7->graphdot) (0.8.post1)\n",
            "Requirement already satisfied: SQLAlchemy<2.0.0,>=1.3.23 in /usr/local/lib/python3.7/dist-packages (from mendeleev>=0.7->graphdot) (1.4.18)\n",
            "Requirement already satisfied: colorama<0.5.0,>=0.4.4 in /usr/local/lib/python3.7/dist-packages (from mendeleev>=0.7->graphdot) (0.4.4)\n",
            "Requirement already satisfied: mako in /usr/local/lib/python3.7/dist-packages (from pycuda>=2019->graphdot) (1.1.4)\n",
            "Requirement already satisfied: appdirs>=1.4.0 in /usr/local/lib/python3.7/dist-packages (from pycuda>=2019->graphdot) (1.4.4)\n",
            "Requirement already satisfied: pytools>=2011.2 in /usr/local/lib/python3.7/dist-packages (from pycuda>=2019->graphdot) (2021.2.7)\n",
            "Requirement already satisfied: future in /usr/local/lib/python3.7/dist-packages (from treelib>=1.6.1->graphdot) (0.16.0)\n",
            "Requirement already satisfied: ruamel.yaml.clib>=0.1.2; platform_python_implementation == \"CPython\" and python_version < \"3.10\" in /usr/local/lib/python3.7/dist-packages (from ruamel.yaml>=0.15.6->pymatgen==2019.11.11->graphdot) (0.2.2)\n",
            "Requirement already satisfied: pyparsing!=2.0.4,!=2.1.2,!=2.1.6,>=2.0.1 in /usr/local/lib/python3.7/dist-packages (from matplotlib>=1.5->pymatgen==2019.11.11->graphdot) (2.4.7)\n",
            "Requirement already satisfied: kiwisolver>=1.0.1 in /usr/local/lib/python3.7/dist-packages (from matplotlib>=1.5->pymatgen==2019.11.11->graphdot) (1.3.1)\n",
            "Requirement already satisfied: cycler>=0.10 in /usr/local/lib/python3.7/dist-packages (from matplotlib>=1.5->pymatgen==2019.11.11->graphdot) (0.10.0)\n",
            "Requirement already satisfied: certifi>=2017.4.17 in /usr/local/lib/python3.7/dist-packages (from requests->pymatgen==2019.11.11->graphdot) (2021.5.30)\n",
            "Requirement already satisfied: idna<3,>=2.5 in /usr/local/lib/python3.7/dist-packages (from requests->pymatgen==2019.11.11->graphdot) (2.10)\n",
            "Requirement already satisfied: urllib3!=1.25.0,!=1.25.1,<1.26,>=1.21.1 in /usr/local/lib/python3.7/dist-packages (from requests->pymatgen==2019.11.11->graphdot) (1.24.3)\n",
            "Requirement already satisfied: chardet<4,>=3.0.2 in /usr/local/lib/python3.7/dist-packages (from requests->pymatgen==2019.11.11->graphdot) (3.0.4)\n",
            "Requirement already satisfied: greenlet!=0.4.17; python_version >= \"3\" in /usr/local/lib/python3.7/dist-packages (from SQLAlchemy<2.0.0,>=1.3.23->mendeleev>=0.7->graphdot) (1.1.0)\n",
            "Requirement already satisfied: importlib-metadata; python_version < \"3.8\" in /usr/local/lib/python3.7/dist-packages (from SQLAlchemy<2.0.0,>=1.3.23->mendeleev>=0.7->graphdot) (4.5.0)\n",
            "Requirement already satisfied: MarkupSafe>=0.9.2 in /usr/local/lib/python3.7/dist-packages (from mako->pycuda>=2019->graphdot) (2.0.1)\n",
            "Requirement already satisfied: typing-extensions>=3.6.4; python_version < \"3.8\" in /usr/local/lib/python3.7/dist-packages (from importlib-metadata; python_version < \"3.8\"->SQLAlchemy<2.0.0,>=1.3.23->mendeleev>=0.7->graphdot) (3.7.4.3)\n",
            "Requirement already satisfied: zipp>=0.5 in /usr/local/lib/python3.7/dist-packages (from importlib-metadata; python_version < \"3.8\"->SQLAlchemy<2.0.0,>=1.3.23->mendeleev>=0.7->graphdot) (3.4.1)\n",
            "Requirement already satisfied: gdown in /usr/local/lib/python3.7/dist-packages (3.6.4)\n",
            "Requirement already satisfied: requests in /usr/local/lib/python3.7/dist-packages (from gdown) (2.23.0)\n",
            "Requirement already satisfied: tqdm in /usr/local/lib/python3.7/dist-packages (from gdown) (4.61.1)\n",
            "Requirement already satisfied: six in /usr/local/lib/python3.7/dist-packages (from gdown) (1.15.0)\n",
            "Requirement already satisfied: chardet<4,>=3.0.2 in /usr/local/lib/python3.7/dist-packages (from requests->gdown) (3.0.4)\n",
            "Requirement already satisfied: certifi>=2017.4.17 in /usr/local/lib/python3.7/dist-packages (from requests->gdown) (2021.5.30)\n",
            "Requirement already satisfied: idna<3,>=2.5 in /usr/local/lib/python3.7/dist-packages (from requests->gdown) (2.10)\n",
            "Requirement already satisfied: urllib3!=1.25.0,!=1.25.1,<1.26,>=1.21.1 in /usr/local/lib/python3.7/dist-packages (from requests->gdown) (1.24.3)\n"
          ],
          "name": "stdout"
        }
      ]
    },
    {
      "cell_type": "code",
      "metadata": {
        "colab": {
          "base_uri": "https://localhost:8080/"
        },
        "id": "qX3k93l_HGdd",
        "outputId": "57bdbf5f-67cf-4dca-d56c-cb4c33046f1d"
      },
      "source": [
        "%matplotlib inline\n",
        "import io\n",
        "import sys\n",
        "sys.path.append('/usr/local/lib/python3.6/site-packages/')\n",
        "import os\n",
        "import urllib\n",
        "import numpy as np\n",
        "import pandas as pd\n",
        "import matplotlib.pyplot as plt\n",
        "\n",
        "import graphdot\n",
        "from graphdot import Graph\n",
        "from graphdot.graph.adjacency import AtomicAdjacency\n",
        "from graphdot.graph.reorder import rcm\n",
        "from graphdot.kernel.marginalized import MarginalizedGraphKernel # https://graphdot.readthedocs.io/en/latest/apidoc/graphdot.kernel.marginalized.html\n",
        "from graphdot.kernel.marginalized.starting_probability import Uniform\n",
        "from graphdot.model.gaussian_process import (\n",
        "    GaussianProcessRegressor,\n",
        "    LowRankApproximateGPR\n",
        ")\n",
        "from graphdot.kernel.fix import Normalization\n",
        "import graphdot.microkernel as uX\n",
        "import ase.io\n",
        "\n",
        "# for getting all file names into a list under a directory \n",
        "from os import listdir\n",
        "# for getting file names that match certain pattern\n",
        "import glob\n",
        "import time"
      ],
      "execution_count": 3,
      "outputs": [
        {
          "output_type": "stream",
          "text": [
            "/usr/local/lib/python3.7/dist-packages/graphdot/graph/__init__.py:24: UserWarning: Cannot import RDKit, `graph.from_rdkit()` will be unavailable.\n",
            "\n",
            "  'Cannot import RDKit, `graph.from_rdkit()` will be unavailable.\\n'\n"
          ],
          "name": "stderr"
        }
      ]
    },
    {
      "cell_type": "code",
      "metadata": {
        "colab": {
          "base_uri": "https://localhost:8080/"
        },
        "id": "s2g2ITn-Oe1B",
        "outputId": "2c81aa90-c43a-4bf1-bbef-f57ed2c54eaa"
      },
      "source": [
        "from google.colab import drive\n",
        "drive.mount('/content/gdrive', force_remount=True)"
      ],
      "execution_count": 4,
      "outputs": [
        {
          "output_type": "stream",
          "text": [
            "Mounted at /content/gdrive\n"
          ],
          "name": "stdout"
        }
      ]
    },
    {
      "cell_type": "code",
      "metadata": {
        "colab": {
          "base_uri": "https://localhost:8080/"
        },
        "id": "1iaCg3YeL-IK",
        "outputId": "8df79145-e3cc-4326-d6b5-bf14cd4f344b"
      },
      "source": [
        "#cd gdrive/MyDrive/Google\\ Colab/Covid-Data\n",
        "%cd gdrive/MyDrive/Covid-Data/"
      ],
      "execution_count": 5,
      "outputs": [
        {
          "output_type": "stream",
          "text": [
            "/content/gdrive/.shortcut-targets-by-id/1wtzMcocuK8kPsz8K0ktjCZPkv567W6M2/Covid-Data\n"
          ],
          "name": "stdout"
        }
      ]
    },
    {
      "cell_type": "code",
      "metadata": {
        "colab": {
          "base_uri": "https://localhost:8080/"
        },
        "id": "oBmiYwVH4KUZ",
        "outputId": "4513b461-522f-450b-bdf3-be24dea95099"
      },
      "source": [
        "!pwd"
      ],
      "execution_count": 6,
      "outputs": [
        {
          "output_type": "stream",
          "text": [
            "/content/gdrive/.shortcut-targets-by-id/1wtzMcocuK8kPsz8K0ktjCZPkv567W6M2/Covid-Data\n"
          ],
          "name": "stdout"
        }
      ]
    },
    {
      "cell_type": "markdown",
      "metadata": {
        "id": "OzoEhNuUhDs7"
      },
      "source": [
        "## load the data"
      ]
    },
    {
      "cell_type": "code",
      "metadata": {
        "id": "IlTP3xrwP74N"
      },
      "source": [
        "files  = ['uncharged_NSP15_6W01_A_3_H.Orderable_zinc_db_enaHLL.2col.csv.1.xz']\n",
        "dataset = pd.read_pickle(files[0]) # length of each csv file is 100000"
      ],
      "execution_count": 7,
      "outputs": []
    },
    {
      "cell_type": "code",
      "metadata": {
        "id": "KjoyJHMnRjE1"
      },
      "source": [
        "target = 'energy'\n",
        "N_train = 1000\n",
        "N_test = 2000\n",
        "\n",
        "np.random.seed(0) # with the same seed, multiple runs can have the same selected index\n",
        "train_sel = np.random.choice(len(dataset), N_train, replace=False)\n",
        "test_sel = np.random.choice(np.setxor1d(np.arange(len(dataset)), train_sel), N_test, replace=False)\n",
        "train = dataset.iloc[train_sel]\n",
        "test = dataset.iloc[test_sel]"
      ],
      "execution_count": 8,
      "outputs": []
    },
    {
      "cell_type": "code",
      "metadata": {
        "colab": {
          "base_uri": "https://localhost:8080/",
          "height": 203
        },
        "id": "OwZTWDKeBsHH",
        "outputId": "7fc43d05-92e5-4b62-fa69-eee8873b3014"
      },
      "source": [
        "train.head()"
      ],
      "execution_count": 9,
      "outputs": [
        {
          "output_type": "execute_result",
          "data": {
            "text/html": [
              "<div>\n",
              "<style scoped>\n",
              "    .dataframe tbody tr th:only-of-type {\n",
              "        vertical-align: middle;\n",
              "    }\n",
              "\n",
              "    .dataframe tbody tr th {\n",
              "        vertical-align: top;\n",
              "    }\n",
              "\n",
              "    .dataframe thead th {\n",
              "        text-align: right;\n",
              "    }\n",
              "</style>\n",
              "<table border=\"1\" class=\"dataframe\">\n",
              "  <thead>\n",
              "    <tr style=\"text-align: right;\">\n",
              "      <th></th>\n",
              "      <th>energy</th>\n",
              "      <th>smiles</th>\n",
              "      <th>graphs</th>\n",
              "    </tr>\n",
              "  </thead>\n",
              "  <tbody>\n",
              "    <tr>\n",
              "      <th>3582</th>\n",
              "      <td>-2.874773</td>\n",
              "      <td>CN(Cc1nc(no1)c2cccc(c2)Br)C(=O)Nc3cccc(c3)OC</td>\n",
              "      <td>Graph(nodes={'!i': [ 0, 1, 2, 3, 4, 5, 6, 7, 8...</td>\n",
              "    </tr>\n",
              "    <tr>\n",
              "      <th>60498</th>\n",
              "      <td>-3.469760</td>\n",
              "      <td>CCOC(=O)c1ccc(c(c1)C)NC(=S)NCCOc2ccc(cc2)C</td>\n",
              "      <td>Graph(nodes={'!i': [ 0, 1, 2, 3, 4, 5, 6, 7, 8...</td>\n",
              "    </tr>\n",
              "    <tr>\n",
              "      <th>53227</th>\n",
              "      <td>-0.487984</td>\n",
              "      <td>Cc1ccc(cc1S(=O)(=O)Nc2ccccc2OC)NC(=O)c3nc4nc(c...</td>\n",
              "      <td>Graph(nodes={'!i': [ 0, 1, 2, 3, 4, 5, 6, 7, 8...</td>\n",
              "    </tr>\n",
              "    <tr>\n",
              "      <th>21333</th>\n",
              "      <td>-1.808283</td>\n",
              "      <td>COc1ccc(cc1OC)CCNC(=O)COc2ccc(cc2)[N@@](Cc3ccc...</td>\n",
              "      <td>Graph(nodes={'!i': [ 0, 1, 2, 3, 4, 5, 6, 7, 8...</td>\n",
              "    </tr>\n",
              "    <tr>\n",
              "      <th>3885</th>\n",
              "      <td>-2.457642</td>\n",
              "      <td>Cc1cc(ccc1NCc2ccc(c(c2OC)C)OC)Br</td>\n",
              "      <td>Graph(nodes={'!i': [ 0, 1, 2, 3, 4, 5, 6, 7, 8...</td>\n",
              "    </tr>\n",
              "  </tbody>\n",
              "</table>\n",
              "</div>"
            ],
            "text/plain": [
              "         energy  ...                                             graphs\n",
              "3582  -2.874773  ...  Graph(nodes={'!i': [ 0, 1, 2, 3, 4, 5, 6, 7, 8...\n",
              "60498 -3.469760  ...  Graph(nodes={'!i': [ 0, 1, 2, 3, 4, 5, 6, 7, 8...\n",
              "53227 -0.487984  ...  Graph(nodes={'!i': [ 0, 1, 2, 3, 4, 5, 6, 7, 8...\n",
              "21333 -1.808283  ...  Graph(nodes={'!i': [ 0, 1, 2, 3, 4, 5, 6, 7, 8...\n",
              "3885  -2.457642  ...  Graph(nodes={'!i': [ 0, 1, 2, 3, 4, 5, 6, 7, 8...\n",
              "\n",
              "[5 rows x 3 columns]"
            ]
          },
          "metadata": {
            "tags": []
          },
          "execution_count": 9
        }
      ]
    },
    {
      "cell_type": "markdown",
      "metadata": {
        "id": "Q4CVSary3_L9"
      },
      "source": [
        "### Baseline mode"
      ]
    },
    {
      "cell_type": "code",
      "metadata": {
        "id": "AugZ3tWeUYTA"
      },
      "source": [
        "gpr_base = GaussianProcessRegressor(\n",
        "    # kernel is the covariance function of the gaussian process (GP)\n",
        "    kernel=Normalization( # kernel equals to normalization -> normalizes a kernel using the cosine of angle formula, k_normalized(x,y) = k(x,y)/sqrt(k(x,x)*k(y,y))\n",
        "        # graphdot.kernel.fix.Normalization(kernel), set kernel as marginalized graph kernel, which is used to calculate the similarity between 2 graphs\n",
        "        # implement the random walk-based graph similarity kernel as Kashima, H., Tsuda, K., & Inokuchi, A. (2003). Marginalized kernels between labeled graphs. ICML\n",
        "        MarginalizedGraphKernel( \n",
        "            # node_kernel - A kernelet that computes the similarity between individual nodes\n",
        "            # uX - graphdot.microkernel - microkernels are positive-semidefinite functions between individual nodes and edges of graphs\n",
        "            node_kernel=uX.Additive( # addition of kernal matrices: sum of k_a(X_a, Y_a) cross for a in features\n",
        "                # uX.Constant - a kernel that returns a constant value, always mutlipled with other microkernels as an adjustable weight\n",
        "                #   c, the first input arg. as 0.5, (0.01, 10) the lower and upper bounds of c that is allowed to vary during hyperpara. optimizartion\n",
        "                # uX.KroneckerDelta - a kronecker delta returns 1 when two features are equal and return h (the first input arg here, which is 0.5 in this case) otherwise\n",
        "                #   (0.1, 0.9) the lower and upper bounds that h is allowed to vary during hyperpara. optimization\n",
        "                aromatic=uX.Constant(0.5, (0.01, 10.0)) * uX.KroneckerDelta(0.5,(0.1, 0.9)), # the 2nd element of graphdot.graph.Graph.nodes\n",
        "                atomic_number=uX.Constant(0.5, (0.01, 10.0)) * uX.KroneckerDelta(0.8,(0.1, 0.9)), # the 3rd element of graphdot.graph.Graph.nodes\n",
        "                # uX.SquareExponential - Equ. 26 in the paper\n",
        "                # input arg. length_sacle is a float32, set as 1 in this case, which correspond to approx. 1 of the kernal value. \n",
        "                # This is used to determins how quicklys should the kernel decay to zero.\n",
        "                charge=uX.Constant(0.5, (0.01, 10.0)) * uX.SquareExponential(1.0), # the 4th element of graphdot.graph.Graph.nodes\n",
        "                chiral=uX.Constant(0.5, (0.01, 10.0)) * uX.KroneckerDelta(0.5,(0.1, 0.9)), # the 5th element of graphdot.graph.Graph.nodes\n",
        "                hcount=uX.Constant(0.5, (0.01, 10.0)) * uX.SquareExponential(1.0), # the 6th element of graphdot.graph.Graph.nodes\n",
        "                hybridization=uX.Constant(0.5, (0.01, 10.0)) * uX.KroneckerDelta(0.5,(0.1, 0.9)), # the 7th element of graphdot.graph.Graph.nodes\n",
        "                # uX.Convolution - a convolutional microkernel which averages evaluations of a base microkernel between pairs pf elememts of two variable-length feature sequences\n",
        "                # uX.KroneckerDelta as the base kernel\n",
        "                ring_list=uX.Constant(0.5, (0.01, 100.0)) * uX.Convolution(uX.KroneckerDelta(0.5,(0.1, 0.9))) # the 8th element of graphdot.graph.Graph.nodes\n",
        "            ).normalized,\n",
        "            # edge_kernel - A kernelet that computes the similarity between individual edge\n",
        "            edge_kernel=uX.Additive(\n",
        "                aromatic=uX.Constant(0.5, (0.01, 10.0)) * uX.KroneckerDelta(0.5,(0.1, 0.9)), # the 3rd element of graphdot.graph.Graph.nodes\n",
        "                conjugated=uX.Constant(0.5, (0.01, 10.0)) * uX.KroneckerDelta(0.5,(0.1, 0.9)), # the 4th element of graphdot.graph.Graph.nodes\n",
        "                order=uX.Constant(0.5, (0.01, 10.0)) * uX.KroneckerDelta(0.8,(0.1, 0.9)), # the 5th element of graphdot.graph.Graph.nodes\n",
        "                ring_stereo=uX.Constant(0.5, (0.01, 10.0)) * uX.KroneckerDelta(0.8,(0.1, 0.9)), # the 6th element of graphdot.graph.Graph.nodes\n",
        "                stereo=uX.Constant(0.5, (0.01, 10.0)) * uX.KroneckerDelta(0.8,(0.1, 0.9)) # the 7th element of graphdot.graph.Graph.nodes\n",
        "            ).normalized,\n",
        "            p=Uniform(1.0, p_bounds='fixed'), # the strating probability of the random walk on each node\n",
        "            q=0.05 # the probability for the random walk to stop during each step\n",
        "        )\n",
        "    ),\n",
        "    alpha=1e-4, # value added to the diagonal of the kernel matrix during fitting\n",
        "    optimizer=True, # default optimizer of L-BFGS-B based on scipy.optimize.minimize\n",
        "    normalize_y=True, # normalize the y values so taht the means and variance is 0 and 1, repsectively. Will be reversed when predicions are returned\n",
        "    regularization='+', # alpha (1e-4 in this case) is added to the diagonals of the kernal matrix\n",
        ")"
      ],
      "execution_count": null,
      "outputs": []
    },
    {
      "cell_type": "code",
      "metadata": {
        "id": "0JIdwDYYUbE4",
        "colab": {
          "base_uri": "https://localhost:8080/"
        },
        "outputId": "4f04420e-1b38-4f99-b742-1bf1d9b9b5ae"
      },
      "source": [
        "gpr_base.fit(train.graphs, train[target], repeat=1, verbose=True)"
      ],
      "execution_count": null,
      "outputs": [
        {
          "output_type": "stream",
          "text": [
            "|        logP|       dlogP|     y^T.K.y|     log|K| |     Cond(K)|  GPU time|  CPU time|\n",
            "|------------|------------|------------|------------|------------|----------|----------|\n",
            "|  2.8712e+06|   2.442e+07|  2.8785e+06|     -7290.9|  8.7027e+06|        28|      0.26|\n",
            "|  1.9314e+06|  2.0704e+07|  1.9382e+06|     -6742.8|  8.0163e+06|        21|      0.24|\n",
            "|  1.2904e+06|  1.5716e+07|  1.2967e+06|     -6251.9|  7.0807e+06|        19|      0.24|\n",
            "|  1.0053e+06|    1.23e+07|  1.0113e+06|     -5971.1|  6.4092e+06|        19|      0.24|\n",
            "|  8.2527e+05|  9.7212e+06|  8.3102e+05|     -5755.3|  5.8195e+06|        18|      0.26|\n",
            "|  7.1177e+05|  8.0825e+06|  7.1736e+05|     -5588.7|  5.3683e+06|        18|      0.26|\n",
            "|   6.491e+05|  7.1034e+06|  6.5459e+05|     -5488.7|  5.0418e+06|        17|      0.26|\n",
            "|  6.2933e+05|  7.0338e+06|  6.3477e+05|     -5434.6|  4.9605e+06|        18|      0.24|\n",
            "|  6.0995e+05|   6.643e+06|  6.1537e+05|       -5413|  4.8475e+06|        17|      0.26|\n",
            "|  6.0543e+05|   6.541e+06|  6.1083e+05|     -5407.5|  4.8008e+06|        17|      0.24|\n",
            "|  6.0282e+05|  6.4987e+06|  6.0823e+05|     -5402.8|  4.7787e+06|        17|      0.26|\n",
            "|  6.0539e+05|  6.6515e+06|  6.1079e+05|     -5395.2|  4.8309e+06|        17|      0.23|\n",
            "|  6.0082e+05|  6.5218e+06|  6.0622e+05|     -5394.8|  4.7891e+06|        17|      0.26|\n",
            "|  5.9966e+05|  6.4945e+06|  6.0505e+05|     -5393.3|  4.7869e+06|        17|      0.24|\n",
            "|  5.9789e+05|  6.4493e+06|  6.0328e+05|     -5390.6|  4.7725e+06|        17|      0.25|\n",
            "|  5.9631e+05|  6.4134e+06|   6.017e+05|       -5389|  4.7604e+06|        17|      0.24|\n",
            "|  5.9542e+05|  6.4022e+06|  6.0081e+05|     -5387.4|  4.7518e+06|        17|      0.24|\n",
            "|  5.9529e+05|  6.4276e+06|  6.0067e+05|     -5386.2|  4.7508e+06|        17|      0.25|\n",
            "|  5.9512e+05|  6.4197e+06|   6.005e+05|     -5386.6|  4.7449e+06|        17|      0.25|\n",
            "|  5.9505e+05|  6.4169e+06|  6.0044e+05|     -5387.3|   4.741e+06|        17|      0.25|\n",
            "|  5.9505e+05|  6.4166e+06|  6.0044e+05|     -5387.6|  4.7385e+06|        17|      0.23|\n",
            "Optimization result:\n",
            "      fun: 595047.7176175278\n",
            " hess_inv: <25x25 LbfgsInvHessProduct with dtype=float64>\n",
            "      jac: array([ 6.41250071e+02,  2.87639317e+02,  6.60924244e+01, -1.26233962e+03,\n",
            "        1.36704669e+04,  3.60984806e+02,  0.00000000e+00, -6.10147407e+01,\n",
            "        1.77405394e+02,  1.92475967e+03,  1.01236129e-20,  1.37562821e+02,\n",
            "        1.25076750e+02, -1.40172516e+03,  1.76148081e+04, -5.33872996e+02,\n",
            "        1.95074428e+03,  1.76076704e+03,  3.01902646e+03, -7.59176880e+02,\n",
            "        3.09026926e+02,  2.55232585e+02,  0.00000000e+00, -7.26441523e+02,\n",
            "        2.93488326e+02])\n",
            "  message: b'CONVERGENCE: REL_REDUCTION_OF_F_<=_FACTR*EPSMCH'\n",
            "     nfev: 21\n",
            "      nit: 19\n",
            "   status: 0\n",
            "  success: True\n",
            "        x: array([-9.21034037, -3.93990556, -1.63179874,  1.44277989, -2.30258509,\n",
            "       -4.3780243 ,  0.        , -3.29916623, -1.99173454,  2.30055116,\n",
            "       -2.42034321, -3.65354201, -1.76764907,  1.69793063, -2.30258509,\n",
            "        0.70526171, -2.30258509,  1.23550411, -2.30258509, -2.43697879,\n",
            "       -1.76401895, -3.49472749, -0.22314355, -2.32417453, -1.83718902])\n"
          ],
          "name": "stdout"
        },
        {
          "output_type": "execute_result",
          "data": {
            "text/plain": [
              "<graphdot.model.gaussian_process.gpr.GaussianProcessRegressor at 0x7f7072be4390>"
            ]
          },
          "metadata": {
            "tags": []
          },
          "execution_count": 14
        }
      ]
    },
    {
      "cell_type": "code",
      "metadata": {
        "id": "0szVcBBnUkLZ",
        "colab": {
          "base_uri": "https://localhost:8080/"
        },
        "outputId": "ceab8b70-a760-4110-a72a-b171aab9ffd6"
      },
      "source": [
        "gpr_base.kernel.hyperparameters.node_kernel.aromatic.lhs"
      ],
      "execution_count": null,
      "outputs": [
        {
          "output_type": "execute_result",
          "data": {
            "text/plain": [
              "c : 0.019450051524810327"
            ]
          },
          "metadata": {
            "tags": []
          },
          "execution_count": 19
        }
      ]
    },
    {
      "cell_type": "code",
      "metadata": {
        "colab": {
          "base_uri": "https://localhost:8080/"
        },
        "id": "vEeVuhBSgARi",
        "outputId": "df060090-ddec-4e8d-f561-9ca3fb5c2745"
      },
      "source": [
        "gpr_base.kernel.hyperparameters.edge_kernel"
      ],
      "execution_count": null,
      "outputs": [
        {
          "output_type": "execute_result",
          "data": {
            "text/plain": [
              "aromatic : Multiply\n",
              "\tlhs : Constant\n",
              "\t\tc : 2.0243764247157046\n",
              "\trhs : KroneckerDelta\n",
              "\t\th : 0.10000000000000002\n",
              "conjugated : Multiply\n",
              "\tlhs : Constant\n",
              "\t\tc : 3.4401122931051025\n",
              "\trhs : KroneckerDelta\n",
              "\t\th : 0.10000000000000002\n",
              "order : Multiply\n",
              "\tlhs : Constant\n",
              "\t\tc : 0.08742458077769351\n",
              "\trhs : KroneckerDelta\n",
              "\t\th : 0.17135481208357772\n",
              "ring_stereo : Multiply\n",
              "\tlhs : Constant\n",
              "\t\tc : 0.03035701976162682\n",
              "\trhs : KroneckerDelta\n",
              "\t\th : 0.8\n",
              "stereo : Multiply\n",
              "\tlhs : Constant\n",
              "\t\tc : 0.09786419450583186\n",
              "\trhs : KroneckerDelta\n",
              "\t\th : 0.1592644871331458"
            ]
          },
          "metadata": {
            "tags": []
          },
          "execution_count": 23
        }
      ]
    },
    {
      "cell_type": "code",
      "metadata": {
        "id": "m0lr2XLkUmBm"
      },
      "source": [
        "mu = gpr_base.predict(train.graphs)"
      ],
      "execution_count": null,
      "outputs": []
    },
    {
      "cell_type": "code",
      "metadata": {
        "id": "Ilq4FcWftNiq"
      },
      "source": [
        "plt.scatter(train[target], mu)\n",
        "plt.plot(np.linspace(-9, 3), np.linspace(-9, 3), c = 'r')\n",
        "plt.xlim(-9, 3)\n",
        "plt.ylim(-9, 3)\n",
        "plt.show()"
      ],
      "execution_count": null,
      "outputs": []
    },
    {
      "cell_type": "code",
      "metadata": {
        "colab": {
          "base_uri": "https://localhost:8080/"
        },
        "id": "dPhqsXAstOCO",
        "outputId": "f04332f9-5dec-4b0d-a7aa-a28276468430"
      },
      "source": [
        "print('Training set')\n",
        "print('MAE:', np.mean(np.abs(train[target] - mu)))\n",
        "print('RMSE:', np.std(train[target] - mu))"
      ],
      "execution_count": null,
      "outputs": [
        {
          "output_type": "stream",
          "text": [
            "Training set\n",
            "MAE: 0.1026528897885943\n",
            "RMSE: 0.1559697478035153\n"
          ],
          "name": "stdout"
        }
      ]
    },
    {
      "cell_type": "code",
      "metadata": {
        "id": "1C0SDiEztOe6"
      },
      "source": [
        "mu_test = gpr_base.predict(test.graphs)"
      ],
      "execution_count": null,
      "outputs": []
    },
    {
      "cell_type": "code",
      "metadata": {
        "colab": {
          "base_uri": "https://localhost:8080/",
          "height": 265
        },
        "id": "it2phMkgUqI6",
        "outputId": "256990c3-cdc6-4cdb-d977-8505ed5f3712"
      },
      "source": [
        "plt.scatter(test[target], mu_test)\n",
        "plt.plot(np.linspace(-9, 3), np.linspace(-9, 3), c = 'r')\n",
        "plt.xlim(-9, 3)\n",
        "plt.ylim(-9, 3)\n",
        "plt.show()"
      ],
      "execution_count": null,
      "outputs": [
        {
          "output_type": "display_data",
          "data": {
            "image/png": "[encoded data removed]",
            "text/plain": [
              "<Figure size 432x288 with 1 Axes>"
            ]
          },
          "metadata": {
            "tags": []
          }
        }
      ]
    },
    {
      "cell_type": "code",
      "metadata": {
        "colab": {
          "base_uri": "https://localhost:8080/"
        },
        "id": "ik4KZQYjUsqn",
        "outputId": "223c4f0e-cd07-484c-8e7d-07e561b7c501"
      },
      "source": [
        "print('Test set')\n",
        "print('MAE:', np.mean(np.abs(test[target] - mu_test)))\n",
        "print('RMSE:', np.std(test[target] - mu_test))"
      ],
      "execution_count": null,
      "outputs": [
        {
          "output_type": "stream",
          "text": [
            "Test set\n",
            "MAE: 1.3984523944497356\n",
            "RMSE: 1.7902476214464011\n"
          ],
          "name": "stdout"
        }
      ]
    },
    {
      "cell_type": "markdown",
      "metadata": {
        "id": "790a5MVC_Bbf"
      },
      "source": [
        "### Model 2"
      ]
    },
    {
      "cell_type": "code",
      "metadata": {
        "id": "dbXG4V1veoS4"
      },
      "source": [
        "gpr2 = GaussianProcessRegressor(\n",
        "    kernel=Normalization(\n",
        "        MarginalizedGraphKernel(\n",
        "            node_kernel=uX.Additive(\n",
        "                aromatic=uX.Constant(0.5, (0.01, 10.0)) * uX.KroneckerDelta(0.5,(0.1, 0.9)),\n",
        "                atomic_number=uX.Constant(0.5, (0.01, 10.0)) * uX.KroneckerDelta(0.8,(0.1, 0.9)),\n",
        "                charge=uX.Constant(0.5, (0.01, 10.0)) * uX.SquareExponential(1.0),\n",
        "                chiral=uX.Constant(0.5, (0.01, 10.0)) * uX.KroneckerDelta(0.5,(0.1, 0.9)),\n",
        "                hcount=uX.Constant(0.5, (0.01, 10.0)) * uX.SquareExponential(1.0),\n",
        "                hybridization=uX.Constant(0.5, (0.01, 10.0)) * uX.KroneckerDelta(0.5,(0.1, 0.9)),\n",
        "                ring_list=uX.Constant(0.5, (0.01, 100.0)) * uX.Convolution(uX.KroneckerDelta(0.5,(0.1, 0.9)))\n",
        "            ).normalized,\n",
        "            edge_kernel=uX.Additive(\n",
        "                aromatic=uX.Constant(0.5, (0.01, 10.0)) * uX.KroneckerDelta(0.5,(0.1, 0.9)),\n",
        "                conjugated=uX.Constant(0.5, (0.01, 10.0)) * uX.KroneckerDelta(0.5,(0.1, 0.9)),\n",
        "                order=uX.Constant(0.5, (0.01, 10.0)) * uX.KroneckerDelta(0.8,(0.1, 0.9)),\n",
        "                ring_stereo=uX.Constant(0.5, (0.01, 10.0)) * uX.KroneckerDelta(0.8,(0.1, 0.9)),\n",
        "                stereo=uX.Constant(0.5, (0.01, 10.0)) * uX.KroneckerDelta(0.8,(0.1, 0.9))\n",
        "            ).normalized,\n",
        "            p=Uniform(1.0, p_bounds='fixed'),\n",
        "            q=0.05\n",
        "        )\n",
        "    ),\n",
        "    alpha=1e-5, #different from gpr in alpha where gpr_base alpha is 1e-4\n",
        "    optimizer=True,\n",
        "    normalize_y=True,\n",
        "    regularization='+',\n",
        ")"
      ],
      "execution_count": null,
      "outputs": []
    },
    {
      "cell_type": "code",
      "metadata": {
        "id": "iKCgq4XuPyhr"
      },
      "source": [
        "gpr2.fit(train.graphs, train[target], repeat=3, verbose=True)"
      ],
      "execution_count": null,
      "outputs": []
    },
    {
      "cell_type": "code",
      "metadata": {
        "colab": {
          "base_uri": "https://localhost:8080/",
          "height": 265
        },
        "id": "PG-GAPabPzHV",
        "outputId": "ae6ffdd3-728f-4df2-fd73-3c045eb88c19"
      },
      "source": [
        "mu = gpr2.predict(train.graphs)\n",
        "plt.scatter(train[target], mu)\n",
        "plt.plot(np.linspace(-9, 3), np.linspace(-9, 3), c = 'r')\n",
        "plt.xlim(-9, 3)\n",
        "plt.ylim(-9, 3)\n",
        "plt.show()"
      ],
      "execution_count": null,
      "outputs": [
        {
          "output_type": "display_data",
          "data": {
            "image/png": "[encoded data removed]",
            "text/plain": [
              "<Figure size 432x288 with 1 Axes>"
            ]
          },
          "metadata": {
            "tags": []
          }
        }
      ]
    },
    {
      "cell_type": "code",
      "metadata": {
        "colab": {
          "base_uri": "https://localhost:8080/"
        },
        "id": "J20m1x90Pzg9",
        "outputId": "493b5267-76b8-4ccc-ab4e-2eb86d5fd8a3"
      },
      "source": [
        "print('Training set')\n",
        "print('MAE:', np.mean(np.abs(train[target] - mu)))\n",
        "print('RMSE:', np.std(train[target] - mu))"
      ],
      "execution_count": null,
      "outputs": [
        {
          "output_type": "stream",
          "text": [
            "Training set\n",
            "MAE: 0.01420440124959926\n",
            "RMSE: 0.021649804308151027\n"
          ],
          "name": "stdout"
        }
      ]
    },
    {
      "cell_type": "code",
      "metadata": {
        "colab": {
          "base_uri": "https://localhost:8080/",
          "height": 265
        },
        "id": "rCh-Z2pqPz3S",
        "outputId": "863813cc-a893-46c7-d81c-1efdf12e28d3"
      },
      "source": [
        "mu_test = gpr2.predict(test.graphs)\n",
        "plt.scatter(test[target], mu_test)\n",
        "plt.plot(np.linspace(-10, 4), np.linspace(-10, 4), c = 'r')\n",
        "plt.xlim(-10, 4)\n",
        "plt.ylim(-10, 4)\n",
        "plt.show()"
      ],
      "execution_count": null,
      "outputs": [
        {
          "output_type": "display_data",
          "data": {
            "image/png": "[encoded data removed]",
            "text/plain": [
              "<Figure size 432x288 with 1 Axes>"
            ]
          },
          "metadata": {
            "tags": []
          }
        }
      ]
    },
    {
      "cell_type": "code",
      "metadata": {
        "colab": {
          "base_uri": "https://localhost:8080/"
        },
        "id": "UYakiu41QMsp",
        "outputId": "cc1b39bd-eaf8-48c6-c3e0-1c191cfbfe94"
      },
      "source": [
        "print('Test set')\n",
        "print('MAE:', np.mean(np.abs(test[target] - mu_test)))\n",
        "print('RMSE:', np.std(test[target] - mu_test))"
      ],
      "execution_count": null,
      "outputs": [
        {
          "output_type": "stream",
          "text": [
            "Test set\n",
            "MAE: 1.517212238428167\n",
            "RMSE: 1.943288841802438\n"
          ],
          "name": "stdout"
        }
      ]
    },
    {
      "cell_type": "code",
      "metadata": {
        "id": "pjZ-ZG-_baL4"
      },
      "source": [
        "gpr2.kernel.hyperparameters"
      ],
      "execution_count": null,
      "outputs": []
    },
    {
      "cell_type": "markdown",
      "metadata": {
        "id": "0wumhGtiS0Qi"
      },
      "source": [
        "### Model 3"
      ]
    },
    {
      "cell_type": "code",
      "metadata": {
        "id": "1vpM7VVXJd9q"
      },
      "source": [
        "gpr3 = GaussianProcessRegressor(\n",
        "    kernel=Normalization(\n",
        "        MarginalizedGraphKernel(\n",
        "            node_kernel=uX.Additive(\n",
        "                aromatic=uX.Constant(0.5, (0.01, 10.0)) * uX.KroneckerDelta(0.5,(0.1, 0.9)),\n",
        "                atomic_number=uX.Constant(0.5, (0.01, 10.0)) * uX.KroneckerDelta(0.8,(0.1, 0.9)),\n",
        "                charge=uX.Constant(0.5, (0.01, 10.0)) * uX.SquareExponential(1.0),\n",
        "                chiral=uX.Constant(0.5, (0.01, 10.0)) * uX.KroneckerDelta(0.5,(0.1, 0.9)),\n",
        "                hcount=uX.Constant(0.5, (0.01, 10.0)) * uX.SquareExponential(1.0),\n",
        "                hybridization=uX.Constant(0.5, (0.01, 10.0)) * uX.KroneckerDelta(0.5,(0.1, 0.9)),\n",
        "                ring_list=uX.Constant(0.5, (0.01, 100.0)) * uX.Convolution(uX.KroneckerDelta(0.5,(0.1, 0.9)))\n",
        "            ).normalized,\n",
        "            edge_kernel=uX.Additive(\n",
        "                aromatic=uX.Constant(0.5, (0.01, 10.0)) * uX.KroneckerDelta(0.5,(0.1, 0.9)),\n",
        "                conjugated=uX.Constant(0.5, (0.01, 10.0)) * uX.KroneckerDelta(0.5,(0.1, 0.9)),\n",
        "                order=uX.Constant(0.5, (0.01, 10.0)) * uX.KroneckerDelta(0.8,(0.1, 0.9)),\n",
        "                ring_stereo=uX.Constant(0.5, (0.01, 10.0)) * uX.KroneckerDelta(0.8,(0.1, 0.9)),\n",
        "                stereo=uX.Constant(0.5, (0.01, 10.0)) * uX.KroneckerDelta(0.8,(0.1, 0.9))\n",
        "            ).normalized,\n",
        "            p=Uniform(1.0, p_bounds='fixed'),\n",
        "            q=0.05\n",
        "        )\n",
        "    ),\n",
        "    alpha=1e-3, #different from gpr in alpha where gpr_base's alpha is 1e-4\n",
        "    optimizer=True,\n",
        "    normalize_y=True,\n",
        "    regularization='+',\n",
        ")"
      ],
      "execution_count": null,
      "outputs": []
    },
    {
      "cell_type": "code",
      "metadata": {
        "colab": {
          "base_uri": "https://localhost:8080/"
        },
        "id": "DMOsqYRETJmF",
        "outputId": "7dee7875-40b4-44e4-f0b6-75e1a05545f4"
      },
      "source": [
        "gpr3.fit(train.graphs, train[target], repeat=3, verbose=True)"
      ],
      "execution_count": null,
      "outputs": [
        {
          "output_type": "stream",
          "text": [
            "|        logP|       dlogP|     y^T.K.y|     log|K| |     Cond(K)|  GPU time|  CPU time|\n",
            "|------------|------------|------------|------------|------------|----------|----------|\n",
            "|  5.2754e+05|  1.7773e+06|  5.3362e+05|     -6084.7|  9.0549e+05|        25|      0.28|\n",
            "|  4.4224e+05|  1.9515e+06|  4.4805e+05|     -5808.2|  8.7902e+05|        20|      0.27|\n",
            "|  3.1405e+05|  1.8185e+06|  3.1934e+05|     -5298.7|  8.0593e+05|        18|      0.24|\n",
            "|  2.8469e+05|  1.6176e+06|  2.8985e+05|       -5163|  7.8268e+05|        17|      0.26|\n",
            "|  2.6118e+05|  1.4683e+06|  2.6622e+05|     -5042.3|  7.5644e+05|        17|      0.24|\n",
            "|  2.5267e+05|  1.3881e+06|  2.5767e+05|     -4997.8|  7.4692e+05|        16|      0.26|\n",
            "|   2.496e+05|  1.3914e+06|  2.5458e+05|       -4978|  7.4218e+05|        17|      0.25|\n",
            "|  2.4851e+05|  1.3833e+06|  2.5349e+05|     -4971.9|  7.4096e+05|        17|      0.25|\n",
            "|  2.4817e+05|  1.3928e+06|  2.5314e+05|     -4967.6|  7.3437e+05|        17|      0.24|\n",
            "|  2.4724e+05|  1.3771e+06|  2.5221e+05|     -4964.6|  7.3871e+05|        17|      0.23|\n",
            "|  2.4712e+05|  1.3738e+06|  2.5208e+05|     -4964.4|  7.3983e+05|        17|       0.3|\n",
            "|  2.4696e+05|  1.3707e+06|  2.5192e+05|     -4963.8|  7.4051e+05|        17|      0.26|\n",
            "|  2.4668e+05|  1.3678e+06|  2.5164e+05|     -4962.6|  7.4057e+05|        17|      0.26|\n",
            "|  2.4641e+05|  1.3713e+06|  2.5137e+05|       -4960|   7.393e+05|        17|      0.24|\n",
            "|  2.4626e+05|  1.3699e+06|  2.5122e+05|     -4959.3|  7.3801e+05|        17|      0.24|\n",
            "|  2.4623e+05|  1.3693e+06|  2.5119e+05|     -4959.3|  7.3765e+05|        17|      0.24|\n",
            "|  2.4624e+05|  1.3696e+06|   2.512e+05|     -4959.2|  7.3767e+05|        17|      0.25|\n",
            "|  2.4624e+05|  1.3693e+06|   2.512e+05|     -4959.3|  7.3763e+05|        17|      0.24|\n",
            "|  2.4623e+05|  1.3693e+06|  2.5119e+05|     -4959.3|  7.3758e+05|        17|      0.24|\n",
            "|  2.4624e+05|  1.3693e+06|   2.512e+05|     -4959.3|   7.377e+05|        17|      0.26|\n",
            "|  2.4624e+05|  1.3693e+06|   2.512e+05|     -4959.3|  7.3766e+05|        17|      0.28|\n",
            "|  2.4624e+05|  1.3694e+06|   2.512e+05|     -4959.3|  7.3766e+05|        17|      0.26|\n",
            "|  2.4623e+05|  1.3692e+06|  2.5119e+05|     -4959.3|  7.3767e+05|        17|      0.26|\n",
            "|        logP|       dlogP|     y^T.K.y|     log|K| |     Cond(K)|  GPU time|  CPU time|\n",
            "|------------|------------|------------|------------|------------|----------|----------|\n",
            "|  4.3132e+05|  2.1991e+06|  4.3709e+05|     -5766.2|  8.8044e+05|        20|      0.23|\n",
            "|  3.8205e+05|  2.0562e+06|  3.8763e+05|     -5587.8|  8.5782e+05|        19|      0.23|\n",
            "|  3.1542e+05|  1.9024e+06|  3.2073e+05|     -5313.3|  8.2092e+05|        19|      0.25|\n",
            "|  2.8239e+05|  1.7354e+06|  2.8753e+05|     -5138.7|  7.6999e+05|        19|      0.24|\n",
            "|  2.5844e+05|  1.4472e+06|  2.6347e+05|     -5032.7|  7.6497e+05|        17|      0.25|\n",
            "|  2.5462e+05|   1.423e+06|  2.5963e+05|     -5010.1|  7.5654e+05|        17|      0.24|\n",
            "|  2.4941e+05|  1.3953e+06|  2.5438e+05|     -4977.7|  7.4492e+05|        17|      0.23|\n",
            "|  2.4782e+05|  1.3818e+06|  2.5279e+05|     -4968.9|  7.3616e+05|        17|      0.24|\n",
            "|  2.4685e+05|  1.3767e+06|  2.5181e+05|     -4963.2|  7.3744e+05|        17|      0.23|\n",
            "|  2.4666e+05|  1.3771e+06|  2.5162e+05|     -4960.4|  7.3963e+05|        17|      0.25|\n",
            "|  2.4631e+05|  1.3714e+06|  2.5127e+05|     -4959.9|  7.3887e+05|        17|      0.23|\n",
            "|  2.4624e+05|  1.3688e+06|   2.512e+05|     -4960.1|  7.3878e+05|        17|      0.23|\n",
            "|  2.4618e+05|  1.3657e+06|  2.5114e+05|     -4960.1|  7.3874e+05|        17|      0.23|\n",
            "|  2.4615e+05|  1.3645e+06|  2.5111e+05|     -4959.9|  7.3868e+05|        17|      0.25|\n",
            "|  2.4608e+05|  1.3633e+06|  2.5103e+05|     -4959.5|  7.3863e+05|        17|      0.23|\n",
            "|  2.4597e+05|  1.3625e+06|  2.5093e+05|     -4958.9|  7.3829e+05|        17|      0.23|\n",
            "|  2.4593e+05|  1.3645e+06|  2.5089e+05|     -4958.5|   7.376e+05|        17|      0.25|\n",
            "|  2.4589e+05|  1.3641e+06|  2.5085e+05|     -4958.3|  7.3836e+05|        17|      0.24|\n",
            "|  2.4588e+05|  1.3646e+06|  2.5084e+05|     -4958.2|  7.3802e+05|        17|      0.23|\n",
            "|  2.4585e+05|  1.3647e+06|  2.5081e+05|     -4958.2|  7.3765e+05|        17|      0.28|\n",
            "|  2.4581e+05|  1.3635e+06|  2.5077e+05|     -4958.3|  7.3747e+05|        17|      0.25|\n",
            "|  2.4579e+05|  1.3623e+06|  2.5074e+05|     -4958.3|  7.3782e+05|        17|      0.25|\n",
            "|  2.4577e+05|   1.359e+06|  2.5073e+05|     -4958.8|  7.3883e+05|        17|      0.27|\n",
            "|  2.4576e+05|  1.3601e+06|  2.5072e+05|     -4958.6|   7.387e+05|        17|      0.24|\n",
            "|  2.4576e+05|  1.3607e+06|  2.5072e+05|     -4958.5|  7.3859e+05|        17|      0.23|\n",
            "|        logP|       dlogP|     y^T.K.y|     log|K| |     Cond(K)|  GPU time|  CPU time|\n",
            "|------------|------------|------------|------------|------------|----------|----------|\n",
            "|  5.7164e+05|  1.6233e+06|  5.7783e+05|     -6194.5|  8.9548e+05|        21|      0.25|\n",
            "|  4.7796e+05|  1.8426e+06|  4.8386e+05|     -5904.1|  8.7295e+05|        20|      0.26|\n",
            "|  3.3798e+05|  1.8581e+06|  3.4337e+05|     -5394.5|  8.2045e+05|        18|      0.24|\n",
            "|  2.9137e+05|  1.7091e+06|  2.9656e+05|     -5188.7|  7.8714e+05|        19|      0.23|\n",
            "|  2.6899e+05|  1.5524e+06|  2.7408e+05|     -5081.7|  7.6873e+05|        18|      0.25|\n",
            "|  2.5569e+05|  1.4244e+06|  2.6071e+05|     -5015.7|  7.5632e+05|        17|      0.25|\n",
            "|  2.5073e+05|  1.4143e+06|  2.5571e+05|     -4982.2|  7.4341e+05|        18|      0.25|\n",
            "|  2.4974e+05|  1.4008e+06|  2.5472e+05|     -4979.3|  7.4547e+05|        17|      0.23|\n",
            "|  2.4886e+05|  1.3879e+06|  2.5384e+05|     -4975.9|  7.4569e+05|        17|      0.24|\n",
            "|  2.4798e+05|  1.3761e+06|  2.5295e+05|     -4971.5|  7.4426e+05|        17|      0.23|\n",
            "|  2.4717e+05|   1.378e+06|  2.5214e+05|     -4965.5|  7.4085e+05|        17|      0.27|\n",
            "|  2.4669e+05|  1.3741e+06|  2.5166e+05|     -4962.6|  7.3887e+05|        17|      0.24|\n",
            "|   2.464e+05|  1.3657e+06|  2.5136e+05|     -4960.9|   7.412e+05|        17|      0.23|\n",
            "|  2.4628e+05|  1.3668e+06|  2.5124e+05|     -4960.5|  7.3916e+05|        17|      0.25|\n",
            "|  2.4624e+05|  1.3678e+06|   2.512e+05|     -4960.2|  7.3857e+05|        17|      0.23|\n",
            "|  2.4619e+05|  1.3698e+06|  2.5115e+05|     -4959.9|  7.3793e+05|        17|      0.24|\n",
            "|  2.4614e+05|  1.3703e+06|   2.511e+05|     -4959.6|  7.3771e+05|        17|      0.24|\n",
            "|  2.4595e+05|  1.3683e+06|  2.5091e+05|     -4959.1|  7.3767e+05|        17|      0.24|\n",
            "|  2.4602e+05|  1.3688e+06|  2.5098e+05|     -4958.9|  7.3875e+05|        17|      0.24|\n",
            "|  2.4592e+05|  1.3683e+06|  2.5088e+05|     -4958.9|  7.3796e+05|        17|      0.23|\n",
            "|  2.4589e+05|  1.3655e+06|  2.5085e+05|       -4959|  7.3856e+05|        17|      0.24|\n",
            "|  2.4586e+05|  1.3623e+06|  2.5082e+05|     -4959.2|  7.3918e+05|        17|      0.24|\n",
            "|  2.4584e+05|  1.3616e+06|   2.508e+05|     -4959.3|  7.3917e+05|        17|      0.24|\n",
            "|  2.4583e+05|  1.3615e+06|  2.5079e+05|     -4959.3|  7.3903e+05|        17|      0.23|\n",
            "|  2.4579e+05|  1.3614e+06|  2.5075e+05|     -4959.3|  7.3865e+05|        17|      0.24|\n",
            "|  2.4578e+05|   1.362e+06|  2.5074e+05|     -4959.2|  7.3874e+05|        17|      0.24|\n",
            "|  2.4576e+05|  1.3621e+06|  2.5072e+05|     -4959.1|   7.391e+05|        17|      0.23|\n",
            "|  2.4576e+05|  1.3624e+06|  2.5072e+05|     -4959.1|  7.3901e+05|        17|      0.27|\n",
            "Optimization result:\n",
            "      fun: 245757.64498811733\n",
            " hess_inv: <25x25 LbfgsInvHessProduct with dtype=float64>\n",
            "      jac: array([ 1.35950050e+02,  3.77357938e+01,  1.05734705e+01, -2.13075274e+01,\n",
            "        3.36341811e+03,  6.74591558e+01,  0.00000000e+00,  1.41114101e+00,\n",
            "        7.33894523e+00, -1.51578382e+02,  0.00000000e+00,  1.62796677e+01,\n",
            "        5.68562303e+00,  5.22025613e+01,  4.39601078e+03, -3.71667507e+01,\n",
            "        5.31204650e+02,  1.71062274e+01,  6.87112378e+02,  6.34393286e+01,\n",
            "        7.78485000e+01,  1.29002790e+01,  0.00000000e+00, -5.61367681e+01,\n",
            "        4.45773454e+01])\n",
            "  message: b'CONVERGENCE: REL_REDUCTION_OF_F_<=_FACTR*EPSMCH'\n",
            "     nfev: 25\n",
            "      nit: 24\n",
            "   status: 0\n",
            "  success: True\n",
            "        x: array([-9.21034037, -4.60517019, -1.33774258,  1.50058885, -2.30258509,\n",
            "       -4.60517019, -0.21165109, -4.60517019, -2.30258509,  2.2686602 ,\n",
            "       -4.07543091, -4.60517019, -2.30258509,  1.77034144, -2.30258509,\n",
            "        1.30229701, -2.30258509,  1.57009793, -2.30258509, -0.52372387,\n",
            "       -2.30258509, -4.60517019, -0.10536052, -1.31858519, -2.30258509])\n"
          ],
          "name": "stdout"
        },
        {
          "output_type": "execute_result",
          "data": {
            "text/plain": [
              "<graphdot.model.gaussian_process.gpr.GaussianProcessRegressor at 0x7fb9a0f83150>"
            ]
          },
          "metadata": {
            "tags": []
          },
          "execution_count": 13
        }
      ]
    },
    {
      "cell_type": "code",
      "metadata": {
        "colab": {
          "base_uri": "https://localhost:8080/",
          "height": 265
        },
        "id": "Q0l6rMkTTOKg",
        "outputId": "fe47d572-3727-4eca-f40f-cb2c5dca3c2e"
      },
      "source": [
        "mu = gpr3.predict(train.graphs)\n",
        "plt.scatter(train[target], mu)\n",
        "#plt.plot(np.linspace(-9, 3), np.linspace(-9, 3), c = 'r')\n",
        "#plt.xlim(-9, 3)\n",
        "#plt.ylim(-9, 3)\n",
        "plt.show()"
      ],
      "execution_count": null,
      "outputs": [
        {
          "output_type": "display_data",
          "data": {
            "image/png": "[encoded data removed]",
            "text/plain": [
              "<Figure size 432x288 with 1 Axes>"
            ]
          },
          "metadata": {
            "tags": []
          }
        }
      ]
    },
    {
      "cell_type": "code",
      "metadata": {
        "colab": {
          "base_uri": "https://localhost:8080/"
        },
        "id": "A1nZ3FxbY-53",
        "outputId": "0fd86468-ae49-4d47-8b90-270cc57f6a80"
      },
      "source": [
        "print('Training set')\n",
        "print('MAE:', np.mean(np.abs(train[target] - mu)))\n",
        "print('RMSE:', np.std(train[target] - mu))"
      ],
      "execution_count": null,
      "outputs": [
        {
          "output_type": "stream",
          "text": [
            "Training set\n",
            "MAE: 0.3711113759832458\n",
            "RMSE: 0.5245520571276874\n"
          ],
          "name": "stdout"
        }
      ]
    },
    {
      "cell_type": "code",
      "metadata": {
        "colab": {
          "base_uri": "https://localhost:8080/",
          "height": 265
        },
        "id": "2iX9DV4eYsuP",
        "outputId": "cd55c63a-c299-4e0c-d97f-430834499f5a"
      },
      "source": [
        "mu_test = gpr3.predict(test.graphs)\n",
        "plt.scatter(test[target], mu_test)\n",
        "#plt.plot(np.linspace(-10, 4), np.linspace(-10, 4), c = 'r')\n",
        "#plt.xlim(-10, 4)\n",
        "#plt.ylim(-10, 4)\n",
        "plt.show()"
      ],
      "execution_count": null,
      "outputs": [
        {
          "output_type": "display_data",
          "data": {
            "image/png": "[encoded data removed]",
            "text/plain": [
              "<Figure size 432x288 with 1 Axes>"
            ]
          },
          "metadata": {
            "tags": []
          }
        }
      ]
    },
    {
      "cell_type": "code",
      "metadata": {
        "colab": {
          "base_uri": "https://localhost:8080/"
        },
        "id": "7pXONaU0YvcN",
        "outputId": "48ba4fdb-b47c-4215-c89a-7e81da0fd875"
      },
      "source": [
        "print('Test set')\n",
        "print('MAE:', np.mean(np.abs(test[target] - mu_test)))\n",
        "print('RMSE:', np.std(test[target] - mu_test))"
      ],
      "execution_count": null,
      "outputs": [
        {
          "output_type": "stream",
          "text": [
            "Test set\n",
            "MAE: 1.1498112446483284\n",
            "RMSE: 1.4624191158480997\n"
          ],
          "name": "stdout"
        }
      ]
    },
    {
      "cell_type": "markdown",
      "metadata": {
        "id": "gPRC7yPTaUjY"
      },
      "source": [
        "### Model 4"
      ]
    },
    {
      "cell_type": "code",
      "metadata": {
        "id": "i7XLOVInZCmn"
      },
      "source": [
        "gpr4 = GaussianProcessRegressor(\n",
        "    kernel=Normalization(\n",
        "        MarginalizedGraphKernel(\n",
        "            node_kernel=uX.Additive(\n",
        "                aromatic=uX.Constant(0.5, (0.01, 10.0)) * uX.KroneckerDelta(0.5,(0.1, 0.9)),\n",
        "                atomic_number=uX.Constant(0.5, (0.01, 10.0)) * uX.KroneckerDelta(0.8,(0.1, 0.9)),\n",
        "                charge=uX.Constant(0.5, (0.01, 10.0)) * uX.SquareExponential(1.0),\n",
        "                chiral=uX.Constant(0.5, (0.01, 10.0)) * uX.KroneckerDelta(0.5,(0.1, 0.9)),\n",
        "                hcount=uX.Constant(0.5, (0.01, 10.0)) * uX.SquareExponential(1.0),\n",
        "                hybridization=uX.Constant(0.5, (0.01, 10.0)) * uX.KroneckerDelta(0.5,(0.1, 0.9)),\n",
        "                ring_list=uX.Constant(0.5, (0.01, 100.0)) * uX.Convolution(uX.KroneckerDelta(0.5,(0.1, 0.9)))\n",
        "            ).normalized,\n",
        "            edge_kernel=uX.Additive(\n",
        "                aromatic=uX.Constant(0.5, (0.01, 10.0)) * uX.KroneckerDelta(0.5,(0.1, 0.9)),\n",
        "                conjugated=uX.Constant(0.5, (0.01, 10.0)) * uX.KroneckerDelta(0.5,(0.1, 0.9)),\n",
        "                order=uX.Constant(0.5, (0.01, 10.0)) * uX.KroneckerDelta(0.8,(0.1, 0.9)),\n",
        "                ring_stereo=uX.Constant(0.5, (0.01, 10.0)) * uX.KroneckerDelta(0.8,(0.1, 0.9)),\n",
        "                stereo=uX.Constant(0.5, (0.01, 10.0)) * uX.KroneckerDelta(0.8,(0.1, 0.9))\n",
        "            ).normalized,\n",
        "            p=Uniform(1.0, p_bounds='fixed'),\n",
        "            q=0.05\n",
        "        )\n",
        "    ),\n",
        "    alpha=1e-2, #different from gpr in alpha where gpr_base's alpha is 1e-4\n",
        "    optimizer=True,\n",
        "    normalize_y=True,\n",
        "    regularization='+',\n",
        ")"
      ],
      "execution_count": null,
      "outputs": []
    },
    {
      "cell_type": "code",
      "metadata": {
        "colab": {
          "base_uri": "https://localhost:8080/"
        },
        "id": "E0gUX8-WafGo",
        "outputId": "1f35f1c6-3c5f-4b01-8391-98b090b61188"
      },
      "source": [
        "gpr4.fit(train.graphs, train[target], repeat=3, verbose=True)"
      ],
      "execution_count": null,
      "outputs": [
        {
          "output_type": "stream",
          "text": [
            "|        logP|       dlogP|     y^T.K.y|     log|K| |     Cond(K)|  GPU time|  CPU time|\n",
            "|------------|------------|------------|------------|------------|----------|----------|\n",
            "|       66517|       88265|       70813|     -4296.2|       90905|        21|      0.28|\n",
            "|       61455|  1.0409e+05|       65648|     -4193.5|       88757|        19|      0.25|\n",
            "|       50869|  1.1321e+05|       54789|     -3920.3|       81573|        17|      0.23|\n",
            "|       49285|  1.0995e+05|       53162|     -3876.6|       80232|        17|      0.28|\n",
            "|       48321|  1.0553e+05|       52167|       -3845|       78704|        16|      0.24|\n",
            "|       47912|  1.0664e+05|       51747|     -3834.9|       78334|        17|      0.25|\n",
            "|       47815|  1.0611e+05|       51648|     -3832.7|       78473|        17|      0.25|\n",
            "|       47734|  1.0602e+05|       51565|     -3830.1|       78399|        17|      0.24|\n",
            "|       47721|   1.056e+05|       51549|     -3828.8|       78754|        17|      0.25|\n",
            "|       47682|  1.0583e+05|       51510|     -3827.7|       78471|        17|      0.25|\n",
            "|       47662|  1.0594e+05|       51489|     -3827.2|       78334|        17|      0.28|\n",
            "|       47637|  1.0591e+05|       51463|     -3826.7|       78258|        17|      0.24|\n",
            "|       47613|  1.0565e+05|       51439|     -3826.3|       78273|        17|      0.24|\n",
            "|       47587|  1.0505e+05|       51413|     -3826.2|       78397|        17|      0.25|\n",
            "|       47584|  1.0508e+05|       51410|       -3826|       78364|        17|      0.25|\n",
            "|       47579|  1.0506e+05|       51404|     -3825.6|       78277|        17|      0.23|\n",
            "|       47574|  1.0486e+05|       51399|     -3825.5|       78232|        17|      0.25|\n",
            "|       47570|    1.04e+05|       51397|     -3826.4|       78274|        17|      0.28|\n",
            "|       47576|  1.0386e+05|       51402|     -3825.9|       78262|        17|      0.24|\n",
            "|       47569|  1.0395e+05|       51395|     -3826.1|       78271|        17|      0.24|\n",
            "|       47567|  1.0417e+05|       51393|     -3826.1|       78324|        17|      0.28|\n",
            "|       47566|  1.0407e+05|       51392|     -3826.3|       78362|        17|      0.23|\n",
            "|       47566|  1.0398e+05|       51392|     -3826.4|       78386|        17|      0.24|\n",
            "|       47566|  1.0405e+05|       51393|     -3826.3|       78366|        17|      0.24|\n",
            "|       47566|  1.0406e+05|       51392|     -3826.3|       78363|        17|      0.25|\n",
            "|       47566|  1.0407e+05|       51392|     -3826.3|       78362|        17|      0.24|\n",
            "|       47566|  1.0407e+05|       51392|     -3826.3|       78361|        17|      0.25|\n",
            "|        logP|       dlogP|     y^T.K.y|     log|K| |     Cond(K)|  GPU time|  CPU time|\n",
            "|------------|------------|------------|------------|------------|----------|----------|\n",
            "|       73087|       31386|       77530|       -4443|       95203|        16|      0.26|\n",
            "|       69027|       48566|       73397|     -4370.2|       93280|        18|      0.25|\n",
            "|       56295|  1.0441e+05|       60364|     -4068.9|       85503|        19|      0.26|\n",
            "|       49629|  1.0815e+05|       53493|     -3864.5|       76173|        17|      0.26|\n",
            "|       48176|  1.0901e+05|       52013|     -3837.5|       77267|        17|      0.26|\n",
            "|       49949|   1.003e+05|       53850|       -3901|       82147|        18|      0.26|\n",
            "|       47973|   1.074e+05|       51809|     -3836.1|       78349|        18|      0.26|\n",
            "|       47868|  1.0647e+05|       51701|     -3833.7|       78588|        17|      0.25|\n",
            "|       47825|  1.0603e+05|       51658|     -3832.9|       78699|        17|      0.25|\n",
            "|       47758|  1.0569e+05|       51589|     -3831.2|       78709|        17|      0.25|\n",
            "|       47712|  1.0601e+05|       51542|     -3829.4|       78587|        17|      0.26|\n",
            "|       47692|  1.0615e+05|       51520|     -3828.2|       78413|        17|      0.24|\n",
            "|       47690|  1.0616e+05|       51518|     -3828.1|       78396|        17|      0.23|\n",
            "|       47681|  1.0614e+05|       51508|     -3827.4|       78346|        17|      0.24|\n",
            "|       47681|  1.0645e+05|       51508|     -3827.2|       78253|        17|      0.24|\n",
            "|       47674|  1.0629e+05|       51501|     -3827.1|       78299|        17|      0.25|\n",
            "|       47654|  1.0622e+05|       51481|     -3826.3|       78288|        17|      0.25|\n",
            "|       47645|  1.0603e+05|       51471|     -3826.2|       78342|        17|      0.26|\n",
            "|       47644|  1.0605e+05|       51471|     -3826.4|       78352|        17|      0.26|\n",
            "|       47644|  1.0604e+05|       51471|     -3826.3|       78347|        17|      0.24|\n",
            "|        logP|       dlogP|     y^T.K.y|     log|K| |     Cond(K)|  GPU time|  CPU time|\n",
            "|------------|------------|------------|------------|------------|----------|----------|\n",
            "|       67828|  1.0852e+05|       72138|     -4309.5|       89137|        24|      0.25|\n",
            "|       62412|  1.1469e+05|       66616|       -4204|       87873|        21|      0.25|\n",
            "|       56410|   1.222e+05|       60478|     -4067.7|       85994|        20|      0.26|\n",
            "|       51080|  1.1784e+05|       55004|     -3924.2|       81494|        18|      0.26|\n",
            "|       49634|  1.1413e+05|       53522|     -3888.1|       80979|        18|      0.24|\n",
            "|       48936|  1.0759e+05|       52800|     -3863.2|       79659|        17|      0.24|\n",
            "|       48434|  1.0891e+05|       52284|     -3850.2|       79231|        17|      0.24|\n",
            "|       48204|  1.0827e+05|       52049|     -3844.6|       79132|        18|      0.25|\n",
            "|       47886|  1.0625e+05|       51723|     -3836.7|       78967|        17|      0.24|\n",
            "|       48724|  1.0903e+05|       52577|     -3853.3|       76871|        19|      0.24|\n",
            "|       47877|  1.0635e+05|       51713|     -3836.1|       78785|        18|      0.24|\n",
            "|       48134|  1.0654e+05|       51976|     -3841.5|       78087|        18|      0.24|\n",
            "|       47877|  1.0635e+05|       51712|       -3836|       78744|        17|      0.23|\n",
            "|       47789|  1.0549e+05|       51623|     -3834.3|       78780|        17|      0.24|\n",
            "|       47692|  1.0404e+05|       51525|     -3832.6|       78739|        17|      0.24|\n",
            "|       47665|  1.0386e+05|       51497|     -3831.4|       78613|        17|      0.24|\n",
            "|       47626|  1.0394e+05|       51456|     -3829.6|       78486|        17|      0.26|\n",
            "|       47604|  1.0463e+05|       51432|     -3827.8|       78343|        17|      0.26|\n",
            "|       47590|  1.0446e+05|       51417|     -3827.3|       78398|        17|      0.24|\n",
            "|       47588|  1.0442e+05|       51415|     -3827.1|       78415|        17|      0.26|\n",
            "|       47586|  1.0443e+05|       51413|     -3826.9|       78414|        17|      0.28|\n",
            "|       47582|   1.045e+05|       51409|     -3826.5|       78406|        17|      0.24|\n",
            "|       47579|  1.0481e+05|       51405|     -3825.9|       78253|        17|      0.23|\n",
            "|       47575|  1.0471e+05|       51401|       -3826|       78318|        17|      0.24|\n",
            "|       47573|  1.0459e+05|       51399|     -3826.2|       78354|        17|      0.24|\n",
            "|       47571|  1.0449e+05|       51397|     -3826.3|       78369|        17|      0.24|\n",
            "|       47568|  1.0432e+05|       51394|     -3826.5|       78382|        17|      0.23|\n",
            "|       47566|  1.0421e+05|       51393|     -3826.5|       78376|        17|      0.24|\n",
            "|       47565|   1.042e+05|       51391|     -3826.3|       78347|        17|      0.26|\n",
            "|       47564|  1.0411e+05|       51390|     -3826.1|       78329|        17|      0.24|\n",
            "|       47564|  1.0402e+05|       51390|     -3826.2|       78343|        17|      0.23|\n",
            "|       47564|  1.0392e+05|       51390|     -3826.3|       78361|        17|      0.26|\n",
            "|       47563|  1.0399e+05|       51389|     -3826.2|       78348|        17|      0.24|\n",
            "Optimization result:\n",
            "      fun: 47563.16826613996\n",
            " hess_inv: <25x25 LbfgsInvHessProduct with dtype=float64>\n",
            "      jac: array([ 1.03860634e+01,  3.99556925e+00,  4.34356887e-01, -4.38765528e+00,\n",
            "        3.35685830e+02,  5.48613650e+00,  0.00000000e+00,  3.74597978e+00,\n",
            "        3.71923847e-01, -1.86677689e+01,  1.80494389e-04,  2.34556512e+00,\n",
            "        6.89757782e-01,  7.46525570e+00,  3.86435984e+02, -4.08724178e+00,\n",
            "        6.25487975e+01,  3.79069496e+00,  5.00876053e+01, -1.47395577e+00,\n",
            "        1.52830838e+01,  1.49931223e+00,  0.00000000e+00,  2.53256179e-01,\n",
            "        2.78310073e-01])\n",
            "  message: b'CONVERGENCE: REL_REDUCTION_OF_F_<=_FACTR*EPSMCH'\n",
            "     nfev: 33\n",
            "      nit: 29\n",
            "   status: 0\n",
            "  success: True\n",
            "        x: array([-9.21034037, -4.23992363, -2.30258509,  1.70454451, -2.30258509,\n",
            "       -4.60517019, -0.39405819, -4.60517019, -1.7367717 ,  2.30258509,\n",
            "       -1.86521329, -4.33629426, -2.08030139,  1.84897251, -2.30258509,\n",
            "        2.14248562, -2.30258509,  1.93608271, -2.30258509,  0.72987226,\n",
            "       -2.30258509, -3.7783557 , -1.83514442, -3.16885023, -2.30258509])\n"
          ],
          "name": "stdout"
        },
        {
          "output_type": "execute_result",
          "data": {
            "text/plain": [
              "<graphdot.model.gaussian_process.gpr.GaussianProcessRegressor at 0x7fb9896f5fd0>"
            ]
          },
          "metadata": {
            "tags": []
          },
          "execution_count": 20
        }
      ]
    },
    {
      "cell_type": "code",
      "metadata": {
        "colab": {
          "base_uri": "https://localhost:8080/",
          "height": 265
        },
        "id": "jp7vHKOgagqA",
        "outputId": "41251b73-17b6-441f-bfc2-a2eab06cc6e1"
      },
      "source": [
        "mu = gpr4.predict(train.graphs)\n",
        "plt.scatter(train[target], mu)\n",
        "#plt.plot(np.linspace(-9, 3), np.linspace(-9, 3), c = 'r')\n",
        "#plt.xlim(-9, 3)\n",
        "#plt.ylim(-9, 3)\n",
        "plt.show()"
      ],
      "execution_count": null,
      "outputs": [
        {
          "output_type": "display_data",
          "data": {
            "image/png": "[encoded data removed]",
            "text/plain": [
              "<Figure size 432x288 with 1 Axes>"
            ]
          },
          "metadata": {
            "tags": []
          }
        }
      ]
    },
    {
      "cell_type": "code",
      "metadata": {
        "colab": {
          "base_uri": "https://localhost:8080/"
        },
        "id": "q7vXUGCJalKn",
        "outputId": "f29f6590-29c8-47eb-8c56-651e94b43b74"
      },
      "source": [
        "print('Training set')\n",
        "print('MAE:', np.mean(np.abs(train[target] - mu)))\n",
        "print('RMSE:', np.std(train[target] - mu))"
      ],
      "execution_count": null,
      "outputs": [
        {
          "output_type": "stream",
          "text": [
            "Training set\n",
            "MAE: 0.6721642416785486\n",
            "RMSE: 0.9001504628434619\n"
          ],
          "name": "stdout"
        }
      ]
    },
    {
      "cell_type": "code",
      "metadata": {
        "colab": {
          "base_uri": "https://localhost:8080/",
          "height": 265
        },
        "id": "TW24kA-Aany3",
        "outputId": "8814c18a-b82a-47f5-a6db-d99d43be3c32"
      },
      "source": [
        "mu_test = gpr4.predict(test.graphs)\n",
        "plt.scatter(test[target], mu_test)\n",
        "#plt.plot(np.linspace(-10, 4), np.linspace(-10, 4), c = 'r')\n",
        "#plt.xlim(-10, 4)\n",
        "#plt.ylim(-10, 4)\n",
        "plt.show()"
      ],
      "execution_count": null,
      "outputs": [
        {
          "output_type": "display_data",
          "data": {
            "image/png": "[encoded data removed]",
            "text/plain": [
              "<Figure size 432x288 with 1 Axes>"
            ]
          },
          "metadata": {
            "tags": []
          }
        }
      ]
    },
    {
      "cell_type": "code",
      "metadata": {
        "colab": {
          "base_uri": "https://localhost:8080/"
        },
        "id": "OtnYxbCwap6f",
        "outputId": "2ef2e827-bb0b-44b7-8097-06d190eb91cd"
      },
      "source": [
        "print('Test set')\n",
        "print('MAE:', np.mean(np.abs(test[target] - mu_test)))\n",
        "print('RMSE:', np.std(test[target] - mu_test))"
      ],
      "execution_count": null,
      "outputs": [
        {
          "output_type": "stream",
          "text": [
            "Test set\n",
            "MAE: 0.996800387138675\n",
            "RMSE: 1.2687098498475842\n"
          ],
          "name": "stdout"
        }
      ]
    },
    {
      "cell_type": "markdown",
      "metadata": {
        "id": "f8q_BbnwhQFa"
      },
      "source": [
        "### Model 5"
      ]
    },
    {
      "cell_type": "code",
      "metadata": {
        "id": "ode7AmkEhRXq"
      },
      "source": [
        "gpr5 = GaussianProcessRegressor(\n",
        "    kernel=Normalization(\n",
        "        MarginalizedGraphKernel(\n",
        "            node_kernel=uX.Additive(\n",
        "                aromatic=uX.Constant(0.5, (0.01, 10.0)) * uX.KroneckerDelta(0.5,(0.1, 0.9)),\n",
        "                atomic_number=uX.Constant(0.5, (0.01, 10.0)) * uX.KroneckerDelta(0.8,(0.1, 0.9)),\n",
        "                charge=uX.Constant(0.5, (0.01, 10.0)) * uX.SquareExponential(1.0),\n",
        "                chiral=uX.Constant(0.5, (0.01, 10.0)) * uX.KroneckerDelta(0.5,(0.1, 0.9)),\n",
        "                hcount=uX.Constant(0.5, (0.01, 10.0)) * uX.SquareExponential(1.0),\n",
        "                hybridization=uX.Constant(0.5, (0.01, 10.0)) * uX.KroneckerDelta(0.5,(0.1, 0.9)),\n",
        "                ring_list=uX.Constant(0.5, (0.01, 100.0)) * uX.Convolution(uX.KroneckerDelta(0.5,(0.1, 0.9)))\n",
        "            ).normalized,\n",
        "            edge_kernel=uX.Additive(\n",
        "                aromatic=uX.Constant(0.5, (0.01, 10.0)) * uX.KroneckerDelta(0.5,(0.1, 0.9)),\n",
        "                conjugated=uX.Constant(0.5, (0.01, 10.0)) * uX.KroneckerDelta(0.5,(0.1, 0.9)),\n",
        "                order=uX.Constant(0.5, (0.01, 10.0)) * uX.KroneckerDelta(0.8,(0.1, 0.9)),\n",
        "                ring_stereo=uX.Constant(0.5, (0.01, 10.0)) * uX.KroneckerDelta(0.8,(0.1, 0.9)),\n",
        "                stereo=uX.Constant(0.5, (0.01, 10.0)) * uX.KroneckerDelta(0.8,(0.1, 0.9))\n",
        "            ).normalized,\n",
        "            p=Uniform(1.0, p_bounds='fixed'),\n",
        "            q=0.05\n",
        "        )\n",
        "    ),\n",
        "    alpha=1e-1, #different from gpr in alpha where gpr_base's alpha is 1e-4\n",
        "    optimizer=True,\n",
        "    normalize_y=True,\n",
        "    regularization='+',\n",
        ")"
      ],
      "execution_count": null,
      "outputs": []
    },
    {
      "cell_type": "code",
      "metadata": {
        "colab": {
          "base_uri": "https://localhost:8080/"
        },
        "id": "Lw24-hl8hV-5",
        "outputId": "a072f109-e466-4866-b481-4d8d02b09965"
      },
      "source": [
        "gpr5.fit(train.graphs, train[target], repeat=3, verbose=True)"
      ],
      "execution_count": null,
      "outputs": [
        {
          "output_type": "stream",
          "text": [
            "|        logP|       dlogP|     y^T.K.y|     log|K| |     Cond(K)|  GPU time|  CPU time|\n",
            "|------------|------------|------------|------------|------------|----------|----------|\n",
            "|      5933.5|      3681.9|        8130|     -2196.5|        9095|        23|      0.27|\n",
            "|      5700.6|      4368.7|      7866.6|       -2166|        8897|        21|      0.23|\n",
            "|      5244.7|      4143.6|      7321.1|     -2076.4|      8114.4|        17|      0.24|\n",
            "|      5161.9|      4261.1|      7222.8|       -2061|      8040.9|        17|      0.23|\n",
            "|      5123.7|      4119.8|      7182.2|     -2058.5|      8116.4|        17|      0.25|\n",
            "|      5100.9|      4055.4|      7155.4|     -2054.5|      8044.2|        17|      0.25|\n",
            "|      5081.3|      3976.5|      7132.4|     -2051.1|      7995.7|        17|      0.24|\n",
            "|      5078.6|      3971.4|      7128.4|     -2049.9|      7991.1|        17|      0.24|\n",
            "|        5077|      3973.1|      7126.9|     -2049.9|      7990.8|        17|      0.24|\n",
            "|      5075.4|      3971.5|      7125.2|     -2049.7|      7988.9|        17|      0.24|\n",
            "|        5074|      3966.8|      7123.6|     -2049.5|      7985.4|        17|      0.26|\n",
            "|      5071.8|      3952.7|        7121|     -2049.2|      7981.1|        17|      0.25|\n",
            "|      5068.8|      3927.3|      7117.9|     -2049.1|      7982.1|        17|      0.26|\n",
            "|      5067.9|      3915.3|      7117.1|     -2049.1|      7980.4|        17|      0.25|\n",
            "|      5067.8|      3917.4|      7116.9|     -2049.1|      7979.1|        17|      0.25|\n",
            "|      5067.8|      3919.2|      7116.8|       -2049|      7978.5|        17|      0.24|\n",
            "|        logP|       dlogP|     y^T.K.y|     log|K| |     Cond(K)|  GPU time|  CPU time|\n",
            "|------------|------------|------------|------------|------------|----------|----------|\n",
            "|      6316.2|      4166.3|      8544.1|     -2227.9|        9356|        21|      0.23|\n",
            "|      5897.8|      4552.2|      8086.8|       -2189|      9123.3|        20|      0.25|\n",
            "|      5402.1|      4470.5|      7523.5|     -2121.3|      8676.4|        18|      0.23|\n",
            "|      5263.9|      4484.2|        7355|     -2091.2|      8445.2|        18|      0.26|\n",
            "|      5192.2|      4382.6|      7262.9|     -2070.7|      8189.6|        18|      0.25|\n",
            "|      5121.6|      4136.4|      7180.3|     -2058.7|      8143.5|        17|      0.24|\n",
            "|      5111.8|        4133|      7163.8|       -2052|        7978|        17|      0.23|\n",
            "|      5100.7|      4164.8|      7150.7|     -2049.9|      7976.5|        17|      0.24|\n",
            "|        5094|        4154|        7143|       -2049|      7983.6|        17|      0.23|\n",
            "|      5089.6|        4131|      7138.2|     -2048.5|      7988.5|        17|      0.23|\n",
            "|      5086.1|      4087.2|      7133.9|     -2047.8|      7974.4|        17|      0.23|\n",
            "|      5082.2|      4085.6|        7130|     -2047.8|      7979.5|        17|      0.26|\n",
            "|      5079.1|      4076.2|      7126.9|     -2047.9|      7977.4|        17|      0.23|\n",
            "|      5078.3|      4068.3|      7126.3|       -2048|      7976.8|        17|      0.26|\n",
            "|      5075.3|      3953.8|        7125|     -2049.7|      7975.3|        17|      0.23|\n",
            "|      5073.1|      3984.2|      7122.2|     -2049.1|      7987.6|        17|      0.26|\n",
            "|      5072.6|      3973.4|      7121.8|     -2049.2|      7988.8|        17|      0.28|\n",
            "|      5071.1|      3934.7|      7120.4|     -2049.3|      7985.3|        17|      0.26|\n",
            "|      5069.9|        3928|      7119.1|     -2049.2|      7984.2|        17|      0.25|\n",
            "|      5068.5|      3913.3|      7117.8|     -2049.3|      7983.9|        17|      0.24|\n",
            "|      5067.8|      3915.3|      7116.6|     -2048.8|      7969.8|        17|      0.25|\n",
            "|      5067.5|      3903.7|      7117.2|     -2049.7|      7993.3|        17|      0.25|\n",
            "|      5067.3|      3908.8|      7116.5|     -2049.2|      7983.6|        17|      0.24|\n",
            "|      5067.1|        3910|      7116.1|       -2049|      7977.3|        17|      0.23|\n",
            "|      5067.1|      3910.1|      7116.1|       -2049|      7977.7|        17|      0.26|\n",
            "|        logP|       dlogP|     y^T.K.y|     log|K| |     Cond(K)|  GPU time|  CPU time|\n",
            "|------------|------------|------------|------------|------------|----------|----------|\n",
            "|      5834.4|      4699.1|      8022.2|     -2187.9|      9207.7|        21|      0.23|\n",
            "|      5579.2|      4272.2|      7729.4|     -2150.2|      8902.1|        19|      0.24|\n",
            "|        5265|      4187.4|      7346.4|     -2081.4|      8221.2|        18|      0.27|\n",
            "|      5170.4|      3954.9|      7238.8|     -2068.4|      8110.4|        17|      0.24|\n",
            "|      5137.6|      4046.1|      7198.2|     -2060.6|      8053.1|        17|      0.25|\n",
            "|      5109.8|      4060.1|      7164.7|     -2054.9|      8036.6|        17|      0.23|\n",
            "|      5092.8|      4026.6|      7144.8|       -2052|      8014.6|        17|      0.23|\n",
            "|      5086.7|      3944.7|      7136.4|     -2049.7|      7929.4|        17|      0.23|\n",
            "|      5078.8|      3926.5|      7130.6|     -2051.8|      8024.8|        17|      0.24|\n",
            "|      5077.1|      3942.6|      7128.1|     -2050.9|      8009.4|        17|      0.23|\n",
            "|      5075.3|      3953.9|      7125.3|     -2049.9|      7991.6|        17|      0.27|\n",
            "|      5072.7|        3957|      7121.7|       -2049|      7973.5|        17|      0.25|\n",
            "|      5069.8|      3945.2|      7118.4|     -2048.6|      7968.5|        17|      0.24|\n",
            "|      5069.4|        3932|      7118.3|     -2048.9|      7981.7|        17|      0.25|\n",
            "|      5068.9|      3930.6|      7117.9|       -2049|        7981|        17|      0.23|\n",
            "|      5068.8|      3926.4|      7117.9|     -2049.1|      7983.4|        17|      0.24|\n",
            "|      5068.4|      3917.5|      7117.9|     -2049.4|      7987.3|        17|      0.23|\n",
            "|      5068.1|      3910.6|      7117.7|     -2049.6|        7989|        17|      0.25|\n",
            "|      5067.8|      3913.7|      7117.1|     -2049.3|        7985|        17|      0.23|\n",
            "|      5067.6|      3919.1|      7116.2|     -2048.6|      7972.4|        17|      0.23|\n",
            "|      5067.4|      3918.6|      7116.2|     -2048.8|      7975.7|        17|      0.23|\n",
            "|      5067.4|        3918|      7116.2|     -2048.9|        7976|        17|      0.23|\n",
            "Optimization result:\n",
            "      fun: 5067.119508760024\n",
            " hess_inv: <25x25 LbfgsInvHessProduct with dtype=float64>\n",
            "      jac: array([ 3.90259274e-01,  1.87865706e-01,  2.15153320e-02,  5.95899075e-02,\n",
            "        1.81887249e+01,  3.14234542e-01,  0.00000000e+00,  2.98486676e-01,\n",
            "        9.99179948e-03, -1.21282065e+00,  0.00000000e+00,  1.07942514e-01,\n",
            "        2.29213419e-02,  2.45315195e-01,  1.44913639e+01,  2.38720249e-03,\n",
            "        6.78953722e-03, -1.08856133e-01,  3.25365990e+00,  4.00300271e-02,\n",
            "        3.61716207e+00,  3.49621047e-02,  0.00000000e+00,  3.14194196e-02,\n",
            "        3.39042590e-03])\n",
            "  message: b'CONVERGENCE: REL_REDUCTION_OF_F_<=_FACTR*EPSMCH'\n",
            "     nfev: 25\n",
            "      nit: 24\n",
            "   status: 0\n",
            "  success: True\n",
            "        x: array([-9.21034037, -4.60517019, -1.9276534 ,  1.65083009, -2.30258509,\n",
            "       -4.60517019,  0.08473439, -4.60517019, -0.94627051,  2.30258509,\n",
            "       -4.52691773, -4.60517019, -2.30258509,  1.42510738, -2.30258509,\n",
            "       -4.00849461, -2.30258509,  2.12160197, -2.30258509,  2.23247174,\n",
            "       -2.30258509, -4.60517019, -1.5016103 , -4.60517019, -0.71533121])\n"
          ],
          "name": "stdout"
        },
        {
          "output_type": "execute_result",
          "data": {
            "text/plain": [
              "<graphdot.model.gaussian_process.gpr.GaussianProcessRegressor at 0x7fb9880bba10>"
            ]
          },
          "metadata": {
            "tags": []
          },
          "execution_count": 27
        }
      ]
    },
    {
      "cell_type": "code",
      "metadata": {
        "colab": {
          "base_uri": "https://localhost:8080/",
          "height": 265
        },
        "id": "Z2VnBGaRhcAA",
        "outputId": "fe49858e-1b87-42ee-a98c-60494acb707b"
      },
      "source": [
        "mu = gpr5.predict(train.graphs)\n",
        "plt.scatter(train[target], mu)\n",
        "#plt.plot(np.linspace(-9, 3), np.linspace(-9, 3), c = 'r')\n",
        "#plt.xlim(-9, 3)\n",
        "#plt.ylim(-9, 3)\n",
        "plt.show()"
      ],
      "execution_count": null,
      "outputs": [
        {
          "output_type": "display_data",
          "data": {
            "image/png": "[encoded data removed]",
            "text/plain": [
              "<Figure size 432x288 with 1 Axes>"
            ]
          },
          "metadata": {
            "tags": []
          }
        }
      ]
    },
    {
      "cell_type": "code",
      "metadata": {
        "colab": {
          "base_uri": "https://localhost:8080/"
        },
        "id": "T1e8qmS3hf9A",
        "outputId": "4a271c5a-2b10-4841-c711-2db567a5781f"
      },
      "source": [
        "print('Training set')\n",
        "print('MAE:', np.mean(np.abs(train[target] - mu)))\n",
        "print('RMSE:', np.std(train[target] - mu))"
      ],
      "execution_count": null,
      "outputs": [
        {
          "output_type": "stream",
          "text": [
            "Training set\n",
            "MAE: 0.8642262237055949\n",
            "RMSE: 1.1297768774199661\n"
          ],
          "name": "stdout"
        }
      ]
    },
    {
      "cell_type": "code",
      "metadata": {
        "colab": {
          "base_uri": "https://localhost:8080/",
          "height": 265
        },
        "id": "59ifpHD6hjax",
        "outputId": "5b9bfd64-15bd-46ea-a09f-8ebfa8b0d70e"
      },
      "source": [
        "mu_test = gpr5.predict(test.graphs)\n",
        "plt.scatter(test[target], mu_test)\n",
        "#plt.plot(np.linspace(-10, 4), np.linspace(-10, 4), c = 'r')\n",
        "#plt.xlim(-10, 4)\n",
        "#plt.ylim(-10, 4)\n",
        "plt.show()"
      ],
      "execution_count": null,
      "outputs": [
        {
          "output_type": "display_data",
          "data": {
            "image/png": "[encoded data removed]",
            "text/plain": [
              "<Figure size 432x288 with 1 Axes>"
            ]
          },
          "metadata": {
            "tags": []
          }
        }
      ]
    },
    {
      "cell_type": "code",
      "metadata": {
        "colab": {
          "base_uri": "https://localhost:8080/"
        },
        "id": "6QiFR7jGhlbB",
        "outputId": "680aa207-3489-48ce-d068-6a763631f828"
      },
      "source": [
        "print('Test set')\n",
        "print('MAE:', np.mean(np.abs(test[target] - mu_test)))\n",
        "print('RMSE:', np.std(test[target] - mu_test))"
      ],
      "execution_count": null,
      "outputs": [
        {
          "output_type": "stream",
          "text": [
            "Test set\n",
            "MAE: 0.9967978325813834\n",
            "RMSE: 1.2687065452737312\n"
          ],
          "name": "stdout"
        }
      ]
    },
    {
      "cell_type": "markdown",
      "metadata": {
        "id": "jB5Eh0g2CcWi"
      },
      "source": [
        "### Model 6"
      ]
    },
    {
      "cell_type": "code",
      "metadata": {
        "id": "KZxHMhjLhnD1"
      },
      "source": [
        "gpr6 = GaussianProcessRegressor(\n",
        "    kernel=Normalization(\n",
        "        MarginalizedGraphKernel(\n",
        "            node_kernel=uX.Additive(\n",
        "                aromatic=uX.Constant(0.6, (0.01, 10.0)) * uX.KroneckerDelta(0.5,(0.1, 0.9)), # turn constant from 0.5 to 0.6\n",
        "                atomic_number=uX.Constant(0.5, (0.01, 10.0)) * uX.KroneckerDelta(0.8,(0.1, 0.9)),\n",
        "                charge=uX.Constant(0.5, (0.01, 10.0)) * uX.SquareExponential(1.0),\n",
        "                chiral=uX.Constant(0.5, (0.01, 10.0)) * uX.KroneckerDelta(0.5,(0.1, 0.9)),\n",
        "                hcount=uX.Constant(0.5, (0.01, 10.0)) * uX.SquareExponential(1.0),\n",
        "                hybridization=uX.Constant(0.5, (0.01, 10.0)) * uX.KroneckerDelta(0.5,(0.1, 0.9)),\n",
        "                ring_list=uX.Constant(0.5, (0.01, 100.0)) * uX.Convolution(uX.KroneckerDelta(0.5,(0.1, 0.9)))\n",
        "            ).normalized,\n",
        "            edge_kernel=uX.Additive(\n",
        "                aromatic=uX.Constant(0.5, (0.01, 10.0)) * uX.KroneckerDelta(0.5,(0.1, 0.9)),\n",
        "                conjugated=uX.Constant(0.5, (0.01, 10.0)) * uX.KroneckerDelta(0.5,(0.1, 0.9)),\n",
        "                order=uX.Constant(0.5, (0.01, 10.0)) * uX.KroneckerDelta(0.8,(0.1, 0.9)),\n",
        "                ring_stereo=uX.Constant(0.5, (0.01, 10.0)) * uX.KroneckerDelta(0.8,(0.1, 0.9)),\n",
        "                stereo=uX.Constant(0.5, (0.01, 10.0)) * uX.KroneckerDelta(0.8,(0.1, 0.9))\n",
        "            ).normalized,\n",
        "            p=Uniform(1.0, p_bounds='fixed'),\n",
        "            q=0.05\n",
        "        )\n",
        "    ),\n",
        "    alpha=1e-4, \n",
        "    optimizer=True,\n",
        "    normalize_y=True,\n",
        "    regularization='+',\n",
        ")"
      ],
      "execution_count": null,
      "outputs": []
    },
    {
      "cell_type": "code",
      "metadata": {
        "id": "zazYfe6GD0Mo"
      },
      "source": [
        "gpr6.fit(train.graphs, train[target], repeat=3, verbose=True)"
      ],
      "execution_count": null,
      "outputs": []
    },
    {
      "cell_type": "code",
      "metadata": {
        "colab": {
          "base_uri": "https://localhost:8080/",
          "height": 265
        },
        "id": "ekXfv7mnD4UW",
        "outputId": "af303706-abac-43de-e3b7-64a6c455ef70"
      },
      "source": [
        "mu = gpr6.predict(train.graphs)\n",
        "plt.scatter(train[target], mu)\n",
        "#plt.plot(np.linspace(-9, 3), np.linspace(-9, 3), c = 'r')\n",
        "#plt.xlim(-9, 3)\n",
        "#plt.ylim(-9, 3)\n",
        "plt.show()"
      ],
      "execution_count": null,
      "outputs": [
        {
          "output_type": "display_data",
          "data": {
            "image/png": "[encoded data removed]",
            "text/plain": [
              "<Figure size 432x288 with 1 Axes>"
            ]
          },
          "metadata": {
            "tags": []
          }
        }
      ]
    },
    {
      "cell_type": "code",
      "metadata": {
        "colab": {
          "base_uri": "https://localhost:8080/"
        },
        "id": "z31e5yhNKezS",
        "outputId": "4d822c42-b482-4e4f-ec62-4c4018eb7677"
      },
      "source": [
        "print('Training set')\n",
        "print('MAE:', np.mean(np.abs(train[target] - mu)))\n",
        "print('RMSE:', np.std(train[target] - mu))"
      ],
      "execution_count": null,
      "outputs": [
        {
          "output_type": "stream",
          "text": [
            "Training set\n",
            "MAE: 0.10249072489800545\n",
            "RMSE: 0.15577701746575612\n"
          ],
          "name": "stdout"
        }
      ]
    },
    {
      "cell_type": "code",
      "metadata": {
        "colab": {
          "base_uri": "https://localhost:8080/",
          "height": 265
        },
        "id": "JJPG6hT7ECm5",
        "outputId": "2a462ece-26e8-4ba3-d84a-60f4925d2f42"
      },
      "source": [
        "mu_test = gpr6.predict(test.graphs)\n",
        "plt.scatter(test[target], mu_test)\n",
        "#plt.plot(np.linspace(-10, 4), np.linspace(-10, 4), c = 'r')\n",
        "#plt.xlim(-10, 4)\n",
        "#plt.ylim(-10, 4)\n",
        "plt.show()"
      ],
      "execution_count": null,
      "outputs": [
        {
          "output_type": "display_data",
          "data": {
            "image/png": "[encoded data removed]",
            "text/plain": [
              "<Figure size 432x288 with 1 Axes>"
            ]
          },
          "metadata": {
            "tags": []
          }
        }
      ]
    },
    {
      "cell_type": "code",
      "metadata": {
        "colab": {
          "base_uri": "https://localhost:8080/"
        },
        "id": "EffpEszbKhbO",
        "outputId": "7c0bcf70-cb8d-4113-98bf-774b88bf3da9"
      },
      "source": [
        "print('Test set')\n",
        "print('MAE:', np.mean(np.abs(test[target] - mu_test)))\n",
        "print('RMSE:', np.std(test[target] - mu_test))"
      ],
      "execution_count": null,
      "outputs": [
        {
          "output_type": "stream",
          "text": [
            "Test set\n",
            "MAE: 1.3991366642890872\n",
            "RMSE: 1.7909756847596061\n"
          ],
          "name": "stdout"
        }
      ]
    },
    {
      "cell_type": "code",
      "metadata": {
        "id": "CcwamQ9QbiPT"
      },
      "source": [
        "gpr6.kernel.hyperparameters"
      ],
      "execution_count": null,
      "outputs": []
    },
    {
      "cell_type": "markdown",
      "metadata": {
        "id": "QPv4WgxZLEPK"
      },
      "source": [
        "### Model 7"
      ]
    },
    {
      "cell_type": "code",
      "metadata": {
        "id": "aNJcL6Y-Kkms"
      },
      "source": [
        "gpr7 = GaussianProcessRegressor(\n",
        "    kernel=Normalization(\n",
        "        MarginalizedGraphKernel(\n",
        "            node_kernel=uX.Additive(\n",
        "                aromatic=uX.Constant(0.7, (0.01, 10.0)) * uX.KroneckerDelta(0.5,(0.1, 0.9)), # turn constant from 0.5 to 0.6\n",
        "                atomic_number=uX.Constant(0.5, (0.01, 10.0)) * uX.KroneckerDelta(0.8,(0.1, 0.9)),\n",
        "                charge=uX.Constant(0.5, (0.01, 10.0)) * uX.SquareExponential(1.0),\n",
        "                chiral=uX.Constant(0.5, (0.01, 10.0)) * uX.KroneckerDelta(0.5,(0.1, 0.9)),\n",
        "                hcount=uX.Constant(0.5, (0.01, 10.0)) * uX.SquareExponential(1.0),\n",
        "                hybridization=uX.Constant(0.5, (0.01, 10.0)) * uX.KroneckerDelta(0.5,(0.1, 0.9)),\n",
        "                ring_list=uX.Constant(0.5, (0.01, 100.0)) * uX.Convolution(uX.KroneckerDelta(0.5,(0.1, 0.9)))\n",
        "            ).normalized,\n",
        "            edge_kernel=uX.Additive(\n",
        "                aromatic=uX.Constant(0.5, (0.01, 10.0)) * uX.KroneckerDelta(0.5,(0.1, 0.9)),\n",
        "                conjugated=uX.Constant(0.5, (0.01, 10.0)) * uX.KroneckerDelta(0.5,(0.1, 0.9)),\n",
        "                order=uX.Constant(0.5, (0.01, 10.0)) * uX.KroneckerDelta(0.8,(0.1, 0.9)),\n",
        "                ring_stereo=uX.Constant(0.5, (0.01, 10.0)) * uX.KroneckerDelta(0.8,(0.1, 0.9)),\n",
        "                stereo=uX.Constant(0.5, (0.01, 10.0)) * uX.KroneckerDelta(0.8,(0.1, 0.9))\n",
        "            ).normalized,\n",
        "            p=Uniform(1.0, p_bounds='fixed'),\n",
        "            q=0.05\n",
        "        )\n",
        "    ),\n",
        "    alpha=1e-4, \n",
        "    optimizer=True,\n",
        "    normalize_y=True,\n",
        "    regularization='+',\n",
        ")"
      ],
      "execution_count": null,
      "outputs": []
    },
    {
      "cell_type": "code",
      "metadata": {
        "id": "JCweaRRRLOTy"
      },
      "source": [
        "gpr7.fit(train.graphs, train[target], repeat=3, verbose=True)"
      ],
      "execution_count": null,
      "outputs": []
    },
    {
      "cell_type": "code",
      "metadata": {
        "colab": {
          "base_uri": "https://localhost:8080/",
          "height": 315
        },
        "id": "hGMS-ohNLT-q",
        "outputId": "c3fd7d9e-2b19-4e15-b5ba-d3f8d1c62861"
      },
      "source": [
        "mu = gpr7.predict(train.graphs)\n",
        "plt.scatter(train[target], mu)\n",
        "plt.show()\n",
        "\n",
        "print('Training set')\n",
        "print('MAE:', np.mean(np.abs(train[target] - mu)))\n",
        "print('RMSE:', np.std(train[target] - mu))"
      ],
      "execution_count": null,
      "outputs": [
        {
          "output_type": "display_data",
          "data": {
            "image/png": "[encoded data removed]",
            "text/plain": [
              "<Figure size 432x288 with 1 Axes>"
            ]
          },
          "metadata": {
            "tags": []
          }
        },
        {
          "output_type": "stream",
          "text": [
            "Training set\n",
            "MAE: 0.10248939228849153\n",
            "RMSE: 0.15568618386378785\n"
          ],
          "name": "stdout"
        }
      ]
    },
    {
      "cell_type": "code",
      "metadata": {
        "colab": {
          "base_uri": "https://localhost:8080/",
          "height": 315
        },
        "id": "LlNhjLfKLY9R",
        "outputId": "5e52a5f6-d6f5-4d65-ffa6-be347bd88426"
      },
      "source": [
        "mu_test = gpr7.predict(test.graphs)\n",
        "plt.scatter(test[target], mu_test)\n",
        "plt.show()\n",
        "\n",
        "print('Test set')\n",
        "print('MAE:', np.mean(np.abs(test[target] - mu_test)))\n",
        "print('RMSE:', np.std(test[target] - mu_test))"
      ],
      "execution_count": null,
      "outputs": [
        {
          "output_type": "display_data",
          "data": {
            "image/png": "[encoded data removed]",
            "text/plain": [
              "<Figure size 432x288 with 1 Axes>"
            ]
          },
          "metadata": {
            "tags": []
          }
        },
        {
          "output_type": "stream",
          "text": [
            "Test set\n",
            "MAE: 1.3985247909204994\n",
            "RMSE: 1.7905734624201814\n"
          ],
          "name": "stdout"
        }
      ]
    },
    {
      "cell_type": "code",
      "metadata": {
        "id": "QTDK7pTObk0S"
      },
      "source": [
        "gpr7.kernel.hyperparameters"
      ],
      "execution_count": null,
      "outputs": []
    },
    {
      "cell_type": "markdown",
      "metadata": {
        "id": "LlYhyDW1TR9k"
      },
      "source": [
        "### Model 8"
      ]
    },
    {
      "cell_type": "code",
      "metadata": {
        "id": "zQkNs1n0LddS"
      },
      "source": [
        "gpr8 = GaussianProcessRegressor(\n",
        "    kernel=Normalization(\n",
        "        MarginalizedGraphKernel(\n",
        "            node_kernel=uX.Additive(\n",
        "                aromatic=uX.Constant(1, (0.01, 10.0)) * uX.KroneckerDelta(0.5,(0.1, 0.9)), # turn constant from 0.5 to 1\n",
        "                atomic_number=uX.Constant(0.5, (0.01, 10.0)) * uX.KroneckerDelta(0.8,(0.1, 0.9)),\n",
        "                charge=uX.Constant(0.5, (0.01, 10.0)) * uX.SquareExponential(1.0),\n",
        "                chiral=uX.Constant(0.5, (0.01, 10.0)) * uX.KroneckerDelta(0.5,(0.1, 0.9)),\n",
        "                hcount=uX.Constant(0.5, (0.01, 10.0)) * uX.SquareExponential(1.0),\n",
        "                hybridization=uX.Constant(0.5, (0.01, 10.0)) * uX.KroneckerDelta(0.5,(0.1, 0.9)),\n",
        "                ring_list=uX.Constant(0.5, (0.01, 100.0)) * uX.Convolution(uX.KroneckerDelta(0.5,(0.1, 0.9)))\n",
        "            ).normalized,\n",
        "            edge_kernel=uX.Additive(\n",
        "                aromatic=uX.Constant(0.5, (0.01, 10.0)) * uX.KroneckerDelta(0.5,(0.1, 0.9)),\n",
        "                conjugated=uX.Constant(0.5, (0.01, 10.0)) * uX.KroneckerDelta(0.5,(0.1, 0.9)),\n",
        "                order=uX.Constant(0.5, (0.01, 10.0)) * uX.KroneckerDelta(0.8,(0.1, 0.9)),\n",
        "                ring_stereo=uX.Constant(0.5, (0.01, 10.0)) * uX.KroneckerDelta(0.8,(0.1, 0.9)),\n",
        "                stereo=uX.Constant(0.5, (0.01, 10.0)) * uX.KroneckerDelta(0.8,(0.1, 0.9))\n",
        "            ).normalized,\n",
        "            p=Uniform(1.0, p_bounds='fixed'),\n",
        "            q=0.05\n",
        "        )\n",
        "    ),\n",
        "    alpha=1e-4, \n",
        "    optimizer=True,\n",
        "    normalize_y=True,\n",
        "    regularization='+',\n",
        ")"
      ],
      "execution_count": null,
      "outputs": []
    },
    {
      "cell_type": "code",
      "metadata": {
        "colab": {
          "base_uri": "https://localhost:8080/"
        },
        "id": "4VVX98slTeqj",
        "outputId": "d9e33b49-3612-4e70-d63c-b90369bfb4ec"
      },
      "source": [
        "gpr8.fit(train.graphs, train[target], repeat=3, verbose=True)"
      ],
      "execution_count": null,
      "outputs": [
        {
          "output_type": "stream",
          "text": [
            "|        logP|       dlogP|     y^T.K.y|     log|K| |     Cond(K)|  GPU time|  CPU time|\n",
            "|------------|------------|------------|------------|------------|----------|----------|\n",
            "|  2.9792e+06|  2.4642e+07|  2.9865e+06|     -7343.8|  8.7118e+06|        23|      0.24|\n",
            "|  2.0165e+06|  2.1362e+07|  2.0233e+06|     -6795.2|   8.062e+06|        21|      0.24|\n",
            "|  1.2966e+06|  1.5902e+07|  1.3028e+06|     -6253.9|   7.068e+06|        20|      0.22|\n",
            "|  1.0075e+06|   1.235e+07|  1.0135e+06|     -5971.1|  6.4058e+06|        19|      0.23|\n",
            "|  8.2429e+05|  9.6934e+06|  8.3004e+05|     -5752.5|  5.8067e+06|        18|      0.23|\n",
            "|  7.1088e+05|  8.0676e+06|  7.1646e+05|     -5586.2|  5.3556e+06|        18|      0.22|\n",
            "|  6.4954e+05|  7.0881e+06|  6.5503e+05|     -5489.7|  5.0295e+06|        17|      0.23|\n",
            "|  6.2388e+05|  6.9272e+06|  6.2931e+05|     -5427.9|   4.937e+06|        18|      0.24|\n",
            "|  6.0965e+05|  6.6369e+06|  6.1507e+05|     -5412.2|  4.8418e+06|        17|      0.23|\n",
            "|  6.0452e+05|   6.522e+06|  6.0993e+05|     -5406.2|  4.7899e+06|        17|      0.24|\n",
            "|  6.0197e+05|  6.5091e+06|  6.0737e+05|     -5398.9|  4.7888e+06|        17|      0.22|\n",
            "|  6.0036e+05|  6.5038e+06|  6.0575e+05|     -5394.2|  4.7893e+06|        17|      0.22|\n",
            "|  5.9951e+05|   6.489e+06|   6.049e+05|       -5393|  4.7822e+06|        17|      0.23|\n",
            "|  5.9656e+05|  6.4171e+06|  6.0195e+05|     -5389.2|  4.7641e+06|        17|      0.22|\n",
            "|  5.9566e+05|  6.4098e+06|  6.0105e+05|       -5388|  4.7507e+06|        17|      0.23|\n",
            "|  5.9511e+05|  6.4048e+06|   6.005e+05|     -5386.8|  4.7432e+06|        17|      0.25|\n",
            "|  5.9481e+05|  6.4085e+06|   6.002e+05|     -5386.4|  4.7446e+06|        17|      0.23|\n",
            "|  5.9412e+05|  6.4236e+06|   5.995e+05|     -5386.1|   4.749e+06|        17|      0.23|\n",
            "|  5.9368e+05|  6.4259e+06|  5.9906e+05|     -5386.6|  4.7559e+06|        17|      0.23|\n",
            "|  5.9331e+05|  6.4114e+06|  5.9869e+05|     -5386.5|  4.7604e+06|        17|      0.23|\n",
            "|  5.9309e+05|  6.3915e+06|  5.9848e+05|     -5386.4|  4.7593e+06|        17|      0.23|\n",
            "|   5.931e+05|  6.3863e+06|  5.9848e+05|     -5386.4|  4.7615e+06|        17|      0.23|\n",
            "|   5.931e+05|  6.3906e+06|  5.9849e+05|     -5386.4|  4.7627e+06|        17|      0.23|\n",
            "|  5.9306e+05|  6.3906e+06|  5.9845e+05|     -5386.4|  4.7601e+06|        17|      0.23|\n",
            "|  5.9312e+05|  6.3917e+06|  5.9851e+05|     -5386.4|  4.7631e+06|        17|      0.23|\n",
            "|  5.9305e+05|  6.3899e+06|  5.9844e+05|     -5386.4|  4.7595e+06|        17|      0.23|\n",
            "|  5.9299e+05|  6.3818e+06|  5.9838e+05|     -5386.4|   4.764e+06|        17|      0.23|\n",
            "|   5.931e+05|  6.3845e+06|  5.9849e+05|     -5386.4|   4.761e+06|        17|      0.23|\n",
            "|  5.9308e+05|  6.3833e+06|  5.9847e+05|     -5386.4|   4.762e+06|        17|      0.23|\n",
            "|  5.9309e+05|   6.384e+06|  5.9848e+05|     -5386.4|  4.7607e+06|        17|      0.24|\n",
            "|  5.9312e+05|  6.3844e+06|   5.985e+05|     -5386.4|  4.7638e+06|        17|      0.24|\n",
            "|  5.9305e+05|  6.3833e+06|  5.9843e+05|     -5386.4|  4.7632e+06|        17|      0.24|\n",
            "|  5.9311e+05|  6.3844e+06|   5.985e+05|     -5386.4|   4.763e+06|        17|      0.24|\n",
            "|        logP|       dlogP|     y^T.K.y|     log|K| |     Cond(K)|  GPU time|  CPU time|\n",
            "|------------|------------|------------|------------|------------|----------|----------|\n",
            "|   4.309e+06|  2.4382e+07|  4.3169e+06|     -7932.7|  9.2553e+06|        21|      0.23|\n",
            "|  2.6362e+06|  2.3231e+07|  2.6434e+06|     -7166.7|  8.6035e+06|        20|      0.23|\n",
            "|  1.4002e+06|  1.5158e+07|  1.4066e+06|     -6364.5|  7.1794e+06|        18|      0.22|\n",
            "|  1.1499e+06|  1.2877e+07|   1.156e+06|     -6131.7|  6.7376e+06|        18|      0.24|\n",
            "|  9.8645e+05|  1.1302e+07|  9.9241e+05|     -5956.4|  6.3329e+06|        18|      0.22|\n",
            "|  8.2914e+05|  9.6694e+06|   8.349e+05|     -5759.6|  5.8519e+06|        18|      0.22|\n",
            "|  7.2729e+05|  8.3779e+06|   7.329e+05|     -5612.5|  5.4668e+06|        18|      0.25|\n",
            "|  6.5245e+05|  7.2326e+06|  6.5795e+05|     -5494.9|  5.0812e+06|        17|      0.24|\n",
            "|  6.3709e+05|  7.1964e+06|  6.4253e+05|     -5446.6|  5.0356e+06|        18|      0.23|\n",
            "|  6.1616e+05|   6.786e+06|  6.2159e+05|     -5425.7|  4.8997e+06|        17|      0.23|\n",
            "|  6.1221e+05|  6.6896e+06|  6.1763e+05|     -5421.9|  4.8536e+06|        17|      0.24|\n",
            "|  6.0702e+05|  6.5885e+06|  6.1243e+05|     -5414.2|  4.8025e+06|        17|      0.24|\n",
            "|  6.0011e+05|  6.4941e+06|  6.0551e+05|     -5400.7|  4.7635e+06|        17|      0.22|\n",
            "|  6.1826e+05|  6.8509e+06|  6.2368e+05|     -5414.4|  4.9133e+06|        18|      0.24|\n",
            "|   5.982e+05|  6.4893e+06|  6.0359e+05|     -5394.7|  4.7798e+06|        17|      0.22|\n",
            "|  5.9719e+05|  6.4696e+06|  6.0258e+05|       -5392|  4.7839e+06|        17|      0.23|\n",
            "|  5.9674e+05|  6.4529e+06|  6.0213e+05|       -5391|  4.7862e+06|        17|      0.23|\n",
            "|   5.958e+05|  6.4186e+06|  6.0119e+05|     -5389.5|  4.7882e+06|        17|      0.22|\n",
            "|  5.9491e+05|  6.3949e+06|   6.003e+05|     -5388.1|  4.7813e+06|        17|      0.24|\n",
            "|   5.945e+05|  6.3957e+06|  5.9989e+05|     -5388.1|  4.7701e+06|        17|      0.24|\n",
            "|  5.9404e+05|  6.3999e+06|  5.9942e+05|     -5388.3|   4.762e+06|        17|      0.22|\n",
            "|    5.94e+05|  6.4039e+06|  5.9939e+05|       -5388|   4.759e+06|        17|      0.23|\n",
            "|  5.9386e+05|   6.416e+06|  5.9925e+05|       -5387|  4.7546e+06|        17|      0.24|\n",
            "|  5.9366e+05|   6.418e+06|  5.9904e+05|     -5386.3|  4.7575e+06|        17|      0.24|\n",
            "|  5.9327e+05|  6.4066e+06|  5.9865e+05|     -5385.8|  4.7593e+06|        17|      0.24|\n",
            "|   5.931e+05|  6.3953e+06|  5.9848e+05|     -5386.1|  4.7563e+06|        17|      0.25|\n",
            "|  5.9312e+05|  6.3845e+06|  5.9851e+05|     -5386.3|  4.7561e+06|        17|      0.24|\n",
            "|  5.9314e+05|  6.3939e+06|  5.9852e+05|     -5386.1|   4.756e+06|        17|      0.23|\n",
            "|  5.9312e+05|  6.3951e+06|   5.985e+05|     -5386.1|  4.7564e+06|        17|      0.23|\n",
            "|  5.9331e+05|  6.3997e+06|  5.9869e+05|     -5386.1|  4.7546e+06|        17|      0.24|\n",
            "|  5.9307e+05|  6.3946e+06|  5.9846e+05|     -5386.1|  4.7538e+06|        17|      0.23|\n",
            "|   5.932e+05|  6.3977e+06|  5.9859e+05|     -5386.1|  4.7557e+06|        17|      0.23|\n",
            "|  5.9311e+05|  6.3964e+06|   5.985e+05|     -5386.1|   4.753e+06|        17|      0.24|\n",
            "|  5.9316e+05|  6.3968e+06|  5.9855e+05|     -5386.1|  4.7558e+06|        17|      0.23|\n",
            "|        logP|       dlogP|     y^T.K.y|     log|K| |     Cond(K)|  GPU time|  CPU time|\n",
            "|------------|------------|------------|------------|------------|----------|----------|\n",
            "|  2.3642e+06|   2.501e+07|  2.3713e+06|       -7035|  8.3857e+06|        22|      0.23|\n",
            "|  1.5682e+06|  1.7112e+07|  1.5747e+06|       -6501|  7.4975e+06|        19|      0.23|\n",
            "|  1.1254e+06|  1.2855e+07|  1.1315e+06|     -6110.8|   6.677e+06|        18|      0.23|\n",
            "|   8.935e+05|  1.0626e+07|  8.9935e+05|     -5848.7|  6.0755e+06|        18|      0.23|\n",
            "|  7.5389e+05|  9.1315e+06|  7.5954e+05|     -5651.6|   5.586e+06|        18|      0.23|\n",
            "|  6.7538e+05|  7.6365e+06|  6.8092e+05|     -5536.1|  5.2056e+06|        17|      0.23|\n",
            "|  6.3294e+05|  7.1193e+06|  6.3839e+05|     -5450.1|  5.0192e+06|        18|      0.24|\n",
            "|  6.1522e+05|  6.7919e+06|  6.2065e+05|       -5427|  4.8927e+06|        17|      0.23|\n",
            "|  6.0924e+05|  6.6947e+06|  6.1466e+05|     -5416.4|  4.8448e+06|        17|      0.23|\n",
            "|  6.0118e+05|  6.5408e+06|  6.0658e+05|       -5400|  4.8099e+06|        17|      0.23|\n",
            "|  6.0716e+05|   6.635e+06|  6.1257e+05|     -5407.4|  4.7901e+06|        17|      0.22|\n",
            "|  5.9975e+05|  6.5325e+06|  6.0515e+05|     -5396.6|  4.7937e+06|        17|      0.23|\n",
            "|  5.9739e+05|  6.4591e+06|  6.0278e+05|       -5392|  4.7831e+06|        17|      0.23|\n",
            "|  5.9604e+05|  6.4368e+06|  6.0143e+05|     -5389.8|  4.7677e+06|        17|      0.23|\n",
            "|  5.9509e+05|  6.4251e+06|  6.0048e+05|     -5387.9|  4.7487e+06|        17|      0.23|\n",
            "|  5.9496e+05|  6.4322e+06|  6.0035e+05|       -5387|  4.7497e+06|        17|      0.22|\n",
            "|   5.946e+05|  6.4308e+06|  5.9999e+05|     -5386.4|  4.7475e+06|        17|      0.23|\n",
            "|  5.9469e+05|  6.4301e+06|  6.0008e+05|     -5386.4|   4.749e+06|        17|      0.23|\n",
            "|  5.9465e+05|  6.4316e+06|  6.0003e+05|     -5386.4|  4.7503e+06|        17|      0.22|\n",
            "|  5.9485e+05|   6.437e+06|  6.0023e+05|     -5386.4|   4.747e+06|        17|      0.23|\n",
            "|  5.9463e+05|  6.4313e+06|  6.0002e+05|     -5386.4|  4.7496e+06|        17|      0.23|\n",
            "|   5.947e+05|  6.4334e+06|  6.0009e+05|     -5386.4|   4.752e+06|        17|      0.23|\n",
            "|  5.9469e+05|  6.4329e+06|  6.0008e+05|     -5386.4|    4.75e+06|        17|      0.23|\n",
            "|  5.9467e+05|  6.4322e+06|  6.0005e+05|     -5386.4|  4.7498e+06|        17|      0.23|\n",
            "Optimization result:\n",
            "      fun: 593114.6707814854\n",
            " hess_inv: <25x25 LbfgsInvHessProduct with dtype=float64>\n",
            "      jac: array([ 6.38026776e+02,  1.38782578e+02,  2.66323472e+01,  5.85716583e+02,\n",
            "        1.37186070e+04,  2.83861741e+02,  0.00000000e+00, -9.25955378e+01,\n",
            "        1.05547529e+02, -4.67581389e+02,  9.92854118e-20,  8.58522091e+01,\n",
            "        4.96435846e+01, -5.32965096e+02,  1.75859453e+04,  8.09606265e+01,\n",
            "        1.65723821e+03, -3.93953283e+02,  3.01124941e+03, -4.40932945e+01,\n",
            "        2.59823969e+02,  1.80457401e+02,  0.00000000e+00,  1.77125402e+02,\n",
            "        2.44995429e+02])\n",
            "  message: b'CONVERGENCE: REL_REDUCTION_OF_F_<=_FACTR*EPSMCH'\n",
            "     nfev: 33\n",
            "      nit: 23\n",
            "   status: 0\n",
            "  success: True\n",
            "        x: array([-9.21034037, -4.60517019, -1.86387197,  1.47468801, -2.30258509,\n",
            "       -4.60517019,  0.        , -3.49988681, -2.30258509,  2.30258509,\n",
            "       -2.40163276, -4.22043617, -2.03747843,  1.71483415, -2.30258509,\n",
            "        0.18487075, -2.30258509,  0.76191496, -2.30258509, -1.69254866,\n",
            "       -2.30258509, -4.23517368, -0.22314355, -1.65492569, -2.30258509])\n"
          ],
          "name": "stdout"
        },
        {
          "output_type": "execute_result",
          "data": {
            "text/plain": [
              "<graphdot.model.gaussian_process.gpr.GaussianProcessRegressor at 0x7fd805d61c90>"
            ]
          },
          "metadata": {
            "tags": []
          },
          "execution_count": 25
        }
      ]
    },
    {
      "cell_type": "code",
      "metadata": {
        "colab": {
          "base_uri": "https://localhost:8080/",
          "height": 315
        },
        "id": "uUhypXNOThss",
        "outputId": "b979948e-c911-4ddb-a846-ac9276dd5de5"
      },
      "source": [
        "mu = gpr8.predict(train.graphs)\n",
        "plt.scatter(train[target], mu)\n",
        "plt.show()\n",
        "\n",
        "print('Training set')\n",
        "print('MAE:', np.mean(np.abs(train[target] - mu)))\n",
        "print('RMSE:', np.std(train[target] - mu))"
      ],
      "execution_count": null,
      "outputs": [
        {
          "output_type": "display_data",
          "data": {
            "image/png": "[encoded data removed]",
            "text/plain": [
              "<Figure size 432x288 with 1 Axes>"
            ]
          },
          "metadata": {
            "tags": []
          }
        },
        {
          "output_type": "stream",
          "text": [
            "Training set\n",
            "MAE: 0.10240153839375263\n",
            "RMSE: 0.15571345881864815\n"
          ],
          "name": "stdout"
        }
      ]
    },
    {
      "cell_type": "code",
      "metadata": {
        "colab": {
          "base_uri": "https://localhost:8080/",
          "height": 315
        },
        "id": "U-P5pPxYT02D",
        "outputId": "ec99a564-7e5f-43f9-dd1c-995177c15ef1"
      },
      "source": [
        "mu_test = gpr8.predict(test.graphs)\n",
        "plt.scatter(test[target], mu_test)\n",
        "plt.show()\n",
        "\n",
        "print('Test set')\n",
        "print('MAE:', np.mean(np.abs(test[target] - mu_test)))\n",
        "print('RMSE:', np.std(test[target] - mu_test))"
      ],
      "execution_count": null,
      "outputs": [
        {
          "output_type": "display_data",
          "data": {
            "image/png": "[encoded data removed]",
            "text/plain": [
              "<Figure size 432x288 with 1 Axes>"
            ]
          },
          "metadata": {
            "tags": []
          }
        },
        {
          "output_type": "stream",
          "text": [
            "Test set\n",
            "MAE: 1.3983031503109997\n",
            "RMSE: 1.790339660492167\n"
          ],
          "name": "stdout"
        }
      ]
    },
    {
      "cell_type": "markdown",
      "metadata": {
        "id": "DQ6oiS_tUJXs"
      },
      "source": [
        "### Model 9"
      ]
    },
    {
      "cell_type": "code",
      "metadata": {
        "id": "ClO2dAwoT3ID"
      },
      "source": [
        "gpr9 = GaussianProcessRegressor(\n",
        "    kernel=Normalization(\n",
        "        MarginalizedGraphKernel(\n",
        "            node_kernel=uX.Additive(\n",
        "                aromatic=uX.Constant(2, (0.01, 10.0)) * uX.KroneckerDelta(0.5,(0.1, 0.9)), # turn constant from 0.5 to 1\n",
        "                atomic_number=uX.Constant(0.5, (0.01, 10.0)) * uX.KroneckerDelta(0.8,(0.1, 0.9)),\n",
        "                charge=uX.Constant(0.5, (0.01, 10.0)) * uX.SquareExponential(1.0),\n",
        "                chiral=uX.Constant(0.5, (0.01, 10.0)) * uX.KroneckerDelta(0.5,(0.1, 0.9)),\n",
        "                hcount=uX.Constant(0.5, (0.01, 10.0)) * uX.SquareExponential(1.0),\n",
        "                hybridization=uX.Constant(0.5, (0.01, 10.0)) * uX.KroneckerDelta(0.5,(0.1, 0.9)),\n",
        "                ring_list=uX.Constant(0.5, (0.01, 100.0)) * uX.Convolution(uX.KroneckerDelta(0.5,(0.1, 0.9)))\n",
        "            ).normalized,\n",
        "            edge_kernel=uX.Additive(\n",
        "                aromatic=uX.Constant(0.5, (0.01, 10.0)) * uX.KroneckerDelta(0.5,(0.1, 0.9)),\n",
        "                conjugated=uX.Constant(0.5, (0.01, 10.0)) * uX.KroneckerDelta(0.5,(0.1, 0.9)),\n",
        "                order=uX.Constant(0.5, (0.01, 10.0)) * uX.KroneckerDelta(0.8,(0.1, 0.9)),\n",
        "                ring_stereo=uX.Constant(0.5, (0.01, 10.0)) * uX.KroneckerDelta(0.8,(0.1, 0.9)),\n",
        "                stereo=uX.Constant(0.5, (0.01, 10.0)) * uX.KroneckerDelta(0.8,(0.1, 0.9))\n",
        "            ).normalized,\n",
        "            p=Uniform(1.0, p_bounds='fixed'),\n",
        "            q=0.05\n",
        "        )\n",
        "    ),\n",
        "    alpha=1e-4, \n",
        "    optimizer=True,\n",
        "    normalize_y=True,\n",
        "    regularization='+',\n",
        ")"
      ],
      "execution_count": null,
      "outputs": []
    },
    {
      "cell_type": "code",
      "metadata": {
        "colab": {
          "base_uri": "https://localhost:8080/"
        },
        "id": "Wsp74fxqUQSK",
        "outputId": "0c2d27b0-2b40-40bd-ca1e-5b3a3c1e7ac5"
      },
      "source": [
        "gpr9.fit(train.graphs, train[target], repeat=3, verbose=True)"
      ],
      "execution_count": null,
      "outputs": [
        {
          "output_type": "stream",
          "text": [
            "|        logP|       dlogP|     y^T.K.y|     log|K| |     Cond(K)|  GPU time|  CPU time|\n",
            "|------------|------------|------------|------------|------------|----------|----------|\n",
            "|  3.1842e+06|  2.4974e+07|  3.1916e+06|     -7444.7|  8.7312e+06|        23|      0.26|\n",
            "|  2.1752e+06|  2.2644e+07|  2.1821e+06|     -6894.5|  8.1462e+06|        21|      0.23|\n",
            "|  1.2857e+06|  1.6274e+07|   1.292e+06|     -6243.6|  7.0034e+06|        20|      0.23|\n",
            "|   1.004e+06|  1.2582e+07|    1.01e+06|     -5967.8|  6.3551e+06|        19|      0.25|\n",
            "|  8.2416e+05|  9.8792e+06|  8.2991e+05|     -5754.1|  5.7767e+06|        18|      0.27|\n",
            "|  7.1531e+05|  8.2743e+06|   7.209e+05|     -5594.7|  5.3493e+06|        18|      0.24|\n",
            "|  6.5715e+05|  7.2687e+06|  6.6266e+05|     -5505.9|  5.0409e+06|        17|      0.24|\n",
            "|  6.2418e+05|  6.9524e+06|  6.2962e+05|     -5436.7|  4.9381e+06|        18|      0.23|\n",
            "|  6.1435e+05|  6.7657e+06|  6.1977e+05|     -5424.1|  4.8623e+06|        17|      0.24|\n",
            "|  6.0457e+05|  6.6082e+06|  6.0998e+05|     -5406.7|    4.82e+06|        17|      0.24|\n",
            "|  6.0409e+05|  6.4935e+06|  6.0949e+05|     -5401.4|  4.8533e+06|        17|      0.23|\n",
            "|  6.0069e+05|  6.5041e+06|  6.0608e+05|     -5398.7|  4.8222e+06|        17|      0.24|\n",
            "|  5.9986e+05|  6.4187e+06|  6.0526e+05|     -5395.8|   4.829e+06|        17|      0.23|\n",
            "|  5.9771e+05|  6.4231e+06|   6.031e+05|     -5392.8|  4.8077e+06|        17|      0.26|\n",
            "|  5.9675e+05|  6.4345e+06|  6.0214e+05|     -5391.7|  4.7932e+06|        17|      0.24|\n",
            "|  5.9549e+05|  6.4231e+06|  6.0088e+05|     -5390.3|  4.7744e+06|        17|      0.24|\n",
            "|  5.9438e+05|  6.4046e+06|  5.9976e+05|       -5388|  4.7547e+06|        17|      0.23|\n",
            "|  5.9435e+05|  6.4109e+06|  5.9973e+05|     -5386.6|  4.7645e+06|        17|      0.24|\n",
            "|  5.9419e+05|  6.4008e+06|  5.9958e+05|     -5386.9|    4.76e+06|        17|      0.24|\n",
            "|  5.9416e+05|  6.3952e+06|  5.9954e+05|     -5387.1|  4.7616e+06|        17|      0.24|\n",
            "|  5.9405e+05|  6.3847e+06|  5.9944e+05|     -5387.4|  4.7563e+06|        17|      0.25|\n",
            "|  5.9384e+05|  6.3816e+06|  5.9923e+05|     -5387.2|  4.7571e+06|        17|      0.22|\n",
            "|   5.937e+05|  6.3784e+06|  5.9908e+05|     -5387.2|  4.7548e+06|        17|      0.23|\n",
            "|  5.9367e+05|  6.3925e+06|  5.9905e+05|     -5385.9|  4.7599e+06|        17|      0.23|\n",
            "|  5.9358e+05|   6.394e+06|  5.9897e+05|     -5385.9|  4.7639e+06|        17|      0.23|\n",
            "|  5.9338e+05|  6.3976e+06|  5.9877e+05|     -5386.2|  4.7562e+06|        17|      0.24|\n",
            "|  5.9321e+05|  6.3888e+06|   5.986e+05|     -5386.4|   4.755e+06|        17|      0.23|\n",
            "|  5.9333e+05|  6.3871e+06|  5.9871e+05|     -5386.5|  4.7591e+06|        17|      0.23|\n",
            "|  5.9327e+05|  6.3903e+06|  5.9866e+05|     -5386.4|  4.7544e+06|        17|      0.24|\n",
            "|  5.9316e+05|  6.3877e+06|  5.9855e+05|     -5386.4|   4.755e+06|        17|      0.24|\n",
            "|  5.9334e+05|  6.3918e+06|  5.9872e+05|     -5386.4|  4.7592e+06|        17|      0.25|\n",
            "|  5.9326e+05|    6.39e+06|  5.9864e+05|     -5386.4|  4.7561e+06|        17|      0.23|\n",
            "|  5.9324e+05|  6.3898e+06|  5.9863e+05|     -5386.4|   4.758e+06|        17|      0.24|\n",
            "|        logP|       dlogP|     y^T.K.y|     log|K| |     Cond(K)|  GPU time|  CPU time|\n",
            "|------------|------------|------------|------------|------------|----------|----------|\n",
            "|  2.2799e+06|  3.0057e+07|  2.2869e+06|     -6934.8|  7.8008e+06|        24|      0.25|\n",
            "|   1.767e+06|  2.5126e+07|  1.7736e+06|     -6594.3|  7.4479e+06|        23|      0.23|\n",
            "|  1.0278e+06|  1.4821e+07|  1.0337e+06|     -5972.7|  6.4094e+06|        21|      0.23|\n",
            "|  8.6501e+05|  1.1644e+07|  8.7081e+05|     -5794.8|  5.9663e+06|        20|      0.23|\n",
            "|  7.1706e+05|  8.4268e+06|  7.2267e+05|     -5604.3|  5.3554e+06|        18|      0.23|\n",
            "|  6.5162e+05|  7.4137e+06|  6.5712e+05|       -5493|   5.062e+06|        18|      0.23|\n",
            "|  6.2958e+05|  6.9704e+06|  6.3504e+05|       -5458|  4.9042e+06|        17|      0.23|\n",
            "|  6.1225e+05|  6.7455e+06|  6.1768e+05|     -5423.5|  4.8323e+06|        17|      0.23|\n",
            "|  6.0632e+05|  6.6482e+06|  6.1173e+05|       -5411|  4.8372e+06|        17|      0.24|\n",
            "|  6.0233e+05|  6.5526e+06|  6.0773e+05|     -5401.8|  4.8469e+06|        17|      0.23|\n",
            "|  6.0022e+05|  6.4934e+06|  6.0562e+05|     -5397.6|  4.8374e+06|        17|      0.23|\n",
            "|  5.9676e+05|  6.4223e+06|  6.0215e+05|     -5392.6|  4.7962e+06|        17|      0.23|\n",
            "|  5.9504e+05|  6.4098e+06|  6.0043e+05|     -5390.5|  4.7672e+06|        17|      0.24|\n",
            "|   5.947e+05|  6.4114e+06|  6.0009e+05|     -5389.3|  4.7581e+06|        17|      0.23|\n",
            "|  5.9442e+05|  6.4108e+06|   5.998e+05|       -5388|  4.7564e+06|        17|      0.23|\n",
            "|  5.9429e+05|  6.4096e+06|  5.9968e+05|     -5387.3|   4.761e+06|        17|      0.22|\n",
            "|  5.9433e+05|  6.4087e+06|  5.9971e+05|     -5386.8|  4.7608e+06|        17|      0.23|\n",
            "|  5.9434e+05|  6.4102e+06|  5.9972e+05|     -5387.2|  4.7592e+06|        17|      0.22|\n",
            "|  5.9433e+05|  6.4107e+06|  5.9972e+05|     -5387.2|  4.7576e+06|        17|      0.23|\n",
            "|  5.9428e+05|  6.4092e+06|  5.9967e+05|     -5387.2|    4.76e+06|        17|      0.23|\n",
            "|  5.9426e+05|  6.4082e+06|  5.9964e+05|     -5387.2|  4.7593e+06|        17|      0.23|\n",
            "|  5.9438e+05|  6.4119e+06|  5.9977e+05|     -5387.2|  4.7574e+06|        17|      0.23|\n",
            "|  5.9431e+05|  6.4094e+06|   5.997e+05|     -5387.2|  4.7595e+06|        17|      0.23|\n",
            "|  5.9437e+05|   6.411e+06|  5.9976e+05|     -5387.2|  4.7598e+06|        17|      0.25|\n",
            "|        logP|       dlogP|     y^T.K.y|     log|K| |     Cond(K)|  GPU time|  CPU time|\n",
            "|------------|------------|------------|------------|------------|----------|----------|\n",
            "|  5.6004e+06|  1.0925e+07|  5.6088e+06|     -8411.3|  9.6646e+06|        18|      0.23|\n",
            "|  4.3616e+06|  1.7555e+07|  4.3696e+06|     -7948.7|  9.3139e+06|        19|      0.23|\n",
            "|    1.55e+06|  1.8485e+07|  1.5564e+06|     -6436.8|  7.3811e+06|        21|      0.22|\n",
            "|  1.1849e+06|  1.5675e+07|  1.1911e+06|     -6123.9|  6.7454e+06|        21|      0.22|\n",
            "|  8.8035e+05|  1.0785e+07|  8.8616e+05|     -5807.1|  5.9897e+06|        19|      0.23|\n",
            "|  7.5061e+05|  8.6012e+06|  7.5626e+05|     -5645.9|  5.5033e+06|        18|      0.23|\n",
            "|  6.7138e+05|  7.5125e+06|   6.769e+05|     -5523.2|  5.1857e+06|        18|      0.23|\n",
            "|  6.2543e+05|  6.8949e+06|  6.3087e+05|       -5443|  4.9251e+06|        17|      0.23|\n",
            "|  6.1475e+05|  6.7354e+06|  6.2018e+05|     -5424.2|  4.8917e+06|        17|      0.23|\n",
            "|  6.1085e+05|   6.669e+06|  6.1626e+05|       -5417|  4.8771e+06|        17|      0.23|\n",
            "|  6.0117e+05|  6.4774e+06|  6.0657e+05|     -5400.5|  4.8228e+06|        17|      0.23|\n",
            "|  5.9729e+05|  6.4244e+06|  6.0268e+05|     -5391.3|  4.8081e+06|        17|      0.23|\n",
            "|   5.961e+05|  6.3908e+06|  6.0149e+05|     -5390.5|   4.788e+06|        17|      0.23|\n",
            "|  5.9524e+05|  6.3716e+06|  6.0063e+05|     -5389.3|  4.7759e+06|        17|      0.23|\n",
            "|  5.9457e+05|  6.3724e+06|  5.9996e+05|     -5388.4|  4.7729e+06|        17|      0.23|\n",
            "|  5.9374e+05|  6.3917e+06|  5.9913e+05|     -5387.1|  4.7595e+06|        17|      0.24|\n",
            "|  5.9348e+05|  6.3895e+06|  5.9886e+05|     -5386.8|  4.7578e+06|        17|      0.23|\n",
            "|  5.9413e+05|  6.4288e+06|  5.9951e+05|     -5384.8|  4.7726e+06|        17|      0.25|\n",
            "|  5.9355e+05|  6.3967e+06|  5.9894e+05|     -5386.3|  4.7583e+06|        17|      0.23|\n",
            "|   5.935e+05|  6.3912e+06|  5.9888e+05|     -5386.8|  4.7567e+06|        17|      0.24|\n",
            "|  5.9363e+05|  6.3931e+06|  5.9901e+05|     -5386.8|  4.7552e+06|        17|      0.23|\n",
            "|  5.9352e+05|    6.39e+06|  5.9891e+05|     -5386.8|   4.759e+06|        17|      0.25|\n",
            "|  5.9355e+05|  6.3912e+06|  5.9894e+05|     -5386.8|  4.7567e+06|        17|      0.23|\n",
            "|  5.9355e+05|   6.391e+06|  5.9893e+05|     -5386.8|  4.7581e+06|        17|      0.23|\n",
            "|   5.936e+05|  6.3923e+06|  5.9898e+05|     -5386.8|  4.7583e+06|        17|      0.25|\n",
            "Optimization result:\n",
            "      fun: 593239.0731028724\n",
            " hess_inv: <25x25 LbfgsInvHessProduct with dtype=float64>\n",
            "      jac: array([ 6.38571528e+02,  2.53446370e+02,  4.04348138e+01, -8.86199826e+02,\n",
            "        1.36287493e+04,  2.83281629e+02,  0.00000000e+00, -8.03270149e+01,\n",
            "        1.29925146e+02, -6.68353601e+02,  3.81951546e-03,  1.11964525e+02,\n",
            "        7.10964508e+01,  1.00805620e+03,  1.76320909e+04, -2.85119588e+02,\n",
            "        1.68133082e+03,  4.70354709e+02,  3.02838241e+03, -2.14150548e+02,\n",
            "        2.70225253e+02,  2.26206868e+02,  0.00000000e+00, -1.99055415e+02,\n",
            "        2.32813791e+02])\n",
            "  message: b'CONVERGENCE: REL_REDUCTION_OF_F_<=_FACTR*EPSMCH'\n",
            "     nfev: 33\n",
            "      nit: 25\n",
            "   status: 0\n",
            "  success: True\n",
            "        x: array([-9.21034037, -3.95840051, -2.09284424,  1.4582562 , -2.30258509,\n",
            "       -4.60517019,  0.        , -3.49372658, -2.1095149 ,  2.30258509,\n",
            "       -1.88596738, -4.12293699, -1.77144806,  1.72893419, -2.30258509,\n",
            "       -0.42084637, -2.30258509,  0.20339185, -2.30258509, -2.32277083,\n",
            "       -2.30258509, -4.60517019, -0.22314355, -2.47885086, -2.30258509])\n"
          ],
          "name": "stdout"
        },
        {
          "output_type": "execute_result",
          "data": {
            "text/plain": [
              "<graphdot.model.gaussian_process.gpr.GaussianProcessRegressor at 0x7fd803aefdd0>"
            ]
          },
          "metadata": {
            "tags": []
          },
          "execution_count": 29
        }
      ]
    },
    {
      "cell_type": "code",
      "metadata": {
        "colab": {
          "base_uri": "https://localhost:8080/",
          "height": 315
        },
        "id": "FIxwekLIUTDt",
        "outputId": "651ad8df-5849-43b6-8ea7-5c782d3bfa05"
      },
      "source": [
        "mu = gpr9.predict(train.graphs)\n",
        "plt.scatter(train[target], mu)\n",
        "plt.show()\n",
        "\n",
        "print('Training set')\n",
        "print('MAE:', np.mean(np.abs(train[target] - mu)))\n",
        "print('RMSE:', np.std(train[target] - mu))"
      ],
      "execution_count": null,
      "outputs": [
        {
          "output_type": "display_data",
          "data": {
            "image/png": "[encoded data removed]",
            "text/plain": [
              "<Figure size 432x288 with 1 Axes>"
            ]
          },
          "metadata": {
            "tags": []
          }
        },
        {
          "output_type": "stream",
          "text": [
            "Training set\n",
            "MAE: 0.10263627065660225\n",
            "RMSE: 0.15583548111225665\n"
          ],
          "name": "stdout"
        }
      ]
    },
    {
      "cell_type": "code",
      "metadata": {
        "colab": {
          "base_uri": "https://localhost:8080/",
          "height": 315
        },
        "id": "sz41GlwNUW1k",
        "outputId": "6e2ac674-e1e4-457d-f11f-711e2ed6e987"
      },
      "source": [
        "mu_test = gpr9.predict(test.graphs)\n",
        "plt.scatter(test[target], mu_test)\n",
        "plt.show()\n",
        "\n",
        "print('Test set')\n",
        "print('MAE:', np.mean(np.abs(test[target] - mu_test)))\n",
        "print('RMSE:', np.std(test[target] - mu_test))"
      ],
      "execution_count": null,
      "outputs": [
        {
          "output_type": "display_data",
          "data": {
            "image/png": "[encoded data removed]",
            "text/plain": [
              "<Figure size 432x288 with 1 Axes>"
            ]
          },
          "metadata": {
            "tags": []
          }
        },
        {
          "output_type": "stream",
          "text": [
            "Test set\n",
            "MAE: 1.399127745669495\n",
            "RMSE: 1.7911551403644532\n"
          ],
          "name": "stdout"
        }
      ]
    },
    {
      "cell_type": "markdown",
      "metadata": {
        "id": "NrtPM95CUc0K"
      },
      "source": [
        "### Model 10"
      ]
    },
    {
      "cell_type": "code",
      "metadata": {
        "id": "CWjoqQ2QUaVr"
      },
      "source": [
        "gpr10 = GaussianProcessRegressor(\n",
        "    kernel=Normalization(\n",
        "        MarginalizedGraphKernel(\n",
        "            node_kernel=uX.Additive(\n",
        "                aromatic=uX.Constant(0.1, (0.01, 10.0)) * uX.KroneckerDelta(0.5,(0.1, 0.9)), # turn constant from 0.5 to 0.1\n",
        "                atomic_number=uX.Constant(0.5, (0.01, 10.0)) * uX.KroneckerDelta(0.8,(0.1, 0.9)),\n",
        "                charge=uX.Constant(0.5, (0.01, 10.0)) * uX.SquareExponential(1.0),\n",
        "                chiral=uX.Constant(0.5, (0.01, 10.0)) * uX.KroneckerDelta(0.5,(0.1, 0.9)),\n",
        "                hcount=uX.Constant(0.5, (0.01, 10.0)) * uX.SquareExponential(1.0),\n",
        "                hybridization=uX.Constant(0.5, (0.01, 10.0)) * uX.KroneckerDelta(0.5,(0.1, 0.9)),\n",
        "                ring_list=uX.Constant(0.5, (0.01, 100.0)) * uX.Convolution(uX.KroneckerDelta(0.5,(0.1, 0.9)))\n",
        "            ).normalized,\n",
        "            edge_kernel=uX.Additive(\n",
        "                aromatic=uX.Constant(0.5, (0.01, 10.0)) * uX.KroneckerDelta(0.5,(0.1, 0.9)),\n",
        "                conjugated=uX.Constant(0.5, (0.01, 10.0)) * uX.KroneckerDelta(0.5,(0.1, 0.9)),\n",
        "                order=uX.Constant(0.5, (0.01, 10.0)) * uX.KroneckerDelta(0.8,(0.1, 0.9)),\n",
        "                ring_stereo=uX.Constant(0.5, (0.01, 10.0)) * uX.KroneckerDelta(0.8,(0.1, 0.9)),\n",
        "                stereo=uX.Constant(0.5, (0.01, 10.0)) * uX.KroneckerDelta(0.8,(0.1, 0.9))\n",
        "            ).normalized,\n",
        "            p=Uniform(1.0, p_bounds='fixed'),\n",
        "            q=0.05\n",
        "        )\n",
        "    ),\n",
        "    alpha=1e-4, \n",
        "    optimizer=True,\n",
        "    normalize_y=True,\n",
        "    regularization='+',\n",
        ")"
      ],
      "execution_count": null,
      "outputs": []
    },
    {
      "cell_type": "code",
      "metadata": {
        "colab": {
          "base_uri": "https://localhost:8080/"
        },
        "id": "MwRxO2CBUlSE",
        "outputId": "bb6278fd-9c8a-4a9b-bf98-a865d6ea5d5c"
      },
      "source": [
        "gpr10.fit(train.graphs, train[target], repeat=3, verbose=True)"
      ],
      "execution_count": null,
      "outputs": [
        {
          "output_type": "stream",
          "text": [
            "|        logP|       dlogP|     y^T.K.y|     log|K| |     Cond(K)|  GPU time|  CPU time|\n",
            "|------------|------------|------------|------------|------------|----------|----------|\n",
            "|  2.7983e+06|    2.43e+07|  2.8056e+06|     -7255.5|  8.7152e+06|        23|      0.24|\n",
            "|   1.862e+06|  2.0153e+07|  1.8687e+06|     -6699.9|  7.9833e+06|        20|      0.24|\n",
            "|  1.2811e+06|  1.5513e+07|  1.2873e+06|     -6247.6|  7.0832e+06|        20|      0.24|\n",
            "|  1.0015e+06|  1.2225e+07|  1.0075e+06|     -5970.3|  6.4109e+06|        19|      0.24|\n",
            "|  8.2607e+05|   9.751e+06|  8.3183e+05|     -5757.8|  5.8362e+06|        18|      0.24|\n",
            "|  7.1314e+05|  8.1066e+06|  7.1873e+05|     -5592.2|   5.376e+06|        18|      0.23|\n",
            "|  6.4927e+05|  7.1354e+06|  6.5476e+05|     -5488.9|  5.0514e+06|        17|      0.23|\n",
            "|  6.3134e+05|  7.0681e+06|  6.3678e+05|     -5438.9|  4.9652e+06|        18|      0.23|\n",
            "|  6.1006e+05|  6.6411e+06|  6.1548e+05|     -5414.6|  4.8456e+06|        17|      0.23|\n",
            "|  6.0572e+05|   6.545e+06|  6.1113e+05|     -5408.6|  4.8049e+06|        17|      0.23|\n",
            "|  6.0297e+05|  6.5038e+06|  6.0838e+05|     -5403.2|  4.7879e+06|        17|      0.24|\n",
            "|  6.0504e+05|   6.654e+06|  6.1044e+05|     -5394.8|  4.8153e+06|        18|      0.23|\n",
            "|   6.002e+05|  6.5188e+06|   6.056e+05|       -5394|  4.7876e+06|        17|      0.23|\n",
            "|  6.0038e+05|  6.5403e+06|  6.0577e+05|     -5389.6|  4.8007e+06|        17|      0.23|\n",
            "|   5.998e+05|  6.5228e+06|  6.0519e+05|     -5391.3|  4.7927e+06|        17|      0.23|\n",
            "|  5.9818e+05|  6.4716e+06|  6.0357e+05|     -5390.5|  4.7747e+06|        17|      0.22|\n",
            "|  5.9784e+05|  6.4565e+06|  6.0323e+05|     -5390.9|  4.7662e+06|        17|      0.22|\n",
            "|    5.97e+05|  6.4279e+06|  6.0239e+05|     -5390.7|   4.759e+06|        17|      0.23|\n",
            "|  5.9602e+05|  6.4208e+06|  6.0141e+05|     -5387.9|  4.7561e+06|        17|      0.24|\n",
            "|  5.9532e+05|  6.4184e+06|  6.0071e+05|     -5386.5|  4.7421e+06|        17|      0.22|\n",
            "|  5.9503e+05|  6.4111e+06|  6.0041e+05|     -5386.4|  4.7408e+06|        17|      0.24|\n",
            "|  5.9491e+05|   6.408e+06|  6.0029e+05|     -5386.4|  4.7431e+06|        17|      0.23|\n",
            "|  5.9463e+05|   6.401e+06|  6.0002e+05|     -5386.2|  4.7443e+06|        17|      0.22|\n",
            "|  6.0593e+05|  6.5034e+06|  6.1134e+05|     -5408.5|  4.9074e+06|        17|      0.23|\n",
            "|  5.9396e+05|  6.3846e+06|  5.9935e+05|     -5386.5|  4.7594e+06|        17|      0.24|\n",
            "|  5.9382e+05|  6.3835e+06|  5.9921e+05|     -5387.7|  4.7774e+06|        17|      0.22|\n",
            "|  5.9376e+05|   6.384e+06|  5.9915e+05|     -5386.8|  4.7694e+06|        17|      0.24|\n",
            "|  5.9354e+05|  6.3993e+06|  5.9893e+05|     -5385.7|  4.7783e+06|        17|      0.24|\n",
            "|   5.931e+05|  6.3874e+06|  5.9849e+05|       -5386|   4.769e+06|        17|      0.23|\n",
            "|  5.9321e+05|  6.3905e+06|  5.9859e+05|     -5386.5|  4.7589e+06|        17|      0.23|\n",
            "|  5.9325e+05|  6.3911e+06|  5.9864e+05|     -5386.1|  4.7673e+06|        17|      0.23|\n",
            "|  5.9325e+05|  6.3915e+06|  5.9864e+05|     -5386.1|  4.7655e+06|        17|      0.24|\n",
            "|  5.9323e+05|  6.3903e+06|  5.9861e+05|       -5386|  4.7667e+06|        17|      0.26|\n",
            "|  5.9321e+05|    6.39e+06|   5.986e+05|       -5386|  4.7658e+06|        17|      0.23|\n",
            "|  5.9322e+05|  6.3903e+06|   5.986e+05|       -5386|  4.7665e+06|        17|      0.23|\n",
            "|  5.9323e+05|  6.3905e+06|  5.9862e+05|       -5386|  4.7647e+06|        17|      0.24|\n",
            "|        logP|       dlogP|     y^T.K.y|     log|K| |     Cond(K)|  GPU time|  CPU time|\n",
            "|------------|------------|------------|------------|------------|----------|----------|\n",
            "|   3.335e+06|  2.0676e+07|  3.3425e+06|     -7511.6|  8.8641e+06|        20|      0.23|\n",
            "|  2.1616e+06|  1.8613e+07|  2.1684e+06|     -6871.7|  8.1374e+06|        20|      0.27|\n",
            "|  1.0552e+06|  1.1657e+07|  1.0612e+06|     -5984.8|  6.4878e+06|        19|      0.24|\n",
            "|  8.3583e+05|  9.3921e+06|  8.4159e+05|     -5752.2|  5.8752e+06|        18|      0.23|\n",
            "|  7.4374e+05|  8.1282e+06|  7.4937e+05|     -5635.8|  5.4636e+06|        17|      0.23|\n",
            "|   6.817e+05|  7.3767e+06|  6.8724e+05|     -5541.2|  5.1875e+06|        17|      0.23|\n",
            "|  6.3778e+05|  6.9335e+06|  6.4325e+05|     -5463.9|  5.0127e+06|        17|      0.23|\n",
            "|   6.165e+05|  6.6822e+06|  6.2193e+05|     -5426.8|   4.878e+06|        17|      0.24|\n",
            "|  6.1137e+05|  6.5342e+06|  6.1679e+05|     -5414.3|  4.8606e+06|        17|      0.25|\n",
            "|  6.0039e+05|  6.4384e+06|  6.0579e+05|     -5398.2|  4.7915e+06|        17|      0.24|\n",
            "|  5.9881e+05|  6.4292e+06|  6.0421e+05|       -5395|  4.7835e+06|        17|      0.24|\n",
            "|  5.9769e+05|  6.4717e+06|  6.0308e+05|     -5388.4|  4.7946e+06|        17|      0.24|\n",
            "|   5.968e+05|  6.4302e+06|  6.0219e+05|     -5389.3|  4.7826e+06|        17|      0.24|\n",
            "|  5.9653e+05|  6.4185e+06|  6.0192e+05|     -5389.6|  4.7764e+06|        17|      0.23|\n",
            "|  5.9628e+05|  6.4064e+06|  6.0167e+05|     -5389.7|  4.7681e+06|        17|      0.25|\n",
            "|  5.9569e+05|   6.392e+06|  6.0108e+05|     -5389.3|  4.7644e+06|        17|      0.23|\n",
            "|  5.9554e+05|  6.4306e+06|  6.0093e+05|     -5385.3|  4.7795e+06|        17|      0.25|\n",
            "|  5.9461e+05|  6.4044e+06|  5.9999e+05|     -5385.7|  4.7627e+06|        17|      0.23|\n",
            "|  5.9443e+05|  6.3917e+06|  5.9981e+05|     -5386.6|  4.7565e+06|        17|      0.23|\n",
            "|  5.9439e+05|  6.3911e+06|  5.9977e+05|     -5386.6|  4.7529e+06|        17|      0.23|\n",
            "|  5.9432e+05|  6.3888e+06|   5.997e+05|     -5386.6|  4.7545e+06|        17|      0.24|\n",
            "|  5.9414e+05|  6.3821e+06|  5.9953e+05|     -5386.4|  4.7585e+06|        17|      0.23|\n",
            "|  5.9408e+05|  6.3773e+06|  5.9946e+05|     -5386.4|  4.7613e+06|        17|      0.23|\n",
            "|  5.9375e+05|  6.3821e+06|  5.9914e+05|     -5386.7|  4.7649e+06|        17|      0.23|\n",
            "|  5.9345e+05|  6.3813e+06|  5.9883e+05|       -5387|  4.7631e+06|        17|      0.23|\n",
            "|   5.934e+05|  6.3896e+06|  5.9879e+05|     -5386.8|   4.763e+06|        17|      0.23|\n",
            "|  5.9344e+05|  6.3955e+06|  5.9882e+05|     -5386.7|  4.7616e+06|        17|      0.23|\n",
            "|  5.9342e+05|  6.3913e+06|  5.9881e+05|     -5386.8|  4.7649e+06|        17|      0.25|\n",
            "|  5.9326e+05|   6.387e+06|  5.9865e+05|     -5386.8|  4.7616e+06|        17|      0.23|\n",
            "|  5.9337e+05|  6.3891e+06|  5.9876e+05|     -5386.8|  4.7671e+06|        17|      0.22|\n",
            "|   5.933e+05|  6.3877e+06|  5.9869e+05|     -5386.8|  4.7628e+06|        17|      0.22|\n",
            "|  5.9324e+05|  6.3942e+06|  5.9862e+05|     -5386.4|  4.7589e+06|        17|      0.24|\n",
            "|  5.9328e+05|   6.388e+06|  5.9867e+05|     -5386.6|  4.7591e+06|        17|      0.25|\n",
            "|  5.9325e+05|  6.3922e+06|  5.9864e+05|     -5386.4|  4.7598e+06|        17|      0.22|\n",
            "|  5.9325e+05|  6.3937e+06|  5.9864e+05|     -5386.4|  4.7632e+06|        17|      0.24|\n",
            "|  5.9335e+05|  6.3958e+06|  5.9874e+05|     -5386.4|  4.7595e+06|        17|      0.25|\n",
            "|  5.9334e+05|  6.3953e+06|  5.9872e+05|     -5386.4|  4.7621e+06|        17|      0.26|\n",
            "|  5.9338e+05|   6.397e+06|  5.9877e+05|     -5386.4|  4.7553e+06|        17|      0.25|\n",
            "|  5.9335e+05|  6.3966e+06|  5.9874e+05|     -5386.4|  4.7606e+06|        17|      0.26|\n",
            "|  5.9333e+05|   6.396e+06|  5.9871e+05|     -5386.4|  4.7579e+06|        17|      0.26|\n",
            "|        logP|       dlogP|     y^T.K.y|     log|K| |     Cond(K)|  GPU time|  CPU time|\n",
            "|------------|------------|------------|------------|------------|----------|----------|\n",
            "|  5.8553e+06|  6.1173e+06|  5.8637e+06|     -8489.1|   9.764e+06|        13|      0.24|\n",
            "|  4.4775e+06|  1.0414e+07|  4.4854e+06|     -7964.5|  9.4041e+06|        14|      0.24|\n",
            "|   1.499e+06|  1.2523e+07|  1.5054e+06|     -6394.8|  7.5362e+06|        17|      0.24|\n",
            "|  1.0911e+06|  1.0407e+07|  1.0971e+06|     -6028.5|  6.7239e+06|        17|      0.26|\n",
            "|  9.1382e+05|  9.0085e+06|  9.1966e+05|     -5833.1|  6.2209e+06|        17|      0.25|\n",
            "|  7.8666e+05|  7.9393e+06|  7.9232e+05|     -5667.8|   5.793e+06|        17|      0.23|\n",
            "|   7.137e+05|  7.2049e+06|  7.1927e+05|     -5561.2|  5.4904e+06|        17|      0.24|\n",
            "|  6.7654e+05|  6.9513e+06|  6.8204e+05|     -5499.9|  5.3402e+06|        17|      0.24|\n",
            "|  6.4054e+05|  6.5381e+06|  6.4599e+05|     -5455.9|  5.1118e+06|        17|      0.26|\n",
            "|  6.5597e+05|  7.5432e+06|  6.6144e+05|       -5465|  4.9854e+06|        19|      0.26|\n",
            "|  6.0894e+05|   6.557e+06|  6.1435e+05|     -5407.4|  4.9151e+06|        18|      0.24|\n",
            "|  6.0177e+05|  6.5172e+06|  6.0717e+05|     -5402.3|  4.8031e+06|        17|      0.25|\n",
            "|  6.0125e+05|  6.4801e+06|  6.0665e+05|       -5402|  4.8075e+06|        17|      0.26|\n",
            "|  6.0082e+05|  6.4688e+06|  6.0622e+05|     -5400.4|  4.8117e+06|        17|      0.26|\n",
            "|  6.0039e+05|  6.4622e+06|  6.0579e+05|     -5399.3|  4.8118e+06|        17|      0.24|\n",
            "|   5.982e+05|  6.4268e+06|  6.0359e+05|     -5393.2|  4.8253e+06|        17|      0.26|\n",
            "|  5.9754e+05|  6.4135e+06|  6.0294e+05|     -5392.8|  4.8149e+06|        17|      0.26|\n",
            "|  5.9534e+05|  6.3715e+06|  6.0073e+05|     -5392.5|  4.7759e+06|        17|      0.25|\n",
            "|  5.9496e+05|  6.3808e+06|  6.0036e+05|     -5391.6|  4.7699e+06|        17|      0.27|\n",
            "|  5.9436e+05|  6.4056e+06|  5.9975e+05|       -5389|  4.7735e+06|        17|      0.25|\n",
            "|  5.9392e+05|  6.4102e+06|  5.9931e+05|     -5387.2|  4.7705e+06|        17|      0.25|\n",
            "|  5.9358e+05|  6.3991e+06|  5.9897e+05|       -5386|  4.7674e+06|        17|      0.24|\n",
            "|   5.934e+05|  6.3882e+06|  5.9879e+05|     -5386.5|  4.7622e+06|        17|      0.24|\n",
            "|  5.9342e+05|  6.3853e+06|   5.988e+05|     -5386.8|  4.7604e+06|        17|      0.25|\n",
            "|  5.9348e+05|  6.3892e+06|  5.9887e+05|     -5386.5|  4.7637e+06|        17|      0.25|\n",
            "|  5.9343e+05|  6.3882e+06|  5.9881e+05|     -5386.5|  4.7662e+06|        17|      0.26|\n",
            "|  5.9353e+05|  6.3906e+06|  5.9892e+05|     -5386.5|   4.765e+06|        17|      0.26|\n",
            "|   5.934e+05|  6.3875e+06|  5.9878e+05|     -5386.5|   4.763e+06|        17|      0.26|\n",
            "|  5.9342e+05|   6.388e+06|  5.9881e+05|     -5386.5|  4.7621e+06|        17|      0.27|\n",
            "|  5.9349e+05|  6.3898e+06|  5.9888e+05|     -5386.5|  4.7653e+06|        17|      0.25|\n",
            "|  5.9347e+05|   6.389e+06|  5.9885e+05|     -5386.5|  4.7634e+06|        17|      0.26|\n",
            "Optimization result:\n",
            "      fun: 593233.3042484035\n",
            " hess_inv: <25x25 LbfgsInvHessProduct with dtype=float64>\n",
            "      jac: array([  638.64736427,   141.96903073,    28.55629934,  1626.08930356,\n",
            "       13743.38807579,   280.18042823,     0.        ,   -99.97653253,\n",
            "         114.814054  , -2792.2638767 ,     0.        ,    91.58912464,\n",
            "          57.6192078 ,   776.34364075, 17553.00068355,   978.24342665,\n",
            "        1666.14615848, -1272.51341315,  2991.47521638,  -137.29971877,\n",
            "         252.38902263,   210.50993072,     0.        ,   218.8639886 ,\n",
            "         246.42026873])\n",
            "  message: b'CONVERGENCE: REL_REDUCTION_OF_F_<=_FACTR*EPSMCH'\n",
            "     nfev: 36\n",
            "      nit: 24\n",
            "   status: 0\n",
            "  success: True\n",
            "        x: array([-9.21034037, -4.60517019, -1.76491214,  1.49768933, -2.30258509,\n",
            "       -4.60517019,  0.        , -3.40193308, -2.30258509,  2.30258509,\n",
            "       -2.68288077, -4.06937858, -2.04385712,  1.73412843, -2.30258509,\n",
            "        0.26606458, -2.30258509,  0.73949084, -2.30258509, -1.82914477,\n",
            "       -2.23381959, -4.06338654, -0.22314355, -1.61434557, -2.30258509])\n"
          ],
          "name": "stdout"
        },
        {
          "output_type": "execute_result",
          "data": {
            "text/plain": [
              "<graphdot.model.gaussian_process.gpr.GaussianProcessRegressor at 0x7fd802672090>"
            ]
          },
          "metadata": {
            "tags": []
          },
          "execution_count": 33
        }
      ]
    },
    {
      "cell_type": "code",
      "metadata": {
        "colab": {
          "base_uri": "https://localhost:8080/",
          "height": 315
        },
        "id": "6qPiQ8XkUoLc",
        "outputId": "22e7450e-188d-4c9e-e014-a423e901a4d0"
      },
      "source": [
        "mu = gpr10.predict(train.graphs)\n",
        "plt.scatter(train[target], mu)\n",
        "plt.show()\n",
        "\n",
        "print('Training set')\n",
        "print('MAE:', np.mean(np.abs(train[target] - mu)))\n",
        "print('RMSE:', np.std(train[target] - mu))"
      ],
      "execution_count": null,
      "outputs": [
        {
          "output_type": "display_data",
          "data": {
            "image/png": "[encoded data removed]",
            "text/plain": [
              "<Figure size 432x288 with 1 Axes>"
            ]
          },
          "metadata": {
            "tags": []
          }
        },
        {
          "output_type": "stream",
          "text": [
            "Training set\n",
            "MAE: 0.10255858361538538\n",
            "RMSE: 0.15586480781946938\n"
          ],
          "name": "stdout"
        }
      ]
    },
    {
      "cell_type": "code",
      "metadata": {
        "colab": {
          "base_uri": "https://localhost:8080/",
          "height": 315
        },
        "id": "5CnC7SOAUrdU",
        "outputId": "a6921fe9-d4a2-412c-d56b-3e895ae87421"
      },
      "source": [
        "mu_test = gpr10.predict(test.graphs)\n",
        "plt.scatter(test[target], mu_test)\n",
        "plt.show()\n",
        "\n",
        "print('Test set')\n",
        "print('MAE:', np.mean(np.abs(test[target] - mu_test)))\n",
        "print('RMSE:', np.std(test[target] - mu_test))"
      ],
      "execution_count": null,
      "outputs": [
        {
          "output_type": "display_data",
          "data": {
            "image/png": "[encoded data removed]",
            "text/plain": [
              "<Figure size 432x288 with 1 Axes>"
            ]
          },
          "metadata": {
            "tags": []
          }
        },
        {
          "output_type": "stream",
          "text": [
            "Test set\n",
            "MAE: 1.3978331907620298\n",
            "RMSE: 1.7902623764582637\n"
          ],
          "name": "stdout"
        }
      ]
    },
    {
      "cell_type": "code",
      "metadata": {
        "id": "4N5lBTmfUtW2"
      },
      "source": [
        "def gpr_train(train, repeat_num, aro_c_n = 0.5, ato_c_n = 0.5, cha_c_n = 0.5, chi_c_n = 0.5, hco_c_n = 0.5, hyb_c_n = 0.5, ring_c_n = 0.5, \n",
        "              aro_c_e = 0.5, con_c_e = 0.5, ord_c_e = 0.5, ring_c_e = 0.5, ste_c_e = 0.5, alpha = 1e-4, train_verbose = True):\n",
        "  gpr = GaussianProcessRegressor(\n",
        "      kernel=Normalization(\n",
        "          MarginalizedGraphKernel(\n",
        "              node_kernel=uX.Additive(\n",
        "                  aromatic=uX.Constant(aro_c_n, (0.01, 10.0)) * uX.KroneckerDelta(0.5,(0.1, 0.9)), # turn constant from 0.5 to 1\n",
        "                  atomic_number=uX.Constant(ato_c_n, (0.01, 10.0)) * uX.KroneckerDelta(0.8,(0.1, 0.9)),\n",
        "                  charge=uX.Constant(cha_c_n, (0.01, 10.0)) * uX.SquareExponential(1.0),\n",
        "                  chiral=uX.Constant(chi_c_n, (0.01, 10.0)) * uX.KroneckerDelta(0.5,(0.1, 0.9)),\n",
        "                  hcount=uX.Constant(hco_c_n, (0.01, 10.0)) * uX.SquareExponential(1.0),\n",
        "                  hybridization=uX.Constant(hyb_c_n, (0.01, 10.0)) * uX.KroneckerDelta(0.5,(0.1, 0.9)),\n",
        "                  ring_list=uX.Constant(ring_c_n, (0.01, 100.0)) * uX.Convolution(uX.KroneckerDelta(0.5,(0.1, 0.9)))\n",
        "              ).normalized,\n",
        "              edge_kernel=uX.Additive(\n",
        "                  aromatic=uX.Constant(aro_c_e, (0.01, 10.0)) * uX.KroneckerDelta(0.5,(0.1, 0.9)),\n",
        "                  conjugated=uX.Constant(con_c_e, (0.01, 10.0)) * uX.KroneckerDelta(0.5,(0.1, 0.9)),\n",
        "                  order=uX.Constant(ord_c_e, (0.01, 10.0)) * uX.KroneckerDelta(0.8,(0.1, 0.9)),\n",
        "                  ring_stereo=uX.Constant(ring_c_e, (0.01, 10.0)) * uX.KroneckerDelta(0.8,(0.1, 0.9)),\n",
        "                  stereo=uX.Constant(ste_c_e, (0.01, 10.0)) * uX.KroneckerDelta(0.8,(0.1, 0.9))\n",
        "              ).normalized,\n",
        "              p=Uniform(1.0, p_bounds='fixed'),\n",
        "              q=0.05\n",
        "          )\n",
        "      ),\n",
        "      alpha=alpha, \n",
        "      optimizer=True,\n",
        "      normalize_y=True,\n",
        "      regularization='+',\n",
        "    )\n",
        "  \n",
        "  gpr.fit(train.graphs, train[target], repeat=repeat_num, verbose=train_verbose)\n",
        "  hyperparas = gpr.kernel.hyperparameters\n",
        "    \n",
        "  return gpr,[aro_c_n,hyperparas.node_kernel.aromatic.lhs.c,\n",
        "         ato_c_n,hyperparas.node_kernel.atomic_number.lhs.c,\n",
        "         cha_c_n,hyperparas.node_kernel.charge.lhs.c,\n",
        "         chi_c_n,hyperparas.node_kernel.chiral.lhs.c,\n",
        "         hco_c_n,hyperparas.node_kernel.hcount.lhs.c,\n",
        "         hyb_c_n,hyperparas.node_kernel.hybridization.lhs.c,\n",
        "         ring_c_n,hyperparas.node_kernel.ring_list.lhs.c,\n",
        "         aro_c_e,hyperparas.edge_kernel.aromatic.lhs.c,\n",
        "         con_c_e,hyperparas.edge_kernel.conjugated.lhs.c,\n",
        "         ord_c_e,hyperparas.edge_kernel.order.lhs.c,\n",
        "         ring_c_e,hyperparas.edge_kernel.ring_stereo.lhs.c,\n",
        "         ste_c_e,hyperparas.edge_kernel.stereo.lhs.c,\n",
        "         alpha]"
      ],
      "execution_count": 10,
      "outputs": []
    },
    {
      "cell_type": "code",
      "metadata": {
        "id": "Kp1llIqRAJdK"
      },
      "source": [
        "# list out the investigated hyperparameters\n",
        "#aro_c_ns = [1, 5, 9] # 1  \n",
        "ato_c_ns = [1, 5, 9] # 2\n",
        "cha_c_ns = [1, 5, 9] # 3\n",
        "chi_c_ns = [1, 5, 9] # 4\n",
        "hco_c_ns = [1, 5, 9] # 5\n",
        "hyb_c_ns = [1, 5, 9] # 6\n",
        "ring_c_ns = [1, 5, 9] # 7\n",
        "aro_c_es = [1, 5, 9] # 8\n",
        "con_c_es = [1, 5, 9] # 9\n",
        "ord_c_es = [1, 5, 9] # 10\n",
        "ring_c_es = [1, 5, 9] # 11\n",
        "ste_c_es = [1, 5, 9]\n",
        "#alphas = [1, 1e-1, 1e-2, 1e-3, 1e-4, 1e-5] # 13"
      ],
      "execution_count": 11,
      "outputs": []
    },
    {
      "cell_type": "code",
      "metadata": {
        "colab": {
          "base_uri": "https://localhost:8080/",
          "height": 69
        },
        "id": "k0TJ2eyfCvMD",
        "outputId": "ebca4d6d-b6c0-469d-e221-1a067211e086"
      },
      "source": [
        "column_names=['aro_c_n_init','aro_c_n_final',\\\n",
        "    'ato_c_n_init','ato_c_n_final',\\\n",
        "    'cha_c_n_init','cha_c_n_final',\n",
        "    'chi_c_n_init','chi_c_n_final',\\\n",
        "    'hco_c_n_init','hco_c_n_final',\\\n",
        "    'hyb_c_n_init','hyb_c_n_final',\\\n",
        "    'ring_c_n_init','ring_c_n_final',\\\n",
        "    'aro_c_e_init','aro_c_e_final',\\\n",
        "    'con_c_e_init','con_c_e_final',\\\n",
        "    'ord_c_e_init','ord_c_e_final',\\\n",
        "    'ring_c_e_init','ring_c_e_final',\\\n",
        "    'ste_c_e_init','ste_c_e_final',\\\n",
        "    'alpha',\\\n",
        "    'RMSE_train','MAE_train', 'RMSE_test', 'MAE_test']\n",
        "exhaust_search_results = pd.DataFrame(columns=column_names)\n",
        "exhaust_search_results"
      ],
      "execution_count": 12,
      "outputs": [
        {
          "output_type": "execute_result",
          "data": {
            "text/html": [
              "<div>\n",
              "<style scoped>\n",
              "    .dataframe tbody tr th:only-of-type {\n",
              "        vertical-align: middle;\n",
              "    }\n",
              "\n",
              "    .dataframe tbody tr th {\n",
              "        vertical-align: top;\n",
              "    }\n",
              "\n",
              "    .dataframe thead th {\n",
              "        text-align: right;\n",
              "    }\n",
              "</style>\n",
              "<table border=\"1\" class=\"dataframe\">\n",
              "  <thead>\n",
              "    <tr style=\"text-align: right;\">\n",
              "      <th></th>\n",
              "      <th>aro_c_n_init</th>\n",
              "      <th>aro_c_n_final</th>\n",
              "      <th>ato_c_n_init</th>\n",
              "      <th>ato_c_n_final</th>\n",
              "      <th>cha_c_n_init</th>\n",
              "      <th>cha_c_n_final</th>\n",
              "      <th>chi_c_n_init</th>\n",
              "      <th>chi_c_n_final</th>\n",
              "      <th>hco_c_n_init</th>\n",
              "      <th>hco_c_n_final</th>\n",
              "      <th>hyb_c_n_init</th>\n",
              "      <th>hyb_c_n_final</th>\n",
              "      <th>ring_c_n_init</th>\n",
              "      <th>ring_c_n_final</th>\n",
              "      <th>aro_c_e_init</th>\n",
              "      <th>aro_c_e_final</th>\n",
              "      <th>con_c_e_init</th>\n",
              "      <th>con_c_e_final</th>\n",
              "      <th>ord_c_e_init</th>\n",
              "      <th>ord_c_e_final</th>\n",
              "      <th>ring_c_e_init</th>\n",
              "      <th>ring_c_e_final</th>\n",
              "      <th>ste_c_e_init</th>\n",
              "      <th>ste_c_e_final</th>\n",
              "      <th>alpha</th>\n",
              "      <th>RMSE_train</th>\n",
              "      <th>MAE_train</th>\n",
              "      <th>RMSE_test</th>\n",
              "      <th>MAE_test</th>\n",
              "    </tr>\n",
              "  </thead>\n",
              "  <tbody>\n",
              "  </tbody>\n",
              "</table>\n",
              "</div>"
            ],
            "text/plain": [
              "Empty DataFrame\n",
              "Columns: [aro_c_n_init, aro_c_n_final, ato_c_n_init, ato_c_n_final, cha_c_n_init, cha_c_n_final, chi_c_n_init, chi_c_n_final, hco_c_n_init, hco_c_n_final, hyb_c_n_init, hyb_c_n_final, ring_c_n_init, ring_c_n_final, aro_c_e_init, aro_c_e_final, con_c_e_init, con_c_e_final, ord_c_e_init, ord_c_e_final, ring_c_e_init, ring_c_e_final, ste_c_e_init, ste_c_e_final, alpha, RMSE_train, MAE_train, RMSE_test, MAE_test]\n",
              "Index: []"
            ]
          },
          "metadata": {
            "tags": []
          },
          "execution_count": 12
        }
      ]
    },
    {
      "cell_type": "code",
      "metadata": {
        "colab": {
          "base_uri": "https://localhost:8080/"
        },
        "id": "A8HHhCyXCcqN",
        "outputId": "6b6d28a8-af01-4a02-acea-2cb6a6ce7ba6"
      },
      "source": [
        "repeat = 3\n",
        "for ato_c_n in ato_c_ns:\n",
        "  model,para_list = gpr_train(train = train, repeat_num = repeat, ato_c_n = ato_c_n)\n",
        "\n",
        "  mu = model.predict(train.graphs)\n",
        "  MAE_train = np.mean(np.abs(train[target] - mu))\n",
        "  RMSE_train = np.std(train[target] - mu)\n",
        "  para_list.append(RMSE_train)\n",
        "  para_list.append(MAE_train)\n",
        "\n",
        "  mu_test = model.predict(test.graphs)\n",
        "  MAE_test = np.mean(np.abs(test[target] - mu_test))\n",
        "  RMSE_test = np.std(test[target] - mu_test)\n",
        "  para_list.append(RMSE_test)\n",
        "  para_list.append(MAE_test)\n",
        "\n",
        "  \n",
        "  data = pd.DataFrame(data = [para_list],columns = column_names)\n",
        "  exhaust_search_results = exhaust_search_results.append(data,ignore_index=True)"
      ],
      "execution_count": 13,
      "outputs": [
        {
          "output_type": "stream",
          "text": [
            "|        logP|       dlogP|     y^T.K.y|     log|K| |     Cond(K)|  GPU time|  CPU time|\n",
            "|------------|------------|------------|------------|------------|----------|----------|\n",
            "|  2.8357e+06|  2.4482e+07|   2.843e+06|     -7284.4|  8.7357e+06|        24|      0.26|\n",
            "|  1.9213e+06|   2.074e+07|   1.928e+06|     -6745.2|  8.0425e+06|        19|      0.25|\n",
            "|  1.3279e+06|  1.6305e+07|  1.3342e+06|     -6287.4|  7.1763e+06|        18|      0.24|\n",
            "|  1.0217e+06|  1.2611e+07|  1.0277e+06|       -5988|   6.479e+06|        19|      0.23|\n",
            "|  8.3487e+05|  9.9424e+06|  8.4064e+05|     -5767.1|  5.8654e+06|        17|      0.25|\n",
            "|    7.21e+05|  8.1832e+06|  7.2661e+05|     -5604.8|  5.3923e+06|        17|      0.24|\n",
            "|  6.5213e+05|  7.2567e+06|  6.5762e+05|     -5488.9|  5.0845e+06|        17|      0.24|\n",
            "|  6.3306e+05|  6.7079e+06|  6.3853e+05|     -5464.4|  4.8499e+06|        16|      0.26|\n",
            "|  6.1106e+05|  6.5842e+06|  6.1648e+05|     -5419.7|  4.8245e+06|        16|      0.25|\n",
            "|  6.0639e+05|  6.5785e+06|   6.118e+05|     -5407.2|  4.8186e+06|        16|      0.23|\n",
            "|  6.0303e+05|  6.5485e+06|  6.0843e+05|     -5399.5|  4.8017e+06|        16|      0.25|\n",
            "|  6.0049e+05|  6.4949e+06|  6.0588e+05|     -5394.4|   4.793e+06|        16|      0.25|\n",
            "|  5.9905e+05|  6.4674e+06|  6.0444e+05|     -5393.1|  4.7792e+06|        16|      0.26|\n",
            "|  5.9767e+05|  6.4328e+06|  6.0306e+05|     -5392.3|  4.7627e+06|        16|      0.25|\n",
            "|  5.9683e+05|  6.4277e+06|  6.0222e+05|     -5390.2|  4.7601e+06|        16|      0.23|\n",
            "|  5.9524e+05|  6.4221e+06|  6.0063e+05|     -5387.6|  4.7402e+06|        16|      0.24|\n",
            "|  5.9512e+05|  6.4239e+06|  6.0051e+05|     -5386.2|  4.7484e+06|        16|      0.23|\n",
            "|  5.9478e+05|  6.4132e+06|  6.0016e+05|       -5386|  4.7509e+06|        16|      0.26|\n",
            "|  5.9392e+05|  6.3788e+06|  5.9931e+05|     -5385.9|  4.7713e+06|        16|      0.25|\n",
            "|   5.935e+05|  6.3821e+06|  5.9889e+05|     -5385.7|  4.7683e+06|        16|      0.25|\n",
            "|  5.9308e+05|  6.3901e+06|  5.9847e+05|     -5386.2|  4.7575e+06|        16|      0.24|\n",
            "|  5.9313e+05|  6.3909e+06|  5.9852e+05|     -5386.3|   4.754e+06|        16|      0.29|\n",
            "|  5.9322e+05|  6.3926e+06|   5.986e+05|     -5386.2|  4.7582e+06|        16|      0.25|\n",
            "|   5.931e+05|  6.3901e+06|  5.9849e+05|     -5386.2|  4.7544e+06|        16|      0.26|\n",
            "|  5.9314e+05|  6.3907e+06|  5.9852e+05|     -5386.2|   4.755e+06|        16|      0.24|\n",
            "|  5.9308e+05|  6.3891e+06|  5.9847e+05|     -5386.2|  4.7536e+06|        16|      0.25|\n",
            "|  5.9307e+05|   6.389e+06|  5.9845e+05|     -5386.2|  4.7553e+06|        16|      0.24|\n",
            "|  5.9325e+05|  6.3937e+06|  5.9864e+05|     -5386.3|  4.7573e+06|        16|      0.25|\n",
            "|  5.9308e+05|  6.3894e+06|  5.9846e+05|     -5386.2|   4.755e+06|        16|      0.24|\n",
            "|   5.932e+05|  6.3923e+06|  5.9859e+05|     -5386.2|  4.7558e+06|        16|      0.24|\n",
            "|  5.9316e+05|  6.3913e+06|  5.9855e+05|     -5386.2|  4.7558e+06|        16|      0.29|\n",
            "|  5.9312e+05|  6.3904e+06|  5.9851e+05|     -5386.2|  4.7557e+06|        16|      0.24|\n",
            "|  5.9306e+05|  6.3889e+06|  5.9844e+05|     -5386.2|  4.7558e+06|        16|      0.23|\n",
            "|  5.9313e+05|  6.3905e+06|  5.9852e+05|     -5386.3|  4.7554e+06|        16|      0.24|\n",
            "|   5.932e+05|  6.3924e+06|  5.9858e+05|     -5386.2|  4.7566e+06|        16|      0.24|\n",
            "|  5.9312e+05|  6.3905e+06|  5.9851e+05|     -5386.2|  4.7559e+06|        16|      0.29|\n",
            "|  5.9308e+05|  6.3897e+06|  5.9847e+05|     -5386.2|   4.755e+06|        16|      0.23|\n",
            "|  5.9307e+05|  6.3892e+06|  5.9846e+05|     -5386.2|  4.7548e+06|        16|      0.23|\n",
            "|  5.9304e+05|   6.389e+06|  5.9842e+05|     -5386.2|  4.7549e+06|        16|      0.23|\n",
            "|  5.9317e+05|   6.391e+06|  5.9855e+05|     -5386.3|  4.7554e+06|        16|      0.25|\n",
            "|   5.932e+05|  6.3919e+06|  5.9859e+05|     -5386.2|  4.7547e+06|        16|      0.25|\n",
            "|  5.9316e+05|  6.3915e+06|  5.9854e+05|     -5386.2|  4.7553e+06|        16|      0.23|\n",
            "|  5.9327e+05|   6.394e+06|  5.9865e+05|     -5386.2|  4.7559e+06|        16|      0.24|\n",
            "|  5.9304e+05|   6.389e+06|  5.9843e+05|     -5386.2|  4.7557e+06|        16|      0.25|\n",
            "|  5.9304e+05|  6.3886e+06|  5.9843e+05|     -5386.2|  4.7558e+06|        16|      0.23|\n",
            "|        logP|       dlogP|     y^T.K.y|     log|K| |     Cond(K)|  GPU time|  CPU time|\n",
            "|------------|------------|------------|------------|------------|----------|----------|\n",
            "|  1.6113e+06|  2.0314e+07|  1.6179e+06|     -6559.9|    7.36e+06|        20|      0.23|\n",
            "|  1.2581e+06|  1.5664e+07|  1.2643e+06|     -6261.6|  6.7782e+06|        19|      0.23|\n",
            "|  1.0003e+06|  1.2671e+07|  1.0063e+06|     -5992.5|  6.2212e+06|        18|      0.23|\n",
            "|  7.8115e+05|  1.0003e+07|  7.8685e+05|     -5696.4|  5.6642e+06|        18|      0.24|\n",
            "|  6.9162e+05|  7.9735e+06|  6.9719e+05|     -5566.1|  5.2745e+06|        17|      0.23|\n",
            "|  6.3848e+05|  7.1424e+06|  6.4395e+05|     -5471.1|  5.0407e+06|        17|      0.23|\n",
            "|  6.1765e+05|  6.7359e+06|  6.2309e+05|     -5436.1|  4.8984e+06|        16|      0.24|\n",
            "|  6.0506e+05|  6.5944e+06|  6.1047e+05|     -5409.9|  4.8107e+06|        16|      0.24|\n",
            "|  5.9963e+05|  6.5128e+06|  6.0503e+05|     -5397.9|  4.7795e+06|        16|      0.24|\n",
            "|  5.9555e+05|   6.398e+06|  6.0093e+05|     -5387.7|  4.7692e+06|        16|      0.23|\n",
            "|  5.9484e+05|  6.3997e+06|  6.0022e+05|     -5387.4|  4.7608e+06|        16|      0.23|\n",
            "|  5.9465e+05|  6.4069e+06|  6.0004e+05|     -5387.1|  4.7514e+06|        16|      0.24|\n",
            "|  5.9406e+05|  6.4076e+06|  5.9945e+05|     -5386.5|  4.7468e+06|        16|      0.24|\n",
            "|  5.9376e+05|  6.4017e+06|  5.9915e+05|     -5386.4|  4.7514e+06|        16|      0.23|\n",
            "|  5.9339e+05|  6.4065e+06|  5.9878e+05|     -5387.8|  4.7694e+06|        16|      0.24|\n",
            "|  5.9328e+05|  6.3961e+06|  5.9867e+05|     -5386.4|  4.7566e+06|        16|      0.23|\n",
            "|  5.9307e+05|  6.3887e+06|  5.9846e+05|     -5387.1|  4.7571e+06|        16|      0.23|\n",
            "|  5.9314e+05|  6.3921e+06|  5.9853e+05|     -5386.4|  4.7584e+06|        16|      0.25|\n",
            "|  5.9311e+05|  6.3902e+06|   5.985e+05|       -5387|  4.7574e+06|        16|      0.24|\n",
            "|   5.931e+05|  6.3898e+06|  5.9849e+05|     -5387.1|  4.7607e+06|        16|      0.24|\n",
            "|  5.9316e+05|  6.3906e+06|  5.9854e+05|     -5387.1|  4.7586e+06|        16|      0.29|\n",
            "|  5.9307e+05|  6.3888e+06|  5.9846e+05|     -5387.1|  4.7581e+06|        16|      0.24|\n",
            "|  5.9304e+05|  6.3886e+06|  5.9843e+05|     -5387.1|  4.7592e+06|        16|      0.23|\n",
            "|  5.9325e+05|  6.3932e+06|  5.9864e+05|     -5387.1|  4.7559e+06|        16|      0.26|\n",
            "|  5.9308e+05|  6.3892e+06|  5.9847e+05|     -5387.1|  4.7579e+06|        16|      0.25|\n",
            "|  5.9308e+05|  6.3888e+06|  5.9846e+05|     -5387.1|  4.7596e+06|        16|      0.25|\n",
            "|        logP|       dlogP|     y^T.K.y|     log|K| |     Cond(K)|  GPU time|  CPU time|\n",
            "|------------|------------|------------|------------|------------|----------|----------|\n",
            "|  3.3809e+06|   2.567e+07|  3.3884e+06|     -7523.2|  8.7437e+06|        20|      0.25|\n",
            "|  2.2099e+06|  2.2186e+07|  2.2169e+06|     -6915.1|  8.0945e+06|        19|      0.23|\n",
            "|  1.5265e+06|  1.7804e+07|   1.533e+06|     -6452.2|  7.3327e+06|        19|      0.24|\n",
            "|  1.1479e+06|  1.4003e+07|   1.154e+06|     -6122.4|  6.6504e+06|        18|      0.25|\n",
            "|  9.0657e+05|  1.1219e+07|  9.1243e+05|     -5856.3|  6.0662e+06|        18|       0.3|\n",
            "|  7.6609e+05|  9.2708e+06|  7.7175e+05|     -5661.2|  5.6381e+06|        18|      0.32|\n",
            "|   6.885e+05|  7.9122e+06|  6.9406e+05|     -5553.1|  5.2831e+06|        17|       0.3|\n",
            "|  6.3344e+05|  7.1445e+06|   6.389e+05|     -5452.7|  5.0384e+06|        17|      0.32|\n",
            "|  6.1447e+05|  6.7939e+06|  6.1989e+05|     -5425.2|  4.9013e+06|        17|      0.32|\n",
            "|  6.0958e+05|   6.704e+06|  6.1499e+05|     -5416.7|    4.86e+06|        17|      0.31|\n",
            "|  6.0106e+05|  6.5522e+06|  6.0646e+05|     -5400.7|  4.7973e+06|        16|      0.32|\n",
            "|  5.9817e+05|  6.4179e+06|  6.0357e+05|     -5395.5|  4.7812e+06|        16|       0.3|\n",
            "|  5.9642e+05|  6.4237e+06|  6.0182e+05|       -5391|  4.7762e+06|        16|      0.32|\n",
            "|  5.9571e+05|  6.4234e+06|   6.011e+05|     -5388.5|  4.7713e+06|        16|      0.31|\n",
            "|  5.9525e+05|  6.4155e+06|  6.0064e+05|     -5387.2|  4.7679e+06|        16|      0.31|\n",
            "|  5.9468e+05|  6.4176e+06|  6.0007e+05|     -5387.5|  4.7529e+06|        16|      0.32|\n",
            "|  5.9438e+05|  6.4103e+06|  5.9977e+05|     -5387.9|  4.7551e+06|        16|      0.37|\n",
            "|  5.9386e+05|  6.3967e+06|  5.9924e+05|     -5388.1|  4.7506e+06|        16|      0.34|\n",
            "|   5.935e+05|  6.3876e+06|  5.9889e+05|       -5388|  4.7502e+06|        16|      0.32|\n",
            "|  5.9311e+05|  6.3863e+06|  5.9849e+05|     -5386.1|  4.7595e+06|        16|      0.31|\n",
            "|    5.93e+05|  6.3799e+06|  5.9838e+05|     -5385.8|  4.7627e+06|        16|       0.3|\n",
            "|  5.9305e+05|  6.3782e+06|  5.9844e+05|     -5385.9|  4.7572e+06|        16|      0.32|\n",
            "|  5.9307e+05|  6.3812e+06|  5.9845e+05|     -5385.8|  4.7653e+06|        16|      0.32|\n",
            "|    5.93e+05|  6.3793e+06|  5.9838e+05|     -5385.8|   4.763e+06|        16|      0.31|\n",
            "|    5.93e+05|  6.3794e+06|  5.9839e+05|     -5385.8|  4.7612e+06|        16|       0.3|\n",
            "|    5.93e+05|  6.3797e+06|  5.9839e+05|     -5385.8|  4.7625e+06|        16|      0.33|\n",
            "Optimization result:\n",
            "      fun: 592999.262897309\n",
            " hess_inv: <25x25 LbfgsInvHessProduct with dtype=float64>\n",
            "      jac: array([ 6.37557709e+02,  1.28957404e+02,  1.70757693e+01,  2.63063370e+02,\n",
            "        1.36967727e+04,  2.82633429e+02,  0.00000000e+00, -1.00472222e+02,\n",
            "        8.89951583e+01, -1.57579674e+03,  0.00000000e+00,  1.17316984e+02,\n",
            "        5.10169591e+01,  8.89194089e+02,  1.76293270e+04, -7.14870043e+01,\n",
            "        1.61586947e+03, -2.41999176e+02,  3.03163717e+03,  2.54335305e+02,\n",
            "        2.68027367e+02,  6.99937998e+01,  0.00000000e+00, -1.13350766e+01,\n",
            "        2.38014761e+02])\n",
            "  message: b'CONVERGENCE: REL_REDUCTION_OF_F_<=_FACTR*EPSMCH'\n",
            "     nfev: 26\n",
            "      nit: 21\n",
            "   status: 0\n",
            "  success: True\n",
            "        x: array([-9.21034037, -4.60517019, -2.30258509,  1.47487695, -2.30258509,\n",
            "       -4.60517019,  1.38836933, -3.71617987, -2.28794699,  2.30258509,\n",
            "       -2.72487862, -3.89275983, -2.30258509,  1.73055155, -2.30258509,\n",
            "        1.53183641, -2.30258509,  2.15730037, -2.30258509, -0.15867978,\n",
            "       -2.30258509, -3.79930524, -0.19078879, -0.38342785, -2.30258509])\n",
            "|        logP|       dlogP|     y^T.K.y|     log|K| |     Cond(K)|  GPU time|  CPU time|\n",
            "|------------|------------|------------|------------|------------|----------|----------|\n",
            "|  3.0644e+06|  2.5314e+07|  3.0719e+06|     -7434.6|  8.9225e+06|        22|      0.24|\n",
            "|  2.1158e+06|  2.2216e+07|  2.1227e+06|     -6895.5|   8.267e+06|        20|      0.24|\n",
            "|  1.3279e+06|   1.684e+07|  1.3342e+06|     -6284.8|  7.1507e+06|        19|      0.24|\n",
            "|  9.8986e+05|  1.1985e+07|  9.9581e+05|     -5947.9|  6.3966e+06|        18|      0.23|\n",
            "|  8.4052e+05|  9.8498e+06|  8.4629e+05|     -5770.5|  5.8921e+06|        17|      0.23|\n",
            "|  7.2776e+05|  8.1899e+06|  7.3337e+05|     -5615.9|  5.4058e+06|        17|      0.22|\n",
            "|  6.5835e+05|   7.386e+06|  6.6385e+05|     -5497.8|  5.1093e+06|        17|      0.25|\n",
            "|  6.2434e+05|  6.7359e+06|  6.2978e+05|     -5446.8|   4.881e+06|        16|      0.23|\n",
            "|  6.0817e+05|  6.5653e+06|  6.1358e+05|       -5415|   4.805e+06|        16|      0.23|\n",
            "|  6.0087e+05|   6.523e+06|  6.0626e+05|     -5396.6|  4.7858e+06|        16|      0.23|\n",
            "|  5.9897e+05|  6.4925e+06|  6.0436e+05|     -5392.8|  4.7731e+06|        16|      0.24|\n",
            "|  6.0142e+05|  6.5559e+06|  6.0681e+05|     -5389.2|   4.817e+06|        17|      0.24|\n",
            "|  5.9852e+05|  6.4979e+06|  6.0391e+05|     -5389.9|    4.78e+06|        16|      0.23|\n",
            "|  5.9957e+05|  6.5349e+06|  6.0496e+05|     -5387.5|  4.8005e+06|        17|      0.24|\n",
            "|  5.9844e+05|  6.4995e+06|  6.0383e+05|     -5389.3|  4.7831e+06|        16|      0.29|\n",
            "|  5.9715e+05|  6.4564e+06|  6.0254e+05|     -5389.3|  4.7656e+06|        16|      0.23|\n",
            "|  5.9698e+05|  6.4517e+06|  6.0237e+05|     -5388.9|  4.7665e+06|        16|      0.24|\n",
            "|  5.9585e+05|  6.4215e+06|  6.0124e+05|     -5387.4|  4.7544e+06|        16|      0.22|\n",
            "|  5.9514e+05|  6.4042e+06|  6.0053e+05|     -5386.6|  4.7481e+06|        16|      0.23|\n",
            "|  5.9499e+05|  6.4122e+06|  6.0038e+05|     -5386.1|  4.7466e+06|        16|      0.23|\n",
            "|  5.9505e+05|  6.4191e+06|  6.0044e+05|     -5386.1|  4.7424e+06|        16|      0.22|\n",
            "|  5.9504e+05|  6.4142e+06|  6.0043e+05|     -5386.1|   4.744e+06|        16|      0.23|\n",
            "|  5.9526e+05|  6.4179e+06|  6.0064e+05|     -5386.1|  4.7438e+06|        16|      0.23|\n",
            "|  5.9516e+05|  6.4162e+06|  6.0054e+05|     -5386.1|   4.746e+06|        16|      0.22|\n",
            "|   5.951e+05|  6.4146e+06|  6.0049e+05|     -5386.1|  4.7451e+06|        16|      0.23|\n",
            "|  5.9509e+05|  6.4141e+06|  6.0047e+05|     -5386.1|  4.7478e+06|        16|      0.23|\n",
            "|  5.9519e+05|  6.4168e+06|  6.0058e+05|     -5386.1|  4.7462e+06|        16|      0.25|\n",
            "|        logP|       dlogP|     y^T.K.y|     log|K| |     Cond(K)|  GPU time|  CPU time|\n",
            "|------------|------------|------------|------------|------------|----------|----------|\n",
            "|  5.0155e+06|  1.1274e+07|  5.0237e+06|     -8253.4|  9.6358e+06|        16|      0.24|\n",
            "|  3.8821e+06|  1.5647e+07|  3.8899e+06|     -7808.2|  9.3045e+06|        17|      0.23|\n",
            "|  1.0393e+06|  1.2701e+07|  1.0453e+06|     -5944.3|  5.8767e+06|        19|      0.23|\n",
            "|  8.1736e+05|   9.245e+06|  8.2307e+05|     -5706.9|  5.3322e+06|        17|      0.23|\n",
            "|  7.8782e+05|  8.6319e+06|   7.935e+05|     -5675.5|  5.2196e+06|        16|      0.23|\n",
            "|  7.7036e+05|  8.3617e+06|  7.7601e+05|     -5655.4|  5.1668e+06|        16|      0.23|\n",
            "|  6.7361e+05|  7.2377e+06|  6.7914e+05|     -5527.2|  5.0743e+06|        17|      0.26|\n",
            "|  7.0073e+05|  7.5283e+06|  7.0629e+05|     -5568.6|  4.9886e+06|        16|      0.25|\n",
            "|  6.4084e+05|  6.8956e+06|  6.4632e+05|     -5480.8|  4.8809e+06|        16|      0.26|\n",
            "|  8.4838e+05|  9.2932e+06|  8.5415e+05|     -5765.8|  5.6947e+06|        18|      0.25|\n",
            "|  6.3654e+05|  6.8601e+06|  6.4201e+05|     -5473.9|  4.8905e+06|        16|      0.24|\n",
            "|  6.2044e+05|  6.6979e+06|  6.2588e+05|     -5442.6|  4.8477e+06|        16|      0.23|\n",
            "|  6.0571e+05|   6.602e+06|  6.1111e+05|     -5406.5|  4.8175e+06|        16|      0.23|\n",
            "|   6.045e+05|  6.5724e+06|  6.0991e+05|     -5404.3|  4.8113e+06|        16|      0.22|\n",
            "|  6.0166e+05|  6.5157e+06|  6.0706e+05|     -5396.4|  4.8063e+06|        16|      0.23|\n",
            "|  6.0071e+05|  6.4913e+06|   6.061e+05|     -5396.3|  4.7893e+06|        16|      0.24|\n",
            "|  6.0025e+05|  6.4799e+06|  6.0565e+05|       -5396|  4.7762e+06|        16|      0.23|\n",
            "|  5.9972e+05|  6.4718e+06|  6.0511e+05|     -5395.1|  4.7681e+06|        16|      0.23|\n",
            "|   5.989e+05|  6.4867e+06|  6.0429e+05|     -5390.9|  4.7735e+06|        16|      0.26|\n",
            "|  5.9836e+05|   6.472e+06|  6.0376e+05|     -5390.7|  4.7644e+06|        16|      0.25|\n",
            "|  5.9757e+05|  6.4537e+06|  6.0296e+05|     -5390.3|  4.7457e+06|        16|      0.27|\n",
            "|  5.9703e+05|  6.4442e+06|  6.0242e+05|     -5389.8|  4.7398e+06|        16|      0.24|\n",
            "|  5.9592e+05|  6.4434e+06|  6.0131e+05|     -5386.4|  4.7469e+06|        16|      0.24|\n",
            "|  5.9532e+05|   6.428e+06|  6.0071e+05|     -5386.5|  4.7438e+06|        16|      0.23|\n",
            "|  5.9401e+05|  6.3852e+06|   5.994e+05|     -5387.7|   4.746e+06|        16|      0.22|\n",
            "|  5.9374e+05|  6.3875e+06|  5.9912e+05|     -5387.3|  4.7502e+06|        16|      0.23|\n",
            "|  5.9328e+05|  6.3988e+06|  5.9867e+05|     -5386.7|  4.7627e+06|        16|      0.23|\n",
            "|  5.9325e+05|  6.3961e+06|  5.9864e+05|     -5386.7|  4.7584e+06|        16|      0.24|\n",
            "|  5.9327e+05|  6.4004e+06|  5.9866e+05|     -5386.6|  4.7581e+06|        16|      0.23|\n",
            "|  5.9327e+05|  6.3979e+06|  5.9866e+05|     -5386.7|  4.7632e+06|        16|      0.22|\n",
            "|  5.9326e+05|  6.3972e+06|  5.9864e+05|     -5386.7|  4.7606e+06|        16|      0.24|\n",
            "|  5.9318e+05|   6.395e+06|  5.9856e+05|     -5386.7|  4.7638e+06|        16|      0.23|\n",
            "|  5.9327e+05|  6.3974e+06|  5.9865e+05|     -5386.7|  4.7603e+06|        16|      0.25|\n",
            "|  5.9319e+05|  6.3958e+06|  5.9858e+05|     -5386.7|  4.7595e+06|        16|      0.28|\n",
            "|  5.9326e+05|     6.4e+06|  5.9865e+05|     -5386.6|  4.7558e+06|        16|      0.24|\n",
            "|   5.932e+05|  6.3962e+06|  5.9859e+05|     -5386.7|  4.7591e+06|        16|      0.23|\n",
            "|  5.9328e+05|  6.3976e+06|  5.9867e+05|     -5386.7|  4.7621e+06|        16|      0.24|\n",
            "|  5.9325e+05|  6.3969e+06|  5.9864e+05|     -5386.7|  4.7646e+06|        16|       0.3|\n",
            "|  5.9324e+05|  6.3969e+06|  5.9863e+05|     -5386.7|  4.7606e+06|        16|       0.3|\n",
            "|  5.9332e+05|  6.3986e+06|  5.9871e+05|     -5386.7|  4.7605e+06|        16|      0.29|\n",
            "|  5.9324e+05|  6.3965e+06|  5.9863e+05|     -5386.7|  4.7611e+06|        16|       0.3|\n",
            "|        logP|       dlogP|     y^T.K.y|     log|K| |     Cond(K)|  GPU time|  CPU time|\n",
            "|------------|------------|------------|------------|------------|----------|----------|\n",
            "|  2.9521e+06|  3.5287e+07|  2.9595e+06|     -7373.1|  8.5724e+06|        24|      0.29|\n",
            "|  1.9406e+06|  2.6937e+07|  1.9474e+06|     -6787.1|  7.8258e+06|        22|      0.29|\n",
            "|  1.4889e+06|  2.1736e+07|  1.4953e+06|     -6449.5|  7.2511e+06|        21|      0.29|\n",
            "|  1.1658e+06|  1.6691e+07|  1.1719e+06|     -6154.4|  6.6855e+06|        20|      0.33|\n",
            "|  9.8908e+05|  1.3865e+07|  9.9504e+05|     -5963.3|  6.2751e+06|        19|      0.32|\n",
            "|  8.3859e+05|   1.104e+07|  8.4437e+05|     -5776.6|  5.8518e+06|        18|      0.31|\n",
            "|  7.3138e+05|  8.8523e+06|  7.3701e+05|     -5630.2|  5.4239e+06|        17|       0.3|\n",
            "|  6.5973e+05|   7.735e+06|  6.6523e+05|     -5503.1|  5.1374e+06|        17|       0.3|\n",
            "|  6.2808e+05|  7.0189e+06|  6.3354e+05|     -5458.7|  4.9077e+06|        17|      0.29|\n",
            "|  6.2357e+05|  6.9767e+06|  6.2902e+05|     -5448.9|  4.9065e+06|        17|      0.31|\n",
            "|  6.1816e+05|  6.9141e+06|   6.236e+05|     -5435.6|  4.8985e+06|        17|      0.31|\n",
            "|   6.124e+05|  6.8074e+06|  6.1782e+05|     -5422.4|    4.88e+06|        17|       0.3|\n",
            "|  6.0535e+05|  6.6203e+06|  6.1076e+05|     -5409.5|  4.8534e+06|        17|      0.31|\n",
            "|  6.0547e+05|  6.5888e+06|  6.1087e+05|     -5402.3|  4.8638e+06|        17|      0.31|\n",
            "|  6.0437e+05|  6.5942e+06|  6.0978e+05|     -5403.9|  4.8563e+06|        17|      0.29|\n",
            "|  6.0445e+05|   6.535e+06|  6.0985e+05|     -5400.6|  4.8773e+06|        17|       0.3|\n",
            "|  6.0401e+05|  6.5607e+06|  6.0942e+05|     -5401.8|  4.8656e+06|        17|      0.31|\n",
            "|  6.0102e+05|  6.4832e+06|  6.0642e+05|     -5400.8|  4.8352e+06|        16|      0.31|\n",
            "|  6.0078e+05|  6.4773e+06|  6.0619e+05|     -5401.2|  4.8291e+06|        16|      0.33|\n",
            "|  6.0025e+05|  6.4637e+06|  6.0565e+05|     -5401.2|  4.8127e+06|        16|      0.31|\n",
            "|  5.9949e+05|  6.4429e+06|  6.0489e+05|     -5400.2|  4.7937e+06|        16|       0.3|\n",
            "|  5.9915e+05|  6.4426e+06|  6.0455e+05|     -5398.7|  4.8014e+06|        16|      0.31|\n",
            "|  5.9848e+05|  6.4383e+06|  6.0387e+05|       -5396|  4.8031e+06|        16|       0.3|\n",
            "|  5.9768e+05|  6.4312e+06|  6.0307e+05|     -5392.8|  4.8046e+06|        16|       0.3|\n",
            "|  5.9671e+05|  6.4134e+06|   6.021e+05|     -5389.8|  4.7986e+06|        16|      0.29|\n",
            "|  6.0086e+05|  6.4549e+06|  6.0625e+05|     -5389.6|  4.8181e+06|        16|      0.28|\n",
            "|  5.9513e+05|   6.393e+06|  6.0052e+05|     -5385.7|  4.7838e+06|        16|       0.3|\n",
            "|   5.952e+05|  6.3551e+06|  6.0059e+05|       -5388|  4.7637e+06|        16|       0.3|\n",
            "|  5.9469e+05|  6.3686e+06|  6.0007e+05|     -5386.2|  4.7756e+06|        16|      0.29|\n",
            "|   5.947e+05|  6.3714e+06|  6.0009e+05|     -5386.2|  4.7686e+06|        16|       0.3|\n",
            "|  5.9474e+05|  6.3707e+06|  6.0013e+05|     -5386.1|  4.7702e+06|        16|       0.3|\n",
            "|  5.9471e+05|  6.3691e+06|   6.001e+05|     -5386.2|  4.7721e+06|        16|      0.32|\n",
            "|  5.9493e+05|  6.3741e+06|  6.0031e+05|     -5386.2|  4.7699e+06|        16|      0.31|\n",
            "|  5.9477e+05|  6.3703e+06|  6.0015e+05|     -5386.2|  4.7727e+06|        16|      0.31|\n",
            "|  5.9475e+05|  6.3701e+06|  6.0014e+05|     -5386.2|  4.7752e+06|        16|      0.29|\n",
            "|  5.9475e+05|  6.3696e+06|  6.0013e+05|     -5386.2|  4.7732e+06|        16|      0.31|\n",
            "|  5.9467e+05|  6.3685e+06|  6.0006e+05|     -5386.2|  4.7724e+06|        16|       0.3|\n",
            "|  5.9458e+05|  6.3686e+06|  5.9997e+05|     -5386.2|  4.7673e+06|        16|      0.29|\n",
            "|  5.9451e+05|  6.3666e+06|  5.9989e+05|     -5386.1|  4.7652e+06|        16|      0.31|\n",
            "|  5.9464e+05|  6.3699e+06|  6.0002e+05|     -5386.3|  4.7615e+06|        16|      0.29|\n",
            "|  5.9451e+05|  6.3668e+06|   5.999e+05|     -5386.1|  4.7663e+06|        16|      0.32|\n",
            "|  5.9445e+05|  6.3647e+06|  5.9983e+05|     -5386.1|   4.763e+06|        16|      0.29|\n",
            "|  5.9446e+05|  6.3649e+06|  5.9985e+05|     -5386.1|  4.7636e+06|        16|       0.3|\n",
            "|  5.9455e+05|  6.3671e+06|  5.9994e+05|     -5386.1|  4.7645e+06|        16|       0.3|\n",
            "Optimization result:\n",
            "      fun: 593242.1427999439\n",
            " hess_inv: <25x25 LbfgsInvHessProduct with dtype=float64>\n",
            "      jac: array([ 6.39244705e+02,  1.29678119e+02,  1.70751991e+01,  2.64988564e+02,\n",
            "        1.37175442e+04,  2.83375186e+02,  0.00000000e+00, -1.02672973e+02,\n",
            "        9.89278355e+01, -5.99504710e+02,  0.00000000e+00,  8.68982415e+01,\n",
            "        5.84802721e+01, -5.67496817e+01,  1.75653701e+04,  4.06899639e+02,\n",
            "        1.70250971e+03, -7.52799075e+02,  2.98367363e+03, -3.87774589e+02,\n",
            "        2.36922561e+02,  1.89661230e+02,  0.00000000e+00,  5.44871660e+02,\n",
            "        2.56475008e+02])\n",
            "  message: b'CONVERGENCE: REL_REDUCTION_OF_F_<=_FACTR*EPSMCH'\n",
            "     nfev: 41\n",
            "      nit: 26\n",
            "   status: 0\n",
            "  success: True\n",
            "        x: array([-9.21034037, -4.60517019, -2.30258509,  1.47382103, -2.30258509,\n",
            "       -4.60517019, -0.92055184, -3.58281591, -2.30258509,  2.30258509,\n",
            "       -8.71221151, -4.11374043, -2.00630242,  1.7186841 , -2.30258509,\n",
            "        0.04775122, -2.30258509,  0.5542733 , -2.30258509, -2.15138843,\n",
            "       -2.30258509, -4.37025229, -0.32637211, -1.65930591, -2.30258509])\n",
            "|        logP|       dlogP|     y^T.K.y|     log|K| |     Cond(K)|  GPU time|  CPU time|\n",
            "|------------|------------|------------|------------|------------|----------|----------|\n",
            "|  3.2761e+06|  2.5568e+07|  3.2836e+06|     -7545.4|  9.0292e+06|        23|      0.25|\n",
            "|  2.3022e+06|  2.3345e+07|  2.3092e+06|     -7020.4|  8.4259e+06|        21|      0.24|\n",
            "|  1.2831e+06|  1.6655e+07|  1.2893e+06|     -6243.3|  7.0573e+06|        20|      0.25|\n",
            "|  9.5836e+05|  1.1565e+07|  9.6427e+05|     -5909.2|  6.3009e+06|        18|      0.23|\n",
            "|  8.2605e+05|  9.6213e+06|   8.318e+05|     -5748.5|  5.8434e+06|        17|      0.23|\n",
            "|  7.2038e+05|   8.029e+06|  7.2598e+05|     -5605.2|  5.3655e+06|        17|      0.28|\n",
            "|  6.5663e+05|  7.3142e+06|  6.6212e+05|     -5497.3|  5.0814e+06|        17|      0.24|\n",
            "|  6.2214e+05|  6.7631e+06|  6.2759e+05|     -5441.4|  4.8894e+06|        16|      0.22|\n",
            "|  6.0491e+05|  6.5501e+06|  6.1032e+05|     -5407.8|  4.7932e+06|        16|      0.23|\n",
            "|  5.9984e+05|  6.5046e+06|  6.0523e+05|     -5393.7|  4.7862e+06|        16|      0.24|\n",
            "|  5.9757e+05|  6.4625e+06|  6.0296e+05|     -5389.7|  4.7713e+06|        16|      0.23|\n",
            "|  5.9702e+05|  6.4491e+06|  6.0241e+05|     -5389.6|  4.7653e+06|        16|      0.24|\n",
            "|  5.9599e+05|  6.4255e+06|  6.0137e+05|     -5389.4|  4.7399e+06|        16|      0.23|\n",
            "|  5.9535e+05|  6.4203e+06|  6.0074e+05|     -5388.1|  4.7382e+06|        16|      0.24|\n",
            "|  5.9482e+05|  6.4111e+06|  6.0021e+05|     -5386.4|  4.7564e+06|        16|      0.22|\n",
            "|  5.9468e+05|  6.4089e+06|  6.0006e+05|     -5386.4|   4.757e+06|        16|      0.23|\n",
            "|  5.9409e+05|  6.4028e+06|  5.9947e+05|     -5387.1|   4.764e+06|        16|      0.23|\n",
            "|  5.9382e+05|  6.4048e+06|  5.9921e+05|     -5387.2|  4.7617e+06|        16|      0.23|\n",
            "|   5.934e+05|  6.4002e+06|  5.9879e+05|     -5387.3|  4.7627e+06|        16|      0.24|\n",
            "|  5.9316e+05|  6.3999e+06|  5.9855e+05|       -5387|  4.7608e+06|        16|      0.24|\n",
            "|  5.9321e+05|  6.4015e+06|   5.986e+05|     -5386.9|  4.7573e+06|        16|      0.22|\n",
            "|  5.9337e+05|  6.4045e+06|  5.9875e+05|       -5387|    4.76e+06|        16|      0.22|\n",
            "|  5.9315e+05|  6.3996e+06|  5.9854e+05|       -5387|  4.7581e+06|        16|      0.23|\n",
            "|  5.9325e+05|  6.4018e+06|  5.9863e+05|       -5387|  4.7591e+06|        16|      0.22|\n",
            "|   5.932e+05|  6.4009e+06|  5.9858e+05|       -5387|    4.76e+06|        16|      0.23|\n",
            "|        logP|       dlogP|     y^T.K.y|     log|K| |     Cond(K)|  GPU time|  CPU time|\n",
            "|------------|------------|------------|------------|------------|----------|----------|\n",
            "|  4.3681e+06|  2.4416e+07|  4.3761e+06|     -8020.3|  9.3727e+06|        21|      0.24|\n",
            "|  2.7954e+06|  2.5049e+07|  2.8027e+06|     -7289.8|  8.7832e+06|        20|      0.23|\n",
            "|  1.3577e+06|  1.7118e+07|   1.364e+06|     -6300.3|  7.2139e+06|        19|      0.24|\n",
            "|   1.195e+06|  1.5064e+07|  1.2011e+06|     -6153.2|  6.9012e+06|        19|      0.24|\n",
            "|  9.3444e+05|  1.1321e+07|  9.4033e+05|     -5885.5|   6.216e+06|        18|      0.25|\n",
            "|  8.2448e+05|  9.5801e+06|  8.3024e+05|     -5753.4|  5.8034e+06|        17|      0.23|\n",
            "|  7.3317e+05|  8.3684e+06|  7.3879e+05|     -5624.7|  5.4312e+06|        17|      0.23|\n",
            "|   6.606e+05|   7.457e+06|  6.6611e+05|     -5506.5|  5.1161e+06|        17|      0.25|\n",
            "|  6.2351e+05|  6.8882e+06|  6.2895e+05|     -5442.8|  4.8877e+06|        16|      0.22|\n",
            "|  6.1233e+05|  6.6979e+06|  6.1775e+05|     -5418.4|  4.8691e+06|        17|      0.24|\n",
            "|  6.0783e+05|  6.6681e+06|  6.1324e+05|     -5411.1|  4.8422e+06|        17|      0.23|\n",
            "|   6.058e+05|  6.6385e+06|  6.1121e+05|     -5407.2|  4.8273e+06|        17|      0.23|\n",
            "|  6.0034e+05|  6.5252e+06|  6.0574e+05|     -5398.4|  4.8002e+06|        16|      0.23|\n",
            "|  5.9742e+05|  6.4528e+06|  6.0281e+05|     -5394.7|   4.782e+06|        16|      0.23|\n",
            "|  5.9687e+05|  6.4509e+06|  6.0226e+05|     -5392.8|  4.7875e+06|        16|      0.23|\n",
            "|   5.964e+05|  6.4437e+06|   6.018e+05|     -5391.8|  4.7854e+06|        16|      0.24|\n",
            "|  5.9605e+05|  6.4344e+06|  6.0144e+05|     -5391.4|  4.7854e+06|        16|      0.23|\n",
            "|  5.9518e+05|  6.4134e+06|  6.0057e+05|     -5390.2|  4.7719e+06|        16|      0.22|\n",
            "|  5.9456e+05|  6.4057e+06|  5.9995e+05|     -5388.9|  4.7646e+06|        16|      0.26|\n",
            "|  5.9341e+05|  6.3946e+06|   5.988e+05|     -5386.2|  4.7549e+06|        16|      0.24|\n",
            "|  5.9337e+05|  6.3941e+06|  5.9876e+05|     -5386.3|  4.7553e+06|        16|      0.22|\n",
            "|  5.9321e+05|  6.3934e+06|   5.986e+05|     -5386.8|  4.7521e+06|        16|      0.22|\n",
            "|  5.9317e+05|  6.3943e+06|  5.9855e+05|       -5387|  4.7562e+06|        16|      0.22|\n",
            "|  5.9301e+05|  6.3855e+06|   5.984e+05|     -5386.9|  4.7627e+06|        16|      0.23|\n",
            "|  5.9315e+05|  6.3962e+06|  5.9853e+05|     -5386.1|  4.7642e+06|        16|      0.23|\n",
            "|   5.931e+05|  6.3889e+06|  5.9849e+05|     -5386.8|    4.76e+06|        16|      0.28|\n",
            "|    5.93e+05|  6.3858e+06|  5.9838e+05|     -5386.9|  4.7559e+06|        16|      0.23|\n",
            "|  5.9312e+05|  6.3882e+06|   5.985e+05|     -5386.9|  4.7615e+06|        16|      0.23|\n",
            "|  5.9309e+05|  6.3878e+06|  5.9848e+05|     -5386.9|  4.7607e+06|        16|      0.25|\n",
            "|  5.9315e+05|  6.3889e+06|  5.9853e+05|     -5386.9|  4.7567e+06|        16|      0.25|\n",
            "|        logP|       dlogP|     y^T.K.y|     log|K| |     Cond(K)|  GPU time|  CPU time|\n",
            "|------------|------------|------------|------------|------------|----------|----------|\n",
            "|  2.2932e+06|  2.4783e+07|  2.3002e+06|     -7019.7|  8.3792e+06|        21|      0.24|\n",
            "|  1.5586e+06|  1.7302e+07|  1.5651e+06|     -6513.2|  7.4718e+06|        19|      0.23|\n",
            "|   1.121e+06|  1.2443e+07|  1.1271e+06|     -6116.9|  6.5724e+06|        17|      0.24|\n",
            "|  9.0933e+05|  1.0184e+07|   9.152e+05|     -5871.7|  6.0342e+06|        17|      0.24|\n",
            "|   7.333e+05|  8.5948e+06|  7.3892e+05|     -5620.2|  5.4934e+06|        17|      0.23|\n",
            "|  6.7746e+05|  7.8203e+06|    6.83e+05|     -5534.2|  5.2201e+06|        17|      0.23|\n",
            "|  6.3071e+05|  7.0299e+06|  6.3617e+05|     -5452.1|  4.9924e+06|        17|      0.23|\n",
            "|  6.1828e+05|  6.8758e+06|  6.2371e+05|     -5428.7|  4.8979e+06|        17|      0.23|\n",
            "|  6.0894e+05|    6.71e+06|  6.1435e+05|     -5413.4|  4.8341e+06|        17|      0.24|\n",
            "|  6.0039e+05|  6.5287e+06|  6.0579e+05|     -5398.6|  4.7882e+06|        16|      0.23|\n",
            "|  5.9824e+05|  6.4817e+06|  6.0363e+05|     -5393.6|  4.7775e+06|        16|      0.23|\n",
            "|   5.959e+05|  6.4395e+06|  6.0129e+05|       -5390|  4.7461e+06|        16|      0.25|\n",
            "|  5.9554e+05|  6.4458e+06|  6.0093e+05|     -5387.9|  4.7534e+06|        16|      0.24|\n",
            "|  5.9539e+05|  6.4444e+06|  6.0078e+05|     -5387.7|  4.7549e+06|        16|      0.24|\n",
            "|  5.9487e+05|  6.4362e+06|  6.0026e+05|     -5387.1|  4.7475e+06|        16|      0.27|\n",
            "|  5.9449e+05|   6.425e+06|  5.9987e+05|       -5387|  4.7446e+06|        16|      0.23|\n",
            "|  5.9437e+05|  6.4209e+06|  5.9975e+05|     -5386.8|   4.748e+06|        16|      0.24|\n",
            "|  5.9434e+05|  6.4167e+06|  5.9973e+05|     -5386.8|  4.7485e+06|        16|      0.23|\n",
            "|  5.9425e+05|  6.4155e+06|  5.9964e+05|       -5387|  4.7485e+06|        16|      0.23|\n",
            "|  5.9391e+05|  6.4121e+06|   5.993e+05|     -5387.7|  4.7518e+06|        16|      0.23|\n",
            "|  5.9378e+05|   6.417e+06|  5.9916e+05|     -5387.5|  4.7544e+06|        16|      0.23|\n",
            "|  5.9375e+05|  6.4309e+06|  5.9914e+05|     -5387.4|   4.759e+06|        16|      0.23|\n",
            "|  5.9363e+05|  6.4274e+06|  5.9901e+05|     -5387.4|  4.7553e+06|        16|      0.25|\n",
            "|   5.935e+05|  6.4221e+06|  5.9888e+05|     -5387.7|  4.7596e+06|        16|      0.26|\n",
            "|  5.9336e+05|  6.3902e+06|  5.9875e+05|     -5388.2|  4.7748e+06|        16|      0.24|\n",
            "|  5.9325e+05|  6.4085e+06|  5.9864e+05|     -5387.8|  4.7629e+06|        16|      0.23|\n",
            "|  5.9294e+05|  6.3897e+06|  5.9833e+05|       -5387|  4.7676e+06|        16|      0.25|\n",
            "|  5.9302e+05|  6.3789e+06|   5.984e+05|     -5386.8|  4.7538e+06|        16|      0.24|\n",
            "|  5.9297e+05|  6.3867e+06|  5.9836e+05|     -5386.9|  4.7609e+06|        16|      0.24|\n",
            "|  5.9312e+05|  6.3933e+06|  5.9851e+05|       -5387|  4.7665e+06|        16|      0.23|\n",
            "|  5.9304e+05|  6.3918e+06|  5.9843e+05|       -5387|  4.7667e+06|        16|      0.23|\n",
            "|  5.9304e+05|  6.3917e+06|  5.9842e+05|       -5387|  4.7666e+06|        16|      0.23|\n",
            "|  5.9301e+05|   6.391e+06|  5.9839e+05|       -5387|  4.7702e+06|        16|      0.24|\n",
            "|  5.9302e+05|  6.3914e+06|   5.984e+05|       -5387|  4.7676e+06|        16|      0.23|\n",
            "|  5.9307e+05|  6.3929e+06|  5.9846e+05|       -5387|  4.7681e+06|        16|      0.24|\n",
            "Optimization result:\n",
            "      fun: 593068.1209087458\n",
            " hess_inv: <25x25 LbfgsInvHessProduct with dtype=float64>\n",
            "      jac: array([ 6.38882273e+02,  1.28143794e+02,  1.72027961e+01, -1.38623091e+03,\n",
            "        1.36305971e+04,  2.82977101e+02,  0.00000000e+00, -5.83627630e+01,\n",
            "        1.43504932e+02, -7.35094084e+02,  1.36531205e-24,  6.29850735e+01,\n",
            "        3.04954997e+01,  1.71799225e+03,  1.76564720e+04, -1.75949297e+02,\n",
            "        1.60376945e+03, -8.53108271e+02,  3.01168866e+03,  2.11977183e+02,\n",
            "        2.63321099e+02,  6.32876186e+01,  0.00000000e+00,  7.51600909e+02,\n",
            "        2.56035744e+02])\n",
            "  message: b'CONVERGENCE: REL_REDUCTION_OF_F_<=_FACTR*EPSMCH'\n",
            "     nfev: 35\n",
            "      nit: 25\n",
            "   status: 0\n",
            "  success: True\n",
            "        x: array([-9.21034037, -4.60517019, -2.30258509,  1.45563161, -2.30258509,\n",
            "       -4.60517019, -0.82374502, -3.13326863, -2.30258509,  2.30258509,\n",
            "       -2.48710121, -4.42886582, -2.30258509,  1.73644828, -2.30258509,\n",
            "        0.86751178, -2.30258509,  1.47836529, -2.30258509, -0.84119831,\n",
            "       -2.30258509, -4.55014905, -0.49842698, -0.67297937, -2.30258509])\n"
          ],
          "name": "stdout"
        }
      ]
    },
    {
      "cell_type": "code",
      "metadata": {
        "colab": {
          "base_uri": "https://localhost:8080/",
          "height": 162
        },
        "id": "t0-Z1AEI71g5",
        "outputId": "5b6c07bd-93c4-4270-fab4-375bbd968aea"
      },
      "source": [
        "exhaust_search_results"
      ],
      "execution_count": 14,
      "outputs": [
        {
          "output_type": "execute_result",
          "data": {
            "text/html": [
              "<div>\n",
              "<style scoped>\n",
              "    .dataframe tbody tr th:only-of-type {\n",
              "        vertical-align: middle;\n",
              "    }\n",
              "\n",
              "    .dataframe tbody tr th {\n",
              "        vertical-align: top;\n",
              "    }\n",
              "\n",
              "    .dataframe thead th {\n",
              "        text-align: right;\n",
              "    }\n",
              "</style>\n",
              "<table border=\"1\" class=\"dataframe\">\n",
              "  <thead>\n",
              "    <tr style=\"text-align: right;\">\n",
              "      <th></th>\n",
              "      <th>aro_c_n_init</th>\n",
              "      <th>aro_c_n_final</th>\n",
              "      <th>ato_c_n_init</th>\n",
              "      <th>ato_c_n_final</th>\n",
              "      <th>cha_c_n_init</th>\n",
              "      <th>cha_c_n_final</th>\n",
              "      <th>chi_c_n_init</th>\n",
              "      <th>chi_c_n_final</th>\n",
              "      <th>hco_c_n_init</th>\n",
              "      <th>hco_c_n_final</th>\n",
              "      <th>hyb_c_n_init</th>\n",
              "      <th>hyb_c_n_final</th>\n",
              "      <th>ring_c_n_init</th>\n",
              "      <th>ring_c_n_final</th>\n",
              "      <th>aro_c_e_init</th>\n",
              "      <th>aro_c_e_final</th>\n",
              "      <th>con_c_e_init</th>\n",
              "      <th>con_c_e_final</th>\n",
              "      <th>ord_c_e_init</th>\n",
              "      <th>ord_c_e_final</th>\n",
              "      <th>ring_c_e_init</th>\n",
              "      <th>ring_c_e_final</th>\n",
              "      <th>ste_c_e_init</th>\n",
              "      <th>ste_c_e_final</th>\n",
              "      <th>alpha</th>\n",
              "      <th>RMSE_train</th>\n",
              "      <th>MAE_train</th>\n",
              "      <th>RMSE_test</th>\n",
              "      <th>MAE_test</th>\n",
              "    </tr>\n",
              "  </thead>\n",
              "  <tbody>\n",
              "    <tr>\n",
              "      <th>0</th>\n",
              "      <td>0.5</td>\n",
              "      <td>0.01</td>\n",
              "      <td>1</td>\n",
              "      <td>4.370498</td>\n",
              "      <td>0.5</td>\n",
              "      <td>0.01</td>\n",
              "      <td>0.5</td>\n",
              "      <td>0.024327</td>\n",
              "      <td>0.5</td>\n",
              "      <td>10.0</td>\n",
              "      <td>0.5</td>\n",
              "      <td>0.020389</td>\n",
              "      <td>0.5</td>\n",
              "      <td>5.643766</td>\n",
              "      <td>0.5</td>\n",
              "      <td>4.626665</td>\n",
              "      <td>0.5</td>\n",
              "      <td>8.647760</td>\n",
              "      <td>0.5</td>\n",
              "      <td>0.853270</td>\n",
              "      <td>0.5</td>\n",
              "      <td>0.022386</td>\n",
              "      <td>0.5</td>\n",
              "      <td>0.681521</td>\n",
              "      <td>0.0001</td>\n",
              "      <td>0.155852</td>\n",
              "      <td>0.102469</td>\n",
              "      <td>1.790423</td>\n",
              "      <td>1.398627</td>\n",
              "    </tr>\n",
              "    <tr>\n",
              "      <th>1</th>\n",
              "      <td>0.5</td>\n",
              "      <td>0.01</td>\n",
              "      <td>5</td>\n",
              "      <td>4.365885</td>\n",
              "      <td>0.5</td>\n",
              "      <td>0.01</td>\n",
              "      <td>0.5</td>\n",
              "      <td>0.027797</td>\n",
              "      <td>0.5</td>\n",
              "      <td>10.0</td>\n",
              "      <td>0.5</td>\n",
              "      <td>0.016347</td>\n",
              "      <td>0.5</td>\n",
              "      <td>5.577185</td>\n",
              "      <td>0.5</td>\n",
              "      <td>1.048910</td>\n",
              "      <td>0.5</td>\n",
              "      <td>1.740676</td>\n",
              "      <td>0.5</td>\n",
              "      <td>0.116323</td>\n",
              "      <td>0.5</td>\n",
              "      <td>0.012648</td>\n",
              "      <td>0.5</td>\n",
              "      <td>0.190271</td>\n",
              "      <td>0.0001</td>\n",
              "      <td>0.155840</td>\n",
              "      <td>0.102556</td>\n",
              "      <td>1.790531</td>\n",
              "      <td>1.398135</td>\n",
              "    </tr>\n",
              "    <tr>\n",
              "      <th>2</th>\n",
              "      <td>0.5</td>\n",
              "      <td>0.01</td>\n",
              "      <td>9</td>\n",
              "      <td>4.287190</td>\n",
              "      <td>0.5</td>\n",
              "      <td>0.01</td>\n",
              "      <td>0.5</td>\n",
              "      <td>0.043575</td>\n",
              "      <td>0.5</td>\n",
              "      <td>10.0</td>\n",
              "      <td>0.5</td>\n",
              "      <td>0.011928</td>\n",
              "      <td>0.5</td>\n",
              "      <td>5.677144</td>\n",
              "      <td>0.5</td>\n",
              "      <td>2.380979</td>\n",
              "      <td>0.5</td>\n",
              "      <td>4.385770</td>\n",
              "      <td>0.5</td>\n",
              "      <td>0.431194</td>\n",
              "      <td>0.5</td>\n",
              "      <td>0.010566</td>\n",
              "      <td>0.5</td>\n",
              "      <td>0.510186</td>\n",
              "      <td>0.0001</td>\n",
              "      <td>0.155844</td>\n",
              "      <td>0.102517</td>\n",
              "      <td>1.789339</td>\n",
              "      <td>1.397825</td>\n",
              "    </tr>\n",
              "  </tbody>\n",
              "</table>\n",
              "</div>"
            ],
            "text/plain": [
              "   aro_c_n_init  aro_c_n_final ato_c_n_init  ...  MAE_train  RMSE_test  MAE_test\n",
              "0           0.5           0.01            1  ...   0.102469   1.790423  1.398627\n",
              "1           0.5           0.01            5  ...   0.102556   1.790531  1.398135\n",
              "2           0.5           0.01            9  ...   0.102517   1.789339  1.397825\n",
              "\n",
              "[3 rows x 29 columns]"
            ]
          },
          "metadata": {
            "tags": []
          },
          "execution_count": 14
        }
      ]
    },
    {
      "cell_type": "code",
      "metadata": {
        "id": "8LVWU0LgbBv6",
        "colab": {
          "base_uri": "https://localhost:8080/"
        },
        "outputId": "3b0e687d-5036-4dd7-baee-d37a352aa231"
      },
      "source": [
        "for cha_c_n in cha_c_ns:\n",
        "  model,para_list = gpr_train(train = train, repeat_num = repeat, cha_c_n = cha_c_n)\n",
        "\n",
        "  mu = model.predict(train.graphs)\n",
        "  MAE_train = np.mean(np.abs(train[target] - mu))\n",
        "  RMSE_train = np.std(train[target] - mu)\n",
        "  para_list.append(RMSE_train)\n",
        "  para_list.append(MAE_train)\n",
        "\n",
        "  mu_test = model.predict(test.graphs)\n",
        "  MAE_test = np.mean(np.abs(test[target] - mu_test))\n",
        "  RMSE_test = np.std(test[target] - mu_test)\n",
        "  para_list.append(RMSE_test)\n",
        "  para_list.append(MAE_test)\n",
        "\n",
        "  \n",
        "  data = pd.DataFrame(data = [para_list],columns = column_names)\n",
        "  exhaust_search_results = exhaust_search_results.append(data,ignore_index=True)"
      ],
      "execution_count": 15,
      "outputs": [
        {
          "output_type": "stream",
          "text": [
            "|        logP|       dlogP|     y^T.K.y|     log|K| |     Cond(K)|  GPU time|  CPU time|\n",
            "|------------|------------|------------|------------|------------|----------|----------|\n",
            "|  3.0485e+06|  2.5394e+07|  3.0558e+06|     -7385.2|  8.8043e+06|        23|      0.24|\n",
            "|  2.0581e+06|   2.206e+07|  2.0649e+06|     -6828.6|  8.1464e+06|        19|      0.28|\n",
            "|  1.3142e+06|  1.6307e+07|  1.3205e+06|     -6274.8|  7.1234e+06|        18|      0.24|\n",
            "|  1.0206e+06|  1.2632e+07|  1.0266e+06|     -5988.9|  6.4475e+06|        18|      0.26|\n",
            "|  8.3115e+05|  9.8318e+06|  8.3691e+05|     -5763.2|  5.8361e+06|        17|      0.25|\n",
            "|   7.151e+05|  8.1244e+06|   7.207e+05|     -5594.2|   5.376e+06|        17|      0.25|\n",
            "|    6.51e+05|  7.1358e+06|  6.5649e+05|     -5491.4|  5.0516e+06|        17|      0.26|\n",
            "|  6.3246e+05|  7.0828e+06|   6.379e+05|     -5439.1|  4.9702e+06|        17|      0.25|\n",
            "|  6.1083e+05|  6.6523e+06|  6.1624e+05|     -5414.5|  4.8498e+06|        16|      0.25|\n",
            "|  6.0625e+05|  6.5511e+06|  6.1166e+05|     -5408.7|   4.806e+06|        16|      0.25|\n",
            "|  6.0343e+05|  6.5086e+06|  6.0883e+05|     -5403.6|  4.7926e+06|        16|      0.24|\n",
            "|   6.225e+05|  6.9673e+06|  6.2792e+05|     -5417.6|  4.8914e+06|        17|      0.27|\n",
            "|   6.019e+05|  6.5347e+06|   6.073e+05|     -5397.5|  4.7962e+06|        16|      0.24|\n",
            "|  6.0066e+05|  6.5122e+06|  6.0606e+05|     -5394.8|  4.7946e+06|        16|      0.25|\n",
            "|  5.9848e+05|  6.4684e+06|  6.0387e+05|     -5390.9|  4.7853e+06|        16|      0.25|\n",
            "|  5.9665e+05|  6.4317e+06|  6.0204e+05|     -5388.6|   4.764e+06|        16|      0.25|\n",
            "|   5.955e+05|  6.4095e+06|  6.0088e+05|     -5387.3|  4.7514e+06|        16|      0.28|\n",
            "|  5.9538e+05|  6.4181e+06|  6.0077e+05|     -5386.9|  4.7491e+06|        16|      0.25|\n",
            "|  5.9525e+05|  6.4235e+06|  6.0063e+05|     -5386.8|  4.7453e+06|        16|      0.25|\n",
            "|  5.9512e+05|  6.4266e+06|   6.005e+05|     -5386.8|  4.7444e+06|        16|      0.24|\n",
            "|  5.9434e+05|  6.4308e+06|  5.9973e+05|     -5387.1|  4.7409e+06|        16|      0.27|\n",
            "|  5.9397e+05|  6.4351e+06|  5.9936e+05|     -5389.3|  4.7638e+06|        16|      0.29|\n",
            "|  5.9385e+05|  6.4322e+06|  5.9923e+05|     -5387.8|  4.7502e+06|        16|      0.28|\n",
            "|  5.9362e+05|  6.4058e+06|  5.9901e+05|     -5387.4|  4.7703e+06|        16|      0.24|\n",
            "|  5.9319e+05|  6.3847e+06|  5.9858e+05|     -5387.1|  4.7624e+06|        16|      0.25|\n",
            "|  5.9317e+05|  6.3762e+06|  5.9855e+05|     -5386.5|  4.7626e+06|        16|      0.25|\n",
            "|  5.9298e+05|  6.3786e+06|  5.9836e+05|       -5386|  4.7613e+06|        16|      0.25|\n",
            "|  5.9307e+05|  6.3788e+06|  5.9846e+05|       -5386|  4.7595e+06|        16|      0.24|\n",
            "|  5.9311e+05|  6.3811e+06|   5.985e+05|       -5386|  4.7574e+06|        16|      0.25|\n",
            "|  5.9317e+05|  6.3825e+06|  5.9855e+05|       -5386|  4.7552e+06|        16|      0.23|\n",
            "|  5.9301e+05|  6.3787e+06|   5.984e+05|       -5386|  4.7601e+06|        16|      0.24|\n",
            "|  5.9297e+05|  6.3776e+06|  5.9835e+05|       -5386|  4.7601e+06|        16|      0.25|\n",
            "|  5.9304e+05|  6.3797e+06|  5.9843e+05|       -5386|  4.7599e+06|        16|      0.23|\n",
            "|  5.9291e+05|   6.377e+06|  5.9829e+05|       -5386|   4.762e+06|        16|      0.28|\n",
            "|  5.9295e+05|  6.3765e+06|  5.9833e+05|       -5386|  4.7581e+06|        16|      0.26|\n",
            "|  5.9311e+05|  6.3812e+06|   5.985e+05|       -5386|  4.7598e+06|        16|      0.26|\n",
            "|  5.9314e+05|  6.3821e+06|  5.9852e+05|       -5386|  4.7604e+06|        16|      0.26|\n",
            "|  5.9301e+05|  6.3789e+06|  5.9839e+05|       -5386|  4.7619e+06|        16|      0.28|\n",
            "|    5.93e+05|  6.3788e+06|  5.9839e+05|       -5386|  4.7598e+06|        16|      0.25|\n",
            "|  5.9293e+05|  6.3773e+06|  5.9832e+05|       -5386|  4.7588e+06|        16|      0.26|\n",
            "|        logP|       dlogP|     y^T.K.y|     log|K| |     Cond(K)|  GPU time|  CPU time|\n",
            "|------------|------------|------------|------------|------------|----------|----------|\n",
            "|  1.5495e+06|  2.2278e+07|  1.5559e+06|     -6459.2|  7.3528e+06|        21|      0.26|\n",
            "|  1.2624e+06|   1.864e+07|  1.2686e+06|     -6212.2|  6.9105e+06|        21|      0.24|\n",
            "|  9.5374e+05|  1.3591e+07|  9.5964e+05|     -5902.4|  6.2347e+06|        20|      0.23|\n",
            "|  7.9056e+05|   1.009e+07|  7.9626e+05|     -5705.6|  5.7023e+06|        18|      0.25|\n",
            "|  6.8728e+05|  8.0704e+06|  6.9284e+05|     -5552.9|  5.2408e+06|        17|      0.24|\n",
            "|  6.4858e+05|  7.4333e+06|  6.5407e+05|     -5481.1|  5.0481e+06|        17|      0.25|\n",
            "|  6.3088e+05|   7.079e+06|  6.3633e+05|     -5455.2|   4.869e+06|        17|      0.26|\n",
            "|  6.2727e+05|  7.0337e+06|  6.3272e+05|     -5447.1|  4.8406e+06|        17|      0.27|\n",
            "|  6.1904e+05|  6.8847e+06|  6.2448e+05|     -5433.7|   4.811e+06|        17|      0.24|\n",
            "|  6.0443e+05|  6.6649e+06|  6.0984e+05|     -5404.2|  4.7949e+06|        17|      0.24|\n",
            "|  5.9762e+05|  6.4888e+06|  6.0301e+05|     -5392.7|  4.7906e+06|        16|      0.26|\n",
            "|  5.9606e+05|  6.4057e+06|  6.0145e+05|       -5390|  4.7891e+06|        16|      0.26|\n",
            "|  5.9567e+05|  6.4035e+06|  6.0106e+05|     -5390.2|  4.7845e+06|        16|      0.25|\n",
            "|  5.9536e+05|  6.4045e+06|  6.0075e+05|     -5390.4|  4.7645e+06|        16|      0.24|\n",
            "|  5.9499e+05|  6.4009e+06|  6.0038e+05|       -5390|  4.7545e+06|        16|      0.24|\n",
            "|  5.9448e+05|  6.3977e+06|  5.9987e+05|     -5388.3|  4.7542e+06|        16|      0.28|\n",
            "|  5.9431e+05|  6.4193e+06|   5.997e+05|     -5385.6|  4.7661e+06|        16|      0.25|\n",
            "|  5.9405e+05|  6.4025e+06|  5.9944e+05|     -5386.2|  4.7577e+06|        16|      0.27|\n",
            "|  5.9414e+05|   6.403e+06|  5.9953e+05|     -5386.3|  4.7574e+06|        16|      0.26|\n",
            "|  5.9395e+05|     6.4e+06|  5.9933e+05|     -5386.2|  4.7579e+06|        16|      0.25|\n",
            "|  5.9398e+05|  6.4011e+06|  5.9936e+05|     -5386.2|  4.7589e+06|        16|      0.26|\n",
            "|  5.9403e+05|   6.402e+06|  5.9941e+05|     -5386.2|  4.7595e+06|        16|      0.26|\n",
            "|  5.9385e+05|   6.388e+06|  5.9923e+05|     -5386.8|  4.7534e+06|        16|      0.26|\n",
            "|  5.9381e+05|  6.3934e+06|  5.9919e+05|     -5386.6|  4.7545e+06|        16|      0.25|\n",
            "|  5.9338e+05|  6.4002e+06|  5.9877e+05|     -5386.4|  4.7575e+06|        16|      0.26|\n",
            "|  5.9329e+05|   6.399e+06|  5.9868e+05|     -5386.5|  4.7576e+06|        16|      0.26|\n",
            "|  5.9322e+05|  6.3915e+06|   5.986e+05|     -5386.9|  4.7619e+06|        16|      0.27|\n",
            "|  5.9318e+05|  6.3965e+06|  5.9857e+05|     -5386.3|  4.7617e+06|        16|      0.26|\n",
            "|  5.9314e+05|  6.3924e+06|  5.9853e+05|     -5386.4|  4.7605e+06|        16|      0.26|\n",
            "|  5.9319e+05|   6.388e+06|  5.9857e+05|     -5386.4|  4.7598e+06|        16|      0.25|\n",
            "|  5.9325e+05|  6.3945e+06|  5.9863e+05|     -5386.4|  4.7587e+06|        16|      0.24|\n",
            "|  5.9316e+05|  6.3929e+06|  5.9854e+05|     -5386.4|   4.762e+06|        16|      0.24|\n",
            "|  5.9315e+05|  6.3933e+06|  5.9854e+05|     -5386.4|  4.7606e+06|        16|      0.27|\n",
            "|  5.9312e+05|   6.392e+06|  5.9851e+05|     -5386.4|  4.7593e+06|        16|      0.27|\n",
            "|  5.9317e+05|  6.3935e+06|  5.9855e+05|     -5386.4|  4.7586e+06|        16|      0.25|\n",
            "|  5.9316e+05|  6.3931e+06|  5.9854e+05|     -5386.4|  4.7599e+06|        16|      0.25|\n",
            "|        logP|       dlogP|     y^T.K.y|     log|K| |     Cond(K)|  GPU time|  CPU time|\n",
            "|------------|------------|------------|------------|------------|----------|----------|\n",
            "|  5.9449e+06|  9.8518e+06|  5.9534e+06|     -8536.7|   9.842e+06|        17|      0.26|\n",
            "|  4.6998e+06|  1.7034e+07|  4.7079e+06|     -8091.4|  9.5047e+06|        18|      0.25|\n",
            "|  1.5484e+06|  1.8745e+07|  1.5548e+06|     -6447.4|  7.4599e+06|        20|      0.26|\n",
            "|  1.1192e+06|  1.5041e+07|  1.1253e+06|     -6071.3|  6.6543e+06|        19|      0.26|\n",
            "|  8.6548e+05|  1.0642e+07|  8.7128e+05|       -5797|  5.9697e+06|        18|      0.26|\n",
            "|  7.5374e+05|  8.7073e+06|   7.594e+05|     -5654.2|  5.5302e+06|        17|      0.27|\n",
            "|  6.7373e+05|  7.5805e+06|  6.7926e+05|     -5528.9|  5.1957e+06|        17|      0.25|\n",
            "|  6.3066e+05|  6.9385e+06|  6.3612e+05|     -5455.9|  4.9203e+06|        16|      0.25|\n",
            "|   6.166e+05|  6.7915e+06|  6.2203e+05|     -5428.1|   4.893e+06|        17|      0.27|\n",
            "|  6.1291e+05|  6.7313e+06|  6.1833e+05|     -5420.4|  4.8882e+06|        17|      0.25|\n",
            "|  6.0892e+05|  6.6595e+06|  6.1433e+05|     -5412.3|  4.8722e+06|        17|      0.26|\n",
            "|   6.024e+05|  6.5243e+06|   6.078e+05|     -5402.5|  4.8282e+06|        16|      0.25|\n",
            "|   5.974e+05|  6.4044e+06|   6.028e+05|     -5394.1|  4.7901e+06|        16|      0.26|\n",
            "|  5.9683e+05|  6.4063e+06|  6.0223e+05|     -5392.1|  4.7867e+06|        16|      0.24|\n",
            "|  5.9558e+05|  6.4105e+06|  6.0097e+05|     -5387.4|  4.7925e+06|        16|      0.27|\n",
            "|  5.9501e+05|  6.3943e+06|  6.0039e+05|     -5386.5|  4.7863e+06|        16|      0.24|\n",
            "|  5.9426e+05|  6.3739e+06|  5.9964e+05|     -5386.2|  4.7725e+06|        16|      0.25|\n",
            "|  5.9356e+05|  6.3627e+06|  5.9894e+05|     -5386.2|  4.7584e+06|        16|      0.24|\n",
            "|  5.9337e+05|  6.3724e+06|  5.9876e+05|     -5385.8|  4.7528e+06|        16|      0.25|\n",
            "|  5.9336e+05|  6.3857e+06|  5.9875e+05|     -5385.5|  4.7521e+06|        16|      0.24|\n",
            "|  5.9312e+05|  6.3808e+06|   5.985e+05|     -5385.4|  4.7519e+06|        16|      0.24|\n",
            "|  5.9316e+05|  6.3807e+06|  5.9855e+05|     -5385.4|  4.7519e+06|        16|      0.26|\n",
            "|  5.9311e+05|  6.3805e+06|   5.985e+05|     -5385.4|  4.7479e+06|        16|      0.26|\n",
            "Optimization result:\n",
            "      fun: 592929.1633547631\n",
            " hess_inv: <25x25 LbfgsInvHessProduct with dtype=float64>\n",
            "      jac: array([  637.32446669,   138.70273886,    27.12907197,  -354.4622645 ,\n",
            "       13657.27631704,   283.44124362,     0.        ,   -92.84364414,\n",
            "         108.98399869,  -875.91022503,     0.        ,    81.20869935,\n",
            "          41.83863022,   811.60193856, 17634.99895043,  -287.93537574,\n",
            "        1635.06303474,   228.78359604,  3043.57626969,   140.5404149 ,\n",
            "         277.8941063 ,   140.43496132,     0.        ,  -221.20728804,\n",
            "         229.32260543])\n",
            "  message: b'CONVERGENCE: REL_REDUCTION_OF_F_<=_FACTR*EPSMCH'\n",
            "     nfev: 40\n",
            "      nit: 26\n",
            "   status: 0\n",
            "  success: True\n",
            "        x: array([-9.21034037, -4.60517019, -1.8465193 ,  1.46393615, -2.30258509,\n",
            "       -4.60517019,  0.        , -3.46331219, -2.30258509,  2.30258509,\n",
            "       -2.69093122, -4.30575426, -2.10410588,  1.72770633, -2.30258509,\n",
            "        0.20802254, -2.30258509,  0.857799  , -2.30258509, -1.48880029,\n",
            "       -2.30258509, -4.42352744, -0.22314355, -1.84933914, -2.30258509])\n",
            "|        logP|       dlogP|     y^T.K.y|     log|K| |     Cond(K)|  GPU time|  CPU time|\n",
            "|------------|------------|------------|------------|------------|----------|----------|\n",
            "|  3.9538e+06|  2.7989e+07|  3.9616e+06|     -7811.5|  9.1568e+06|        23|      0.25|\n",
            "|  2.7482e+06|  2.8018e+07|  2.7554e+06|     -7243.2|   8.642e+06|        21|      0.25|\n",
            "|  1.2612e+06|  1.7054e+07|  1.2674e+06|     -6225.4|  6.9297e+06|        20|      0.25|\n",
            "|  1.0185e+06|  1.3191e+07|  1.0245e+06|     -5984.4|  6.3849e+06|        19|      0.25|\n",
            "|  8.2133e+05|  9.8564e+06|  8.2708e+05|     -5747.7|  5.7604e+06|        17|      0.24|\n",
            "|  7.1013e+05|  8.1498e+06|  7.1571e+05|     -5583.3|  5.3438e+06|        17|      0.23|\n",
            "|  6.5095e+05|  7.1224e+06|  6.5644e+05|     -5492.2|  5.0257e+06|        16|      0.25|\n",
            "|  6.2108e+05|  6.8868e+06|   6.265e+05|     -5423.6|  4.9286e+06|        17|      0.23|\n",
            "|   6.152e+05|  6.7484e+06|  6.2062e+05|     -5419.1|  4.8879e+06|        17|      0.24|\n",
            "|  6.1162e+05|  6.6636e+06|  6.1704e+05|     -5416.5|  4.8551e+06|        17|      0.24|\n",
            "|  6.0687e+05|  6.5629e+06|  6.1228e+05|       -5411|  4.8121e+06|        16|      0.24|\n",
            "|  6.0406e+05|  6.5639e+06|  6.0947e+05|     -5402.9|  4.8092e+06|        17|      0.25|\n",
            "|  6.0127e+05|  6.5407e+06|  6.0667e+05|     -5396.5|  4.7902e+06|        17|      0.25|\n",
            "|  5.9836e+05|  6.4856e+06|  6.0375e+05|     -5391.9|  4.7749e+06|        16|      0.26|\n",
            "|  5.9628e+05|  6.4367e+06|  6.0167e+05|     -5389.5|  4.7457e+06|        16|      0.25|\n",
            "|  5.9592e+05|   6.434e+06|  6.0131e+05|     -5388.4|  4.7525e+06|        16|      0.25|\n",
            "|  5.9589e+05|  6.4348e+06|  6.0128e+05|     -5388.1|  4.7527e+06|        16|      0.24|\n",
            "|  5.9526e+05|  6.4272e+06|  6.0065e+05|     -5386.9|  4.7533e+06|        16|      0.24|\n",
            "|  5.9474e+05|  6.4207e+06|  6.0013e+05|     -5386.2|  4.7475e+06|        16|      0.26|\n",
            "|  5.9412e+05|  6.4063e+06|  5.9951e+05|     -5385.8|  4.7589e+06|        16|      0.25|\n",
            "|  5.9375e+05|  6.4064e+06|  5.9914e+05|     -5386.8|  4.7633e+06|        16|      0.26|\n",
            "|   5.936e+05|   6.408e+06|  5.9899e+05|       -5387|  4.7575e+06|        16|      0.24|\n",
            "|  5.9349e+05|  6.4107e+06|  5.9888e+05|     -5387.1|  4.7569e+06|        16|      0.23|\n",
            "|  5.9327e+05|  6.4067e+06|  5.9866e+05|     -5387.1|  4.7553e+06|        16|      0.24|\n",
            "|   5.932e+05|  6.4044e+06|  5.9859e+05|     -5387.3|  4.7612e+06|        16|      0.24|\n",
            "|  5.9319e+05|  6.3999e+06|  5.9858e+05|     -5387.1|  4.7608e+06|        16|      0.25|\n",
            "|  5.9322e+05|  6.3993e+06|  5.9861e+05|     -5385.4|  4.7684e+06|        16|      0.24|\n",
            "|  5.9308e+05|  6.3972e+06|  5.9846e+05|     -5386.2|  4.7621e+06|        16|      0.23|\n",
            "|    5.93e+05|  6.3812e+06|  5.9839e+05|     -5386.1|  4.7624e+06|        16|      0.23|\n",
            "|  5.9295e+05|  6.3781e+06|  5.9834e+05|     -5386.1|  4.7609e+06|        16|      0.24|\n",
            "|  5.9302e+05|  6.3795e+06|  5.9841e+05|     -5386.2|    4.76e+06|        16|      0.26|\n",
            "|   5.931e+05|  6.3812e+06|  5.9849e+05|     -5386.1|  4.7616e+06|        16|      0.23|\n",
            "|  5.9291e+05|  6.3774e+06|   5.983e+05|     -5386.1|  4.7623e+06|        16|      0.23|\n",
            "|  5.9305e+05|  6.3805e+06|  5.9844e+05|     -5386.1|  4.7601e+06|        16|      0.23|\n",
            "|  5.9301e+05|  6.3798e+06|   5.984e+05|     -5386.1|  4.7593e+06|        16|      0.26|\n",
            "|    5.93e+05|  6.3792e+06|  5.9839e+05|     -5386.1|  4.7608e+06|        16|      0.26|\n",
            "|        logP|       dlogP|     y^T.K.y|     log|K| |     Cond(K)|  GPU time|  CPU time|\n",
            "|------------|------------|------------|------------|------------|----------|----------|\n",
            "|  4.4313e+06|  2.0971e+07|  4.4393e+06|     -7998.2|  9.1848e+06|        20|      0.25|\n",
            "|  3.0469e+06|  2.3398e+07|  3.0543e+06|     -7381.4|  8.6723e+06|        20|      0.23|\n",
            "|  1.0053e+06|  1.1472e+07|  1.0113e+06|     -5947.7|  6.3026e+06|        18|      0.23|\n",
            "|  8.7744e+05|  9.8382e+06|  8.8325e+05|     -5804.1|  5.9367e+06|        17|      0.24|\n",
            "|  7.2657e+05|   7.918e+06|  7.3217e+05|     -5604.9|  5.3908e+06|        17|      0.24|\n",
            "|  6.5982e+05|  7.1748e+06|  6.6532e+05|     -5493.9|  5.1353e+06|        17|      0.24|\n",
            "|  6.3015e+05|  6.7247e+06|   6.356e+05|     -5453.3|  4.9237e+06|        16|      0.24|\n",
            "|  6.1339e+05|  6.5734e+06|  6.1882e+05|     -5421.6|  4.8516e+06|        16|      0.25|\n",
            "|  6.0537e+05|  6.5316e+06|  6.1077e+05|     -5400.2|   4.848e+06|        17|      0.25|\n",
            "|  6.0321e+05|  6.5047e+06|  6.0861e+05|     -5398.5|  4.8259e+06|        16|      0.26|\n",
            "|  6.0149e+05|  6.4728e+06|  6.0689e+05|     -5397.4|  4.8038e+06|        16|      0.25|\n",
            "|  5.9933e+05|  6.4347e+06|  6.0473e+05|     -5395.4|  4.7764e+06|        16|      0.28|\n",
            "|  5.9789e+05|   6.427e+06|  6.0328e+05|     -5391.5|   4.777e+06|        16|      0.25|\n",
            "|  5.9584e+05|  6.3993e+06|  6.0123e+05|     -5387.3|  4.7699e+06|        16|      0.24|\n",
            "|  5.9519e+05|  6.4078e+06|  6.0058e+05|     -5385.3|  4.7572e+06|        16|      0.24|\n",
            "|  5.9487e+05|  6.3897e+06|  6.0025e+05|     -5385.8|  4.7537e+06|        16|      0.23|\n",
            "|  5.9504e+05|  6.3886e+06|  6.0042e+05|       -5386|  4.7552e+06|        16|      0.25|\n",
            "|  5.9496e+05|  6.3911e+06|  6.0035e+05|     -5385.8|  4.7543e+06|        16|      0.26|\n",
            "|  5.9493e+05|  6.3908e+06|  6.0031e+05|     -5385.8|  4.7561e+06|        16|      0.23|\n",
            "|  5.9508e+05|  6.3944e+06|  6.0047e+05|     -5385.8|  4.7528e+06|        16|      0.28|\n",
            "|  5.9501e+05|  6.3924e+06|  6.0039e+05|     -5385.8|  4.7548e+06|        16|      0.23|\n",
            "|  5.9491e+05|  6.3903e+06|  6.0029e+05|     -5385.8|  4.7539e+06|        16|      0.25|\n",
            "|        logP|       dlogP|     y^T.K.y|     log|K| |     Cond(K)|  GPU time|  CPU time|\n",
            "|------------|------------|------------|------------|------------|----------|----------|\n",
            "|  6.6244e+06|  4.3788e+06|  6.6332e+06|     -8751.8|  9.9534e+06|        13|      0.27|\n",
            "|  5.5142e+06|  7.9741e+06|  5.5226e+06|     -8386.1|  9.6759e+06|        14|      0.25|\n",
            "|  1.8403e+06|  1.5004e+07|  1.8469e+06|     -6656.9|  7.9318e+06|        17|      0.25|\n",
            "|  8.6094e+05|   9.234e+06|  8.6672e+05|     -5779.3|  5.8777e+06|        17|      0.26|\n",
            "|  7.6077e+05|  8.0069e+06|  7.6642e+05|       -5651|  5.5248e+06|        16|      0.26|\n",
            "|   6.837e+05|    7.29e+06|  6.8924e+05|     -5536.8|  5.2271e+06|        16|      0.27|\n",
            "|  6.3315e+05|  6.7983e+06|   6.386e+05|     -5454.5|  4.9786e+06|        16|      0.24|\n",
            "|   6.258e+05|  6.7911e+06|  6.3124e+05|     -5438.6|   4.902e+06|        16|      0.25|\n",
            "|  6.2144e+05|   6.714e+06|  6.2687e+05|     -5432.6|   4.891e+06|        16|      0.24|\n",
            "|  6.1567e+05|  6.6221e+06|   6.211e+05|     -5422.4|   4.879e+06|        16|      0.27|\n",
            "|  6.1364e+05|  6.5866e+06|  6.1906e+05|     -5419.3|  4.8731e+06|        16|      0.25|\n",
            "|  6.0695e+05|  6.4535e+06|  6.1236e+05|     -5407.5|  4.8482e+06|        16|      0.24|\n",
            "|  6.0514e+05|  6.4473e+06|  6.1055e+05|     -5405.1|  4.8275e+06|        16|      0.24|\n",
            "|  6.0287e+05|   6.467e+06|  6.0826e+05|     -5398.8|  4.8358e+06|        16|      0.26|\n",
            "|  6.0197e+05|  6.4421e+06|  6.0737e+05|     -5399.5|  4.8117e+06|        16|      0.25|\n",
            "|  6.0178e+05|  6.4333e+06|  6.0718e+05|       -5400|  4.8105e+06|        16|      0.24|\n",
            "|  6.0168e+05|  6.4274e+06|  6.0708e+05|     -5400.2|  4.8037e+06|        16|      0.26|\n",
            "|  6.0089e+05|  6.4087e+06|  6.0629e+05|     -5399.5|  4.8032e+06|        16|      0.26|\n",
            "|  5.9915e+05|  6.4197e+06|  6.0454e+05|     -5395.6|  4.8428e+06|        16|      0.26|\n",
            "|  5.9818e+05|  6.4132e+06|  6.0358e+05|     -5394.6|  4.8253e+06|        16|      0.25|\n",
            "|  5.9729e+05|  6.4132e+06|  6.0268e+05|     -5394.6|  4.7992e+06|        16|      0.26|\n",
            "|  5.9691e+05|  6.4132e+06|   6.023e+05|     -5394.6|  4.7935e+06|        16|      0.25|\n",
            "|  5.9534e+05|  6.4189e+06|  6.0074e+05|     -5394.2|  4.7711e+06|        16|      0.26|\n",
            "|  5.9473e+05|  6.4136e+06|  6.0012e+05|     -5392.8|   4.771e+06|        16|      0.28|\n",
            "|  5.9357e+05|  6.4022e+06|  5.9896e+05|     -5388.5|   4.767e+06|        16|      0.26|\n",
            "|  5.9341e+05|  6.4021e+06|   5.988e+05|     -5387.8|  4.7647e+06|        16|      0.24|\n",
            "|  5.9318e+05|  6.4058e+06|  5.9856e+05|     -5386.8|  4.7587e+06|        16|      0.25|\n",
            "|   5.932e+05|  6.4022e+06|  5.9859e+05|     -5386.6|  4.7568e+06|        16|      0.24|\n",
            "|  5.9323e+05|  6.4068e+06|  5.9862e+05|     -5386.8|  4.7575e+06|        16|      0.27|\n",
            "|  5.9333e+05|  6.4096e+06|  5.9871e+05|     -5386.8|  4.7599e+06|        16|      0.25|\n",
            "|  5.9318e+05|   6.406e+06|  5.9857e+05|     -5386.8|  4.7568e+06|        16|      0.26|\n",
            "|  5.9326e+05|  6.4079e+06|  5.9865e+05|     -5386.8|  4.7551e+06|        16|      0.25|\n",
            "|  5.9319e+05|  6.4065e+06|  5.9858e+05|     -5386.8|  4.7585e+06|        16|      0.26|\n",
            "|  5.9323e+05|   6.407e+06|  5.9862e+05|     -5386.8|  4.7559e+06|        16|      0.25|\n",
            "Optimization result:\n",
            "      fun: 593001.2810381926\n",
            " hess_inv: <25x25 LbfgsInvHessProduct with dtype=float64>\n",
            "      jac: array([ 6.37514181e+02,  1.41256153e+02,  2.89657576e+01,  1.09041529e+02,\n",
            "        1.36837661e+04,  2.84003812e+02,  0.00000000e+00, -9.00801164e+01,\n",
            "        1.11991118e+02, -5.60221383e+02,  1.13418741e-01,  8.88184483e+01,\n",
            "        4.21119792e+01,  1.66584927e+01,  1.76071473e+04, -2.27042511e+01,\n",
            "        1.64844202e+03, -1.29379040e+02,  3.02705055e+03,  6.61807836e+01,\n",
            "        2.65896667e+02,  1.24089625e+02,  0.00000000e+00, -3.78175880e+01,\n",
            "        2.37526534e+02])\n",
            "  message: b'CONVERGENCE: REL_REDUCTION_OF_F_<=_FACTR*EPSMCH'\n",
            "     nfev: 36\n",
            "      nit: 29\n",
            "   status: 0\n",
            "  success: True\n",
            "        x: array([-9.21034037, -4.60517019, -1.77966102,  1.46805916, -2.30258509,\n",
            "       -4.60517019,  0.        , -3.43223635, -2.30258509,  2.30258509,\n",
            "       -1.79628213, -4.10586403, -2.30258509,  1.7194167 , -2.30258509,\n",
            "        0.29723094, -2.30258509,  0.90147647, -2.30258509, -1.49852456,\n",
            "       -2.30258509, -4.48500134, -0.22314355, -1.65645018, -2.30258509])\n",
            "|        logP|       dlogP|     y^T.K.y|     log|K| |     Cond(K)|  GPU time|  CPU time|\n",
            "|------------|------------|------------|------------|------------|----------|----------|\n",
            "|  4.4346e+06|  2.7579e+07|  4.4426e+06|     -8011.5|  9.2861e+06|        24|      0.26|\n",
            "|  3.1653e+06|  3.0449e+07|  3.1728e+06|     -7461.8|  8.8333e+06|        22|      0.26|\n",
            "|  1.0848e+06|  1.5253e+07|  1.0908e+06|     -6045.4|  6.5175e+06|        20|      0.25|\n",
            "|  9.4116e+05|  1.2532e+07|  9.4706e+05|     -5892.4|  6.1514e+06|        19|      0.25|\n",
            "|  7.7334e+05|  9.2987e+06|  7.7903e+05|       -5684|  5.5926e+06|        17|      0.27|\n",
            "|  6.7701e+05|  7.8203e+06|  6.8254e+05|     -5528.3|  5.2214e+06|        17|      0.26|\n",
            "|   6.422e+05|  7.1384e+06|  6.4767e+05|     -5475.3|  5.0316e+06|        17|      0.25|\n",
            "|  6.2672e+05|  6.9701e+06|  6.3217e+05|     -5445.4|  4.9586e+06|        17|      0.24|\n",
            "|  6.1741e+05|  6.8464e+06|  6.2284e+05|       -5428|  4.8988e+06|        17|      0.25|\n",
            "|  6.0472e+05|  6.6322e+06|  6.1012e+05|     -5405.8|  4.8197e+06|        17|      0.28|\n",
            "|   5.983e+05|  6.4767e+06|   6.037e+05|     -5394.7|  4.7918e+06|        16|      0.29|\n",
            "|   5.962e+05|  6.4292e+06|  6.0159e+05|     -5391.1|  4.7729e+06|        16|      0.27|\n",
            "|  5.9482e+05|  6.4053e+06|  6.0021e+05|     -5388.6|  4.7525e+06|        16|      0.27|\n",
            "|  5.9436e+05|  6.4098e+06|  5.9974e+05|     -5386.9|  4.7548e+06|        16|      0.24|\n",
            "|  5.9409e+05|  6.4095e+06|  5.9947e+05|     -5386.5|   4.751e+06|        16|      0.25|\n",
            "|   5.936e+05|  6.4089e+06|  5.9899e+05|     -5385.7|  4.7467e+06|        16|      0.26|\n",
            "|  5.9353e+05|  6.4052e+06|  5.9891e+05|     -5385.6|  4.7481e+06|        16|      0.27|\n",
            "|  5.9342e+05|  6.3933e+06|  5.9881e+05|     -5385.7|  4.7526e+06|        16|      0.26|\n",
            "|  5.9328e+05|  6.3875e+06|  5.9867e+05|     -5385.9|  4.7571e+06|        16|      0.26|\n",
            "|  5.9312e+05|  6.3808e+06|  5.9851e+05|     -5386.4|  4.7561e+06|        16|      0.25|\n",
            "|  5.9309e+05|  6.3854e+06|  5.9847e+05|     -5386.4|  4.7613e+06|        16|      0.25|\n",
            "|  5.9299e+05|  6.3865e+06|  5.9838e+05|     -5386.4|  4.7584e+06|        16|      0.25|\n",
            "|  5.9314e+05|  6.3918e+06|  5.9852e+05|     -5386.4|   4.759e+06|        16|      0.26|\n",
            "|  5.9297e+05|  6.3864e+06|  5.9836e+05|     -5386.4|  4.7587e+06|        16|      0.26|\n",
            "|  5.9307e+05|  6.3882e+06|  5.9845e+05|     -5386.4|  4.7608e+06|        16|      0.27|\n",
            "|  5.9302e+05|  6.3874e+06|   5.984e+05|     -5386.4|  4.7614e+06|        16|      0.25|\n",
            "|        logP|       dlogP|     y^T.K.y|     log|K| |     Cond(K)|  GPU time|  CPU time|\n",
            "|------------|------------|------------|------------|------------|----------|----------|\n",
            "|  2.3807e+06|  4.1225e+07|  2.3878e+06|     -7050.1|  8.0784e+06|        25|      0.26|\n",
            "|   1.844e+06|  3.5315e+07|  1.8507e+06|     -6700.4|  7.6303e+06|        25|      0.25|\n",
            "|  1.2716e+06|  2.4854e+07|  1.2779e+06|     -6253.7|  6.8121e+06|        23|      0.26|\n",
            "|  1.0432e+06|  1.8244e+07|  1.0492e+06|     -6016.2|  6.3989e+06|        22|      0.24|\n",
            "|  8.8334e+05|  1.3446e+07|  8.8918e+05|     -5837.6|  5.9859e+06|        20|      0.26|\n",
            "|  7.6724e+05|  9.5267e+06|  7.7292e+05|     -5687.2|  5.5237e+06|        17|      0.26|\n",
            "|  6.9181e+05|  8.3988e+06|  6.9737e+05|     -5567.3|  5.2615e+06|        17|      0.24|\n",
            "|   6.566e+05|  7.7372e+06|   6.621e+05|     -5504.9|  5.0776e+06|        17|      0.26|\n",
            "|  6.3708e+05|  7.3086e+06|  6.4254e+05|     -5459.3|  4.8984e+06|        17|      0.24|\n",
            "|  6.3516e+05|  7.1268e+06|  6.4062e+05|     -5461.5|  4.8813e+06|        17|      0.25|\n",
            "|  6.2933e+05|  7.1015e+06|  6.3478e+05|     -5449.7|  4.8561e+06|        17|      0.26|\n",
            "|   6.271e+05|   7.075e+06|  6.3255e+05|     -5445.8|  4.8397e+06|        17|      0.25|\n",
            "|    6.21e+05|  6.9548e+06|  6.2644e+05|     -5436.8|  4.8092e+06|        17|      0.27|\n",
            "|  6.1725e+05|   6.655e+06|  6.2268e+05|     -5429.1|   4.841e+06|        16|      0.26|\n",
            "|  6.1584e+05|  6.7938e+06|  6.2127e+05|     -5428.5|  4.8052e+06|        16|      0.25|\n",
            "|  6.1161e+05|  6.5777e+06|  6.1703e+05|     -5419.2|  4.8294e+06|        16|      0.26|\n",
            "|  6.0569e+05|  6.5641e+06|  6.1109e+05|     -5404.4|  4.8409e+06|        16|      0.25|\n",
            "|  6.0422e+05|  6.5267e+06|  6.0963e+05|     -5403.3|  4.8328e+06|        16|      0.24|\n",
            "|  6.0359e+05|  6.4921e+06|    6.09e+05|     -5403.7|  4.8262e+06|        16|      0.24|\n",
            "|  6.0343e+05|  6.4795e+06|  6.0883e+05|     -5403.6|  4.8261e+06|        16|      0.25|\n",
            "|  6.0306e+05|  6.4668e+06|  6.0847e+05|     -5403.6|  4.8177e+06|        16|      0.24|\n",
            "|  6.0194e+05|  6.4466e+06|  6.0734e+05|     -5402.9|  4.8025e+06|        16|      0.25|\n",
            "|  6.0066e+05|  6.4356e+06|  6.0606e+05|     -5400.6|  4.7886e+06|        16|      0.24|\n",
            "|  5.9789e+05|  6.3926e+06|  6.0328e+05|     -5394.7|  4.7763e+06|        16|      0.25|\n",
            "|  5.9528e+05|  6.3569e+06|  6.0067e+05|     -5387.9|  4.7765e+06|        16|      0.26|\n",
            "|   5.944e+05|  6.3625e+06|  5.9978e+05|     -5385.5|   4.779e+06|        16|      0.24|\n",
            "|  5.9392e+05|   6.361e+06|  5.9931e+05|     -5384.4|    4.77e+06|        16|      0.25|\n",
            "|  5.9358e+05|  6.3723e+06|  5.9896e+05|     -5384.3|  4.7617e+06|        16|      0.25|\n",
            "|  5.9333e+05|  6.3747e+06|  5.9871e+05|     -5384.8|  4.7491e+06|        16|      0.25|\n",
            "|  5.9332e+05|  6.3731e+06|  5.9871e+05|     -5385.1|  4.7481e+06|        16|      0.25|\n",
            "|        logP|       dlogP|     y^T.K.y|     log|K| |     Cond(K)|  GPU time|  CPU time|\n",
            "|------------|------------|------------|------------|------------|----------|----------|\n",
            "|  4.2984e+06|  2.1722e+07|  4.3063e+06|     -7984.7|  9.3731e+06|        21|      0.25|\n",
            "|  3.0627e+06|  2.4352e+07|  3.0701e+06|     -7429.8|  8.9112e+06|        21|      0.24|\n",
            "|  1.2454e+06|  1.5596e+07|  1.2516e+06|     -6223.1|  6.9442e+06|        19|      0.26|\n",
            "|  8.9963e+05|  1.0832e+07|  9.0547e+05|     -5840.6|  6.1512e+06|        18|      0.24|\n",
            "|  8.2469e+05|  9.7028e+06|  8.3044e+05|     -5746.9|  5.8871e+06|        18|      0.25|\n",
            "|  6.9054e+05|  7.6849e+06|  6.9609e+05|     -5555.1|  5.2883e+06|        17|      0.24|\n",
            "|  6.4549e+05|  7.1157e+06|  6.5097e+05|     -5475.8|  5.0725e+06|        17|      0.23|\n",
            "|  6.3517e+05|  6.7937e+06|  6.4063e+05|     -5467.2|  4.9209e+06|        16|      0.27|\n",
            "|  6.2268e+05|  6.6994e+06|  6.2812e+05|     -5442.5|  4.8893e+06|        16|      0.25|\n",
            "|  6.0662e+05|  6.5763e+06|  6.1202e+05|     -5407.6|   4.819e+06|        16|      0.27|\n",
            "|   6.031e+05|  6.5145e+06|   6.085e+05|     -5401.6|  4.8035e+06|        16|      0.26|\n",
            "|  5.9969e+05|  6.4571e+06|  6.0508e+05|     -5394.6|   4.788e+06|        16|      0.25|\n",
            "|  5.9685e+05|   6.424e+06|  6.0224e+05|     -5390.2|  4.7654e+06|        16|      0.25|\n",
            "|  5.9566e+05|  6.4087e+06|  6.0105e+05|     -5387.4|  4.7517e+06|        16|      0.26|\n",
            "|   5.951e+05|  6.4047e+06|  6.0049e+05|     -5386.8|  4.7409e+06|        16|      0.25|\n",
            "|  5.9511e+05|  6.4076e+06|  6.0049e+05|     -5386.4|  4.7405e+06|        16|      0.27|\n",
            "|  5.9535e+05|   6.411e+06|  6.0074e+05|     -5386.7|  4.7434e+06|        16|      0.26|\n",
            "|   5.953e+05|  6.4092e+06|  6.0068e+05|     -5386.8|  4.7383e+06|        16|      0.26|\n",
            "|  5.9515e+05|  6.4057e+06|  6.0054e+05|     -5386.8|  4.7377e+06|        16|      0.24|\n",
            "|  5.9517e+05|  6.4064e+06|  6.0056e+05|     -5386.8|  4.7395e+06|        16|      0.26|\n",
            "|   5.951e+05|  6.4051e+06|  6.0048e+05|     -5386.8|  4.7407e+06|        16|      0.25|\n",
            "|  5.9527e+05|  6.4088e+06|  6.0066e+05|     -5386.8|  4.7418e+06|        16|      0.27|\n",
            "|  5.9538e+05|  6.4115e+06|  6.0077e+05|     -5386.8|  4.7409e+06|        16|      0.25|\n",
            "Optimization result:\n",
            "      fun: 593017.233335398\n",
            " hess_inv: <25x25 LbfgsInvHessProduct with dtype=float64>\n",
            "      jac: array([ 6.38327965e+02,  1.28618586e+02,  1.72410643e+01,  1.04340598e+02,\n",
            "        1.36995704e+04,  2.83676504e+02,  0.00000000e+00, -1.00061457e+02,\n",
            "        9.21464098e+01, -4.80265202e+02,  1.78421199e-01,  6.38760779e+01,\n",
            "        3.36469627e+01,  1.82294431e+01,  1.75945173e+04, -1.59673138e+02,\n",
            "        1.66316155e+03, -1.34392893e+02,  3.01120742e+03, -1.39548036e+02,\n",
            "        2.64036678e+02,  1.58928863e+02,  0.00000000e+00,  2.73778479e+02,\n",
            "        2.48575562e+02])\n",
            "  message: b'CONVERGENCE: REL_REDUCTION_OF_F_<=_FACTR*EPSMCH'\n",
            "     nfev: 26\n",
            "      nit: 22\n",
            "   status: 0\n",
            "  success: True\n",
            "        x: array([-9.21034037, -4.60517019, -2.30258509,  1.46994364, -2.30258509,\n",
            "       -4.60517019,  0.        , -3.66084289, -2.30258509,  2.30258509,\n",
            "       -1.78285819, -4.34869096, -2.30258509,  1.71964474, -2.30258509,\n",
            "        0.35701089, -2.30258509,  0.95627873, -2.30258509, -1.53308436,\n",
            "       -2.30258509, -4.17791911, -0.22314355, -1.41780115, -2.30258509])\n"
          ],
          "name": "stdout"
        }
      ]
    },
    {
      "cell_type": "code",
      "metadata": {
        "id": "Vq_2sFO5_3X-",
        "outputId": "30ad0b77-b18c-4ff5-c20a-88a6c07b313e",
        "colab": {
          "base_uri": "https://localhost:8080/",
          "height": 254
        }
      },
      "source": [
        "exhaust_search_results"
      ],
      "execution_count": 16,
      "outputs": [
        {
          "output_type": "execute_result",
          "data": {
            "text/html": [
              "<div>\n",
              "<style scoped>\n",
              "    .dataframe tbody tr th:only-of-type {\n",
              "        vertical-align: middle;\n",
              "    }\n",
              "\n",
              "    .dataframe tbody tr th {\n",
              "        vertical-align: top;\n",
              "    }\n",
              "\n",
              "    .dataframe thead th {\n",
              "        text-align: right;\n",
              "    }\n",
              "</style>\n",
              "<table border=\"1\" class=\"dataframe\">\n",
              "  <thead>\n",
              "    <tr style=\"text-align: right;\">\n",
              "      <th></th>\n",
              "      <th>aro_c_n_init</th>\n",
              "      <th>aro_c_n_final</th>\n",
              "      <th>ato_c_n_init</th>\n",
              "      <th>ato_c_n_final</th>\n",
              "      <th>cha_c_n_init</th>\n",
              "      <th>cha_c_n_final</th>\n",
              "      <th>chi_c_n_init</th>\n",
              "      <th>chi_c_n_final</th>\n",
              "      <th>hco_c_n_init</th>\n",
              "      <th>hco_c_n_final</th>\n",
              "      <th>hyb_c_n_init</th>\n",
              "      <th>hyb_c_n_final</th>\n",
              "      <th>ring_c_n_init</th>\n",
              "      <th>ring_c_n_final</th>\n",
              "      <th>aro_c_e_init</th>\n",
              "      <th>aro_c_e_final</th>\n",
              "      <th>con_c_e_init</th>\n",
              "      <th>con_c_e_final</th>\n",
              "      <th>ord_c_e_init</th>\n",
              "      <th>ord_c_e_final</th>\n",
              "      <th>ring_c_e_init</th>\n",
              "      <th>ring_c_e_final</th>\n",
              "      <th>ste_c_e_init</th>\n",
              "      <th>ste_c_e_final</th>\n",
              "      <th>alpha</th>\n",
              "      <th>RMSE_train</th>\n",
              "      <th>MAE_train</th>\n",
              "      <th>RMSE_test</th>\n",
              "      <th>MAE_test</th>\n",
              "    </tr>\n",
              "  </thead>\n",
              "  <tbody>\n",
              "    <tr>\n",
              "      <th>0</th>\n",
              "      <td>0.5</td>\n",
              "      <td>0.01</td>\n",
              "      <td>1</td>\n",
              "      <td>4.370498</td>\n",
              "      <td>0.5</td>\n",
              "      <td>0.01</td>\n",
              "      <td>0.5</td>\n",
              "      <td>0.024327</td>\n",
              "      <td>0.5</td>\n",
              "      <td>10.0</td>\n",
              "      <td>0.5</td>\n",
              "      <td>0.020389</td>\n",
              "      <td>0.5</td>\n",
              "      <td>5.643766</td>\n",
              "      <td>0.5</td>\n",
              "      <td>4.626665</td>\n",
              "      <td>0.5</td>\n",
              "      <td>8.647760</td>\n",
              "      <td>0.5</td>\n",
              "      <td>0.853270</td>\n",
              "      <td>0.5</td>\n",
              "      <td>0.022386</td>\n",
              "      <td>0.5</td>\n",
              "      <td>0.681521</td>\n",
              "      <td>0.0001</td>\n",
              "      <td>0.155852</td>\n",
              "      <td>0.102469</td>\n",
              "      <td>1.790423</td>\n",
              "      <td>1.398627</td>\n",
              "    </tr>\n",
              "    <tr>\n",
              "      <th>1</th>\n",
              "      <td>0.5</td>\n",
              "      <td>0.01</td>\n",
              "      <td>5</td>\n",
              "      <td>4.365885</td>\n",
              "      <td>0.5</td>\n",
              "      <td>0.01</td>\n",
              "      <td>0.5</td>\n",
              "      <td>0.027797</td>\n",
              "      <td>0.5</td>\n",
              "      <td>10.0</td>\n",
              "      <td>0.5</td>\n",
              "      <td>0.016347</td>\n",
              "      <td>0.5</td>\n",
              "      <td>5.577185</td>\n",
              "      <td>0.5</td>\n",
              "      <td>1.048910</td>\n",
              "      <td>0.5</td>\n",
              "      <td>1.740676</td>\n",
              "      <td>0.5</td>\n",
              "      <td>0.116323</td>\n",
              "      <td>0.5</td>\n",
              "      <td>0.012648</td>\n",
              "      <td>0.5</td>\n",
              "      <td>0.190271</td>\n",
              "      <td>0.0001</td>\n",
              "      <td>0.155840</td>\n",
              "      <td>0.102556</td>\n",
              "      <td>1.790531</td>\n",
              "      <td>1.398135</td>\n",
              "    </tr>\n",
              "    <tr>\n",
              "      <th>2</th>\n",
              "      <td>0.5</td>\n",
              "      <td>0.01</td>\n",
              "      <td>9</td>\n",
              "      <td>4.287190</td>\n",
              "      <td>0.5</td>\n",
              "      <td>0.01</td>\n",
              "      <td>0.5</td>\n",
              "      <td>0.043575</td>\n",
              "      <td>0.5</td>\n",
              "      <td>10.0</td>\n",
              "      <td>0.5</td>\n",
              "      <td>0.011928</td>\n",
              "      <td>0.5</td>\n",
              "      <td>5.677144</td>\n",
              "      <td>0.5</td>\n",
              "      <td>2.380979</td>\n",
              "      <td>0.5</td>\n",
              "      <td>4.385770</td>\n",
              "      <td>0.5</td>\n",
              "      <td>0.431194</td>\n",
              "      <td>0.5</td>\n",
              "      <td>0.010566</td>\n",
              "      <td>0.5</td>\n",
              "      <td>0.510186</td>\n",
              "      <td>0.0001</td>\n",
              "      <td>0.155844</td>\n",
              "      <td>0.102517</td>\n",
              "      <td>1.789339</td>\n",
              "      <td>1.397825</td>\n",
              "    </tr>\n",
              "    <tr>\n",
              "      <th>3</th>\n",
              "      <td>0.5</td>\n",
              "      <td>0.01</td>\n",
              "      <td>0.5</td>\n",
              "      <td>4.322942</td>\n",
              "      <td>1.0</td>\n",
              "      <td>0.01</td>\n",
              "      <td>0.5</td>\n",
              "      <td>0.031326</td>\n",
              "      <td>0.5</td>\n",
              "      <td>10.0</td>\n",
              "      <td>0.5</td>\n",
              "      <td>0.013491</td>\n",
              "      <td>0.5</td>\n",
              "      <td>5.627731</td>\n",
              "      <td>0.5</td>\n",
              "      <td>1.231241</td>\n",
              "      <td>0.5</td>\n",
              "      <td>2.357965</td>\n",
              "      <td>0.5</td>\n",
              "      <td>0.225643</td>\n",
              "      <td>0.5</td>\n",
              "      <td>0.011992</td>\n",
              "      <td>0.5</td>\n",
              "      <td>0.157341</td>\n",
              "      <td>0.0001</td>\n",
              "      <td>0.155685</td>\n",
              "      <td>0.102339</td>\n",
              "      <td>1.790732</td>\n",
              "      <td>1.398858</td>\n",
              "    </tr>\n",
              "    <tr>\n",
              "      <th>4</th>\n",
              "      <td>0.5</td>\n",
              "      <td>0.01</td>\n",
              "      <td>0.5</td>\n",
              "      <td>4.340802</td>\n",
              "      <td>5.0</td>\n",
              "      <td>0.01</td>\n",
              "      <td>0.5</td>\n",
              "      <td>0.032315</td>\n",
              "      <td>0.5</td>\n",
              "      <td>10.0</td>\n",
              "      <td>0.5</td>\n",
              "      <td>0.016476</td>\n",
              "      <td>0.5</td>\n",
              "      <td>5.581272</td>\n",
              "      <td>0.5</td>\n",
              "      <td>1.346126</td>\n",
              "      <td>0.5</td>\n",
              "      <td>2.463237</td>\n",
              "      <td>0.5</td>\n",
              "      <td>0.223460</td>\n",
              "      <td>0.5</td>\n",
              "      <td>0.011277</td>\n",
              "      <td>0.5</td>\n",
              "      <td>0.190815</td>\n",
              "      <td>0.0001</td>\n",
              "      <td>0.155706</td>\n",
              "      <td>0.102327</td>\n",
              "      <td>1.790532</td>\n",
              "      <td>1.398596</td>\n",
              "    </tr>\n",
              "    <tr>\n",
              "      <th>5</th>\n",
              "      <td>0.5</td>\n",
              "      <td>0.01</td>\n",
              "      <td>0.5</td>\n",
              "      <td>4.348990</td>\n",
              "      <td>9.0</td>\n",
              "      <td>0.01</td>\n",
              "      <td>0.5</td>\n",
              "      <td>0.025711</td>\n",
              "      <td>0.5</td>\n",
              "      <td>10.0</td>\n",
              "      <td>0.5</td>\n",
              "      <td>0.012924</td>\n",
              "      <td>0.5</td>\n",
              "      <td>5.582545</td>\n",
              "      <td>0.5</td>\n",
              "      <td>1.429051</td>\n",
              "      <td>0.5</td>\n",
              "      <td>2.601996</td>\n",
              "      <td>0.5</td>\n",
              "      <td>0.215869</td>\n",
              "      <td>0.5</td>\n",
              "      <td>0.015330</td>\n",
              "      <td>0.5</td>\n",
              "      <td>0.242246</td>\n",
              "      <td>0.0001</td>\n",
              "      <td>0.155784</td>\n",
              "      <td>0.102502</td>\n",
              "      <td>1.790186</td>\n",
              "      <td>1.398227</td>\n",
              "    </tr>\n",
              "  </tbody>\n",
              "</table>\n",
              "</div>"
            ],
            "text/plain": [
              "   aro_c_n_init  aro_c_n_final ato_c_n_init  ...  MAE_train  RMSE_test  MAE_test\n",
              "0           0.5           0.01            1  ...   0.102469   1.790423  1.398627\n",
              "1           0.5           0.01            5  ...   0.102556   1.790531  1.398135\n",
              "2           0.5           0.01            9  ...   0.102517   1.789339  1.397825\n",
              "3           0.5           0.01          0.5  ...   0.102339   1.790732  1.398858\n",
              "4           0.5           0.01          0.5  ...   0.102327   1.790532  1.398596\n",
              "5           0.5           0.01          0.5  ...   0.102502   1.790186  1.398227\n",
              "\n",
              "[6 rows x 29 columns]"
            ]
          },
          "metadata": {
            "tags": []
          },
          "execution_count": 16
        }
      ]
    },
    {
      "cell_type": "code",
      "metadata": {
        "id": "gRdbPP4abNAx"
      },
      "source": [
        "for chi_c_n in chi_c_ns:\n",
        "  model,para_list = gpr_model(chi_c_n = chi_c_n)\n",
        "  model.fit(train.graphs, train[target], repeat=3, verbose=False)\n",
        "  mu = model.predict(train.graphs)\n",
        "  MAE_train = np.mean(np.abs(train[target] - mu))\n",
        "  RMSE_train = np.std(train[target] - mu)\n",
        "  para_list.append(RMSE_train)\n",
        "  para_list.append(MAE_train)\n",
        "  mu_test = model.predict(test.graphs)\n",
        "  MAE_test = np.mean(np.abs(test[target] - mu_test))\n",
        "  RMSE_test = np.std(test[target] - mu_test)\n",
        "  para_list.append(RMSE_test)\n",
        "  para_list.append(MAE_test)\n",
        "  data = pd.DataFrame(data = [para_list],\\\n",
        "            columns=['aro_c_n','ato_c_n','cha_c_n','chi_c_n','hco_c_n',\\\n",
        "            'hyb_c_n','ring_c_n','aro_c_e','con_c_e','ord_c_e','ring_c_e',\\\n",
        "            'ste_c_e','alpha','RMSE_train', 'MAE_train', 'RMSE_test', 'MAE_test'])\n",
        "  exhaust_search_results = exhaust_search_results.append(data,ignore_index=True)"
      ],
      "execution_count": null,
      "outputs": []
    },
    {
      "cell_type": "code",
      "metadata": {
        "id": "HqipcBZl_TY5"
      },
      "source": [
        ""
      ],
      "execution_count": null,
      "outputs": []
    }
  ]
}