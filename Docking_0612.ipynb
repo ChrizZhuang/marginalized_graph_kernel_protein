{
  "nbformat": 4,
  "nbformat_minor": 0,
  "metadata": {
    "accelerator": "TPU",
    "colab": {
      "name": "Docking.ipynb",
      "provenance": [],
      "collapsed_sections": [],
      "include_colab_link": true
    },
    "kernelspec": {
      "display_name": "Python 3",
      "name": "python3"
    }
  },
  "cells": [
    {
      "cell_type": "markdown",
      "metadata": {
        "id": "view-in-github",
        "colab_type": "text"
      },
      "source": [
        "<a href=\"https://colab.research.google.com/github/ChrizZhuang/marginalized_graph_kernel_protein/blob/main/Docking_0612.ipynb\" target=\"_parent\"><img src=\"https://colab.research.google.com/assets/colab-badge.svg\" alt=\"Open In Colab\"/></a>"
      ]
    },
    {
      "cell_type": "markdown",
      "metadata": {
        "id": "Hcs9MOjWgzly"
      },
      "source": [
        "## Set up the environment"
      ]
    },
    {
      "cell_type": "code",
      "metadata": {
        "colab": {
          "base_uri": "https://localhost:8080/"
        },
        "id": "E2uKipA7g95b",
        "outputId": "be036ace-dedd-47c1-d6c2-bfb51c91d3b8"
      },
      "source": [
        "!nvidia-smi"
      ],
      "execution_count": 1,
      "outputs": [
        {
          "output_type": "stream",
          "text": [
            "NVIDIA-SMI has failed because it couldn't communicate with the NVIDIA driver. Make sure that the latest NVIDIA driver is installed and running.\n",
            "\n"
          ],
          "name": "stdout"
        }
      ]
    },
    {
      "cell_type": "code",
      "metadata": {
        "colab": {
          "base_uri": "https://localhost:8080/"
        },
        "id": "XE6J0wDFGxnp",
        "outputId": "33ac82ca-b3d5-47c6-9880-0f81ef7c2b4d"
      },
      "source": [
        "#!pip install pymatgen==2020.12.31\n",
        "!pip install pymatgen==2019.11.11\n",
        "!pip install --pre graphdot\n",
        "!pip install gdown"
      ],
      "execution_count": 2,
      "outputs": [
        {
          "output_type": "stream",
          "text": [
            "Collecting pymatgen==2019.11.11\n",
            "\u001b[?25l  Downloading https://files.pythonhosted.org/packages/57/f8/1d5f9bacde237107f917a5ca31bdf73e55a774ffb8e7b9e5f9cd7d7cf114/pymatgen-2019.11.11.tar.gz (2.5MB)\n",
            "\u001b[K     |████████████████████████████████| 2.5MB 6.7MB/s \n",
            "\u001b[?25hRequirement already satisfied: numpy>=1.14.3 in /usr/local/lib/python3.7/dist-packages (from pymatgen==2019.11.11) (1.19.5)\n",
            "Requirement already satisfied: requests in /usr/local/lib/python3.7/dist-packages (from pymatgen==2019.11.11) (2.23.0)\n",
            "Collecting ruamel.yaml>=0.15.6\n",
            "\u001b[?25l  Downloading https://files.pythonhosted.org/packages/74/c6/0aa1aaaa56c9d320f19d9ca3f8304bc6ace8fab95932b1602cbe091ae4a3/ruamel.yaml-0.17.9-py3-none-any.whl (108kB)\n",
            "\u001b[K     |████████████████████████████████| 112kB 32.3MB/s \n",
            "\u001b[?25hCollecting monty>=3.0.2\n",
            "\u001b[?25l  Downloading https://files.pythonhosted.org/packages/31/26/e14afc57b4dd6c9b8c6d4b3f70dd0b4f1550ba263711e345845354bc84d9/monty-2021.6.10-py3-none-any.whl (65kB)\n",
            "\u001b[K     |████████████████████████████████| 71kB 7.1MB/s \n",
            "\u001b[?25hRequirement already satisfied: scipy>=1.0.1 in /usr/local/lib/python3.7/dist-packages (from pymatgen==2019.11.11) (1.4.1)\n",
            "Collecting pydispatcher>=2.0.5\n",
            "  Downloading https://files.pythonhosted.org/packages/cd/37/39aca520918ce1935bea9c356bcbb7ed7e52ad4e31bff9b943dfc8e7115b/PyDispatcher-2.0.5.tar.gz\n",
            "Requirement already satisfied: tabulate in /usr/local/lib/python3.7/dist-packages (from pymatgen==2019.11.11) (0.8.9)\n",
            "Collecting spglib>=1.9.9.44\n",
            "\u001b[?25l  Downloading https://files.pythonhosted.org/packages/4b/98/fa4760b9c71e2eace5a60b85dbf36dece49c379f8291cf1203056f287766/spglib-1.16.1-cp37-cp37m-manylinux2010_x86_64.whl (296kB)\n",
            "\u001b[K     |████████████████████████████████| 296kB 29.7MB/s \n",
            "\u001b[?25hRequirement already satisfied: networkx>=2.2 in /usr/local/lib/python3.7/dist-packages (from pymatgen==2019.11.11) (2.5.1)\n",
            "Requirement already satisfied: matplotlib>=1.5 in /usr/local/lib/python3.7/dist-packages (from pymatgen==2019.11.11) (3.2.2)\n",
            "Requirement already satisfied: palettable>=3.1.1 in /usr/local/lib/python3.7/dist-packages (from pymatgen==2019.11.11) (3.3.0)\n",
            "Requirement already satisfied: sympy in /usr/local/lib/python3.7/dist-packages (from pymatgen==2019.11.11) (1.7.1)\n",
            "Requirement already satisfied: pandas in /usr/local/lib/python3.7/dist-packages (from pymatgen==2019.11.11) (1.1.5)\n",
            "Requirement already satisfied: urllib3!=1.25.0,!=1.25.1,<1.26,>=1.21.1 in /usr/local/lib/python3.7/dist-packages (from requests->pymatgen==2019.11.11) (1.24.3)\n",
            "Requirement already satisfied: idna<3,>=2.5 in /usr/local/lib/python3.7/dist-packages (from requests->pymatgen==2019.11.11) (2.10)\n",
            "Requirement already satisfied: chardet<4,>=3.0.2 in /usr/local/lib/python3.7/dist-packages (from requests->pymatgen==2019.11.11) (3.0.4)\n",
            "Requirement already satisfied: certifi>=2017.4.17 in /usr/local/lib/python3.7/dist-packages (from requests->pymatgen==2019.11.11) (2020.12.5)\n",
            "Collecting ruamel.yaml.clib>=0.1.2; platform_python_implementation == \"CPython\" and python_version < \"3.10\"\n",
            "\u001b[?25l  Downloading https://files.pythonhosted.org/packages/5e/6e/f652c56bbb2c3d3fca252ffc7c0358597f57a1bbdf484dac683054950c63/ruamel.yaml.clib-0.2.2-cp37-cp37m-manylinux1_x86_64.whl (547kB)\n",
            "\u001b[K     |████████████████████████████████| 552kB 33.3MB/s \n",
            "\u001b[?25hRequirement already satisfied: decorator<5,>=4.3 in /usr/local/lib/python3.7/dist-packages (from networkx>=2.2->pymatgen==2019.11.11) (4.4.2)\n",
            "Requirement already satisfied: cycler>=0.10 in /usr/local/lib/python3.7/dist-packages (from matplotlib>=1.5->pymatgen==2019.11.11) (0.10.0)\n",
            "Requirement already satisfied: python-dateutil>=2.1 in /usr/local/lib/python3.7/dist-packages (from matplotlib>=1.5->pymatgen==2019.11.11) (2.8.1)\n",
            "Requirement already satisfied: kiwisolver>=1.0.1 in /usr/local/lib/python3.7/dist-packages (from matplotlib>=1.5->pymatgen==2019.11.11) (1.3.1)\n",
            "Requirement already satisfied: pyparsing!=2.0.4,!=2.1.2,!=2.1.6,>=2.0.1 in /usr/local/lib/python3.7/dist-packages (from matplotlib>=1.5->pymatgen==2019.11.11) (2.4.7)\n",
            "Requirement already satisfied: mpmath>=0.19 in /usr/local/lib/python3.7/dist-packages (from sympy->pymatgen==2019.11.11) (1.2.1)\n",
            "Requirement already satisfied: pytz>=2017.2 in /usr/local/lib/python3.7/dist-packages (from pandas->pymatgen==2019.11.11) (2018.9)\n",
            "Requirement already satisfied: six in /usr/local/lib/python3.7/dist-packages (from cycler>=0.10->matplotlib>=1.5->pymatgen==2019.11.11) (1.15.0)\n",
            "Building wheels for collected packages: pymatgen, pydispatcher\n",
            "  Building wheel for pymatgen (setup.py) ... \u001b[?25l\u001b[?25hdone\n",
            "  Created wheel for pymatgen: filename=pymatgen-2019.11.11-cp37-cp37m-linux_x86_64.whl size=3324761 sha256=6cf93e611e6c47a15bab07470b9e6718adc4a580ac5569075626887f5b463b02\n",
            "  Stored in directory: /root/.cache/pip/wheels/98/23/3c/3b929997e5f8976361933411e8a3b9bdf1b2702e7830e7a7ad\n",
            "  Building wheel for pydispatcher (setup.py) ... \u001b[?25l\u001b[?25hdone\n",
            "  Created wheel for pydispatcher: filename=PyDispatcher-2.0.5-cp37-none-any.whl size=11517 sha256=9b0107e8759a73beda58fbdf3018d4c4562209d5d65c3b4ccdda07dedb62904e\n",
            "  Stored in directory: /root/.cache/pip/wheels/88/99/96/cfef6665f9cb1522ee6757ae5955feedf2fe25f1737f91fa7f\n",
            "Successfully built pymatgen pydispatcher\n",
            "Installing collected packages: ruamel.yaml.clib, ruamel.yaml, monty, pydispatcher, spglib, pymatgen\n",
            "Successfully installed monty-2021.6.10 pydispatcher-2.0.5 pymatgen-2019.11.11 ruamel.yaml-0.17.9 ruamel.yaml.clib-0.2.2 spglib-1.16.1\n",
            "Collecting graphdot\n",
            "\u001b[?25l  Downloading https://files.pythonhosted.org/packages/71/e6/af9d1784a6757a9e70a8ef2160f006d0fc46a913c82354b2825cd79a4e40/graphdot-0.8a17.tar.gz (103kB)\n",
            "\u001b[K     |████████████████████████████████| 112kB 6.9MB/s \n",
            "\u001b[?25hRequirement already satisfied: numpy>=1.17 in /usr/local/lib/python3.7/dist-packages (from graphdot) (1.19.5)\n",
            "Requirement already satisfied: scipy>=1.3.0 in /usr/local/lib/python3.7/dist-packages (from graphdot) (1.4.1)\n",
            "Requirement already satisfied: sympy>=1.3 in /usr/local/lib/python3.7/dist-packages (from graphdot) (1.7.1)\n",
            "Requirement already satisfied: pandas>=0.24 in /usr/local/lib/python3.7/dist-packages (from graphdot) (1.1.5)\n",
            "Requirement already satisfied: networkx>=2.4 in /usr/local/lib/python3.7/dist-packages (from graphdot) (2.5.1)\n",
            "Collecting pycuda>=2019\n",
            "\u001b[?25l  Downloading https://files.pythonhosted.org/packages/5a/56/4682a5118a234d15aa1c8768a528aac4858c7b04d2674e18d586d3dfda04/pycuda-2021.1.tar.gz (1.7MB)\n",
            "\u001b[K     |████████████████████████████████| 1.7MB 10.0MB/s \n",
            "\u001b[?25h  Installing build dependencies ... \u001b[?25l\u001b[?25hdone\n",
            "  Getting requirements to build wheel ... \u001b[?25l\u001b[?25hdone\n",
            "    Preparing wheel metadata ... \u001b[?25l\u001b[?25hdone\n",
            "Collecting treelib>=1.6.1\n",
            "  Downloading https://files.pythonhosted.org/packages/04/b0/2269c328abffbb63979f7143351a24a066776b87526d79956aea5018b80a/treelib-1.6.1.tar.gz\n",
            "Collecting kahypar>=1.1.4\n",
            "\u001b[?25l  Downloading https://files.pythonhosted.org/packages/d2/c6/4b6ff807f2136079e9bc7289a793544541de4a04b402c678524647d6b0cb/kahypar-1.1.6-cp37-cp37m-manylinux2014_x86_64.whl (1.1MB)\n",
            "\u001b[K     |████████████████████████████████| 1.1MB 24.3MB/s \n",
            "\u001b[?25hRequirement already satisfied: numba>=0.51.0 in /usr/local/lib/python3.7/dist-packages (from graphdot) (0.51.2)\n",
            "Collecting tqdm>=4.55\n",
            "\u001b[?25l  Downloading https://files.pythonhosted.org/packages/42/d7/f357d98e9b50346bcb6095fe3ad205d8db3174eb5edb03edfe7c4099576d/tqdm-4.61.0-py2.py3-none-any.whl (75kB)\n",
            "\u001b[K     |████████████████████████████████| 81kB 7.5MB/s \n",
            "\u001b[?25hCollecting ase>=3.17\n",
            "\u001b[?25l  Downloading https://files.pythonhosted.org/packages/a5/36/de17e79f29e06d9a92746d0dd9ec4636487ab03f6af10e78586aae533f7a/ase-3.21.1-py3-none-any.whl (2.2MB)\n",
            "\u001b[K     |████████████████████████████████| 2.2MB 39.4MB/s \n",
            "\u001b[?25hRequirement already satisfied: pymatgen==2019.11.11 in /usr/local/lib/python3.7/dist-packages (from graphdot) (2019.11.11)\n",
            "Collecting mendeleev>=0.7\n",
            "\u001b[?25l  Downloading https://files.pythonhosted.org/packages/1d/8c/364f691a79162bed173069e3882c39baa315daf1336434c6c9b322078e61/mendeleev-0.7.0-py3-none-any.whl (175kB)\n",
            "\u001b[K     |████████████████████████████████| 184kB 40.5MB/s \n",
            "\u001b[?25hRequirement already satisfied: mpmath>=0.19 in /usr/local/lib/python3.7/dist-packages (from sympy>=1.3->graphdot) (1.2.1)\n",
            "Requirement already satisfied: pytz>=2017.2 in /usr/local/lib/python3.7/dist-packages (from pandas>=0.24->graphdot) (2018.9)\n",
            "Requirement already satisfied: python-dateutil>=2.7.3 in /usr/local/lib/python3.7/dist-packages (from pandas>=0.24->graphdot) (2.8.1)\n",
            "Requirement already satisfied: decorator<5,>=4.3 in /usr/local/lib/python3.7/dist-packages (from networkx>=2.4->graphdot) (4.4.2)\n",
            "Collecting pytools>=2011.2\n",
            "\u001b[?25l  Downloading https://files.pythonhosted.org/packages/52/26/c7ab098ceb4e4e3f0e66e21257a286bb455ea22af7afefbd704d9ccf324c/pytools-2021.2.7.tar.gz (63kB)\n",
            "\u001b[K     |████████████████████████████████| 71kB 7.8MB/s \n",
            "\u001b[?25hRequirement already satisfied: appdirs>=1.4.0 in /usr/local/lib/python3.7/dist-packages (from pycuda>=2019->graphdot) (1.4.4)\n",
            "Collecting mako\n",
            "\u001b[?25l  Downloading https://files.pythonhosted.org/packages/f3/54/dbc07fbb20865d3b78fdb7cf7fa713e2cba4f87f71100074ef2dc9f9d1f7/Mako-1.1.4-py2.py3-none-any.whl (75kB)\n",
            "\u001b[K     |████████████████████████████████| 81kB 8.5MB/s \n",
            "\u001b[?25hRequirement already satisfied: future in /usr/local/lib/python3.7/dist-packages (from treelib>=1.6.1->graphdot) (0.16.0)\n",
            "Requirement already satisfied: setuptools in /usr/local/lib/python3.7/dist-packages (from numba>=0.51.0->graphdot) (57.0.0)\n",
            "Requirement already satisfied: llvmlite<0.35,>=0.34.0.dev0 in /usr/local/lib/python3.7/dist-packages (from numba>=0.51.0->graphdot) (0.34.0)\n",
            "Requirement already satisfied: matplotlib>=2.0.0 in /usr/local/lib/python3.7/dist-packages (from ase>=3.17->graphdot) (3.2.2)\n",
            "Requirement already satisfied: pydispatcher>=2.0.5 in /usr/local/lib/python3.7/dist-packages (from pymatgen==2019.11.11->graphdot) (2.0.5)\n",
            "Requirement already satisfied: monty>=3.0.2 in /usr/local/lib/python3.7/dist-packages (from pymatgen==2019.11.11->graphdot) (2021.6.10)\n",
            "Requirement already satisfied: spglib>=1.9.9.44 in /usr/local/lib/python3.7/dist-packages (from pymatgen==2019.11.11->graphdot) (1.16.1)\n",
            "Requirement already satisfied: ruamel.yaml>=0.15.6 in /usr/local/lib/python3.7/dist-packages (from pymatgen==2019.11.11->graphdot) (0.17.9)\n",
            "Requirement already satisfied: tabulate in /usr/local/lib/python3.7/dist-packages (from pymatgen==2019.11.11->graphdot) (0.8.9)\n",
            "Requirement already satisfied: requests in /usr/local/lib/python3.7/dist-packages (from pymatgen==2019.11.11->graphdot) (2.23.0)\n",
            "Requirement already satisfied: palettable>=3.1.1 in /usr/local/lib/python3.7/dist-packages (from pymatgen==2019.11.11->graphdot) (3.3.0)\n",
            "Collecting Pygments<3.0.0,>=2.8.0\n",
            "\u001b[?25l  Downloading https://files.pythonhosted.org/packages/a6/c9/be11fce9810793676017f79ffab3c6cb18575844a6c7b8d4ed92f95de604/Pygments-2.9.0-py3-none-any.whl (1.0MB)\n",
            "\u001b[K     |████████████████████████████████| 1.0MB 39.8MB/s \n",
            "\u001b[?25hRequirement already satisfied: six<2.0.0,>=1.15.0 in /usr/local/lib/python3.7/dist-packages (from mendeleev>=0.7->graphdot) (1.15.0)\n",
            "Requirement already satisfied: SQLAlchemy<2.0.0,>=1.3.23 in /usr/local/lib/python3.7/dist-packages (from mendeleev>=0.7->graphdot) (1.4.15)\n",
            "Collecting pyfiglet<0.9,>=0.8.post1\n",
            "\u001b[?25l  Downloading https://files.pythonhosted.org/packages/33/07/fcfdd7a2872f5b348953de35acce1544dab0c1e8368dca54279b1cde5c15/pyfiglet-0.8.post1-py2.py3-none-any.whl (865kB)\n",
            "\u001b[K     |████████████████████████████████| 870kB 38.4MB/s \n",
            "\u001b[?25hCollecting colorama<0.5.0,>=0.4.4\n",
            "  Downloading https://files.pythonhosted.org/packages/44/98/5b86278fbbf250d239ae0ecb724f8572af1c91f4a11edf4d36a206189440/colorama-0.4.4-py2.py3-none-any.whl\n",
            "Requirement already satisfied: MarkupSafe>=0.9.2 in /usr/local/lib/python3.7/dist-packages (from mako->pycuda>=2019->graphdot) (2.0.1)\n",
            "Requirement already satisfied: cycler>=0.10 in /usr/local/lib/python3.7/dist-packages (from matplotlib>=2.0.0->ase>=3.17->graphdot) (0.10.0)\n",
            "Requirement already satisfied: kiwisolver>=1.0.1 in /usr/local/lib/python3.7/dist-packages (from matplotlib>=2.0.0->ase>=3.17->graphdot) (1.3.1)\n",
            "Requirement already satisfied: pyparsing!=2.0.4,!=2.1.2,!=2.1.6,>=2.0.1 in /usr/local/lib/python3.7/dist-packages (from matplotlib>=2.0.0->ase>=3.17->graphdot) (2.4.7)\n",
            "Requirement already satisfied: ruamel.yaml.clib>=0.1.2; platform_python_implementation == \"CPython\" and python_version < \"3.10\" in /usr/local/lib/python3.7/dist-packages (from ruamel.yaml>=0.15.6->pymatgen==2019.11.11->graphdot) (0.2.2)\n",
            "Requirement already satisfied: urllib3!=1.25.0,!=1.25.1,<1.26,>=1.21.1 in /usr/local/lib/python3.7/dist-packages (from requests->pymatgen==2019.11.11->graphdot) (1.24.3)\n",
            "Requirement already satisfied: certifi>=2017.4.17 in /usr/local/lib/python3.7/dist-packages (from requests->pymatgen==2019.11.11->graphdot) (2020.12.5)\n",
            "Requirement already satisfied: chardet<4,>=3.0.2 in /usr/local/lib/python3.7/dist-packages (from requests->pymatgen==2019.11.11->graphdot) (3.0.4)\n",
            "Requirement already satisfied: idna<3,>=2.5 in /usr/local/lib/python3.7/dist-packages (from requests->pymatgen==2019.11.11->graphdot) (2.10)\n",
            "Requirement already satisfied: importlib-metadata; python_version < \"3.8\" in /usr/local/lib/python3.7/dist-packages (from SQLAlchemy<2.0.0,>=1.3.23->mendeleev>=0.7->graphdot) (4.0.1)\n",
            "Requirement already satisfied: greenlet!=0.4.17; python_version >= \"3\" in /usr/local/lib/python3.7/dist-packages (from SQLAlchemy<2.0.0,>=1.3.23->mendeleev>=0.7->graphdot) (1.1.0)\n",
            "Requirement already satisfied: zipp>=0.5 in /usr/local/lib/python3.7/dist-packages (from importlib-metadata; python_version < \"3.8\"->SQLAlchemy<2.0.0,>=1.3.23->mendeleev>=0.7->graphdot) (3.4.1)\n",
            "Requirement already satisfied: typing-extensions>=3.6.4; python_version < \"3.8\" in /usr/local/lib/python3.7/dist-packages (from importlib-metadata; python_version < \"3.8\"->SQLAlchemy<2.0.0,>=1.3.23->mendeleev>=0.7->graphdot) (3.7.4.3)\n",
            "Building wheels for collected packages: pycuda\n",
            "  Building wheel for pycuda (PEP 517) ... \u001b[?25l\u001b[?25hcanceled\n",
            "\u001b[31mERROR: Operation cancelled by user\u001b[0m\n",
            "Requirement already satisfied: gdown in /usr/local/lib/python3.7/dist-packages (3.6.4)\n",
            "Requirement already satisfied: requests in /usr/local/lib/python3.7/dist-packages (from gdown) (2.23.0)\n",
            "Requirement already satisfied: tqdm in /usr/local/lib/python3.7/dist-packages (from gdown) (4.41.1)\n",
            "Requirement already satisfied: six in /usr/local/lib/python3.7/dist-packages (from gdown) (1.15.0)\n",
            "Requirement already satisfied: idna<3,>=2.5 in /usr/local/lib/python3.7/dist-packages (from requests->gdown) (2.10)\n",
            "Requirement already satisfied: urllib3!=1.25.0,!=1.25.1,<1.26,>=1.21.1 in /usr/local/lib/python3.7/dist-packages (from requests->gdown) (1.24.3)\n",
            "Requirement already satisfied: chardet<4,>=3.0.2 in /usr/local/lib/python3.7/dist-packages (from requests->gdown) (3.0.4)\n",
            "Requirement already satisfied: certifi>=2017.4.17 in /usr/local/lib/python3.7/dist-packages (from requests->gdown) (2020.12.5)\n"
          ],
          "name": "stdout"
        }
      ]
    },
    {
      "cell_type": "code",
      "metadata": {
        "id": "qX3k93l_HGdd",
        "colab": {
          "base_uri": "https://localhost:8080/",
          "height": 389
        },
        "outputId": "1176faf9-6359-4b93-ea51-a52693e14a99"
      },
      "source": [
        "%matplotlib inline\n",
        "import io\n",
        "import sys\n",
        "sys.path.append('/usr/local/lib/python3.6/site-packages/')\n",
        "import os\n",
        "import urllib\n",
        "import numpy as np\n",
        "import pandas as pd\n",
        "import matplotlib.pyplot as plt\n",
        "\n",
        "import graphdot\n",
        "from graphdot import Graph\n",
        "from graphdot.graph.adjacency import AtomicAdjacency\n",
        "from graphdot.graph.reorder import rcm\n",
        "from graphdot.kernel.marginalized import MarginalizedGraphKernel # https://graphdot.readthedocs.io/en/latest/apidoc/graphdot.kernel.marginalized.html\n",
        "from graphdot.kernel.marginalized.starting_probability import Uniform\n",
        "from graphdot.model.gaussian_process import (\n",
        "    GaussianProcessRegressor,\n",
        "    LowRankApproximateGPR\n",
        ")\n",
        "from graphdot.kernel.fix import Normalization\n",
        "import graphdot.microkernel as uX\n",
        "import ase.io\n",
        "\n",
        "# for getting all file names into a list under a directory \n",
        "from os import listdir\n",
        "# for getting file names that match certain pattern\n",
        "import glob\n",
        "import time"
      ],
      "execution_count": 3,
      "outputs": [
        {
          "output_type": "error",
          "ename": "ModuleNotFoundError",
          "evalue": "ignored",
          "traceback": [
            "\u001b[0;31m---------------------------------------------------------------------------\u001b[0m",
            "\u001b[0;31mModuleNotFoundError\u001b[0m                       Traceback (most recent call last)",
            "\u001b[0;32m<ipython-input-3-42dfc84e1fc8>\u001b[0m in \u001b[0;36m<module>\u001b[0;34m()\u001b[0m\n\u001b[1;32m      9\u001b[0m \u001b[0;32mimport\u001b[0m \u001b[0mmatplotlib\u001b[0m\u001b[0;34m.\u001b[0m\u001b[0mpyplot\u001b[0m \u001b[0;32mas\u001b[0m \u001b[0mplt\u001b[0m\u001b[0;34m\u001b[0m\u001b[0;34m\u001b[0m\u001b[0m\n\u001b[1;32m     10\u001b[0m \u001b[0;34m\u001b[0m\u001b[0m\n\u001b[0;32m---> 11\u001b[0;31m \u001b[0;32mimport\u001b[0m \u001b[0mgraphdot\u001b[0m\u001b[0;34m\u001b[0m\u001b[0;34m\u001b[0m\u001b[0m\n\u001b[0m\u001b[1;32m     12\u001b[0m \u001b[0;32mfrom\u001b[0m \u001b[0mgraphdot\u001b[0m \u001b[0;32mimport\u001b[0m \u001b[0mGraph\u001b[0m\u001b[0;34m\u001b[0m\u001b[0;34m\u001b[0m\u001b[0m\n\u001b[1;32m     13\u001b[0m \u001b[0;32mfrom\u001b[0m \u001b[0mgraphdot\u001b[0m\u001b[0;34m.\u001b[0m\u001b[0mgraph\u001b[0m\u001b[0;34m.\u001b[0m\u001b[0madjacency\u001b[0m \u001b[0;32mimport\u001b[0m \u001b[0mAtomicAdjacency\u001b[0m\u001b[0;34m\u001b[0m\u001b[0;34m\u001b[0m\u001b[0m\n",
            "\u001b[0;31mModuleNotFoundError\u001b[0m: No module named 'graphdot'",
            "",
            "\u001b[0;31m---------------------------------------------------------------------------\u001b[0;32m\nNOTE: If your import is failing due to a missing package, you can\nmanually install dependencies using either !pip or !apt.\n\nTo view examples of installing some common dependencies, click the\n\"Open Examples\" button below.\n\u001b[0;31m---------------------------------------------------------------------------\u001b[0m\n"
          ]
        }
      ]
    },
    {
      "cell_type": "code",
      "metadata": {
        "id": "s2g2ITn-Oe1B"
      },
      "source": [
        "from google.colab import drive\n",
        "drive.mount('/content/gdrive', force_remount=True)"
      ],
      "execution_count": null,
      "outputs": []
    },
    {
      "cell_type": "code",
      "metadata": {
        "colab": {
          "base_uri": "https://localhost:8080/"
        },
        "id": "1iaCg3YeL-IK",
        "outputId": "7763f23a-92a5-4874-ce7d-66d345f18f14"
      },
      "source": [
        "#cd gdrive/MyDrive/Google\\ Colab/Covid-Data\n",
        "%cd gdrive/MyDrive/Covid-Data/"
      ],
      "execution_count": 5,
      "outputs": [
        {
          "output_type": "stream",
          "text": [
            "/content/gdrive/.shortcut-targets-by-id/1wtzMcocuK8kPsz8K0ktjCZPkv567W6M2/Covid-Data\n"
          ],
          "name": "stdout"
        }
      ]
    },
    {
      "cell_type": "code",
      "metadata": {
        "colab": {
          "base_uri": "https://localhost:8080/"
        },
        "id": "oBmiYwVH4KUZ",
        "outputId": "6ce2de2d-e603-4214-d365-c614034f9415"
      },
      "source": [
        "!pwd"
      ],
      "execution_count": 6,
      "outputs": [
        {
          "output_type": "stream",
          "text": [
            "/content/gdrive/.shortcut-targets-by-id/1wtzMcocuK8kPsz8K0ktjCZPkv567W6M2/Covid-Data\n"
          ],
          "name": "stdout"
        }
      ]
    },
    {
      "cell_type": "code",
      "metadata": {
        "id": "NLuvM1Nev4EQ"
      },
      "source": [
        "!mkdir /content/pkls"
      ],
      "execution_count": 7,
      "outputs": []
    },
    {
      "cell_type": "markdown",
      "metadata": {
        "id": "OzoEhNuUhDs7"
      },
      "source": [
        "## load the data"
      ]
    },
    {
      "cell_type": "code",
      "metadata": {
        "id": "IlTP3xrwP74N"
      },
      "source": [
        "files  = ['uncharged_NSP15_6W01_A_3_H.Orderable_zinc_db_enaHLL.2col.csv.1.xz']\n",
        "dataset = pd.read_pickle(files[0]) # length of each csv file is 100000"
      ],
      "execution_count": 8,
      "outputs": []
    },
    {
      "cell_type": "code",
      "metadata": {
        "id": "KjoyJHMnRjE1"
      },
      "source": [
        "target = 'energy'\n",
        "batch_size = 1000\n",
        "batch_num_train = 0.8*len(dataset)//batch_size # batch number of training\n",
        "num_test = 0.2*len(dataset)\n",
        "train_data = dataset.iloc[:int(batch_num_train)*batch_size]\n",
        "test_data = dataset.iloc[int(batch_num_train)*batch_size:len(dataset)]\n",
        "#print(len(train_data))\n",
        "#print(len(test_data))"
      ],
      "execution_count": 9,
      "outputs": []
    },
    {
      "cell_type": "code",
      "metadata": {
        "id": "AugZ3tWeUYTA"
      },
      "source": [
        "gpr = GaussianProcessRegressor(\n",
        "    # kernel is the covariance function of the gaussian process (GP)\n",
        "    kernel=Normalization( # kernel equals to normalization -> normalizes a kernel using the cosine of angle formula, k_normalized(x,y) = k(x,y)/sqrt(k(x,x)*k(y,y))\n",
        "        # graphdot.kernel.fix.Normalization(kernel), set kernel as marginalized graph kernel, which is used to calculate the similarity between 2 graphs\n",
        "        # implement the random walk-based graph similarity kernel as Kashima, H., Tsuda, K., & Inokuchi, A. (2003). Marginalized kernels between labeled graphs. ICML\n",
        "        MarginalizedGraphKernel( \n",
        "            # node_kernel - A kernelet that computes the similarity between individual nodes\n",
        "            # uX - graphdot.microkernel - microkernels are positive-semidefinite functions between individual nodes and edges of graphs\n",
        "            node_kernel=uX.Additive( # addition of kernal matrices: sum of k_a(X_a, Y_a) cross for a in features\n",
        "                # uX.Constant - a kernel that returns a constant value, always mutlipled with other microkernels as an adjustable weight\n",
        "                #   c, the first input arg. as 0.5, (0.01, 10) the lower and upper bounds of c that is allowed to vary during hyperpara. optimizartion\n",
        "                # uX.KroneckerDelta - a kronecker delta returns 1 when two features are equal and return h (the first input arg here, which is 0.5 in this case) otherwise\n",
        "                #   (0.1, 0.9) the lower and upper bounds that h is allowed to vary during hyperpara. optimization\n",
        "                aromatic=uX.Constant(0.5, (0.01, 10.0)) * uX.KroneckerDelta(0.5,(0.1, 0.9)), # the 2nd element of graphdot.graph.Graph.nodes\n",
        "                atomic_number=uX.Constant(0.5, (0.01, 10.0)) * uX.KroneckerDelta(0.8,(0.1, 0.9)), # the 3rd element of graphdot.graph.Graph.nodes\n",
        "                # uX.SquareExponential - Equ. 26 in the paper\n",
        "                # input arg. length_sacle is a float32, set as 1 in this case, which correspond to approx. 1 of the kernal value. \n",
        "                # This is used to determins how quicklys should the kernel decay to zero.\n",
        "                charge=uX.Constant(0.5, (0.01, 10.0)) * uX.SquareExponential(1.0), # the 4th element of graphdot.graph.Graph.nodes\n",
        "                chiral=uX.Constant(0.5, (0.01, 10.0)) * uX.KroneckerDelta(0.5,(0.1, 0.9)), # the 5th element of graphdot.graph.Graph.nodes\n",
        "                hcount=uX.Constant(0.5, (0.01, 10.0)) * uX.SquareExponential(1.0), # the 6th element of graphdot.graph.Graph.nodes\n",
        "                hybridization=uX.Constant(0.5, (0.01, 10.0)) * uX.KroneckerDelta(0.5,(0.1, 0.9)), # the 7th element of graphdot.graph.Graph.nodes\n",
        "                # uX.Convolution - a convolutional microkernel which averages evaluations of a base microkernel between pairs pf elememts of two variable-length feature sequences\n",
        "                # uX.KroneckerDelta as the base kernel\n",
        "                ring_list=uX.Constant(0.5, (0.01, 100.0)) * uX.Convolution(uX.KroneckerDelta(0.5,(0.1, 0.9))) # the 8th element of graphdot.graph.Graph.nodes\n",
        "            ).normalized,\n",
        "            # edge_kernel - A kernelet that computes the similarity between individual edge\n",
        "            edge_kernel=uX.Additive(\n",
        "                aromatic=uX.Constant(0.5, (0.01, 10.0)) * uX.KroneckerDelta(0.5,(0.1, 0.9)), # the 3rd element of graphdot.graph.Graph.nodes\n",
        "                conjugated=uX.Constant(0.5, (0.01, 10.0)) * uX.KroneckerDelta(0.5,(0.1, 0.9)), # the 4th element of graphdot.graph.Graph.nodes\n",
        "                order=uX.Constant(0.5, (0.01, 10.0)) * uX.KroneckerDelta(0.8,(0.1, 0.9)), # the 5th element of graphdot.graph.Graph.nodes\n",
        "                ring_stereo=uX.Constant(0.5, (0.01, 10.0)) * uX.KroneckerDelta(0.8,(0.1, 0.9)), # the 6th element of graphdot.graph.Graph.nodes\n",
        "                stereo=uX.Constant(0.5, (0.01, 10.0)) * uX.KroneckerDelta(0.8,(0.1, 0.9)) # the 7th element of graphdot.graph.Graph.nodes\n",
        "            ).normalized,\n",
        "            p=Uniform(1.0, p_bounds='fixed'), # the strating probability of the random walk on each node\n",
        "            q=0.05 # the probability for the random walk to stop during each step\n",
        "        )\n",
        "    ),\n",
        "    alpha=1e-4, # value added to the diagonal of the kernel matrix during fitting\n",
        "    optimizer=True, # default optimizer of L-BFGS-B based on scipy.optimize.minimize\n",
        "    normalize_y=True, # normalize the y values so taht the means and variance is 0 and 1, repsectively. Will be reversed when predicions are returned\n",
        "    regularization='+', # alpha (1e-4 in this case) is added to the diagonals of the kernal matrix\n",
        ")"
      ],
      "execution_count": 10,
      "outputs": []
    },
    {
      "cell_type": "code",
      "metadata": {
        "id": "8vxAbnb0rg8L"
      },
      "source": [
        "def train_pipeline_batch(model, train_dataset, test_dataset, target, repeats, batch_num_train, batch_size, verbose = True, print_batch = True, print_repeat = True):\n",
        "  start_time = time.time()\n",
        "  for repeat in range(0, repeats):\n",
        "    for batch in range(0, int(batch_num_train)-1):\n",
        "      batch_dataset = dataset.iloc[batch*batch_size:(batch+1)*batch_size] # divide the training data into different batches\n",
        "      np.random.seed(0)\n",
        "      if batch == 0 and repeat == 0:\n",
        "        model.fit(batch_dataset.graphs, batch_dataset[target], repeat=1, verbose=verbose)\n",
        "        model.save(path=\"/content/pkls\", filename='batch_0_repeat_0.pkl', overwrite=True)\n",
        "      elif batch == 0 and repeat !=0:\n",
        "        filename_load = 'batch_0_repeat_'+str(repeat-1)+'.pkl'\n",
        "        filename_save = 'batch_0_repeat_'+str(repeat)+'.pkl'\n",
        "        model.load(path=\"/content/pkls\", filename=filename_load)\n",
        "        model.fit(batch_dataset.graphs, batch_dataset[target], repeat=1, verbose=verbose)\n",
        "        model.save(path=\"/content/pkls\", filename=filename_save, overwrite=True)\n",
        "      else:\n",
        "        filename_load = 'batch_'+str(batch-1)+'_repeat_'+str(repeat)+'.pkl'\n",
        "        filename_save = 'batch_'+str(batch)+'_repeat_'+str(repeat)+'.pkl'\n",
        "        model.load(path=\"/content/pkls\", filename=filename_load)\n",
        "        model.fit(batch_dataset.graphs, batch_dataset[target], repeat=1, verbose=verbose)\n",
        "        model.save(path=\"/content/pkls\", filename=filename_save, overwrite=True)\n",
        "      \n",
        "      if print_batch:\n",
        "        mu = gpr.predict(train_dataset.graphs)\n",
        "        print('Training set of repeat '+str(repeat)+' and batch '+str(batch))\n",
        "        print('MAE '+str(repeat)+' and batch '+str(batch)+' '+str(np.mean(np.abs(train_dataset[target] - mu))))\n",
        "        print('MAE '+str(repeat)+' and batch '+str(batch)+' '+str(np.std(train_dataset[target] - mu)))\n",
        "\n",
        "    if print_repeat:\n",
        "      mu = gpr.predict(train_dataset.graphs)\n",
        "      print('Training set of repeat '+str(repeat))\n",
        "      print('MAE '+str(repeat)+' '+str(np.mean(np.abs(train_dataset[target] - mu))))\n",
        "      print('RMSE '+str(repeat)+' '+str(np.std(train_dataset[target] - mu)))\n",
        "\n",
        "      mu = gpr.predict(test_dataset.graphs)\n",
        "      print('Test set of repeat '+str(repeat))\n",
        "      print('MAE '+str(repeat)+' '+str(np.mean(np.abs(test_dataset[target] - mu))))\n",
        "      print('RMSE '+str(repeat)+' '+str(np.std(test_dataset[target] - mu)))\n",
        "    \n",
        "  \n",
        "  end_time = time.time()\n",
        "  print(\"the total time consumption is \" + str(end_time - start_time) + \".\")"
      ],
      "execution_count": 11,
      "outputs": []
    },
    {
      "cell_type": "code",
      "metadata": {
        "id": "0JIdwDYYUbE4",
        "colab": {
          "base_uri": "https://localhost:8080/"
        },
        "outputId": "40793c82-6649-4c06-cc4c-cd4d46a26a9a"
      },
      "source": [
        "train_pipeline_batch(gpr, train_data, test_data, target, repeats=2, batch_num_train=batch_num_train, batch_size=batch_size, print_batch = False, print_repeat = True)"
      ],
      "execution_count": null,
      "outputs": [
        {
          "output_type": "stream",
          "text": [
            "|        logP|       dlogP|     y^T.K.y|     log|K| |     Cond(K)|  GPU time|  CPU time|\n",
            "|------------|------------|------------|------------|------------|----------|----------|\n",
            "|  2.7019e+06|  2.2685e+07|  2.7092e+06|       -7280|  8.8043e+06|        24|      0.25|\n",
            "|  1.8512e+06|  1.8823e+07|  1.8579e+06|     -6735.2|  8.2346e+06|        19|      0.27|\n",
            "|  1.2939e+06|  1.4683e+07|  1.3001e+06|     -6265.2|  7.4903e+06|        19|      0.24|\n",
            "|   1.021e+06|  1.1806e+07|   1.027e+06|     -5976.5|  6.9101e+06|        18|      0.24|\n",
            "|  8.4287e+05|  9.4751e+06|  8.4862e+05|     -5749.5|  6.3466e+06|        18|      0.23|\n",
            "|  7.2809e+05|  7.8466e+06|  7.3366e+05|     -5576.7|  5.8859e+06|        17|      0.25|\n",
            "|  6.6283e+05|  6.9824e+06|   6.683e+05|     -5466.4|  5.6067e+06|        17|      0.24|\n",
            "|   6.453e+05|  6.6156e+06|  6.5075e+05|     -5449.8|  5.3891e+06|        16|      0.26|\n",
            "|  6.2547e+05|  6.4794e+06|  6.3087e+05|     -5403.8|  5.3829e+06|        17|      0.24|\n",
            "|  6.2055e+05|  6.4456e+06|  6.2594e+05|     -5391.4|   5.384e+06|        17|      0.24|\n",
            "|  6.1894e+05|  6.4304e+06|  6.2433e+05|     -5388.3|  5.3926e+06|        17|      0.25|\n",
            "|   6.178e+05|  6.4214e+06|  6.2318e+05|     -5386.2|  5.3914e+06|        17|      0.24|\n",
            "|  6.1814e+05|  6.3747e+06|  6.2354e+05|     -5397.9|  5.3791e+06|        17|      0.25|\n",
            "|  6.1618e+05|  6.3821e+06|  6.2157e+05|     -5388.5|  5.3778e+06|        17|      0.25|\n",
            "|  6.1335e+05|  6.3652e+06|  6.1873e+05|     -5381.7|  5.3525e+06|        17|      0.26|\n",
            "|  6.1233e+05|  6.3563e+06|  6.1771e+05|     -5379.5|  5.3384e+06|        17|      0.25|\n",
            "|  6.1205e+05|  6.3576e+06|  6.1743e+05|     -5378.5|  5.3368e+06|        17|      0.26|\n",
            "|  6.1146e+05|  6.3598e+06|  6.1684e+05|       -5377|  5.3372e+06|        17|      0.24|\n",
            "|  6.1112e+05|  6.3567e+06|  6.1649e+05|     -5377.5|  5.3386e+06|        17|      0.26|\n",
            "|  6.1095e+05|  6.3619e+06|  6.1633e+05|     -5379.9|  5.3312e+06|        17|      0.25|\n",
            "|  6.1097e+05|  6.3587e+06|  6.1635e+05|     -5379.1|  5.3324e+06|        17|      0.24|\n",
            "|  6.1098e+05|  6.3615e+06|  6.1636e+05|     -5379.6|   5.331e+06|        17|      0.25|\n",
            "|  6.1095e+05|  6.3619e+06|  6.1633e+05|     -5379.8|  5.3323e+06|        17|      0.27|\n",
            "|  6.1109e+05|   6.364e+06|  6.1647e+05|     -5379.7|  5.3318e+06|        17|      0.25|\n",
            "|  6.1094e+05|  6.3613e+06|  6.1632e+05|     -5379.8|  5.3306e+06|        17|      0.25|\n",
            "|  6.1084e+05|  6.3595e+06|  6.1622e+05|     -5379.8|  5.3289e+06|        17|      0.26|\n",
            "|  6.1099e+05|  6.3624e+06|  6.1637e+05|     -5379.8|  5.3313e+06|        17|      0.25|\n",
            "|  6.1114e+05|   6.366e+06|  6.1652e+05|     -5379.8|  5.3311e+06|        17|      0.24|\n",
            "|  6.1091e+05|  6.3612e+06|  6.1629e+05|     -5379.8|  5.3308e+06|        17|      0.25|\n",
            "|  6.1081e+05|  6.3455e+06|  6.1619e+05|     -5378.9|  5.3347e+06|        17|      0.26|\n",
            "|  6.1077e+05|  6.3501e+06|  6.1615e+05|     -5378.8|  5.3316e+06|        17|      0.25|\n",
            "|  6.1084e+05|  6.3545e+06|  6.1622e+05|     -5378.8|  5.3302e+06|        17|      0.27|\n",
            "|  6.1078e+05|  6.3509e+06|  6.1616e+05|     -5378.8|   5.336e+06|        17|      0.25|\n",
            "|  6.1085e+05|  6.3511e+06|  6.1622e+05|     -5378.8|  5.3315e+06|        17|      0.24|\n",
            "|  6.1093e+05|  6.3539e+06|  6.1631e+05|     -5378.8|  5.3313e+06|        17|      0.25|\n",
            "|  6.1077e+05|  6.3502e+06|  6.1614e+05|     -5378.8|  5.3306e+06|        17|      0.26|\n",
            "|  6.1078e+05|  6.3505e+06|  6.1616e+05|     -5378.8|   5.332e+06|        17|      0.25|\n",
            "|  6.1086e+05|  6.3518e+06|  6.1624e+05|     -5378.8|  5.3318e+06|        17|      0.25|\n",
            "Optimization result:\n",
            "      fun: 610859.9288216699\n",
            " hess_inv: <25x25 LbfgsInvHessProduct with dtype=float64>\n",
            "      jac: array([ 6.34797657e+02,  1.24118936e+02,  2.81935737e+01, -3.04708834e+01,\n",
            "        1.44803317e+04,  2.72483890e+02,  0.00000000e+00,  1.70986591e+01,\n",
            "        3.73893389e+01, -3.08340510e+02,  6.74914910e-19,  9.64312176e+01,\n",
            "        3.50275984e+01, -1.88838360e+02,  1.59526427e+04,  1.86513089e+02,\n",
            "        2.60343189e+03,  2.09813558e+02,  2.99666451e+03, -4.67071932e+02,\n",
            "        1.27795063e+02,  1.00516230e+02,  0.00000000e+00, -3.03309420e+01,\n",
            "        3.52006775e+02])\n",
            "  message: b'CONVERGENCE: REL_REDUCTION_OF_F_<=_FACTR*EPSMCH'\n",
            "     nfev: 38\n",
            "      nit: 22\n",
            "   status: 0\n",
            "  success: True\n",
            "        x: array([-9.21034037, -4.60517019, -1.83482135,  1.56469333, -2.30258509,\n",
            "       -4.60517019,  0.        , -4.34462918, -2.30258509,  2.30258509,\n",
            "       -2.38498025, -4.60517019, -1.79605729,  1.66070648, -2.30258509,\n",
            "        0.85422024, -2.30258509,  0.995156  , -2.30258509, -2.68851944,\n",
            "       -2.30258509, -4.60517019, -0.22314355, -1.16410687, -2.30258509])\n",
            "|        logP|       dlogP|     y^T.K.y|     log|K| |     Cond(K)|  GPU time|  CPU time|\n",
            "|------------|------------|------------|------------|------------|----------|----------|\n",
            "|  5.9481e+05|  6.2118e+06|  6.0024e+05|     -5429.6|  5.7437e+06|        18|      0.24|\n",
            "|  6.0133e+05|  6.1615e+06|  6.0679e+05|     -5458.5|  5.8272e+06|        17|      0.25|\n",
            "|   5.944e+05|  6.1849e+06|  5.9983e+05|     -5431.9|  5.7542e+06|        17|      0.28|\n",
            "|  5.9439e+05|  6.1855e+06|  5.9982e+05|     -5431.7|  5.7515e+06|        17|      0.25|\n",
            "|  5.9431e+05|  6.1854e+06|  5.9974e+05|     -5430.8|  5.7528e+06|        17|      0.25|\n",
            "|  5.9384e+05|  6.1725e+06|  5.9927e+05|       -5430|  5.7482e+06|        17|      0.24|\n",
            "|   5.938e+05|  6.1683e+06|  5.9923e+05|     -5429.8|  5.7531e+06|        17|      0.26|\n",
            "|   5.937e+05|  6.1624e+06|  5.9913e+05|     -5429.9|  5.7516e+06|        17|      0.25|\n",
            "|   5.937e+05|  6.1583e+06|  5.9913e+05|       -5430|   5.752e+06|        17|      0.24|\n",
            "|  5.9345e+05|  6.1559e+06|  5.9888e+05|     -5429.9|  5.7505e+06|        17|      0.24|\n",
            "|  5.9359e+05|    6.15e+06|  5.9902e+05|       -5430|  5.7568e+06|        17|      0.24|\n",
            "|  5.9367e+05|  6.1598e+06|   5.991e+05|     -5429.9|  5.7535e+06|        17|      0.24|\n",
            "|  5.9365e+05|  6.1605e+06|  5.9908e+05|     -5429.9|  5.7486e+06|        17|      0.24|\n",
            "|   5.935e+05|  6.1566e+06|  5.9893e+05|     -5429.9|  5.7468e+06|        17|      0.25|\n",
            "|   5.936e+05|  6.1592e+06|  5.9903e+05|     -5429.9|  5.7476e+06|        17|      0.25|\n",
            "|  5.9361e+05|  6.1594e+06|  5.9904e+05|     -5429.9|   5.754e+06|        17|      0.24|\n",
            "|  5.9352e+05|  6.1573e+06|  5.9895e+05|     -5429.9|  5.7496e+06|        17|      0.25|\n",
            "Optimization result:\n",
            "      fun: 593521.9933959157\n",
            " hess_inv: <25x25 LbfgsInvHessProduct with dtype=float64>\n",
            "      jac: array([ 6.15385325e+02,  1.01738091e+02,  2.82061742e+01, -1.82698311e+02,\n",
            "        1.40009664e+04,  2.61063767e+02,  0.00000000e+00,  9.53384764e+01,\n",
            "        2.31015442e+01, -1.30701897e+02,  6.56896566e-19, -5.34736159e+01,\n",
            "        8.94133316e+01, -1.06596521e+02,  1.42422016e+04,  3.80569253e+02,\n",
            "        2.36758463e+03, -3.88042888e+01,  2.54268625e+03, -3.44421752e+02,\n",
            "        1.49739713e+02,  7.35780675e+01,  0.00000000e+00, -6.95844521e+01,\n",
            "        8.65877797e+01])\n",
            "  message: b'CONVERGENCE: REL_REDUCTION_OF_F_<=_FACTR*EPSMCH'\n",
            "     nfev: 17\n",
            "      nit: 8\n",
            "   status: 0\n",
            "  success: True\n",
            "        x: array([-9.21034037, -4.60517019, -1.89424069,  1.5728804 , -2.30258509,\n",
            "       -4.60517019,  0.        , -4.45529998, -2.30258509,  2.30258509,\n",
            "       -2.38498025, -4.05997156, -1.8923729 ,  1.59072464, -2.30258509,\n",
            "        1.08135167, -2.30258509,  1.13352734, -2.30258509, -1.99203168,\n",
            "       -2.30258509, -4.60517019, -0.22314355, -2.33867933, -2.30258509])\n",
            "|        logP|       dlogP|     y^T.K.y|     log|K| |     Cond(K)|  GPU time|  CPU time|\n",
            "|------------|------------|------------|------------|------------|----------|----------|\n",
            "|  6.7918e+05|  6.7795e+06|  6.8463e+05|     -5443.6|  5.6734e+06|        19|      0.25|\n",
            "|  6.8865e+05|  7.0808e+06|   6.941e+05|     -5452.2|  5.6674e+06|        18|      0.27|\n",
            "|  6.7806e+05|   6.816e+06|   6.835e+05|       -5439|  5.6573e+06|        18|      0.25|\n",
            "|  6.7756e+05|  6.8056e+06|    6.83e+05|     -5439.1|  5.6628e+06|        18|      0.24|\n",
            "|  6.7769e+05|  6.8098e+06|  6.8312e+05|     -5439.1|  5.6645e+06|        18|      0.23|\n",
            "|  6.7751e+05|  6.8055e+06|  6.8295e+05|     -5439.1|  5.6599e+06|        18|      0.25|\n",
            "|  6.7756e+05|  6.8066e+06|    6.83e+05|     -5439.1|  5.6626e+06|        18|      0.25|\n",
            "|   6.775e+05|  6.8048e+06|  6.8294e+05|     -5439.1|    5.66e+06|        18|      0.26|\n",
            "|  6.7761e+05|  6.8072e+06|  6.8305e+05|     -5439.1|  5.6612e+06|        18|      0.24|\n",
            "|  6.7753e+05|  6.8053e+06|  6.8297e+05|     -5439.1|  5.6621e+06|        18|      0.26|\n",
            "|  6.7773e+05|    6.81e+06|  6.8317e+05|     -5439.1|  5.6581e+06|        18|      0.24|\n",
            "|  6.7767e+05|  6.8085e+06|  6.8311e+05|     -5439.1|   5.661e+06|        18|      0.24|\n",
            "|  6.7769e+05|  6.8095e+06|  6.8313e+05|     -5439.1|  5.6576e+06|        18|      0.23|\n",
            "|  6.7766e+05|  6.8076e+06|   6.831e+05|     -5439.1|  5.6636e+06|        18|      0.24|\n",
            "|  6.7761e+05|  6.8066e+06|  6.8305e+05|     -5439.1|  5.6631e+06|        18|      0.24|\n",
            "|  6.7769e+05|  6.8089e+06|  6.8313e+05|     -5439.1|  5.6632e+06|        18|      0.25|\n",
            "Optimization result:\n",
            "      fun: 677692.6401785224\n",
            " hess_inv: <25x25 LbfgsInvHessProduct with dtype=float64>\n",
            "      jac: array([ 6.80512584e+02,  1.28840642e+02,  2.96629868e+01, -7.29874759e+02,\n",
            "        1.36275207e+04,  2.98268612e+02,  0.00000000e+00, -1.77306432e+02,\n",
            "        6.43238550e+01, -1.79567708e+02,  6.78413983e-19,  5.27798047e+01,\n",
            "        7.98979646e+01,  6.02840236e+02,  1.72504386e+04,  4.53894124e+02,\n",
            "        2.48814034e+03, -1.14971440e+03,  3.28390348e+03,  5.53570210e+01,\n",
            "        1.40288671e+02,  8.81082261e+01,  0.00000000e+00,  5.53603835e+02,\n",
            "        2.79202758e+01])\n",
            "  message: b'CONVERGENCE: REL_REDUCTION_OF_F_<=_FACTR*EPSMCH'\n",
            "     nfev: 16\n",
            "      nit: 4\n",
            "   status: 0\n",
            "  success: True\n",
            "        x: array([-9.21034037, -4.60517019, -1.9033415 ,  1.40832592, -2.30258509,\n",
            "       -4.60517019,  0.        , -4.30759609, -2.30258509,  2.1892741 ,\n",
            "       -2.38498025, -4.07223178, -1.90198197,  1.65353414, -2.30258509,\n",
            "        0.95306768, -2.30258509,  1.17073124, -2.30258509, -1.89984995,\n",
            "       -2.30258509, -4.60517019, -0.22314355, -2.39282005, -2.30258509])\n",
            "|        logP|       dlogP|     y^T.K.y|     log|K| |     Cond(K)|  GPU time|  CPU time|\n",
            "|------------|------------|------------|------------|------------|----------|----------|\n",
            "|  5.8564e+05|   6.384e+06|  5.9109e+05|     -5447.9|  5.8972e+06|        19|      0.25|\n",
            "|  5.9558e+05|  6.7613e+06|  6.0105e+05|     -5478.2|  5.9725e+06|        18|      0.26|\n",
            "|  5.8358e+05|  6.4363e+06|  5.8903e+05|     -5448.4|  5.9087e+06|        17|      0.24|\n",
            "|  5.8333e+05|  6.4272e+06|  5.8878e+05|     -5448.5|  5.9124e+06|        18|      0.25|\n",
            "|  5.8349e+05|  6.4306e+06|  5.8894e+05|     -5448.6|  5.9182e+06|        18|      0.24|\n",
            "|   5.834e+05|  6.4289e+06|  5.8885e+05|     -5448.5|  5.9177e+06|        18|      0.24|\n",
            "|  5.8332e+05|  6.4267e+06|  5.8877e+05|     -5448.5|  5.9153e+06|        18|      0.24|\n",
            "|  5.8345e+05|  6.4296e+06|  5.8889e+05|     -5448.5|  5.9147e+06|        18|      0.26|\n",
            "|  5.8339e+05|  6.4282e+06|  5.8884e+05|     -5448.5|  5.9176e+06|        17|      0.24|\n",
            "|   5.835e+05|  6.4307e+06|  5.8895e+05|     -5448.5|  5.9164e+06|        17|      0.24|\n",
            "Optimization result:\n",
            "      fun: 583498.1821292299\n",
            " hess_inv: <25x25 LbfgsInvHessProduct with dtype=float64>\n",
            "      jac: array([ 6.42636679e+02,  1.49586433e+02,  2.61368055e+01, -7.23074350e+02,\n",
            "        1.43314276e+04,  3.00500436e+02,  0.00000000e+00, -2.05942373e+02,\n",
            "        7.55571246e+01, -7.56525792e+02,  5.58467338e-19,  1.68639173e+02,\n",
            "        5.83197677e+01,  1.03984575e+03,  1.81859964e+04,  5.85507772e+02,\n",
            "        1.73017504e+03, -4.20613902e+02,  2.69164210e+03,  2.03198468e+02,\n",
            "        8.87212800e+01,  7.15099972e+01,  0.00000000e+00, -4.38153824e+02,\n",
            "        1.30113827e+02])\n",
            "  message: b'CONVERGENCE: REL_REDUCTION_OF_F_<=_FACTR*EPSMCH'\n",
            "     nfev: 10\n",
            "      nit: 3\n",
            "   status: 0\n",
            "  success: True\n",
            "        x: array([-9.21034037, -4.60517019, -1.91300979,  1.451537  , -2.30258509,\n",
            "       -4.60517019,  0.        , -4.14911734, -2.30258509,  2.03112438,\n",
            "       -2.38498025, -4.0860788 , -1.91191534,  1.70143255, -2.30258509,\n",
            "        0.81516434, -2.30258509,  1.20228816, -2.30258509, -1.96563782,\n",
            "       -2.30258509, -4.60517019, -0.22314355, -2.27803721, -2.30258509])\n",
            "|        logP|       dlogP|     y^T.K.y|     log|K| |     Cond(K)|  GPU time|  CPU time|\n",
            "|------------|------------|------------|------------|------------|----------|----------|\n",
            "|  5.6983e+05|  6.1842e+06|   5.752e+05|     -5376.5|  5.3707e+06|        19|      0.24|\n",
            "|  5.7184e+05|  6.0505e+06|  5.7724e+05|     -5396.4|  5.4669e+06|        17|      0.24|\n",
            "|  5.6769e+05|  6.0911e+06|  5.7307e+05|       -5379|  5.4036e+06|        17|      0.23|\n",
            "|  5.6717e+05|  6.0754e+06|  5.7255e+05|     -5378.1|  5.3927e+06|        17|      0.24|\n",
            "|   5.672e+05|  6.0787e+06|  5.7258e+05|     -5378.2|  5.3932e+06|        17|      0.23|\n",
            "|  5.6724e+05|  6.0771e+06|  5.7261e+05|     -5378.1|   5.396e+06|        17|      0.24|\n",
            "|  5.6712e+05|  6.0745e+06|   5.725e+05|     -5378.1|  5.3921e+06|        17|      0.25|\n",
            "|  5.6718e+05|  6.0754e+06|  5.7256e+05|     -5378.1|  5.3904e+06|        17|      0.24|\n",
            "|  5.6719e+05|  6.0766e+06|  5.7257e+05|     -5378.1|  5.3949e+06|        17|      0.25|\n",
            "|  5.6715e+05|  6.0753e+06|  5.7253e+05|     -5378.1|  5.3903e+06|        17|      0.23|\n",
            "|  5.6725e+05|    6.08e+06|  5.7262e+05|     -5378.2|  5.3918e+06|        17|      0.23|\n",
            "|  5.6717e+05|  6.0761e+06|  5.7255e+05|     -5378.1|  5.3925e+06|        17|      0.25|\n",
            "|  5.6715e+05|  6.0754e+06|  5.7253e+05|     -5378.1|  5.3897e+06|        17|      0.24|\n",
            "|  5.6708e+05|  6.0739e+06|  5.7245e+05|     -5378.1|  5.3918e+06|        17|      0.24|\n",
            "|  5.6736e+05|  6.0803e+06|  5.7274e+05|     -5378.1|  5.3887e+06|        17|      0.25|\n",
            "|  5.6724e+05|  6.0783e+06|  5.7261e+05|     -5378.1|  5.3911e+06|        17|      0.24|\n",
            "|  5.6717e+05|  6.0757e+06|  5.7254e+05|     -5378.1|  5.3936e+06|        17|      0.24|\n",
            "Optimization result:\n",
            "      fun: 567166.579508662\n",
            " hess_inv: <25x25 LbfgsInvHessProduct with dtype=float64>\n",
            "      jac: array([ 6.07208753e+02,  1.16400806e+02,  2.94031809e+01, -1.72776793e+03,\n",
            "        1.35443977e+04,  2.88635663e+02,  0.00000000e+00, -1.08433778e+03,\n",
            "        1.83096192e+02,  2.13385801e+03,  6.02314568e-19,  1.24870900e+02,\n",
            "        6.00556807e+01,  1.45101987e+02,  1.41791665e+04,  1.50959272e+03,\n",
            "        2.28162930e+03, -1.61859228e+03,  3.18130856e+03, -3.51209513e+02,\n",
            "        2.08717946e+02,  9.51302212e+01,  0.00000000e+00,  3.65194505e+02,\n",
            "        5.97260799e+01])\n",
            "  message: b'CONVERGENCE: REL_REDUCTION_OF_F_<=_FACTR*EPSMCH'\n",
            "     nfev: 17\n",
            "      nit: 4\n",
            "   status: 0\n",
            "  success: True\n",
            "        x: array([-9.21034037, -4.60517019, -1.92550128,  1.42696149, -2.30258509,\n",
            "       -4.60517019,  0.        , -3.93589447, -2.30258509,  2.10117436,\n",
            "       -2.38498025, -4.10359282, -1.9247698 ,  1.4879669 , -2.30258509,\n",
            "        0.84022785, -2.30258509,  1.04438252, -2.30258509, -1.82947763,\n",
            "       -2.30258509, -4.60517019, -0.22314355, -2.35477534, -2.30258509])\n",
            "|        logP|       dlogP|     y^T.K.y|     log|K| |     Cond(K)|  GPU time|  CPU time|\n",
            "|------------|------------|------------|------------|------------|----------|----------|\n",
            "|  6.0983e+05|  6.5503e+06|  6.1526e+05|       -5422|  5.6888e+06|        19|      0.23|\n",
            "|  6.2633e+05|  7.0232e+06|  6.3178e+05|     -5450.2|  5.7844e+06|        18|      0.24|\n",
            "|  6.0916e+05|  6.5794e+06|  6.1458e+05|       -5421|  5.6922e+06|        17|      0.23|\n",
            "|  6.0896e+05|   6.576e+06|  6.1438e+05|     -5420.9|  5.6982e+06|        17|      0.25|\n",
            "|  6.0878e+05|  6.5684e+06|   6.142e+05|     -5422.1|  5.7015e+06|        17|      0.24|\n",
            "|  6.0878e+05|    6.57e+06|   6.142e+05|     -5422.5|  5.7048e+06|        17|      0.23|\n",
            "|  6.0875e+05|  6.5676e+06|  6.1417e+05|     -5422.2|  5.7044e+06|        17|      0.25|\n",
            "|  6.0865e+05|  6.5657e+06|  6.1407e+05|     -5422.2|  5.7012e+06|        17|      0.24|\n",
            "|  6.0856e+05|  6.5647e+06|  6.1399e+05|     -5422.4|  5.7036e+06|        17|      0.24|\n",
            "|   6.087e+05|  6.5675e+06|  6.1412e+05|     -5422.4|  5.7052e+06|        17|      0.25|\n",
            "|  6.0858e+05|  6.5645e+06|    6.14e+05|     -5422.4|  5.7034e+06|        17|      0.25|\n",
            "|  6.0817e+05|  6.5775e+06|   6.136e+05|     -5426.9|  5.7249e+06|        17|      0.25|\n",
            "|   6.079e+05|   6.572e+06|  6.1333e+05|     -5424.7|  5.7167e+06|        17|      0.25|\n",
            "|  6.0784e+05|  6.5813e+06|  6.1326e+05|       -5424|   5.709e+06|        18|      0.25|\n",
            "|  6.0782e+05|  6.5832e+06|  6.1325e+05|     -5424.1|  5.7066e+06|        18|      0.26|\n",
            "|  6.0774e+05|  6.5826e+06|  6.1316e+05|       -5424|  5.7022e+06|        17|      0.24|\n",
            "|  6.0778e+05|  6.5896e+06|  6.1321e+05|     -5423.9|  5.7019e+06|        17|      0.24|\n",
            "|   6.078e+05|   6.586e+06|  6.1322e+05|       -5424|  5.7052e+06|        17|      0.23|\n",
            "|  6.0772e+05|  6.5833e+06|  6.1314e+05|       -5424|  5.7057e+06|        17|      0.25|\n",
            "|  6.0775e+05|  6.5827e+06|  6.1317e+05|       -5424|  5.7018e+06|        17|      0.24|\n",
            "|  6.0771e+05|  6.5828e+06|  6.1313e+05|       -5424|  5.7036e+06|        17|      0.23|\n",
            "|   6.078e+05|  6.5908e+06|  6.1322e+05|     -5424.2|  5.7032e+06|        17|      0.23|\n",
            "|  6.0783e+05|  6.5851e+06|  6.1325e+05|     -5424.1|  5.7023e+06|        17|      0.22|\n",
            "|  6.0773e+05|  6.5828e+06|  6.1315e+05|       -5424|  5.7061e+06|        17|      0.23|\n",
            "|  6.0772e+05|   6.583e+06|  6.1314e+05|       -5424|  5.7041e+06|        17|      0.23|\n"
          ],
          "name": "stdout"
        }
      ]
    },
    {
      "cell_type": "code",
      "metadata": {
        "colab": {
          "base_uri": "https://localhost:8080/"
        },
        "id": "0szVcBBnUkLZ",
        "outputId": "de81f4d6-d675-4f0c-8fec-40b064b1ede6"
      },
      "source": [
        "gpr.kernel.hyperparameters"
      ],
      "execution_count": null,
      "outputs": [
        {
          "output_type": "execute_result",
          "data": {
            "text/plain": [
              "starting_probability : Uniform\n",
              "\tp : 1.0\n",
              "stopping_probability : 0.00010000000000000009\n",
              "node_kernel : Composite\n",
              "\taromatic : Multiply\n",
              "\t\tlhs : Constant\n",
              "\t\t\tc : 0.02343420535068002\n",
              "\t\trhs : KroneckerDelta\n",
              "\t\t\th : 0.18860200789175988\n",
              "\tatomic_number : Multiply\n",
              "\t\tlhs : Constant\n",
              "\t\t\tc : 5.400776905055444\n",
              "\t\trhs : KroneckerDelta\n",
              "\t\t\th : 0.10000000000000002\n",
              "\tcharge : Multiply\n",
              "\t\tlhs : Constant\n",
              "\t\t\tc : 0.0145590563621646\n",
              "\t\trhs : SquareExponential\n",
              "\t\t\tlength_scale : 1.0\n",
              "\tchiral : Multiply\n",
              "\t\tlhs : Constant\n",
              "\t\t\tc : 0.05149063984443944\n",
              "\t\trhs : KroneckerDelta\n",
              "\t\t\th : 0.12853164901299938\n",
              "\thcount : Multiply\n",
              "\t\tlhs : Constant\n",
              "\t\t\tc : 10.000000000000002\n",
              "\t\trhs : SquareExponential\n",
              "\t\t\tlength_scale : 0.07795674396128768\n",
              "\thybridization : Multiply\n",
              "\t\tlhs : Constant\n",
              "\t\t\tc : 0.02783411902444354\n",
              "\t\trhs : KroneckerDelta\n",
              "\t\t\th : 0.17414808329497075\n",
              "\tring_list : Multiply\n",
              "\t\tlhs : Constant\n",
              "\t\t\tc : 6.550981640628747\n",
              "\t\trhs : Convolution\n",
              "\t\t\tbase : KroneckerDelta\n",
              "\t\t\t\th : 0.10000000000000002\n",
              "edge_kernel : Composite\n",
              "\taromatic : Multiply\n",
              "\t\tlhs : Constant\n",
              "\t\t\tc : 2.331300736214766\n",
              "\t\trhs : KroneckerDelta\n",
              "\t\t\th : 0.10000000000000002\n",
              "\tconjugated : Multiply\n",
              "\t\tlhs : Constant\n",
              "\t\t\tc : 3.166641607522053\n",
              "\t\trhs : KroneckerDelta\n",
              "\t\t\th : 0.10000000000000002\n",
              "\torder : Multiply\n",
              "\t\tlhs : Constant\n",
              "\t\t\tc : 0.05549109210250382\n",
              "\t\trhs : KroneckerDelta\n",
              "\t\t\th : 0.25478481015091287\n",
              "\tring_stereo : Multiply\n",
              "\t\tlhs : Constant\n",
              "\t\t\tc : 0.033323606027544916\n",
              "\t\trhs : KroneckerDelta\n",
              "\t\t\th : 0.8\n",
              "\tstereo : Multiply\n",
              "\t\tlhs : Constant\n",
              "\t\t\tc : 0.1324351226762118\n",
              "\t\trhs : KroneckerDelta\n",
              "\t\t\th : 0.14521546104851712"
            ]
          },
          "metadata": {
            "tags": []
          },
          "execution_count": 13
        }
      ]
    },
    {
      "cell_type": "code",
      "metadata": {
        "id": "m0lr2XLkUmBm"
      },
      "source": [
        "mu = gpr.predict(train.graphs)"
      ],
      "execution_count": null,
      "outputs": []
    },
    {
      "cell_type": "code",
      "metadata": {
        "colab": {
          "base_uri": "https://localhost:8080/",
          "height": 265
        },
        "id": "Ilq4FcWftNiq",
        "outputId": "17a4b946-b712-428e-9671-e8a847f965d8"
      },
      "source": [
        "plt.scatter(train[target], mu)\n",
        "plt.show()"
      ],
      "execution_count": null,
      "outputs": [
        {
          "output_type": "display_data",
          "data": {
            "image/png": "[encoded data removed]",
            "text/plain": [
              "<Figure size 432x288 with 1 Axes>"
            ]
          },
          "metadata": {
            "tags": []
          }
        }
      ]
    },
    {
      "cell_type": "code",
      "metadata": {
        "colab": {
          "base_uri": "https://localhost:8080/"
        },
        "id": "dPhqsXAstOCO",
        "outputId": "5d62e52b-4e49-4cc1-deea-3f4a44461f24"
      },
      "source": [
        "print('Training set')\n",
        "print('MAE:', np.mean(np.abs(train[target] - mu)))\n",
        "print('RMSE:', np.std(train[target] - mu))"
      ],
      "execution_count": null,
      "outputs": [
        {
          "output_type": "stream",
          "text": [
            "Training set\n",
            "MAE: 0.2074369392067814\n",
            "RMSE: 0.3195501910711287\n"
          ],
          "name": "stdout"
        }
      ]
    },
    {
      "cell_type": "code",
      "metadata": {
        "id": "1C0SDiEztOe6"
      },
      "source": [
        "mu_test = gpr.predict(test.graphs)"
      ],
      "execution_count": null,
      "outputs": []
    },
    {
      "cell_type": "code",
      "metadata": {
        "colab": {
          "base_uri": "https://localhost:8080/",
          "height": 265
        },
        "id": "it2phMkgUqI6",
        "outputId": "8377a3c2-3d69-4cdb-bcad-796f3e9b0fc4"
      },
      "source": [
        "plt.scatter(test[target], mu_test)\n",
        "plt.show()"
      ],
      "execution_count": null,
      "outputs": [
        {
          "output_type": "display_data",
          "data": {
            "image/png": "[encoded data removed]",
            "text/plain": [
              "<Figure size 432x288 with 1 Axes>"
            ]
          },
          "metadata": {
            "tags": []
          }
        }
      ]
    },
    {
      "cell_type": "code",
      "metadata": {
        "colab": {
          "base_uri": "https://localhost:8080/"
        },
        "id": "ik4KZQYjUsqn",
        "outputId": "4676881b-e530-4339-84cf-e82bf53d3a46"
      },
      "source": [
        "print('Test set')\n",
        "print('MAE:', np.mean(np.abs(test[target] - mu_test)))\n",
        "print('RMSE:', np.std(test[target] - mu_test))"
      ],
      "execution_count": null,
      "outputs": [
        {
          "output_type": "stream",
          "text": [
            "Test set\n",
            "MAE: 1.2461703788060545\n",
            "RMSE: 1.6040210737240486\n"
          ],
          "name": "stdout"
        }
      ]
    },
    {
      "cell_type": "markdown",
      "metadata": {
        "id": "790a5MVC_Bbf"
      },
      "source": [
        "Work\u0001on the kernel. Find a kernel that trains and predicts well."
      ]
    },
    {
      "cell_type": "code",
      "metadata": {
        "id": "dbXG4V1veoS4"
      },
      "source": [
        "gpr2 = GaussianProcessRegressor(\n",
        "    kernel=Normalization(\n",
        "        MarginalizedGraphKernel(\n",
        "            node_kernel=uX.Additive(\n",
        "                aromatic=uX.Constant(0.5, (0.01, 10.0)) * uX.KroneckerDelta(0.5,(0.1, 0.9)),\n",
        "                atomic_number=uX.Constant(0.5, (0.01, 10.0)) * uX.KroneckerDelta(0.8,(0.1, 0.9)),\n",
        "                charge=uX.Constant(0.5, (0.01, 10.0)) * uX.SquareExponential(1.0),\n",
        "                chiral=uX.Constant(0.5, (0.01, 10.0)) * uX.KroneckerDelta(0.5,(0.1, 0.9)),\n",
        "                hcount=uX.Constant(0.5, (0.01, 10.0)) * uX.SquareExponential(1.0),\n",
        "                hybridization=uX.Constant(0.5, (0.01, 10.0)) * uX.KroneckerDelta(0.5,(0.1, 0.9)),\n",
        "                ring_list=uX.Constant(0.5, (0.01, 100.0)) * uX.Convolution(uX.KroneckerDelta(0.5,(0.1, 0.9)))\n",
        "            ).normalized,\n",
        "            edge_kernel=uX.Additive(\n",
        "                aromatic=uX.Constant(0.5, (0.01, 10.0)) * uX.KroneckerDelta(0.5,(0.1, 0.9)),\n",
        "                conjugated=uX.Constant(0.5, (0.01, 10.0)) * uX.KroneckerDelta(0.5,(0.1, 0.9)),\n",
        "                order=uX.Constant(0.5, (0.01, 10.0)) * uX.KroneckerDelta(0.8,(0.1, 0.9)),\n",
        "                ring_stereo=uX.Constant(0.5, (0.01, 10.0)) * uX.KroneckerDelta(0.8,(0.1, 0.9)),\n",
        "                stereo=uX.Constant(0.5, (0.01, 10.0)) * uX.KroneckerDelta(0.8,(0.1, 0.9))\n",
        "            ).normalized,\n",
        "            p=Uniform(1.0, p_bounds='fixed'),\n",
        "            q=0.05\n",
        "        )\n",
        "    ),\n",
        "    alpha=1e-2, #different from gpr in alpha where gpr's alpha is 1e-4\n",
        "    optimizer=True,\n",
        "    normalize_y=True,\n",
        "    regularization='+',\n",
        ")"
      ],
      "execution_count": null,
      "outputs": []
    },
    {
      "cell_type": "code",
      "metadata": {
        "colab": {
          "base_uri": "https://localhost:8080/"
        },
        "id": "iKCgq4XuPyhr",
        "outputId": "732a35e7-3559-4d04-b754-0f41c78562ae"
      },
      "source": [
        "#gpr2.fit(train.graphs, train[target], repeat=3, verbose=True)\n",
        "gpr2.fit(train.graphs, train[target], repeat=1, verbose=True)"
      ],
      "execution_count": null,
      "outputs": [
        {
          "output_type": "stream",
          "text": [
            "|        logP|       dlogP|     y^T.K.y|     log|K| |     Cond(K)|  GPU time|  CPU time|\n",
            "|------------|------------|------------|------------|------------|----------|----------|\n",
            "|   1.667e+05|   1.928e+05|  1.7773e+05|      -11034|  2.2742e+05|   1.3e+02|       1.7|\n",
            "|  1.5585e+05|  2.2171e+05|  1.6671e+05|      -10857|  2.2218e+05|   1.3e+02|       1.7|\n",
            "|  1.3711e+05|  2.4873e+05|  1.4756e+05|      -10447|  2.0803e+05|   1.2e+02|       1.8|\n",
            "|  1.3286e+05|  2.3627e+05|   1.432e+05|      -10338|  2.0336e+05|   1.1e+02|       1.7|\n",
            "|  1.2977e+05|  2.2744e+05|  1.4002e+05|      -10249|  1.9714e+05|   1.1e+02|       1.7|\n",
            "|  1.3006e+05|  2.1429e+05|  1.4032e+05|      -10258|  2.0119e+05|     1e+02|       1.7|\n",
            "|  1.2923e+05|  2.2103e+05|  1.3946e+05|      -10238|  1.9906e+05|   1.1e+02|       1.7|\n",
            "|  1.2888e+05|  2.2097e+05|  1.3911e+05|      -10228|  1.9865e+05|   1.1e+02|       1.7|\n",
            "|  1.2843e+05|  2.2338e+05|  1.3864e+05|      -10211|  1.9582e+05|   1.1e+02|       1.7|\n",
            "|  1.2837e+05|  2.2244e+05|  1.3858e+05|      -10212|   1.969e+05|   1.1e+02|       1.7|\n",
            "|  1.2836e+05|  2.2225e+05|  1.3857e+05|      -10212|  1.9696e+05|   1.1e+02|       1.7|\n",
            "|  1.2831e+05|  2.2155e+05|  1.3852e+05|      -10211|  1.9715e+05|   1.1e+02|       1.7|\n",
            "|  1.2826e+05|  2.2184e+05|  1.3847e+05|      -10209|  1.9704e+05|   1.1e+02|       1.7|\n",
            "|  1.2821e+05|  2.2181e+05|  1.3841e+05|      -10207|  1.9671e+05|   1.1e+02|       1.7|\n",
            "|  1.2819e+05|  2.2165e+05|   1.384e+05|      -10207|  1.9664e+05|   1.1e+02|       1.8|\n",
            "|  1.2818e+05|  2.2125e+05|  1.3838e+05|      -10207|  1.9671e+05|   1.1e+02|       1.8|\n",
            "|  1.2817e+05|  2.2114e+05|  1.3838e+05|      -10207|  1.9673e+05|   1.1e+02|       1.7|\n",
            "|  1.2815e+05|  2.2077e+05|  1.3836e+05|      -10207|  1.9677e+05|   1.1e+02|       1.7|\n",
            "|  1.2812e+05|   2.185e+05|  1.3833e+05|      -10209|  1.9695e+05|   1.1e+02|       1.7|\n",
            "|  1.2809e+05|   2.178e+05|   1.383e+05|      -10209|    1.97e+05|   1.1e+02|       1.7|\n",
            "|  1.2807e+05|  2.1764e+05|  1.3828e+05|      -10208|  1.9695e+05|   1.1e+02|       1.7|\n",
            "|  1.2805e+05|  2.1597e+05|  1.3826e+05|      -10209|  1.9693e+05|   1.1e+02|       1.7|\n",
            "|  1.2805e+05|   2.172e+05|  1.3825e+05|      -10208|  1.9694e+05|   1.1e+02|       1.7|\n",
            "|  1.2804e+05|  2.1693e+05|  1.3825e+05|      -10208|  1.9694e+05|   1.1e+02|       1.8|\n",
            "|  1.2804e+05|  2.1674e+05|  1.3825e+05|      -10208|  1.9694e+05|   1.1e+02|       1.7|\n",
            "|  1.2804e+05|  2.1691e+05|  1.3825e+05|      -10208|  1.9694e+05|   1.1e+02|       1.7|\n",
            "|  1.2805e+05|  2.1694e+05|  1.3825e+05|      -10208|  1.9694e+05|   1.1e+02|       1.7|\n",
            "|  1.2804e+05|  2.1694e+05|  1.3825e+05|      -10208|  1.9694e+05|   1.1e+02|       1.7|\n",
            "|  1.2804e+05|  2.1694e+05|  1.3825e+05|      -10208|  1.9694e+05|   1.1e+02|       1.7|\n",
            "|  1.2804e+05|  2.1694e+05|  1.3825e+05|      -10208|  1.9694e+05|   1.1e+02|       1.8|\n",
            "|  1.2805e+05|  2.1694e+05|  1.3825e+05|      -10208|  1.9694e+05|   1.1e+02|       1.7|\n",
            "Optimization result:\n",
            "      fun: 128045.20193517115\n",
            " hess_inv: <25x25 LbfgsInvHessProduct with dtype=float64>\n",
            "      jac: array([ 21.67035135,   5.42797631,   0.91584794,   6.62684845,\n",
            "       636.88297304,  10.22203408,   0.        ,   6.13155297,\n",
            "         0.80318432, -45.79780911,   0.        ,   9.32446636,\n",
            "         2.06137402,   7.94609186, 767.483899  ,  -8.19180354,\n",
            "        92.93654292,   7.92503084, 118.62629465,   3.36719643,\n",
            "        38.71995733,   7.96834618,   0.        , -11.08475724,\n",
            "         7.2860016 ])\n",
            "  message: b'CONVERGENCE: REL_REDUCTION_OF_F_<=_FACTR*EPSMCH'\n",
            "     nfev: 31\n",
            "      nit: 21\n",
            "   status: 0\n",
            "  success: True\n",
            "        x: array([-9.21034037, -4.51710969, -1.98267626,  1.72521606, -2.30258509,\n",
            "       -4.60517019,  0.        , -4.60517019, -1.8070945 ,  2.30258509,\n",
            "       -2.88031384, -3.6019383 , -2.30258509,  1.91177723, -2.30258509,\n",
            "        0.28746812, -2.30258509,  0.54884256, -2.30258509, -0.5686784 ,\n",
            "       -2.30258509, -4.35637808, -0.22314355, -2.55717239, -2.21179129])\n"
          ],
          "name": "stdout"
        },
        {
          "output_type": "execute_result",
          "data": {
            "text/plain": [
              "<graphdot.model.gaussian_process.gpr.GaussianProcessRegressor at 0x7f6bf00630d0>"
            ]
          },
          "metadata": {
            "tags": []
          },
          "execution_count": 21
        }
      ]
    },
    {
      "cell_type": "code",
      "metadata": {
        "colab": {
          "base_uri": "https://localhost:8080/",
          "height": 265
        },
        "id": "PG-GAPabPzHV",
        "outputId": "24c9299c-9fe6-4896-dcb8-964ae54fb90c"
      },
      "source": [
        "mu = gpr2.predict(train.graphs)\n",
        "plt.scatter(train[target], mu)\n",
        "plt.show()"
      ],
      "execution_count": null,
      "outputs": [
        {
          "output_type": "display_data",
          "data": {
            "image/png": "[encoded data removed]",
            "text/plain": [
              "<Figure size 432x288 with 1 Axes>"
            ]
          },
          "metadata": {
            "tags": []
          }
        }
      ]
    },
    {
      "cell_type": "code",
      "metadata": {
        "colab": {
          "base_uri": "https://localhost:8080/"
        },
        "id": "J20m1x90Pzg9",
        "outputId": "06b11027-4bdd-485f-f257-f4fab3e55ad5"
      },
      "source": [
        "print('Training set')\n",
        "print('MAE:', np.mean(np.abs(train[target] - mu)))\n",
        "print('RMSE:', np.std(train[target] - mu))"
      ],
      "execution_count": null,
      "outputs": [
        {
          "output_type": "stream",
          "text": [
            "Training set\n",
            "MAE: 0.7238389142657052\n",
            "RMSE: 0.9634943206325994\n"
          ],
          "name": "stdout"
        }
      ]
    },
    {
      "cell_type": "code",
      "metadata": {
        "colab": {
          "base_uri": "https://localhost:8080/",
          "height": 265
        },
        "id": "rCh-Z2pqPz3S",
        "outputId": "3b945a5f-4613-411c-c7f2-cbc08dc7c63a"
      },
      "source": [
        "mu_test = gpr2.predict(test.graphs)\n",
        "plt.scatter(test[target], mu_test)\n",
        "plt.show()"
      ],
      "execution_count": null,
      "outputs": [
        {
          "output_type": "display_data",
          "data": {
            "image/png": "[encoded data removed]",
            "text/plain": [
              "<Figure size 432x288 with 1 Axes>"
            ]
          },
          "metadata": {
            "tags": []
          }
        }
      ]
    },
    {
      "cell_type": "code",
      "metadata": {
        "colab": {
          "base_uri": "https://localhost:8080/"
        },
        "id": "UYakiu41QMsp",
        "outputId": "1d721bba-fc8a-4cd5-eccf-98dd05888762"
      },
      "source": [
        "print('Test set')\n",
        "print('MAE:', np.mean(np.abs(test[target] - mu_test)))\n",
        "print('RMSE:', np.std(test[target] - mu_test))"
      ],
      "execution_count": null,
      "outputs": [
        {
          "output_type": "stream",
          "text": [
            "Test set\n",
            "MAE: 0.9561539409612109\n",
            "RMSE: 1.2284268143181998\n"
          ],
          "name": "stdout"
        }
      ]
    }
  ]
}